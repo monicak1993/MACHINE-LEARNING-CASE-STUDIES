{
 "cells": [
  {
   "cell_type": "markdown",
   "metadata": {},
   "source": [
    "#### BANKING: DIRECT MARKETING CASE STUDY (CAMPAIGN RESPONSE MODEL) - CLASSIFICATION MODEL\n",
    "\n",
    "**OBJECTIVE:** This example uses data related with direct marketing campaigns of a Portuguese banking institution. The marketing campaigns were based on phone calls. Often, more than one contact to the same client was required, in order to assess if the product (bank term deposit) would be subscribed ('yes') or not ('no').\n",
    "\n",
    "##### Bank client data:\n",
    "- age (numeric)\n",
    "- job: type of job (categorical: 'admin.', 'blue-collar', 'entrepreneur', 'housemaid', 'management', 'retired', 'self-employed', 'services', 'student', 'technician', 'unemployed', 'unknown')\n",
    "- marital: marital status (categorical: 'divorced', 'married', 'single', 'unknown'; note: 'divorced' means divorced or widowed)\n",
    "- education (categorical: 'basic.4y', 'basic.6y', 'basic.9y', 'high.school', 'illiterate', 'professional.course', 'university.degree', 'unknown')\n",
    "- default: has credit in default? (categorical: 'no', 'yes', 'unknown')\n",
    "- housing: has housing loan? (categorical: 'no', 'yes', 'unknown')\n",
    "- loan: has personal loan? (categorical: 'no', 'yes', 'unknown')\n",
    "\n",
    "##### Related with the last contact of the current campaign:\n",
    "- contact: contact communication type (categorical: 'cellular', 'telephone')\n",
    "- month: last contact month of year (categorical: 'jan', 'feb', 'mar', ., 'nov', 'dec')\n",
    "- day_of_week: last contact day of the week (categorical: 'mon', 'tue', 'wed', 'thu', 'fri')\n",
    "- duration: last contact duration, in seconds (numeric). Important note: this attribute highly affects the output target (e.g., if duration=0 then y='no'). Yet, the duration is not known before a call is performed. Also, after the end of the call y is obviously known. Thus, this input should only be included for benchmark purposes and should be discarded if the intention is to have a realistic predictive model.\n",
    "\n",
    "##### other attributes:\n",
    "- campaign: number of contacts performed during this campaign and for this client (numeric, includes last contact)\n",
    "- pdays: number of days that passed by after the client was last contacted from a previous campaign (numeric; 999 means client was not previously contacted)\n",
    "- previous: number of contacts performed before this campaign and for this client (numeric)\n",
    "- poutcome: outcome of the previous marketing campaign (categorical: 'failure','nonexistent','success')\n",
    "\n",
    "##### social and economic context attributes\n",
    "- emp.var.rate: employment variation rate - quarterly indicator (numeric)\n",
    "- cons.price.idx: consumer price index - monthly indicator (numeric)     \n",
    "- cons.conf.idx: consumer confidence index - monthly indicator (numeric)     \n",
    "- euribor3m: euribor 3 month rate - daily indicator (numeric)\n",
    "- nr.employed: number of employees - quarterly indicator (numeric)\n",
    "\n",
    "\n",
    "##### Output variable (desired target):\n",
    "- y - has the client subscribed a term deposit? (binary: \"yes\",\"no\")\n",
    "\n",
    "Missing Attribute Values: There are several missing values in some categorical attributes, all coded with the \"unknown\" label. These missing values can be treated as a possible class label or using deletion or imputation techniques.\n",
    "\n",
    "https://archive.ics.uci.edu/ml/datasets/Bank+Marketing\n",
    "\n",
    "https://www2.1010data.com/documentationcenter/prod/Tutorials/MachineLearningExamples/BankMarketingDataSet.html\n"
   ]
  },
  {
   "cell_type": "markdown",
   "metadata": {},
   "source": [
    "### import the packages and the data"
   ]
  },
  {
   "cell_type": "code",
   "execution_count": 1,
   "metadata": {},
   "outputs": [],
   "source": [
    "import pandas as pd\n",
    "from pandas import Series, DataFrame\n",
    "import matplotlib.pyplot as plt\n",
    "import numpy as np\n",
    "%matplotlib inline\n",
    "\n",
    "import seaborn as sns"
   ]
  },
  {
   "cell_type": "code",
   "execution_count": 2,
   "metadata": {},
   "outputs": [],
   "source": [
    "# Load the data\n",
    "data = pd.read_csv('D:/Sampledata/bank-additional.csv', sep = \";\")"
   ]
  },
  {
   "cell_type": "markdown",
   "metadata": {},
   "source": [
    "### UDF's"
   ]
  },
  {
   "cell_type": "code",
   "execution_count": 3,
   "metadata": {},
   "outputs": [],
   "source": [
    "# Create Data audit Report for continuous variables\n",
    "def continuous_var_summary(x):\n",
    "    return pd.Series([x.count(), x.isnull().sum(), x.sum(), x.mean(), x.median(),  \n",
    "                      x.std(), x.var(), x.min(), x.quantile(0.01), x.quantile(0.05),\n",
    "                          x.quantile(0.10),x.quantile(0.25),x.quantile(0.50),x.quantile(0.75), \n",
    "                              x.quantile(0.90),x.quantile(0.95), x.quantile(0.99),x.max()], \n",
    "                  index = ['N', 'NMISS', 'SUM', 'MEAN','MEDIAN', 'STD', 'VAR', 'MIN', 'P1', \n",
    "                               'P5' ,'P10' ,'P25' ,'P50' ,'P75' ,'P90' ,'P95' ,'P99' ,'MAX'])"
   ]
  },
  {
   "cell_type": "code",
   "execution_count": 4,
   "metadata": {},
   "outputs": [],
   "source": [
    "# Create Data audit Report for categorical variables\n",
    "def categorical_var_summary(x):\n",
    "    Mode = x.value_counts().sort_values(ascending = False)[0:1].reset_index()\n",
    "    return pd.Series([x.count(), x.isnull().sum(), Mode.iloc[0, 0], Mode.iloc[0, 1], \n",
    "                          round(Mode.iloc[0, 1] * 100/x.count(), 2)], \n",
    "                  index = ['N', 'NMISS', 'MODE', 'FREQ', 'PERCENT'])"
   ]
  },
  {
   "cell_type": "code",
   "execution_count": 5,
   "metadata": {},
   "outputs": [],
   "source": [
    "# Missing value imputation for categorical and continuous variables\n",
    "def missing_imputation(x, stats = 'mean'):\n",
    "    if (x.dtypes == 'float64') | (x.dtypes == 'int64'):\n",
    "        x = x.fillna(x.mean()) if stats == 'mean' else x.fillna(x.median())\n",
    "    return x"
   ]
  },
  {
   "cell_type": "code",
   "execution_count": 6,
   "metadata": {},
   "outputs": [],
   "source": [
    "# An utility function to create dummy variable\n",
    "def create_dummies(df, colname):\n",
    "    col_dummies = pd.get_dummies(df[colname], prefix = colname, drop_first = True)\n",
    "    df = pd.concat([df, col_dummies], axis = 1)\n",
    "    df.drop(colname, axis = 1, inplace = True )\n",
    "    return df"
   ]
  },
  {
   "cell_type": "code",
   "execution_count": 7,
   "metadata": {},
   "outputs": [],
   "source": [
    "# create user defined function to create the freq plots\n",
    "def fn_countplot(pd_series):\n",
    "    plt.figure(figsize = (5, 3))\n",
    "    sns.countplot(y = pd_series)\n",
    "    print('This is a freq chart for ' + pd_series.name)\n",
    "    plt.show()\n",
    "    return"
   ]
  },
  {
   "cell_type": "markdown",
   "metadata": {},
   "source": [
    "### data inspection"
   ]
  },
  {
   "cell_type": "code",
   "execution_count": 8,
   "metadata": {
    "scrolled": true
   },
   "outputs": [
    {
     "name": "stdout",
     "output_type": "stream",
     "text": [
      "<class 'pandas.core.frame.DataFrame'>\n",
      "RangeIndex: 4119 entries, 0 to 4118\n",
      "Data columns (total 21 columns):\n",
      " #   Column          Non-Null Count  Dtype  \n",
      "---  ------          --------------  -----  \n",
      " 0   age             4119 non-null   int64  \n",
      " 1   job             4119 non-null   object \n",
      " 2   marital         4119 non-null   object \n",
      " 3   education       4119 non-null   object \n",
      " 4   default         4119 non-null   object \n",
      " 5   housing         4119 non-null   object \n",
      " 6   loan            4119 non-null   object \n",
      " 7   contact         4119 non-null   object \n",
      " 8   month           4119 non-null   object \n",
      " 9   day_of_week     4119 non-null   object \n",
      " 10  duration        4119 non-null   int64  \n",
      " 11  campaign        4119 non-null   int64  \n",
      " 12  pdays           4119 non-null   int64  \n",
      " 13  previous        4119 non-null   int64  \n",
      " 14  poutcome        4119 non-null   object \n",
      " 15  emp.var.rate    4119 non-null   float64\n",
      " 16  cons.price.idx  4119 non-null   float64\n",
      " 17  cons.conf.idx   4119 non-null   float64\n",
      " 18  euribor3m       4119 non-null   float64\n",
      " 19  nr.employed     4119 non-null   float64\n",
      " 20  y               4119 non-null   object \n",
      "dtypes: float64(5), int64(5), object(11)\n",
      "memory usage: 675.9+ KB\n"
     ]
    }
   ],
   "source": [
    "# meta data\n",
    "data.info()"
   ]
  },
  {
   "cell_type": "code",
   "execution_count": 9,
   "metadata": {},
   "outputs": [
    {
     "data": {
      "text/html": [
       "<div>\n",
       "<style scoped>\n",
       "    .dataframe tbody tr th:only-of-type {\n",
       "        vertical-align: middle;\n",
       "    }\n",
       "\n",
       "    .dataframe tbody tr th {\n",
       "        vertical-align: top;\n",
       "    }\n",
       "\n",
       "    .dataframe thead th {\n",
       "        text-align: right;\n",
       "    }\n",
       "</style>\n",
       "<table border=\"1\" class=\"dataframe\">\n",
       "  <thead>\n",
       "    <tr style=\"text-align: right;\">\n",
       "      <th></th>\n",
       "      <th>age</th>\n",
       "      <th>duration</th>\n",
       "      <th>campaign</th>\n",
       "      <th>pdays</th>\n",
       "      <th>previous</th>\n",
       "      <th>emp.var.rate</th>\n",
       "      <th>cons.price.idx</th>\n",
       "      <th>cons.conf.idx</th>\n",
       "      <th>euribor3m</th>\n",
       "      <th>nr.employed</th>\n",
       "    </tr>\n",
       "  </thead>\n",
       "  <tbody>\n",
       "    <tr>\n",
       "      <th>N</th>\n",
       "      <td>4119.000</td>\n",
       "      <td>4119.000</td>\n",
       "      <td>4119.000</td>\n",
       "      <td>4119.000</td>\n",
       "      <td>4119.000</td>\n",
       "      <td>4119.000</td>\n",
       "      <td>4119.000</td>\n",
       "      <td>4119.000</td>\n",
       "      <td>4119.000</td>\n",
       "      <td>4.119000e+03</td>\n",
       "    </tr>\n",
       "    <tr>\n",
       "      <th>NMISS</th>\n",
       "      <td>0.000</td>\n",
       "      <td>0.000</td>\n",
       "      <td>0.000</td>\n",
       "      <td>0.000</td>\n",
       "      <td>0.000</td>\n",
       "      <td>0.000</td>\n",
       "      <td>0.000</td>\n",
       "      <td>0.000</td>\n",
       "      <td>0.000</td>\n",
       "      <td>0.000000e+00</td>\n",
       "    </tr>\n",
       "    <tr>\n",
       "      <th>SUM</th>\n",
       "      <td>165228.000</td>\n",
       "      <td>1057710.000</td>\n",
       "      <td>10451.000</td>\n",
       "      <td>3955979.000</td>\n",
       "      <td>784.000</td>\n",
       "      <td>350.000</td>\n",
       "      <td>385454.802</td>\n",
       "      <td>-166815.800</td>\n",
       "      <td>14916.364</td>\n",
       "      <td>2.128074e+07</td>\n",
       "    </tr>\n",
       "    <tr>\n",
       "      <th>MEAN</th>\n",
       "      <td>40.114</td>\n",
       "      <td>256.788</td>\n",
       "      <td>2.537</td>\n",
       "      <td>960.422</td>\n",
       "      <td>0.190</td>\n",
       "      <td>0.085</td>\n",
       "      <td>93.580</td>\n",
       "      <td>-40.499</td>\n",
       "      <td>3.621</td>\n",
       "      <td>5.166482e+03</td>\n",
       "    </tr>\n",
       "    <tr>\n",
       "      <th>MEDIAN</th>\n",
       "      <td>38.000</td>\n",
       "      <td>181.000</td>\n",
       "      <td>2.000</td>\n",
       "      <td>999.000</td>\n",
       "      <td>0.000</td>\n",
       "      <td>1.100</td>\n",
       "      <td>93.749</td>\n",
       "      <td>-41.800</td>\n",
       "      <td>4.857</td>\n",
       "      <td>5.191000e+03</td>\n",
       "    </tr>\n",
       "    <tr>\n",
       "      <th>STD</th>\n",
       "      <td>10.313</td>\n",
       "      <td>254.704</td>\n",
       "      <td>2.568</td>\n",
       "      <td>191.923</td>\n",
       "      <td>0.542</td>\n",
       "      <td>1.563</td>\n",
       "      <td>0.579</td>\n",
       "      <td>4.595</td>\n",
       "      <td>1.734</td>\n",
       "      <td>7.366800e+01</td>\n",
       "    </tr>\n",
       "    <tr>\n",
       "      <th>VAR</th>\n",
       "      <td>106.365</td>\n",
       "      <td>64873.993</td>\n",
       "      <td>6.595</td>\n",
       "      <td>36834.356</td>\n",
       "      <td>0.294</td>\n",
       "      <td>2.443</td>\n",
       "      <td>0.336</td>\n",
       "      <td>21.110</td>\n",
       "      <td>3.005</td>\n",
       "      <td>5.426960e+03</td>\n",
       "    </tr>\n",
       "    <tr>\n",
       "      <th>MIN</th>\n",
       "      <td>18.000</td>\n",
       "      <td>0.000</td>\n",
       "      <td>1.000</td>\n",
       "      <td>0.000</td>\n",
       "      <td>0.000</td>\n",
       "      <td>-3.400</td>\n",
       "      <td>92.201</td>\n",
       "      <td>-50.800</td>\n",
       "      <td>0.635</td>\n",
       "      <td>4.963600e+03</td>\n",
       "    </tr>\n",
       "    <tr>\n",
       "      <th>P1</th>\n",
       "      <td>24.000</td>\n",
       "      <td>11.000</td>\n",
       "      <td>1.000</td>\n",
       "      <td>3.000</td>\n",
       "      <td>0.000</td>\n",
       "      <td>-3.400</td>\n",
       "      <td>92.201</td>\n",
       "      <td>-50.000</td>\n",
       "      <td>0.677</td>\n",
       "      <td>4.963600e+03</td>\n",
       "    </tr>\n",
       "    <tr>\n",
       "      <th>P5</th>\n",
       "      <td>26.000</td>\n",
       "      <td>35.000</td>\n",
       "      <td>1.000</td>\n",
       "      <td>999.000</td>\n",
       "      <td>0.000</td>\n",
       "      <td>-2.900</td>\n",
       "      <td>92.713</td>\n",
       "      <td>-47.100</td>\n",
       "      <td>0.808</td>\n",
       "      <td>5.008700e+03</td>\n",
       "    </tr>\n",
       "    <tr>\n",
       "      <th>P10</th>\n",
       "      <td>28.800</td>\n",
       "      <td>60.000</td>\n",
       "      <td>1.000</td>\n",
       "      <td>999.000</td>\n",
       "      <td>0.000</td>\n",
       "      <td>-1.800</td>\n",
       "      <td>92.893</td>\n",
       "      <td>-46.200</td>\n",
       "      <td>1.029</td>\n",
       "      <td>5.076200e+03</td>\n",
       "    </tr>\n",
       "    <tr>\n",
       "      <th>P25</th>\n",
       "      <td>32.000</td>\n",
       "      <td>103.000</td>\n",
       "      <td>1.000</td>\n",
       "      <td>999.000</td>\n",
       "      <td>0.000</td>\n",
       "      <td>-1.800</td>\n",
       "      <td>93.075</td>\n",
       "      <td>-42.700</td>\n",
       "      <td>1.334</td>\n",
       "      <td>5.099100e+03</td>\n",
       "    </tr>\n",
       "    <tr>\n",
       "      <th>P50</th>\n",
       "      <td>38.000</td>\n",
       "      <td>181.000</td>\n",
       "      <td>2.000</td>\n",
       "      <td>999.000</td>\n",
       "      <td>0.000</td>\n",
       "      <td>1.100</td>\n",
       "      <td>93.749</td>\n",
       "      <td>-41.800</td>\n",
       "      <td>4.857</td>\n",
       "      <td>5.191000e+03</td>\n",
       "    </tr>\n",
       "    <tr>\n",
       "      <th>P75</th>\n",
       "      <td>47.000</td>\n",
       "      <td>317.000</td>\n",
       "      <td>3.000</td>\n",
       "      <td>999.000</td>\n",
       "      <td>0.000</td>\n",
       "      <td>1.400</td>\n",
       "      <td>93.994</td>\n",
       "      <td>-36.400</td>\n",
       "      <td>4.961</td>\n",
       "      <td>5.228100e+03</td>\n",
       "    </tr>\n",
       "    <tr>\n",
       "      <th>P90</th>\n",
       "      <td>55.000</td>\n",
       "      <td>545.200</td>\n",
       "      <td>5.000</td>\n",
       "      <td>999.000</td>\n",
       "      <td>1.000</td>\n",
       "      <td>1.400</td>\n",
       "      <td>94.465</td>\n",
       "      <td>-36.100</td>\n",
       "      <td>4.964</td>\n",
       "      <td>5.228100e+03</td>\n",
       "    </tr>\n",
       "    <tr>\n",
       "      <th>P95</th>\n",
       "      <td>58.000</td>\n",
       "      <td>740.200</td>\n",
       "      <td>7.000</td>\n",
       "      <td>999.000</td>\n",
       "      <td>1.000</td>\n",
       "      <td>1.400</td>\n",
       "      <td>94.465</td>\n",
       "      <td>-33.600</td>\n",
       "      <td>4.966</td>\n",
       "      <td>5.228100e+03</td>\n",
       "    </tr>\n",
       "    <tr>\n",
       "      <th>P99</th>\n",
       "      <td>68.000</td>\n",
       "      <td>1231.660</td>\n",
       "      <td>13.000</td>\n",
       "      <td>999.000</td>\n",
       "      <td>3.000</td>\n",
       "      <td>1.400</td>\n",
       "      <td>94.601</td>\n",
       "      <td>-26.900</td>\n",
       "      <td>4.968</td>\n",
       "      <td>5.228100e+03</td>\n",
       "    </tr>\n",
       "    <tr>\n",
       "      <th>MAX</th>\n",
       "      <td>88.000</td>\n",
       "      <td>3643.000</td>\n",
       "      <td>35.000</td>\n",
       "      <td>999.000</td>\n",
       "      <td>6.000</td>\n",
       "      <td>1.400</td>\n",
       "      <td>94.767</td>\n",
       "      <td>-26.900</td>\n",
       "      <td>5.045</td>\n",
       "      <td>5.228100e+03</td>\n",
       "    </tr>\n",
       "  </tbody>\n",
       "</table>\n",
       "</div>"
      ],
      "text/plain": [
       "               age     duration   campaign        pdays  previous  \\\n",
       "N         4119.000     4119.000   4119.000     4119.000  4119.000   \n",
       "NMISS        0.000        0.000      0.000        0.000     0.000   \n",
       "SUM     165228.000  1057710.000  10451.000  3955979.000   784.000   \n",
       "MEAN        40.114      256.788      2.537      960.422     0.190   \n",
       "MEDIAN      38.000      181.000      2.000      999.000     0.000   \n",
       "STD         10.313      254.704      2.568      191.923     0.542   \n",
       "VAR        106.365    64873.993      6.595    36834.356     0.294   \n",
       "MIN         18.000        0.000      1.000        0.000     0.000   \n",
       "P1          24.000       11.000      1.000        3.000     0.000   \n",
       "P5          26.000       35.000      1.000      999.000     0.000   \n",
       "P10         28.800       60.000      1.000      999.000     0.000   \n",
       "P25         32.000      103.000      1.000      999.000     0.000   \n",
       "P50         38.000      181.000      2.000      999.000     0.000   \n",
       "P75         47.000      317.000      3.000      999.000     0.000   \n",
       "P90         55.000      545.200      5.000      999.000     1.000   \n",
       "P95         58.000      740.200      7.000      999.000     1.000   \n",
       "P99         68.000     1231.660     13.000      999.000     3.000   \n",
       "MAX         88.000     3643.000     35.000      999.000     6.000   \n",
       "\n",
       "        emp.var.rate  cons.price.idx  cons.conf.idx  euribor3m   nr.employed  \n",
       "N           4119.000        4119.000       4119.000   4119.000  4.119000e+03  \n",
       "NMISS          0.000           0.000          0.000      0.000  0.000000e+00  \n",
       "SUM          350.000      385454.802    -166815.800  14916.364  2.128074e+07  \n",
       "MEAN           0.085          93.580        -40.499      3.621  5.166482e+03  \n",
       "MEDIAN         1.100          93.749        -41.800      4.857  5.191000e+03  \n",
       "STD            1.563           0.579          4.595      1.734  7.366800e+01  \n",
       "VAR            2.443           0.336         21.110      3.005  5.426960e+03  \n",
       "MIN           -3.400          92.201        -50.800      0.635  4.963600e+03  \n",
       "P1            -3.400          92.201        -50.000      0.677  4.963600e+03  \n",
       "P5            -2.900          92.713        -47.100      0.808  5.008700e+03  \n",
       "P10           -1.800          92.893        -46.200      1.029  5.076200e+03  \n",
       "P25           -1.800          93.075        -42.700      1.334  5.099100e+03  \n",
       "P50            1.100          93.749        -41.800      4.857  5.191000e+03  \n",
       "P75            1.400          93.994        -36.400      4.961  5.228100e+03  \n",
       "P90            1.400          94.465        -36.100      4.964  5.228100e+03  \n",
       "P95            1.400          94.465        -33.600      4.966  5.228100e+03  \n",
       "P99            1.400          94.601        -26.900      4.968  5.228100e+03  \n",
       "MAX            1.400          94.767        -26.900      5.045  5.228100e+03  "
      ]
     },
     "execution_count": 9,
     "metadata": {},
     "output_type": "execute_result"
    }
   ],
   "source": [
    "# summaries of continuous variables\n",
    "data.select_dtypes(['float64', 'int64']).apply(continuous_var_summary).round(3)"
   ]
  },
  {
   "cell_type": "code",
   "execution_count": 10,
   "metadata": {},
   "outputs": [],
   "source": [
    "numeric_variable = data.select_dtypes(['float64', 'int64']).apply( lambda x: x.clip( lower = x.quantile(0.01), \n",
    "                                                                  upper = x.quantile(0.99)))"
   ]
  },
  {
   "cell_type": "code",
   "execution_count": 11,
   "metadata": {},
   "outputs": [
    {
     "data": {
      "text/html": [
       "<div>\n",
       "<style scoped>\n",
       "    .dataframe tbody tr th:only-of-type {\n",
       "        vertical-align: middle;\n",
       "    }\n",
       "\n",
       "    .dataframe tbody tr th {\n",
       "        vertical-align: top;\n",
       "    }\n",
       "\n",
       "    .dataframe thead th {\n",
       "        text-align: right;\n",
       "    }\n",
       "</style>\n",
       "<table border=\"1\" class=\"dataframe\">\n",
       "  <thead>\n",
       "    <tr style=\"text-align: right;\">\n",
       "      <th></th>\n",
       "      <th>age</th>\n",
       "      <th>duration</th>\n",
       "      <th>campaign</th>\n",
       "      <th>pdays</th>\n",
       "      <th>previous</th>\n",
       "      <th>emp.var.rate</th>\n",
       "      <th>cons.price.idx</th>\n",
       "      <th>cons.conf.idx</th>\n",
       "      <th>euribor3m</th>\n",
       "      <th>nr.employed</th>\n",
       "    </tr>\n",
       "  </thead>\n",
       "  <tbody>\n",
       "    <tr>\n",
       "      <th>N</th>\n",
       "      <td>4119.000</td>\n",
       "      <td>4119.000</td>\n",
       "      <td>4119.000</td>\n",
       "      <td>4119.000</td>\n",
       "      <td>4119.000</td>\n",
       "      <td>4119.000</td>\n",
       "      <td>4119.000</td>\n",
       "      <td>4119.000</td>\n",
       "      <td>4119.000</td>\n",
       "      <td>4.119000e+03</td>\n",
       "    </tr>\n",
       "    <tr>\n",
       "      <th>NMISS</th>\n",
       "      <td>0.000</td>\n",
       "      <td>0.000</td>\n",
       "      <td>0.000</td>\n",
       "      <td>0.000</td>\n",
       "      <td>0.000</td>\n",
       "      <td>0.000</td>\n",
       "      <td>0.000</td>\n",
       "      <td>0.000</td>\n",
       "      <td>0.000</td>\n",
       "      <td>0.000000e+00</td>\n",
       "    </tr>\n",
       "    <tr>\n",
       "      <th>SUM</th>\n",
       "      <td>164980.000</td>\n",
       "      <td>1041867.720</td>\n",
       "      <td>10230.000</td>\n",
       "      <td>3955995.000</td>\n",
       "      <td>760.000</td>\n",
       "      <td>350.000</td>\n",
       "      <td>385450.818</td>\n",
       "      <td>-166796.600</td>\n",
       "      <td>14917.396</td>\n",
       "      <td>2.128074e+07</td>\n",
       "    </tr>\n",
       "    <tr>\n",
       "      <th>MEAN</th>\n",
       "      <td>40.053</td>\n",
       "      <td>252.942</td>\n",
       "      <td>2.484</td>\n",
       "      <td>960.426</td>\n",
       "      <td>0.185</td>\n",
       "      <td>0.085</td>\n",
       "      <td>93.579</td>\n",
       "      <td>-40.494</td>\n",
       "      <td>3.622</td>\n",
       "      <td>5.166482e+03</td>\n",
       "    </tr>\n",
       "    <tr>\n",
       "      <th>MEDIAN</th>\n",
       "      <td>38.000</td>\n",
       "      <td>181.000</td>\n",
       "      <td>2.000</td>\n",
       "      <td>999.000</td>\n",
       "      <td>0.000</td>\n",
       "      <td>1.100</td>\n",
       "      <td>93.749</td>\n",
       "      <td>-41.800</td>\n",
       "      <td>4.857</td>\n",
       "      <td>5.191000e+03</td>\n",
       "    </tr>\n",
       "    <tr>\n",
       "      <th>STD</th>\n",
       "      <td>9.996</td>\n",
       "      <td>230.667</td>\n",
       "      <td>2.228</td>\n",
       "      <td>191.903</td>\n",
       "      <td>0.501</td>\n",
       "      <td>1.563</td>\n",
       "      <td>0.578</td>\n",
       "      <td>4.585</td>\n",
       "      <td>1.733</td>\n",
       "      <td>7.366800e+01</td>\n",
       "    </tr>\n",
       "    <tr>\n",
       "      <th>VAR</th>\n",
       "      <td>99.928</td>\n",
       "      <td>53207.127</td>\n",
       "      <td>4.966</td>\n",
       "      <td>36826.908</td>\n",
       "      <td>0.251</td>\n",
       "      <td>2.443</td>\n",
       "      <td>0.334</td>\n",
       "      <td>21.018</td>\n",
       "      <td>3.004</td>\n",
       "      <td>5.426960e+03</td>\n",
       "    </tr>\n",
       "    <tr>\n",
       "      <th>MIN</th>\n",
       "      <td>24.000</td>\n",
       "      <td>11.000</td>\n",
       "      <td>1.000</td>\n",
       "      <td>3.000</td>\n",
       "      <td>0.000</td>\n",
       "      <td>-3.400</td>\n",
       "      <td>92.201</td>\n",
       "      <td>-50.000</td>\n",
       "      <td>0.677</td>\n",
       "      <td>4.963600e+03</td>\n",
       "    </tr>\n",
       "    <tr>\n",
       "      <th>P1</th>\n",
       "      <td>24.000</td>\n",
       "      <td>11.000</td>\n",
       "      <td>1.000</td>\n",
       "      <td>3.000</td>\n",
       "      <td>0.000</td>\n",
       "      <td>-3.400</td>\n",
       "      <td>92.201</td>\n",
       "      <td>-50.000</td>\n",
       "      <td>0.677</td>\n",
       "      <td>4.963600e+03</td>\n",
       "    </tr>\n",
       "    <tr>\n",
       "      <th>P5</th>\n",
       "      <td>26.000</td>\n",
       "      <td>35.000</td>\n",
       "      <td>1.000</td>\n",
       "      <td>999.000</td>\n",
       "      <td>0.000</td>\n",
       "      <td>-2.900</td>\n",
       "      <td>92.713</td>\n",
       "      <td>-47.100</td>\n",
       "      <td>0.808</td>\n",
       "      <td>5.008700e+03</td>\n",
       "    </tr>\n",
       "    <tr>\n",
       "      <th>P10</th>\n",
       "      <td>28.800</td>\n",
       "      <td>60.000</td>\n",
       "      <td>1.000</td>\n",
       "      <td>999.000</td>\n",
       "      <td>0.000</td>\n",
       "      <td>-1.800</td>\n",
       "      <td>92.893</td>\n",
       "      <td>-46.200</td>\n",
       "      <td>1.029</td>\n",
       "      <td>5.076200e+03</td>\n",
       "    </tr>\n",
       "    <tr>\n",
       "      <th>P25</th>\n",
       "      <td>32.000</td>\n",
       "      <td>103.000</td>\n",
       "      <td>1.000</td>\n",
       "      <td>999.000</td>\n",
       "      <td>0.000</td>\n",
       "      <td>-1.800</td>\n",
       "      <td>93.075</td>\n",
       "      <td>-42.700</td>\n",
       "      <td>1.334</td>\n",
       "      <td>5.099100e+03</td>\n",
       "    </tr>\n",
       "    <tr>\n",
       "      <th>P50</th>\n",
       "      <td>38.000</td>\n",
       "      <td>181.000</td>\n",
       "      <td>2.000</td>\n",
       "      <td>999.000</td>\n",
       "      <td>0.000</td>\n",
       "      <td>1.100</td>\n",
       "      <td>93.749</td>\n",
       "      <td>-41.800</td>\n",
       "      <td>4.857</td>\n",
       "      <td>5.191000e+03</td>\n",
       "    </tr>\n",
       "    <tr>\n",
       "      <th>P75</th>\n",
       "      <td>47.000</td>\n",
       "      <td>317.000</td>\n",
       "      <td>3.000</td>\n",
       "      <td>999.000</td>\n",
       "      <td>0.000</td>\n",
       "      <td>1.400</td>\n",
       "      <td>93.994</td>\n",
       "      <td>-36.400</td>\n",
       "      <td>4.961</td>\n",
       "      <td>5.228100e+03</td>\n",
       "    </tr>\n",
       "    <tr>\n",
       "      <th>P90</th>\n",
       "      <td>55.000</td>\n",
       "      <td>545.200</td>\n",
       "      <td>5.000</td>\n",
       "      <td>999.000</td>\n",
       "      <td>1.000</td>\n",
       "      <td>1.400</td>\n",
       "      <td>94.465</td>\n",
       "      <td>-36.100</td>\n",
       "      <td>4.964</td>\n",
       "      <td>5.228100e+03</td>\n",
       "    </tr>\n",
       "    <tr>\n",
       "      <th>P95</th>\n",
       "      <td>58.000</td>\n",
       "      <td>740.200</td>\n",
       "      <td>7.000</td>\n",
       "      <td>999.000</td>\n",
       "      <td>1.000</td>\n",
       "      <td>1.400</td>\n",
       "      <td>94.465</td>\n",
       "      <td>-33.600</td>\n",
       "      <td>4.966</td>\n",
       "      <td>5.228100e+03</td>\n",
       "    </tr>\n",
       "    <tr>\n",
       "      <th>P99</th>\n",
       "      <td>68.000</td>\n",
       "      <td>1229.741</td>\n",
       "      <td>13.000</td>\n",
       "      <td>999.000</td>\n",
       "      <td>3.000</td>\n",
       "      <td>1.400</td>\n",
       "      <td>94.601</td>\n",
       "      <td>-26.900</td>\n",
       "      <td>4.968</td>\n",
       "      <td>5.228100e+03</td>\n",
       "    </tr>\n",
       "    <tr>\n",
       "      <th>MAX</th>\n",
       "      <td>68.000</td>\n",
       "      <td>1231.660</td>\n",
       "      <td>13.000</td>\n",
       "      <td>999.000</td>\n",
       "      <td>3.000</td>\n",
       "      <td>1.400</td>\n",
       "      <td>94.601</td>\n",
       "      <td>-26.900</td>\n",
       "      <td>4.968</td>\n",
       "      <td>5.228100e+03</td>\n",
       "    </tr>\n",
       "  </tbody>\n",
       "</table>\n",
       "</div>"
      ],
      "text/plain": [
       "               age     duration   campaign        pdays  previous  \\\n",
       "N         4119.000     4119.000   4119.000     4119.000  4119.000   \n",
       "NMISS        0.000        0.000      0.000        0.000     0.000   \n",
       "SUM     164980.000  1041867.720  10230.000  3955995.000   760.000   \n",
       "MEAN        40.053      252.942      2.484      960.426     0.185   \n",
       "MEDIAN      38.000      181.000      2.000      999.000     0.000   \n",
       "STD          9.996      230.667      2.228      191.903     0.501   \n",
       "VAR         99.928    53207.127      4.966    36826.908     0.251   \n",
       "MIN         24.000       11.000      1.000        3.000     0.000   \n",
       "P1          24.000       11.000      1.000        3.000     0.000   \n",
       "P5          26.000       35.000      1.000      999.000     0.000   \n",
       "P10         28.800       60.000      1.000      999.000     0.000   \n",
       "P25         32.000      103.000      1.000      999.000     0.000   \n",
       "P50         38.000      181.000      2.000      999.000     0.000   \n",
       "P75         47.000      317.000      3.000      999.000     0.000   \n",
       "P90         55.000      545.200      5.000      999.000     1.000   \n",
       "P95         58.000      740.200      7.000      999.000     1.000   \n",
       "P99         68.000     1229.741     13.000      999.000     3.000   \n",
       "MAX         68.000     1231.660     13.000      999.000     3.000   \n",
       "\n",
       "        emp.var.rate  cons.price.idx  cons.conf.idx  euribor3m   nr.employed  \n",
       "N           4119.000        4119.000       4119.000   4119.000  4.119000e+03  \n",
       "NMISS          0.000           0.000          0.000      0.000  0.000000e+00  \n",
       "SUM          350.000      385450.818    -166796.600  14917.396  2.128074e+07  \n",
       "MEAN           0.085          93.579        -40.494      3.622  5.166482e+03  \n",
       "MEDIAN         1.100          93.749        -41.800      4.857  5.191000e+03  \n",
       "STD            1.563           0.578          4.585      1.733  7.366800e+01  \n",
       "VAR            2.443           0.334         21.018      3.004  5.426960e+03  \n",
       "MIN           -3.400          92.201        -50.000      0.677  4.963600e+03  \n",
       "P1            -3.400          92.201        -50.000      0.677  4.963600e+03  \n",
       "P5            -2.900          92.713        -47.100      0.808  5.008700e+03  \n",
       "P10           -1.800          92.893        -46.200      1.029  5.076200e+03  \n",
       "P25           -1.800          93.075        -42.700      1.334  5.099100e+03  \n",
       "P50            1.100          93.749        -41.800      4.857  5.191000e+03  \n",
       "P75            1.400          93.994        -36.400      4.961  5.228100e+03  \n",
       "P90            1.400          94.465        -36.100      4.964  5.228100e+03  \n",
       "P95            1.400          94.465        -33.600      4.966  5.228100e+03  \n",
       "P99            1.400          94.601        -26.900      4.968  5.228100e+03  \n",
       "MAX            1.400          94.601        -26.900      4.968  5.228100e+03  "
      ]
     },
     "execution_count": 11,
     "metadata": {},
     "output_type": "execute_result"
    }
   ],
   "source": [
    "numeric_variable.apply(continuous_var_summary).round(3)"
   ]
  },
  {
   "cell_type": "code",
   "execution_count": 12,
   "metadata": {
    "scrolled": true
   },
   "outputs": [
    {
     "data": {
      "text/html": [
       "<div>\n",
       "<style scoped>\n",
       "    .dataframe tbody tr th:only-of-type {\n",
       "        vertical-align: middle;\n",
       "    }\n",
       "\n",
       "    .dataframe tbody tr th {\n",
       "        vertical-align: top;\n",
       "    }\n",
       "\n",
       "    .dataframe thead th {\n",
       "        text-align: right;\n",
       "    }\n",
       "</style>\n",
       "<table border=\"1\" class=\"dataframe\">\n",
       "  <thead>\n",
       "    <tr style=\"text-align: right;\">\n",
       "      <th></th>\n",
       "      <th>job</th>\n",
       "      <th>marital</th>\n",
       "      <th>education</th>\n",
       "      <th>default</th>\n",
       "      <th>housing</th>\n",
       "      <th>loan</th>\n",
       "      <th>contact</th>\n",
       "      <th>month</th>\n",
       "      <th>day_of_week</th>\n",
       "      <th>poutcome</th>\n",
       "      <th>y</th>\n",
       "    </tr>\n",
       "  </thead>\n",
       "  <tbody>\n",
       "    <tr>\n",
       "      <th>N</th>\n",
       "      <td>4119</td>\n",
       "      <td>4119</td>\n",
       "      <td>4119</td>\n",
       "      <td>4119</td>\n",
       "      <td>4119</td>\n",
       "      <td>4119</td>\n",
       "      <td>4119</td>\n",
       "      <td>4119</td>\n",
       "      <td>4119</td>\n",
       "      <td>4119</td>\n",
       "      <td>4119</td>\n",
       "    </tr>\n",
       "    <tr>\n",
       "      <th>NMISS</th>\n",
       "      <td>0</td>\n",
       "      <td>0</td>\n",
       "      <td>0</td>\n",
       "      <td>0</td>\n",
       "      <td>0</td>\n",
       "      <td>0</td>\n",
       "      <td>0</td>\n",
       "      <td>0</td>\n",
       "      <td>0</td>\n",
       "      <td>0</td>\n",
       "      <td>0</td>\n",
       "    </tr>\n",
       "    <tr>\n",
       "      <th>MODE</th>\n",
       "      <td>admin.</td>\n",
       "      <td>married</td>\n",
       "      <td>university.degree</td>\n",
       "      <td>no</td>\n",
       "      <td>yes</td>\n",
       "      <td>no</td>\n",
       "      <td>cellular</td>\n",
       "      <td>may</td>\n",
       "      <td>thu</td>\n",
       "      <td>nonexistent</td>\n",
       "      <td>no</td>\n",
       "    </tr>\n",
       "    <tr>\n",
       "      <th>FREQ</th>\n",
       "      <td>1012</td>\n",
       "      <td>2509</td>\n",
       "      <td>1264</td>\n",
       "      <td>3315</td>\n",
       "      <td>2175</td>\n",
       "      <td>3349</td>\n",
       "      <td>2652</td>\n",
       "      <td>1378</td>\n",
       "      <td>860</td>\n",
       "      <td>3523</td>\n",
       "      <td>3668</td>\n",
       "    </tr>\n",
       "    <tr>\n",
       "      <th>PERCENT</th>\n",
       "      <td>24.57</td>\n",
       "      <td>60.91</td>\n",
       "      <td>30.69</td>\n",
       "      <td>80.48</td>\n",
       "      <td>52.8</td>\n",
       "      <td>81.31</td>\n",
       "      <td>64.38</td>\n",
       "      <td>33.45</td>\n",
       "      <td>20.88</td>\n",
       "      <td>85.53</td>\n",
       "      <td>89.05</td>\n",
       "    </tr>\n",
       "  </tbody>\n",
       "</table>\n",
       "</div>"
      ],
      "text/plain": [
       "            job  marital          education default housing   loan   contact  \\\n",
       "N          4119     4119               4119    4119    4119   4119      4119   \n",
       "NMISS         0        0                  0       0       0      0         0   \n",
       "MODE     admin.  married  university.degree      no     yes     no  cellular   \n",
       "FREQ       1012     2509               1264    3315    2175   3349      2652   \n",
       "PERCENT   24.57    60.91              30.69   80.48    52.8  81.31     64.38   \n",
       "\n",
       "         month day_of_week     poutcome      y  \n",
       "N         4119        4119         4119   4119  \n",
       "NMISS        0           0            0      0  \n",
       "MODE       may         thu  nonexistent     no  \n",
       "FREQ      1378         860         3523   3668  \n",
       "PERCENT  33.45       20.88        85.53  89.05  "
      ]
     },
     "execution_count": 12,
     "metadata": {},
     "output_type": "execute_result"
    }
   ],
   "source": [
    "# summaries of object variables\n",
    "data.select_dtypes(['object']).apply(categorical_var_summary)"
   ]
  },
  {
   "cell_type": "code",
   "execution_count": 13,
   "metadata": {},
   "outputs": [
    {
     "data": {
      "text/plain": [
       "no     0.890507\n",
       "yes    0.109493\n",
       "Name: y, dtype: float64"
      ]
     },
     "execution_count": 13,
     "metadata": {},
     "output_type": "execute_result"
    }
   ],
   "source": [
    "data.y.value_counts() / data.shape[0]"
   ]
  },
  {
   "cell_type": "code",
   "execution_count": 14,
   "metadata": {},
   "outputs": [],
   "source": [
    "# Labelling y column to 1, 0 values which is orginally stored as yes,no\n",
    "# data['y'] = data['y'].str.lower().replace({'yes': 1, 'no': 0})"
   ]
  },
  {
   "cell_type": "code",
   "execution_count": 15,
   "metadata": {},
   "outputs": [
    {
     "data": {
      "text/html": [
       "<div>\n",
       "<style scoped>\n",
       "    .dataframe tbody tr th:only-of-type {\n",
       "        vertical-align: middle;\n",
       "    }\n",
       "\n",
       "    .dataframe tbody tr th {\n",
       "        vertical-align: top;\n",
       "    }\n",
       "\n",
       "    .dataframe thead th {\n",
       "        text-align: right;\n",
       "    }\n",
       "</style>\n",
       "<table border=\"1\" class=\"dataframe\">\n",
       "  <thead>\n",
       "    <tr style=\"text-align: right;\">\n",
       "      <th></th>\n",
       "      <th>age</th>\n",
       "      <th>job</th>\n",
       "      <th>marital</th>\n",
       "      <th>education</th>\n",
       "      <th>default</th>\n",
       "      <th>housing</th>\n",
       "      <th>loan</th>\n",
       "      <th>contact</th>\n",
       "      <th>month</th>\n",
       "      <th>day_of_week</th>\n",
       "      <th>...</th>\n",
       "      <th>campaign</th>\n",
       "      <th>pdays</th>\n",
       "      <th>previous</th>\n",
       "      <th>poutcome</th>\n",
       "      <th>emp.var.rate</th>\n",
       "      <th>cons.price.idx</th>\n",
       "      <th>cons.conf.idx</th>\n",
       "      <th>euribor3m</th>\n",
       "      <th>nr.employed</th>\n",
       "      <th>y</th>\n",
       "    </tr>\n",
       "  </thead>\n",
       "  <tbody>\n",
       "    <tr>\n",
       "      <th>0</th>\n",
       "      <td>30</td>\n",
       "      <td>blue-collar</td>\n",
       "      <td>married</td>\n",
       "      <td>basic.9y</td>\n",
       "      <td>no</td>\n",
       "      <td>yes</td>\n",
       "      <td>no</td>\n",
       "      <td>cellular</td>\n",
       "      <td>may</td>\n",
       "      <td>fri</td>\n",
       "      <td>...</td>\n",
       "      <td>2</td>\n",
       "      <td>999</td>\n",
       "      <td>0</td>\n",
       "      <td>nonexistent</td>\n",
       "      <td>-1.8</td>\n",
       "      <td>92.893</td>\n",
       "      <td>-46.2</td>\n",
       "      <td>1.313</td>\n",
       "      <td>5099.1</td>\n",
       "      <td>no</td>\n",
       "    </tr>\n",
       "    <tr>\n",
       "      <th>1</th>\n",
       "      <td>39</td>\n",
       "      <td>services</td>\n",
       "      <td>single</td>\n",
       "      <td>high.school</td>\n",
       "      <td>no</td>\n",
       "      <td>no</td>\n",
       "      <td>no</td>\n",
       "      <td>telephone</td>\n",
       "      <td>may</td>\n",
       "      <td>fri</td>\n",
       "      <td>...</td>\n",
       "      <td>4</td>\n",
       "      <td>999</td>\n",
       "      <td>0</td>\n",
       "      <td>nonexistent</td>\n",
       "      <td>1.1</td>\n",
       "      <td>93.994</td>\n",
       "      <td>-36.4</td>\n",
       "      <td>4.855</td>\n",
       "      <td>5191.0</td>\n",
       "      <td>no</td>\n",
       "    </tr>\n",
       "    <tr>\n",
       "      <th>2</th>\n",
       "      <td>25</td>\n",
       "      <td>services</td>\n",
       "      <td>married</td>\n",
       "      <td>high.school</td>\n",
       "      <td>no</td>\n",
       "      <td>yes</td>\n",
       "      <td>no</td>\n",
       "      <td>telephone</td>\n",
       "      <td>jun</td>\n",
       "      <td>wed</td>\n",
       "      <td>...</td>\n",
       "      <td>1</td>\n",
       "      <td>999</td>\n",
       "      <td>0</td>\n",
       "      <td>nonexistent</td>\n",
       "      <td>1.4</td>\n",
       "      <td>94.465</td>\n",
       "      <td>-41.8</td>\n",
       "      <td>4.962</td>\n",
       "      <td>5228.1</td>\n",
       "      <td>no</td>\n",
       "    </tr>\n",
       "    <tr>\n",
       "      <th>3</th>\n",
       "      <td>38</td>\n",
       "      <td>services</td>\n",
       "      <td>married</td>\n",
       "      <td>basic.9y</td>\n",
       "      <td>no</td>\n",
       "      <td>unknown</td>\n",
       "      <td>unknown</td>\n",
       "      <td>telephone</td>\n",
       "      <td>jun</td>\n",
       "      <td>fri</td>\n",
       "      <td>...</td>\n",
       "      <td>3</td>\n",
       "      <td>999</td>\n",
       "      <td>0</td>\n",
       "      <td>nonexistent</td>\n",
       "      <td>1.4</td>\n",
       "      <td>94.465</td>\n",
       "      <td>-41.8</td>\n",
       "      <td>4.959</td>\n",
       "      <td>5228.1</td>\n",
       "      <td>no</td>\n",
       "    </tr>\n",
       "    <tr>\n",
       "      <th>4</th>\n",
       "      <td>47</td>\n",
       "      <td>admin.</td>\n",
       "      <td>married</td>\n",
       "      <td>university.degree</td>\n",
       "      <td>no</td>\n",
       "      <td>yes</td>\n",
       "      <td>no</td>\n",
       "      <td>cellular</td>\n",
       "      <td>nov</td>\n",
       "      <td>mon</td>\n",
       "      <td>...</td>\n",
       "      <td>1</td>\n",
       "      <td>999</td>\n",
       "      <td>0</td>\n",
       "      <td>nonexistent</td>\n",
       "      <td>-0.1</td>\n",
       "      <td>93.200</td>\n",
       "      <td>-42.0</td>\n",
       "      <td>4.191</td>\n",
       "      <td>5195.8</td>\n",
       "      <td>no</td>\n",
       "    </tr>\n",
       "  </tbody>\n",
       "</table>\n",
       "<p>5 rows × 21 columns</p>\n",
       "</div>"
      ],
      "text/plain": [
       "   age          job  marital          education default  housing     loan  \\\n",
       "0   30  blue-collar  married           basic.9y      no      yes       no   \n",
       "1   39     services   single        high.school      no       no       no   \n",
       "2   25     services  married        high.school      no      yes       no   \n",
       "3   38     services  married           basic.9y      no  unknown  unknown   \n",
       "4   47       admin.  married  university.degree      no      yes       no   \n",
       "\n",
       "     contact month day_of_week  ...  campaign  pdays  previous     poutcome  \\\n",
       "0   cellular   may         fri  ...         2    999         0  nonexistent   \n",
       "1  telephone   may         fri  ...         4    999         0  nonexistent   \n",
       "2  telephone   jun         wed  ...         1    999         0  nonexistent   \n",
       "3  telephone   jun         fri  ...         3    999         0  nonexistent   \n",
       "4   cellular   nov         mon  ...         1    999         0  nonexistent   \n",
       "\n",
       "  emp.var.rate  cons.price.idx  cons.conf.idx  euribor3m  nr.employed   y  \n",
       "0         -1.8          92.893          -46.2      1.313       5099.1  no  \n",
       "1          1.1          93.994          -36.4      4.855       5191.0  no  \n",
       "2          1.4          94.465          -41.8      4.962       5228.1  no  \n",
       "3          1.4          94.465          -41.8      4.959       5228.1  no  \n",
       "4         -0.1          93.200          -42.0      4.191       5195.8  no  \n",
       "\n",
       "[5 rows x 21 columns]"
      ]
     },
     "execution_count": 15,
     "metadata": {},
     "output_type": "execute_result"
    }
   ],
   "source": [
    "data.head()"
   ]
  },
  {
   "cell_type": "code",
   "execution_count": 16,
   "metadata": {
    "scrolled": false
   },
   "outputs": [
    {
     "data": {
      "image/png": "[encoded data removed]",
      "text/plain": [
       "<Figure size 432x288 with 1 Axes>"
      ]
     },
     "metadata": {
      "needs_background": "light"
     },
     "output_type": "display_data"
    }
   ],
   "source": [
    "# variable distribution (response vs. non response)\n",
    "sns.countplot(y = data.y, palette = 'hls')\n",
    "plt.title('variable distribution (response vs. non response)')\n",
    "plt.show()"
   ]
  },
  {
   "cell_type": "code",
   "execution_count": 17,
   "metadata": {},
   "outputs": [
    {
     "data": {
      "text/plain": [
       "no     0.890507\n",
       "yes    0.109493\n",
       "Name: y, dtype: float64"
      ]
     },
     "execution_count": 17,
     "metadata": {},
     "output_type": "execute_result"
    }
   ],
   "source": [
    "data.y.value_counts() / data.y.shape[0]"
   ]
  },
  {
   "cell_type": "code",
   "execution_count": 18,
   "metadata": {},
   "outputs": [
    {
     "name": "stdout",
     "output_type": "stream",
     "text": [
      "This is a freq chart for job\n"
     ]
    },
    {
     "data": {
      "image/png": "[encoded data removed]",
      "text/plain": [
       "<Figure size 360x216 with 1 Axes>"
      ]
     },
     "metadata": {
      "needs_background": "light"
     },
     "output_type": "display_data"
    },
    {
     "name": "stdout",
     "output_type": "stream",
     "text": [
      "This is a freq chart for marital\n"
     ]
    },
    {
     "data": {
      "image/png": "[encoded data removed]",
      "text/plain": [
       "<Figure size 360x216 with 1 Axes>"
      ]
     },
     "metadata": {
      "needs_background": "light"
     },
     "output_type": "display_data"
    },
    {
     "name": "stdout",
     "output_type": "stream",
     "text": [
      "This is a freq chart for education\n"
     ]
    },
    {
     "data": {
      "image/png": "[encoded data removed]",
      "text/plain": [
       "<Figure size 360x216 with 1 Axes>"
      ]
     },
     "metadata": {
      "needs_background": "light"
     },
     "output_type": "display_data"
    },
    {
     "name": "stdout",
     "output_type": "stream",
     "text": [
      "This is a freq chart for default\n"
     ]
    },
    {
     "data": {
      "image/png": "[encoded data removed]",
      "text/plain": [
       "<Figure size 360x216 with 1 Axes>"
      ]
     },
     "metadata": {
      "needs_background": "light"
     },
     "output_type": "display_data"
    },
    {
     "name": "stdout",
     "output_type": "stream",
     "text": [
      "This is a freq chart for housing\n"
     ]
    },
    {
     "data": {
      "image/png": "[encoded data removed]",
      "text/plain": [
       "<Figure size 360x216 with 1 Axes>"
      ]
     },
     "metadata": {
      "needs_background": "light"
     },
     "output_type": "display_data"
    },
    {
     "name": "stdout",
     "output_type": "stream",
     "text": [
      "This is a freq chart for loan\n"
     ]
    },
    {
     "data": {
      "image/png": "[encoded data removed]",
      "text/plain": [
       "<Figure size 360x216 with 1 Axes>"
      ]
     },
     "metadata": {
      "needs_background": "light"
     },
     "output_type": "display_data"
    },
    {
     "name": "stdout",
     "output_type": "stream",
     "text": [
      "This is a freq chart for contact\n"
     ]
    },
    {
     "data": {
      "image/png": "[encoded data removed]",
      "text/plain": [
       "<Figure size 360x216 with 1 Axes>"
      ]
     },
     "metadata": {
      "needs_background": "light"
     },
     "output_type": "display_data"
    },
    {
     "name": "stdout",
     "output_type": "stream",
     "text": [
      "This is a freq chart for month\n"
     ]
    },
    {
     "data": {
      "image/png": "[encoded data removed]",
      "text/plain": [
       "<Figure size 360x216 with 1 Axes>"
      ]
     },
     "metadata": {
      "needs_background": "light"
     },
     "output_type": "display_data"
    },
    {
     "name": "stdout",
     "output_type": "stream",
     "text": [
      "This is a freq chart for day_of_week\n"
     ]
    },
    {
     "data": {
      "image/png": "[encoded data removed]",
      "text/plain": [
       "<Figure size 360x216 with 1 Axes>"
      ]
     },
     "metadata": {
      "needs_background": "light"
     },
     "output_type": "display_data"
    },
    {
     "name": "stdout",
     "output_type": "stream",
     "text": [
      "This is a freq chart for poutcome\n"
     ]
    },
    {
     "data": {
      "image/png": "[encoded data removed]",
      "text/plain": [
       "<Figure size 360x216 with 1 Axes>"
      ]
     },
     "metadata": {
      "needs_background": "light"
     },
     "output_type": "display_data"
    },
    {
     "name": "stdout",
     "output_type": "stream",
     "text": [
      "This is a freq chart for y\n"
     ]
    },
    {
     "data": {
      "image/png": "[encoded data removed]",
      "text/plain": [
       "<Figure size 360x216 with 1 Axes>"
      ]
     },
     "metadata": {
      "needs_background": "light"
     },
     "output_type": "display_data"
    }
   ],
   "source": [
    "# distribution/freq plot for categorical variables\n",
    "data.select_dtypes(['object']).apply( fn_countplot )\n",
    "plt.show()"
   ]
  },
  {
   "cell_type": "code",
   "execution_count": 19,
   "metadata": {},
   "outputs": [
    {
     "data": {
      "text/html": [
       "<div>\n",
       "<style scoped>\n",
       "    .dataframe tbody tr th:only-of-type {\n",
       "        vertical-align: middle;\n",
       "    }\n",
       "\n",
       "    .dataframe tbody tr th {\n",
       "        vertical-align: top;\n",
       "    }\n",
       "\n",
       "    .dataframe thead th {\n",
       "        text-align: right;\n",
       "    }\n",
       "</style>\n",
       "<table border=\"1\" class=\"dataframe\">\n",
       "  <thead>\n",
       "    <tr style=\"text-align: right;\">\n",
       "      <th></th>\n",
       "      <th>y</th>\n",
       "      <th>age</th>\n",
       "      <th>duration</th>\n",
       "      <th>campaign</th>\n",
       "      <th>pdays</th>\n",
       "      <th>previous</th>\n",
       "      <th>emp.var.rate</th>\n",
       "      <th>cons.price.idx</th>\n",
       "      <th>cons.conf.idx</th>\n",
       "      <th>euribor3m</th>\n",
       "      <th>nr.employed</th>\n",
       "    </tr>\n",
       "  </thead>\n",
       "  <tbody>\n",
       "    <tr>\n",
       "      <th>0</th>\n",
       "      <td>no</td>\n",
       "      <td>39.90</td>\n",
       "      <td>219.41</td>\n",
       "      <td>2.61</td>\n",
       "      <td>982.76</td>\n",
       "      <td>0.14</td>\n",
       "      <td>0.24</td>\n",
       "      <td>93.60</td>\n",
       "      <td>-40.59</td>\n",
       "      <td>3.80</td>\n",
       "      <td>5175.50</td>\n",
       "    </tr>\n",
       "    <tr>\n",
       "      <th>1</th>\n",
       "      <td>yes</td>\n",
       "      <td>41.89</td>\n",
       "      <td>560.79</td>\n",
       "      <td>1.98</td>\n",
       "      <td>778.72</td>\n",
       "      <td>0.59</td>\n",
       "      <td>-1.18</td>\n",
       "      <td>93.42</td>\n",
       "      <td>-39.79</td>\n",
       "      <td>2.15</td>\n",
       "      <td>5093.12</td>\n",
       "    </tr>\n",
       "  </tbody>\n",
       "</table>\n",
       "</div>"
      ],
      "text/plain": [
       "     y    age  duration  campaign   pdays  previous  emp.var.rate  \\\n",
       "0   no  39.90    219.41      2.61  982.76      0.14          0.24   \n",
       "1  yes  41.89    560.79      1.98  778.72      0.59         -1.18   \n",
       "\n",
       "   cons.price.idx  cons.conf.idx  euribor3m  nr.employed  \n",
       "0           93.60         -40.59       3.80      5175.50  \n",
       "1           93.42         -39.79       2.15      5093.12  "
      ]
     },
     "execution_count": 19,
     "metadata": {},
     "output_type": "execute_result"
    }
   ],
   "source": [
    "# mean of all continuous variables by dependent variable y\n",
    "data.groupby('y').mean().round(2).reset_index()"
   ]
  },
  {
   "cell_type": "markdown",
   "metadata": {},
   "source": [
    "##### Observations:\n",
    "- The average age of customers who bought the term deposit is higher than that of the customers who didn’t.\n",
    "- The pdays (days since the customer was last contacted) is understandably lower for the customers who bought it. The lower the pdays, the better the memory of the last call and hence the better chances of a sale.\n",
    "- Surprisingly, campaigns (number of contacts or calls made during the current campaign) are lower for customers who bought the term deposit."
   ]
  },
  {
   "cell_type": "code",
   "execution_count": 20,
   "metadata": {},
   "outputs": [],
   "source": [
    "# get the dummy variables\n",
    "object_variables = data.select_dtypes(['object'])\n",
    "for c_feature in object_variables.columns:\n",
    "    object_variables = create_dummies(object_variables, c_feature)"
   ]
  },
  {
   "cell_type": "code",
   "execution_count": 21,
   "metadata": {},
   "outputs": [],
   "source": [
    "# combine the numeri and object varaibles\n",
    "data = pd.concat( [object_variables, numeric_variable], axis = 1 )"
   ]
  },
  {
   "cell_type": "code",
   "execution_count": 22,
   "metadata": {},
   "outputs": [
    {
     "data": {
      "text/plain": [
       "Index(['job_blue-collar', 'job_entrepreneur', 'job_housemaid',\n",
       "       'job_management', 'job_retired', 'job_self-employed', 'job_services',\n",
       "       'job_student', 'job_technician', 'job_unemployed', 'job_unknown',\n",
       "       'marital_married', 'marital_single', 'marital_unknown',\n",
       "       'education_basic.6y', 'education_basic.9y', 'education_high.school',\n",
       "       'education_illiterate', 'education_professional.course',\n",
       "       'education_university.degree', 'education_unknown', 'default_unknown',\n",
       "       'default_yes', 'housing_unknown', 'housing_yes', 'loan_unknown',\n",
       "       'loan_yes', 'contact_telephone', 'month_aug', 'month_dec', 'month_jul',\n",
       "       'month_jun', 'month_mar', 'month_may', 'month_nov', 'month_oct',\n",
       "       'month_sep', 'day_of_week_mon', 'day_of_week_thu', 'day_of_week_tue',\n",
       "       'day_of_week_wed', 'poutcome_nonexistent', 'poutcome_success', 'y_yes',\n",
       "       'age', 'duration', 'campaign', 'pdays', 'previous', 'emp.var.rate',\n",
       "       'cons.price.idx', 'cons.conf.idx', 'euribor3m', 'nr.employed'],\n",
       "      dtype='object')"
      ]
     },
     "execution_count": 22,
     "metadata": {},
     "output_type": "execute_result"
    }
   ],
   "source": [
    "data.columns"
   ]
  },
  {
   "cell_type": "code",
   "execution_count": 23,
   "metadata": {},
   "outputs": [],
   "source": [
    "# rename the variables\n",
    "data.rename( columns = { 'job_blue-collar':'job_blue_collar', \n",
    "                         'job_self-employed':'job_self_employed',\n",
    "                         'education_basic.6y': 'education_basic_6y',\n",
    "                         'education_basic.9y' : 'education_basic_9y',\n",
    "                         'education_high.school': 'education_high_school', \n",
    "                         'education_professional.course': 'education_professional_course', \n",
    "                         'education_university.degree': 'education_university_degree',\n",
    "                         'emp.var.rate':'emp_var_rate',\n",
    "                         'cons.price.idx': 'cons_price_idx',\n",
    "                         'cons.conf.idx': 'cons_conf_idx',\n",
    "                         'nr.employed': 'nr_employed'\n",
    "                       }, inplace=True)"
   ]
  },
  {
   "cell_type": "code",
   "execution_count": 24,
   "metadata": {},
   "outputs": [
    {
     "data": {
      "text/plain": [
       "Index(['job_blue_collar', 'job_entrepreneur', 'job_housemaid',\n",
       "       'job_management', 'job_retired', 'job_self_employed', 'job_services',\n",
       "       'job_student', 'job_technician', 'job_unemployed', 'job_unknown',\n",
       "       'marital_married', 'marital_single', 'marital_unknown',\n",
       "       'education_basic_6y', 'education_basic_9y', 'education_high_school',\n",
       "       'education_illiterate', 'education_professional_course',\n",
       "       'education_university_degree', 'education_unknown', 'default_unknown',\n",
       "       'default_yes', 'housing_unknown', 'housing_yes', 'loan_unknown',\n",
       "       'loan_yes', 'contact_telephone', 'month_aug', 'month_dec', 'month_jul',\n",
       "       'month_jun', 'month_mar', 'month_may', 'month_nov', 'month_oct',\n",
       "       'month_sep', 'day_of_week_mon', 'day_of_week_thu', 'day_of_week_tue',\n",
       "       'day_of_week_wed', 'poutcome_nonexistent', 'poutcome_success', 'y_yes',\n",
       "       'age', 'duration', 'campaign', 'pdays', 'previous', 'emp_var_rate',\n",
       "       'cons_price_idx', 'cons_conf_idx', 'euribor3m', 'nr_employed'],\n",
       "      dtype='object')"
      ]
     },
     "execution_count": 24,
     "metadata": {},
     "output_type": "execute_result"
    }
   ],
   "source": [
    "data.columns"
   ]
  },
  {
   "cell_type": "code",
   "execution_count": 25,
   "metadata": {},
   "outputs": [
    {
     "data": {
      "text/plain": [
       "(54,)"
      ]
     },
     "execution_count": 25,
     "metadata": {},
     "output_type": "execute_result"
    }
   ],
   "source": [
    "data.columns.shape"
   ]
  },
  {
   "cell_type": "code",
   "execution_count": 26,
   "metadata": {},
   "outputs": [
    {
     "data": {
      "image/png": "[encoded data removed]",
      "text/plain": [
       "<Figure size 432x288 with 2 Axes>"
      ]
     },
     "metadata": {
      "needs_background": "light"
     },
     "output_type": "display_data"
    }
   ],
   "source": [
    "# Check the corr between the variables\n",
    "sns.heatmap(data.corr())\n",
    "plt.show()"
   ]
  },
  {
   "cell_type": "markdown",
   "metadata": {},
   "source": [
    "##### Feature Selection\n",
    "Recursive Feature Elimination (RFE) is based on the idea to repeatedly construct a model and choose either the best or worst performing feature, setting the feature aside and then repeating the process with the rest of the features. This process is applied until all features in the dataset are exhausted. The goal of RFE is to select features by recursively considering smaller and smaller sets of features."
   ]
  },
  {
   "cell_type": "code",
   "execution_count": 27,
   "metadata": {},
   "outputs": [],
   "source": [
    "# import the necessary packages\n",
    "from sklearn.linear_model import LogisticRegression\n",
    "from sklearn.feature_selection import RFE"
   ]
  },
  {
   "cell_type": "code",
   "execution_count": 28,
   "metadata": {},
   "outputs": [],
   "source": [
    "# get the y and X varaibales\n",
    "y_var = 'y_yes'\n",
    "X_var = data.columns.difference(['y_yes'])"
   ]
  },
  {
   "cell_type": "code",
   "execution_count": 29,
   "metadata": {
    "scrolled": true
   },
   "outputs": [
    {
     "name": "stderr",
     "output_type": "stream",
     "text": [
      "C:\\Users\\DELL\\anaconda3\\lib\\site-packages\\sklearn\\utils\\validation.py:70: FutureWarning: Pass n_features_to_select=20 as keyword args. From version 1.0 (renaming of 0.25) passing these as positional arguments will result in an error\n",
      "  warnings.warn(f\"Pass {args_msg} as keyword args. From version \"\n"
     ]
    },
    {
     "name": "stdout",
     "output_type": "stream",
     "text": [
      "[False False False False  True False False False False False False False\n",
      " False False False  True False False  True False  True False False  True\n",
      "  True False  True False  True  True False False False  True  True False\n",
      " False False False False  True  True  True  True  True False False  True\n",
      " False False  True  True  True]\n",
      "[32 11 16 20  1 19 25 27  4 26 34 30  7 23 18  1  8  9  1 12  1  2  3  1\n",
      "  1 29  1 31  1  1 21 17  6  1  1 10 13 14 28 15  1  1  1  1  1  5 22  1\n",
      " 24 33  1  1  1]\n"
     ]
    }
   ],
   "source": [
    "# RFE: 15, 20, 25\n",
    "logreg = LogisticRegression( max_iter = 5000 )\n",
    "rfe = RFE( logreg, 20 ).fit( data[X_var], data[y_var] )\n",
    "\n",
    "print(rfe.support_)\n",
    "print(rfe.ranking_)"
   ]
  },
  {
   "cell_type": "code",
   "execution_count": 30,
   "metadata": {},
   "outputs": [],
   "source": [
    "RFE_Output = pd.DataFrame([X_var, rfe.support_, rfe.ranking_]).T\n",
    "RFE_Output.columns = ['Features', 'support', 'ranking']"
   ]
  },
  {
   "cell_type": "code",
   "execution_count": 31,
   "metadata": {},
   "outputs": [
    {
     "data": {
      "text/html": [
       "<div>\n",
       "<style scoped>\n",
       "    .dataframe tbody tr th:only-of-type {\n",
       "        vertical-align: middle;\n",
       "    }\n",
       "\n",
       "    .dataframe tbody tr th {\n",
       "        vertical-align: top;\n",
       "    }\n",
       "\n",
       "    .dataframe thead th {\n",
       "        text-align: right;\n",
       "    }\n",
       "</style>\n",
       "<table border=\"1\" class=\"dataframe\">\n",
       "  <thead>\n",
       "    <tr style=\"text-align: right;\">\n",
       "      <th></th>\n",
       "      <th>Features</th>\n",
       "      <th>support</th>\n",
       "      <th>ranking</th>\n",
       "    </tr>\n",
       "  </thead>\n",
       "  <tbody>\n",
       "    <tr>\n",
       "      <th>26</th>\n",
       "      <td>job_management</td>\n",
       "      <td>True</td>\n",
       "      <td>1</td>\n",
       "    </tr>\n",
       "    <tr>\n",
       "      <th>23</th>\n",
       "      <td>job_blue_collar</td>\n",
       "      <td>True</td>\n",
       "      <td>1</td>\n",
       "    </tr>\n",
       "    <tr>\n",
       "      <th>24</th>\n",
       "      <td>job_entrepreneur</td>\n",
       "      <td>True</td>\n",
       "      <td>1</td>\n",
       "    </tr>\n",
       "    <tr>\n",
       "      <th>51</th>\n",
       "      <td>poutcome_success</td>\n",
       "      <td>True</td>\n",
       "      <td>1</td>\n",
       "    </tr>\n",
       "    <tr>\n",
       "      <th>28</th>\n",
       "      <td>job_self_employed</td>\n",
       "      <td>True</td>\n",
       "      <td>1</td>\n",
       "    </tr>\n",
       "    <tr>\n",
       "      <th>29</th>\n",
       "      <td>job_services</td>\n",
       "      <td>True</td>\n",
       "      <td>1</td>\n",
       "    </tr>\n",
       "    <tr>\n",
       "      <th>33</th>\n",
       "      <td>job_unknown</td>\n",
       "      <td>True</td>\n",
       "      <td>1</td>\n",
       "    </tr>\n",
       "    <tr>\n",
       "      <th>20</th>\n",
       "      <td>euribor3m</td>\n",
       "      <td>True</td>\n",
       "      <td>1</td>\n",
       "    </tr>\n",
       "    <tr>\n",
       "      <th>34</th>\n",
       "      <td>loan_unknown</td>\n",
       "      <td>True</td>\n",
       "      <td>1</td>\n",
       "    </tr>\n",
       "    <tr>\n",
       "      <th>41</th>\n",
       "      <td>month_jul</td>\n",
       "      <td>True</td>\n",
       "      <td>1</td>\n",
       "    </tr>\n",
       "    <tr>\n",
       "      <th>42</th>\n",
       "      <td>month_jun</td>\n",
       "      <td>True</td>\n",
       "      <td>1</td>\n",
       "    </tr>\n",
       "    <tr>\n",
       "      <th>43</th>\n",
       "      <td>month_mar</td>\n",
       "      <td>True</td>\n",
       "      <td>1</td>\n",
       "    </tr>\n",
       "    <tr>\n",
       "      <th>44</th>\n",
       "      <td>month_may</td>\n",
       "      <td>True</td>\n",
       "      <td>1</td>\n",
       "    </tr>\n",
       "    <tr>\n",
       "      <th>47</th>\n",
       "      <td>month_sep</td>\n",
       "      <td>True</td>\n",
       "      <td>1</td>\n",
       "    </tr>\n",
       "    <tr>\n",
       "      <th>50</th>\n",
       "      <td>poutcome_nonexistent</td>\n",
       "      <td>True</td>\n",
       "      <td>1</td>\n",
       "    </tr>\n",
       "    <tr>\n",
       "      <th>40</th>\n",
       "      <td>month_dec</td>\n",
       "      <td>True</td>\n",
       "      <td>1</td>\n",
       "    </tr>\n",
       "    <tr>\n",
       "      <th>18</th>\n",
       "      <td>education_unknown</td>\n",
       "      <td>True</td>\n",
       "      <td>1</td>\n",
       "    </tr>\n",
       "    <tr>\n",
       "      <th>52</th>\n",
       "      <td>previous</td>\n",
       "      <td>True</td>\n",
       "      <td>1</td>\n",
       "    </tr>\n",
       "    <tr>\n",
       "      <th>15</th>\n",
       "      <td>education_illiterate</td>\n",
       "      <td>True</td>\n",
       "      <td>1</td>\n",
       "    </tr>\n",
       "    <tr>\n",
       "      <th>4</th>\n",
       "      <td>contact_telephone</td>\n",
       "      <td>True</td>\n",
       "      <td>1</td>\n",
       "    </tr>\n",
       "    <tr>\n",
       "      <th>21</th>\n",
       "      <td>housing_unknown</td>\n",
       "      <td>False</td>\n",
       "      <td>2</td>\n",
       "    </tr>\n",
       "    <tr>\n",
       "      <th>22</th>\n",
       "      <td>housing_yes</td>\n",
       "      <td>False</td>\n",
       "      <td>3</td>\n",
       "    </tr>\n",
       "    <tr>\n",
       "      <th>8</th>\n",
       "      <td>day_of_week_wed</td>\n",
       "      <td>False</td>\n",
       "      <td>4</td>\n",
       "    </tr>\n",
       "    <tr>\n",
       "      <th>45</th>\n",
       "      <td>month_nov</td>\n",
       "      <td>False</td>\n",
       "      <td>5</td>\n",
       "    </tr>\n",
       "    <tr>\n",
       "      <th>32</th>\n",
       "      <td>job_unemployed</td>\n",
       "      <td>False</td>\n",
       "      <td>6</td>\n",
       "    </tr>\n",
       "    <tr>\n",
       "      <th>12</th>\n",
       "      <td>education_basic_6y</td>\n",
       "      <td>False</td>\n",
       "      <td>7</td>\n",
       "    </tr>\n",
       "    <tr>\n",
       "      <th>16</th>\n",
       "      <td>education_professional_course</td>\n",
       "      <td>False</td>\n",
       "      <td>8</td>\n",
       "    </tr>\n",
       "    <tr>\n",
       "      <th>17</th>\n",
       "      <td>education_university_degree</td>\n",
       "      <td>False</td>\n",
       "      <td>9</td>\n",
       "    </tr>\n",
       "    <tr>\n",
       "      <th>35</th>\n",
       "      <td>loan_yes</td>\n",
       "      <td>False</td>\n",
       "      <td>10</td>\n",
       "    </tr>\n",
       "    <tr>\n",
       "      <th>1</th>\n",
       "      <td>campaign</td>\n",
       "      <td>False</td>\n",
       "      <td>11</td>\n",
       "    </tr>\n",
       "    <tr>\n",
       "      <th>19</th>\n",
       "      <td>emp_var_rate</td>\n",
       "      <td>False</td>\n",
       "      <td>12</td>\n",
       "    </tr>\n",
       "    <tr>\n",
       "      <th>36</th>\n",
       "      <td>marital_married</td>\n",
       "      <td>False</td>\n",
       "      <td>13</td>\n",
       "    </tr>\n",
       "    <tr>\n",
       "      <th>37</th>\n",
       "      <td>marital_single</td>\n",
       "      <td>False</td>\n",
       "      <td>14</td>\n",
       "    </tr>\n",
       "    <tr>\n",
       "      <th>39</th>\n",
       "      <td>month_aug</td>\n",
       "      <td>False</td>\n",
       "      <td>15</td>\n",
       "    </tr>\n",
       "    <tr>\n",
       "      <th>2</th>\n",
       "      <td>cons_conf_idx</td>\n",
       "      <td>False</td>\n",
       "      <td>16</td>\n",
       "    </tr>\n",
       "    <tr>\n",
       "      <th>31</th>\n",
       "      <td>job_technician</td>\n",
       "      <td>False</td>\n",
       "      <td>17</td>\n",
       "    </tr>\n",
       "    <tr>\n",
       "      <th>14</th>\n",
       "      <td>education_high_school</td>\n",
       "      <td>False</td>\n",
       "      <td>18</td>\n",
       "    </tr>\n",
       "    <tr>\n",
       "      <th>5</th>\n",
       "      <td>day_of_week_mon</td>\n",
       "      <td>False</td>\n",
       "      <td>19</td>\n",
       "    </tr>\n",
       "    <tr>\n",
       "      <th>3</th>\n",
       "      <td>cons_price_idx</td>\n",
       "      <td>False</td>\n",
       "      <td>20</td>\n",
       "    </tr>\n",
       "    <tr>\n",
       "      <th>30</th>\n",
       "      <td>job_student</td>\n",
       "      <td>False</td>\n",
       "      <td>21</td>\n",
       "    </tr>\n",
       "    <tr>\n",
       "      <th>46</th>\n",
       "      <td>month_oct</td>\n",
       "      <td>False</td>\n",
       "      <td>22</td>\n",
       "    </tr>\n",
       "    <tr>\n",
       "      <th>13</th>\n",
       "      <td>education_basic_9y</td>\n",
       "      <td>False</td>\n",
       "      <td>23</td>\n",
       "    </tr>\n",
       "    <tr>\n",
       "      <th>48</th>\n",
       "      <td>nr_employed</td>\n",
       "      <td>False</td>\n",
       "      <td>24</td>\n",
       "    </tr>\n",
       "    <tr>\n",
       "      <th>6</th>\n",
       "      <td>day_of_week_thu</td>\n",
       "      <td>False</td>\n",
       "      <td>25</td>\n",
       "    </tr>\n",
       "    <tr>\n",
       "      <th>9</th>\n",
       "      <td>default_unknown</td>\n",
       "      <td>False</td>\n",
       "      <td>26</td>\n",
       "    </tr>\n",
       "    <tr>\n",
       "      <th>7</th>\n",
       "      <td>day_of_week_tue</td>\n",
       "      <td>False</td>\n",
       "      <td>27</td>\n",
       "    </tr>\n",
       "    <tr>\n",
       "      <th>38</th>\n",
       "      <td>marital_unknown</td>\n",
       "      <td>False</td>\n",
       "      <td>28</td>\n",
       "    </tr>\n",
       "    <tr>\n",
       "      <th>25</th>\n",
       "      <td>job_housemaid</td>\n",
       "      <td>False</td>\n",
       "      <td>29</td>\n",
       "    </tr>\n",
       "    <tr>\n",
       "      <th>11</th>\n",
       "      <td>duration</td>\n",
       "      <td>False</td>\n",
       "      <td>30</td>\n",
       "    </tr>\n",
       "    <tr>\n",
       "      <th>27</th>\n",
       "      <td>job_retired</td>\n",
       "      <td>False</td>\n",
       "      <td>31</td>\n",
       "    </tr>\n",
       "    <tr>\n",
       "      <th>0</th>\n",
       "      <td>age</td>\n",
       "      <td>False</td>\n",
       "      <td>32</td>\n",
       "    </tr>\n",
       "    <tr>\n",
       "      <th>49</th>\n",
       "      <td>pdays</td>\n",
       "      <td>False</td>\n",
       "      <td>33</td>\n",
       "    </tr>\n",
       "    <tr>\n",
       "      <th>10</th>\n",
       "      <td>default_yes</td>\n",
       "      <td>False</td>\n",
       "      <td>34</td>\n",
       "    </tr>\n",
       "  </tbody>\n",
       "</table>\n",
       "</div>"
      ],
      "text/plain": [
       "                         Features support ranking\n",
       "26                 job_management    True       1\n",
       "23                job_blue_collar    True       1\n",
       "24               job_entrepreneur    True       1\n",
       "51               poutcome_success    True       1\n",
       "28              job_self_employed    True       1\n",
       "29                   job_services    True       1\n",
       "33                    job_unknown    True       1\n",
       "20                      euribor3m    True       1\n",
       "34                   loan_unknown    True       1\n",
       "41                      month_jul    True       1\n",
       "42                      month_jun    True       1\n",
       "43                      month_mar    True       1\n",
       "44                      month_may    True       1\n",
       "47                      month_sep    True       1\n",
       "50           poutcome_nonexistent    True       1\n",
       "40                      month_dec    True       1\n",
       "18              education_unknown    True       1\n",
       "52                       previous    True       1\n",
       "15           education_illiterate    True       1\n",
       "4               contact_telephone    True       1\n",
       "21                housing_unknown   False       2\n",
       "22                    housing_yes   False       3\n",
       "8                 day_of_week_wed   False       4\n",
       "45                      month_nov   False       5\n",
       "32                 job_unemployed   False       6\n",
       "12             education_basic_6y   False       7\n",
       "16  education_professional_course   False       8\n",
       "17    education_university_degree   False       9\n",
       "35                       loan_yes   False      10\n",
       "1                        campaign   False      11\n",
       "19                   emp_var_rate   False      12\n",
       "36                marital_married   False      13\n",
       "37                 marital_single   False      14\n",
       "39                      month_aug   False      15\n",
       "2                   cons_conf_idx   False      16\n",
       "31                 job_technician   False      17\n",
       "14          education_high_school   False      18\n",
       "5                 day_of_week_mon   False      19\n",
       "3                  cons_price_idx   False      20\n",
       "30                    job_student   False      21\n",
       "46                      month_oct   False      22\n",
       "13             education_basic_9y   False      23\n",
       "48                    nr_employed   False      24\n",
       "6                 day_of_week_thu   False      25\n",
       "9                 default_unknown   False      26\n",
       "7                 day_of_week_tue   False      27\n",
       "38                marital_unknown   False      28\n",
       "25                  job_housemaid   False      29\n",
       "11                       duration   False      30\n",
       "27                    job_retired   False      31\n",
       "0                             age   False      32\n",
       "49                          pdays   False      33\n",
       "10                    default_yes   False      34"
      ]
     },
     "execution_count": 31,
     "metadata": {},
     "output_type": "execute_result"
    }
   ],
   "source": [
    "RFE_Output.sort_values( by = 'ranking' )"
   ]
  },
  {
   "cell_type": "code",
   "execution_count": 34,
   "metadata": {},
   "outputs": [],
   "source": [
    "X_final = data[ X_var[rfe.support_] ]\n",
    "y_final = data[y_var]"
   ]
  },
  {
   "cell_type": "code",
   "execution_count": 35,
   "metadata": {},
   "outputs": [
    {
     "data": {
      "text/plain": [
       "(4119, 20)"
      ]
     },
     "execution_count": 35,
     "metadata": {},
     "output_type": "execute_result"
    }
   ],
   "source": [
    "X_final.shape"
   ]
  },
  {
   "cell_type": "markdown",
   "metadata": {},
   "source": [
    "### build the model"
   ]
  },
  {
   "cell_type": "code",
   "execution_count": null,
   "metadata": {},
   "outputs": [],
   "source": [
    ".fit()\n",
    ".fit_transform()\n",
    ".transform()"
   ]
  },
  {
   "cell_type": "code",
   "execution_count": 38,
   "metadata": {},
   "outputs": [],
   "source": [
    "# preprocessing the data for standardization\n",
    "from sklearn.preprocessing import StandardScaler\n",
    "\n",
    "X_scaled = pd.DataFrame( StandardScaler().fit_transform( X_final ) )\n",
    "X_scaled.head()\n",
    "\n",
    "# sc = StandardScaler()\n",
    "# X_scaled = pd.DataFrame(sc.fit_transform(X_final))\n",
    "# X_scaled.head()\n",
    "\n",
    "X_scaled.columns = X_final.columns"
   ]
  },
  {
   "cell_type": "code",
   "execution_count": 40,
   "metadata": {},
   "outputs": [],
   "source": [
    "from sklearn.model_selection import train_test_split\n",
    "X_train, X_test, y_train, y_test = train_test_split(X_scaled, \n",
    "                                                    y_final, \n",
    "                                                    test_size = 0.3, \n",
    "                                                    random_state = 55555)"
   ]
  },
  {
   "cell_type": "markdown",
   "metadata": {},
   "source": [
    "### KNN"
   ]
  },
  {
   "cell_type": "code",
   "execution_count": 41,
   "metadata": {},
   "outputs": [],
   "source": [
    "# import the packages\n",
    "from sklearn.neighbors import KNeighborsClassifier\n",
    "from sklearn import metrics\n",
    "from sklearn.model_selection import GridSearchCV"
   ]
  },
  {
   "cell_type": "code",
   "execution_count": 49,
   "metadata": {},
   "outputs": [
    {
     "name": "stdout",
     "output_type": "stream",
     "text": [
      "Fitting 10 folds for each of 9 candidates, totalling 90 fits\n"
     ]
    }
   ],
   "source": [
    "#set the tuning parameters (k) for grid search\n",
    "tuned_parameters = {'n_neighbors': range(11, 29, 2)}     # [ 3, 5, 7, 9, 11, ...., 19 ]\n",
    "\n",
    "# build the KNN model\n",
    "knn_clf = GridSearchCV( KNeighborsClassifier(),\n",
    "                   tuned_parameters,\n",
    "                   cv = 10,\n",
    "                   scoring = 'roc_auc',\n",
    "                   verbose = True).fit(X_train, y_train)"
   ]
  },
  {
   "cell_type": "code",
   "execution_count": 50,
   "metadata": {},
   "outputs": [
    {
     "data": {
      "text/plain": [
       "0.7262794160967283"
      ]
     },
     "execution_count": 50,
     "metadata": {},
     "output_type": "execute_result"
    }
   ],
   "source": [
    "knn_clf.best_score_"
   ]
  },
  {
   "cell_type": "code",
   "execution_count": 51,
   "metadata": {},
   "outputs": [
    {
     "data": {
      "text/plain": [
       "0.8321848449540687"
      ]
     },
     "execution_count": 51,
     "metadata": {},
     "output_type": "execute_result"
    }
   ],
   "source": [
    "metrics.roc_auc_score( y_train, knn_clf.predict_proba( X_train )[:, 1] )"
   ]
  },
  {
   "cell_type": "code",
   "execution_count": 52,
   "metadata": {},
   "outputs": [
    {
     "data": {
      "text/plain": [
       "{'n_neighbors': 19}"
      ]
     },
     "execution_count": 52,
     "metadata": {},
     "output_type": "execute_result"
    }
   ],
   "source": [
    "knn_clf.best_params_"
   ]
  },
  {
   "cell_type": "code",
   "execution_count": 53,
   "metadata": {},
   "outputs": [
    {
     "data": {
      "text/plain": [
       "KNeighborsClassifier(n_neighbors=19)"
      ]
     },
     "execution_count": 53,
     "metadata": {},
     "output_type": "execute_result"
    }
   ],
   "source": [
    "# re-building the model for the best n_neighbors\n",
    "knn_clf = KNeighborsClassifier( n_neighbors = 19 )\n",
    "knn_clf.fit( X_train, y_train)"
   ]
  },
  {
   "cell_type": "code",
   "execution_count": 54,
   "metadata": {},
   "outputs": [],
   "source": [
    "# confusion matrix\n",
    "knn_cm = metrics.confusion_matrix( y_test, knn_clf.predict( X_test ))[::-1, ::-1]"
   ]
  },
  {
   "cell_type": "code",
   "execution_count": 55,
   "metadata": {},
   "outputs": [
    {
     "data": {
      "text/plain": [
       "Text(0.5, 15.0, 'Predicted label')"
      ]
     },
     "execution_count": 55,
     "metadata": {},
     "output_type": "execute_result"
    },
    {
     "data": {
      "image/png": "[encoded data removed]",
      "text/plain": [
       "<Figure size 432x288 with 2 Axes>"
      ]
     },
     "metadata": {
      "needs_background": "light"
     },
     "output_type": "display_data"
    }
   ],
   "source": [
    "sns.heatmap(knn_cm, annot=True,  fmt='.2f', xticklabels = [\"Yes\", \"No\"] , yticklabels = [\"Yes\", \"No\"] )\n",
    "plt.ylabel('True label')\n",
    "plt.xlabel('Predicted label')"
   ]
  },
  {
   "cell_type": "code",
   "execution_count": 56,
   "metadata": {},
   "outputs": [
    {
     "name": "stdout",
     "output_type": "stream",
     "text": [
      "0.9046132500867152\n",
      "0.8915857605177994\n"
     ]
    }
   ],
   "source": [
    "# get the model accuracy\n",
    "print(metrics.accuracy_score(y_train, knn_clf.predict(X_train)))\n",
    "print(metrics.accuracy_score(y_test, knn_clf.predict(X_test)))"
   ]
  },
  {
   "cell_type": "code",
   "execution_count": 57,
   "metadata": {},
   "outputs": [],
   "source": [
    "# get the probability score on training and testing\n",
    "train_predict_prob = pd.DataFrame(knn_clf.predict_proba(X_train))[1]\n",
    "test_predict_prob = pd.DataFrame(knn_clf.predict_proba(X_test))[1]"
   ]
  },
  {
   "cell_type": "code",
   "execution_count": 58,
   "metadata": {},
   "outputs": [
    {
     "name": "stdout",
     "output_type": "stream",
     "text": [
      "0.8321848449540687\n",
      "0.7387350104275288\n"
     ]
    }
   ],
   "source": [
    "# get the model auc\n",
    "print(metrics.roc_auc_score(y_train, train_predict_prob))\n",
    "print(metrics.roc_auc_score(y_test, test_predict_prob))"
   ]
  },
  {
   "cell_type": "code",
   "execution_count": 59,
   "metadata": {},
   "outputs": [
    {
     "name": "stdout",
     "output_type": "stream",
     "text": [
      "              precision    recall  f1-score   support\n",
      "\n",
      "           0       0.90      0.98      0.94      1096\n",
      "           1       0.57      0.19      0.28       140\n",
      "\n",
      "    accuracy                           0.89      1236\n",
      "   macro avg       0.73      0.58      0.61      1236\n",
      "weighted avg       0.87      0.89      0.87      1236\n",
      "\n"
     ]
    }
   ],
   "source": [
    "# Compute precision, recall, F-measure and support\n",
    "from sklearn.metrics import classification_report\n",
    "print(classification_report(y_test, knn_clf.predict( X_test )))"
   ]
  },
  {
   "cell_type": "markdown",
   "metadata": {},
   "source": [
    "Interpretation: We can see from  poor precion and recall for '1's in classification report and AUC that model performacne is not upto the mark. High accuracy score is misleading because of skewed data.\n",
    "\n",
    "We will now rebuild the model after re-balancing the data"
   ]
  },
  {
   "cell_type": "markdown",
   "metadata": {},
   "source": [
    "#### We will now rebuild the model after re-balancing the data. \n",
    "Oversampling & Undersampling for imbalance data"
   ]
  },
  {
   "cell_type": "code",
   "execution_count": null,
   "metadata": {},
   "outputs": [],
   "source": [
    "# pip install imbalanced-learn"
   ]
  },
  {
   "cell_type": "code",
   "execution_count": 60,
   "metadata": {},
   "outputs": [],
   "source": [
    "# import the packages\n",
    "import imblearn\n",
    "from imblearn.under_sampling import RandomUnderSampler \n",
    "from imblearn.over_sampling import RandomOverSampler \n",
    "from collections import Counter"
   ]
  },
  {
   "cell_type": "markdown",
   "metadata": {},
   "source": [
    "#### rebuild model after undersampling"
   ]
  },
  {
   "cell_type": "code",
   "execution_count": 91,
   "metadata": {},
   "outputs": [
    {
     "name": "stdout",
     "output_type": "stream",
     "text": [
      "Original dataset shape Counter({0: 2572, 1: 311})\n",
      "Oversampled dataset shape Counter({0: 311, 1: 311})\n"
     ]
    }
   ],
   "source": [
    "# perform the under sampling\n",
    "rus = RandomUnderSampler( random_state = 12345, sampling_strategy = 1 )\n",
    "X_res_train, y_res_train = rus.fit_resample( X_train, y_train )\n",
    "\n",
    "print('Original dataset shape {}'.format(Counter(y_train)))\n",
    "print('Oversampled dataset shape {}'.format(Counter(y_res_train)))"
   ]
  },
  {
   "cell_type": "code",
   "execution_count": 94,
   "metadata": {},
   "outputs": [
    {
     "name": "stdout",
     "output_type": "stream",
     "text": [
      "Fitting 10 folds for each of 39 candidates, totalling 390 fits\n"
     ]
    }
   ],
   "source": [
    "#set the tuning parameters (k) for grid search\n",
    "tuned_parameters = {'n_neighbors': range(21, 99, 2)}\n",
    "\n",
    "# build the KNN model\n",
    "knn_clf = GridSearchCV(KNeighborsClassifier(),\n",
    "                   tuned_parameters,\n",
    "                   cv = 10,\n",
    "                   scoring = 'roc_auc',\n",
    "                   verbose = True).fit(X_res_train, y_res_train)"
   ]
  },
  {
   "cell_type": "code",
   "execution_count": 95,
   "metadata": {},
   "outputs": [
    {
     "data": {
      "text/plain": [
       "{'n_neighbors': 77}"
      ]
     },
     "execution_count": 95,
     "metadata": {},
     "output_type": "execute_result"
    }
   ],
   "source": [
    "# get the best parameteres\n",
    "knn_clf.best_params_"
   ]
  },
  {
   "cell_type": "code",
   "execution_count": 96,
   "metadata": {},
   "outputs": [],
   "source": [
    "# rebuild the model after resampling\n",
    "knn_clf = KNeighborsClassifier( n_neighbors = 77 )"
   ]
  },
  {
   "cell_type": "code",
   "execution_count": 97,
   "metadata": {},
   "outputs": [
    {
     "data": {
      "text/plain": [
       "KNeighborsClassifier(n_neighbors=77)"
      ]
     },
     "execution_count": 97,
     "metadata": {},
     "output_type": "execute_result"
    }
   ],
   "source": [
    "# Refitting the model on under sampled data\n",
    "knn_clf.fit(X_res_train, y_res_train)"
   ]
  },
  {
   "cell_type": "code",
   "execution_count": 98,
   "metadata": {},
   "outputs": [
    {
     "name": "stdout",
     "output_type": "stream",
     "text": [
      "0.7186495176848875\n",
      "0.7920711974110033\n"
     ]
    }
   ],
   "source": [
    "# get the model accuracy\n",
    "print(metrics.accuracy_score(y_res_train, knn_clf.predict(X_res_train)))\n",
    "print(metrics.accuracy_score(y_test, knn_clf.predict(X_test)))"
   ]
  },
  {
   "cell_type": "code",
   "execution_count": 99,
   "metadata": {},
   "outputs": [],
   "source": [
    "# get the probability score on training and testing\n",
    "train_predict_prob = pd.DataFrame(knn_clf.predict_proba(X_res_train))[1]\n",
    "test_predict_prob = pd.DataFrame(knn_clf.predict_proba(X_test))[1]"
   ]
  },
  {
   "cell_type": "code",
   "execution_count": 100,
   "metadata": {},
   "outputs": [
    {
     "name": "stdout",
     "output_type": "stream",
     "text": [
      "0.7803941233031088\n",
      "0.7497881908237747\n"
     ]
    }
   ],
   "source": [
    "# get the model auc\n",
    "print(metrics.roc_auc_score(y_res_train, train_predict_prob))\n",
    "print(metrics.roc_auc_score(y_test, test_predict_prob))"
   ]
  },
  {
   "cell_type": "code",
   "execution_count": 101,
   "metadata": {},
   "outputs": [
    {
     "name": "stdout",
     "output_type": "stream",
     "text": [
      "              precision    recall  f1-score   support\n",
      "\n",
      "           0       0.94      0.81      0.87      1096\n",
      "           1       0.30      0.62      0.40       140\n",
      "\n",
      "    accuracy                           0.79      1236\n",
      "   macro avg       0.62      0.72      0.64      1236\n",
      "weighted avg       0.87      0.79      0.82      1236\n",
      "\n"
     ]
    }
   ],
   "source": [
    "print(classification_report(y_test, knn_clf.predict( X_test )))"
   ]
  },
  {
   "cell_type": "markdown",
   "metadata": {},
   "source": [
    "#### refit model after over-sampling"
   ]
  },
  {
   "cell_type": "code",
   "execution_count": 103,
   "metadata": {},
   "outputs": [
    {
     "name": "stdout",
     "output_type": "stream",
     "text": [
      "Original dataset shape Counter({0: 2572, 1: 311})\n",
      "Oversampled dataset shape Counter({0: 2572, 1: 2572})\n"
     ]
    }
   ],
   "source": [
    "# perform the over sampling\n",
    "ros = RandomOverSampler( random_state = 500 )\n",
    "X_ros_train, y_ros_train = ros.fit_resample(X_train, y_train)\n",
    "\n",
    "print('Original dataset shape {}'.format(Counter(y_train)))\n",
    "print('Oversampled dataset shape {}'.format(Counter(y_ros_train)))"
   ]
  },
  {
   "cell_type": "code",
   "execution_count": 104,
   "metadata": {},
   "outputs": [],
   "source": [
    "#set the tuning parameters (k) for grid search\n",
    "tuned_parameters = {'n_neighbors': range(3, 17, 2)}\n",
    "\n",
    "# build the KNN model\n",
    "knn_clf = GridSearchCV(KNeighborsClassifier(),\n",
    "                   tuned_parameters,\n",
    "                   cv = 10,\n",
    "                   scoring = 'roc_auc').fit(X_ros_train, y_ros_train)"
   ]
  },
  {
   "cell_type": "code",
   "execution_count": 105,
   "metadata": {},
   "outputs": [
    {
     "data": {
      "text/plain": [
       "{'n_neighbors': 5}"
      ]
     },
     "execution_count": 105,
     "metadata": {},
     "output_type": "execute_result"
    }
   ],
   "source": [
    "# get the best parameters\n",
    "knn_clf.best_params_"
   ]
  },
  {
   "cell_type": "code",
   "execution_count": 106,
   "metadata": {},
   "outputs": [],
   "source": [
    "# rebuild the model after resampling\n",
    "knn_clf = KNeighborsClassifier( n_neighbors = 5 )"
   ]
  },
  {
   "cell_type": "code",
   "execution_count": 107,
   "metadata": {},
   "outputs": [],
   "source": [
    "# Refitting the model on under sampled data\n",
    "knn_clf = knn_clf.fit(X_ros_train, y_ros_train)"
   ]
  },
  {
   "cell_type": "code",
   "execution_count": 108,
   "metadata": {},
   "outputs": [
    {
     "name": "stdout",
     "output_type": "stream",
     "text": [
      "0.8217340590979783\n",
      "0.7071197411003236\n"
     ]
    }
   ],
   "source": [
    "# get the model accuracy\n",
    "print(metrics.accuracy_score(y_ros_train, knn_clf.predict(X_ros_train)))\n",
    "print(metrics.accuracy_score(y_test, knn_clf.predict(X_test)))"
   ]
  },
  {
   "cell_type": "code",
   "execution_count": 109,
   "metadata": {},
   "outputs": [],
   "source": [
    "# get the probability score on training and testing\n",
    "train_predict_prob = pd.DataFrame(knn_clf.predict_proba(X_ros_train))[1]\n",
    "test_predict_prob = pd.DataFrame(knn_clf.predict_proba(X_test))[1]"
   ]
  },
  {
   "cell_type": "code",
   "execution_count": 110,
   "metadata": {},
   "outputs": [
    {
     "name": "stdout",
     "output_type": "stream",
     "text": [
      "0.9159000717138028\n",
      "0.7014305265901981\n"
     ]
    }
   ],
   "source": [
    "# get the model auc\n",
    "print(metrics.roc_auc_score(y_ros_train, train_predict_prob))\n",
    "print(metrics.roc_auc_score(y_test, test_predict_prob))"
   ]
  },
  {
   "cell_type": "code",
   "execution_count": 111,
   "metadata": {
    "scrolled": true
   },
   "outputs": [
    {
     "name": "stdout",
     "output_type": "stream",
     "text": [
      "              precision    recall  f1-score   support\n",
      "\n",
      "           0       0.93      0.72      0.81      1096\n",
      "           1       0.21      0.57      0.31       140\n",
      "\n",
      "    accuracy                           0.71      1236\n",
      "   macro avg       0.57      0.65      0.56      1236\n",
      "weighted avg       0.85      0.71      0.76      1236\n",
      "\n"
     ]
    }
   ],
   "source": [
    "print(classification_report(y_test, knn_clf.predict( X_test )))"
   ]
  },
  {
   "cell_type": "markdown",
   "metadata": {},
   "source": [
    "#### refit model after over-sampling (SMOTE)\n",
    "Synthetic Minority Oversampling TEchnique"
   ]
  },
  {
   "cell_type": "code",
   "execution_count": 112,
   "metadata": {
    "scrolled": true
   },
   "outputs": [
    {
     "name": "stdout",
     "output_type": "stream",
     "text": [
      "SMOTE dataset shape Counter({0: 2572, 1: 2572})\n"
     ]
    }
   ],
   "source": [
    "from imblearn.over_sampling import SMOTE\n",
    "\n",
    "smote = SMOTE(random_state = 500)\n",
    "X_smote_train, y_smote_train = smote.fit_resample(X_train, y_train)\n",
    "print('SMOTE dataset shape {}'.format(Counter(y_smote_train)))"
   ]
  },
  {
   "cell_type": "code",
   "execution_count": 113,
   "metadata": {},
   "outputs": [],
   "source": [
    "#set the tuning parameters (k) for grid search\n",
    "tuned_parameters = {'n_neighbors': range(1, 17, 2)}\n",
    "\n",
    "# build the KNN model\n",
    "knn_clf = GridSearchCV(KNeighborsClassifier( ),\n",
    "                   tuned_parameters,\n",
    "                   cv = 10,\n",
    "                   scoring = 'roc_auc').fit(X_smote_train, y_smote_train)"
   ]
  },
  {
   "cell_type": "code",
   "execution_count": 114,
   "metadata": {},
   "outputs": [
    {
     "data": {
      "text/plain": [
       "{'n_neighbors': 5}"
      ]
     },
     "execution_count": 114,
     "metadata": {},
     "output_type": "execute_result"
    }
   ],
   "source": [
    "# get the best parameters\n",
    "knn_clf.best_params_"
   ]
  },
  {
   "cell_type": "code",
   "execution_count": 115,
   "metadata": {},
   "outputs": [],
   "source": [
    "# rebuild the model after resampling\n",
    "knn_clf = KNeighborsClassifier( n_neighbors = 5 )"
   ]
  },
  {
   "cell_type": "code",
   "execution_count": 121,
   "metadata": {},
   "outputs": [],
   "source": [
    "# Refitting the model on under sampled data\n",
    "knn_clf = knn_clf.fit(X_smote_train, y_smote_train)"
   ]
  },
  {
   "cell_type": "code",
   "execution_count": 122,
   "metadata": {},
   "outputs": [
    {
     "name": "stdout",
     "output_type": "stream",
     "text": [
      "0.8812208398133748\n",
      "0.8325242718446602\n"
     ]
    }
   ],
   "source": [
    "# get the model accuracy\n",
    "print(metrics.accuracy_score(y_smote_train, knn_clf.predict(X_smote_train)))\n",
    "print(metrics.accuracy_score(y_test, knn_clf.predict(X_test)))"
   ]
  },
  {
   "cell_type": "code",
   "execution_count": 123,
   "metadata": {},
   "outputs": [],
   "source": [
    "# get the probability score on training and testing\n",
    "train_predict_prob = pd.DataFrame(knn_clf.predict_proba(X_smote_train))[1]\n",
    "test_predict_prob = pd.DataFrame(knn_clf.predict_proba(X_test))[1]"
   ]
  },
  {
   "cell_type": "code",
   "execution_count": 124,
   "metadata": {},
   "outputs": [
    {
     "name": "stdout",
     "output_type": "stream",
     "text": [
      "0.9521382927519476\n",
      "0.7096063607924923\n"
     ]
    }
   ],
   "source": [
    "# get the model auc\n",
    "print(metrics.roc_auc_score(y_smote_train, train_predict_prob))\n",
    "print(metrics.roc_auc_score(y_test, test_predict_prob))"
   ]
  },
  {
   "cell_type": "code",
   "execution_count": 125,
   "metadata": {},
   "outputs": [
    {
     "name": "stdout",
     "output_type": "stream",
     "text": [
      "              precision    recall  f1-score   support\n",
      "\n",
      "           0       0.93      0.88      0.90      1096\n",
      "           1       0.33      0.46      0.38       140\n",
      "\n",
      "    accuracy                           0.83      1236\n",
      "   macro avg       0.63      0.67      0.64      1236\n",
      "weighted avg       0.86      0.83      0.84      1236\n",
      "\n"
     ]
    }
   ],
   "source": [
    "print(classification_report(y_test, knn_clf.predict( X_test )))"
   ]
  },
  {
   "cell_type": "markdown",
   "metadata": {},
   "source": [
    "#### refit model after under over-sampling (SMOTETomek)"
   ]
  },
  {
   "cell_type": "code",
   "execution_count": 126,
   "metadata": {},
   "outputs": [
    {
     "name": "stdout",
     "output_type": "stream",
     "text": [
      "Under-Ovr SMOTETomek dataset shape Counter({0: 2523, 1: 2523})\n"
     ]
    }
   ],
   "source": [
    "from imblearn.combine import SMOTETomek   \n",
    "\n",
    "und_ovr = SMOTETomek(random_state =  555)\n",
    "X_und_ovr_train, y_und_ovr_train = und_ovr.fit_resample(X_train, y_train)\n",
    "print('Under-Ovr SMOTETomek dataset shape {}'.format(Counter(y_und_ovr_train)))"
   ]
  },
  {
   "cell_type": "code",
   "execution_count": 127,
   "metadata": {},
   "outputs": [],
   "source": [
    "#set the tuning parameters (k) for grid search\n",
    "tuned_parameters = {'n_neighbors': range(1, 17, 2)}\n",
    "\n",
    "# build the KNN model\n",
    "knn_clf = GridSearchCV(KNeighborsClassifier( ),\n",
    "                   tuned_parameters,\n",
    "                   cv = 10,\n",
    "                   scoring = 'roc_auc').fit(X_und_ovr_train, y_und_ovr_train)"
   ]
  },
  {
   "cell_type": "code",
   "execution_count": 128,
   "metadata": {},
   "outputs": [
    {
     "data": {
      "text/plain": [
       "{'n_neighbors': 5}"
      ]
     },
     "execution_count": 128,
     "metadata": {},
     "output_type": "execute_result"
    }
   ],
   "source": [
    "# get the best parameters\n",
    "knn_clf.best_params_"
   ]
  },
  {
   "cell_type": "code",
   "execution_count": 129,
   "metadata": {},
   "outputs": [],
   "source": [
    "# rebuild the model after resampling\n",
    "knn_clf = KNeighborsClassifier( n_neighbors = 5 )"
   ]
  },
  {
   "cell_type": "code",
   "execution_count": 132,
   "metadata": {},
   "outputs": [],
   "source": [
    "# Refitting the model on under sampled data\n",
    "knn_clf = knn_clf.fit(X_und_ovr_train, y_und_ovr_train)"
   ]
  },
  {
   "cell_type": "code",
   "execution_count": 133,
   "metadata": {},
   "outputs": [
    {
     "name": "stdout",
     "output_type": "stream",
     "text": [
      "0.8834720570749108\n",
      "0.8333333333333334\n"
     ]
    }
   ],
   "source": [
    "# get the model accuracy\n",
    "print(metrics.accuracy_score(y_und_ovr_train, knn_clf.predict(X_und_ovr_train)))\n",
    "print(metrics.accuracy_score(y_test, knn_clf.predict(X_test)))"
   ]
  },
  {
   "cell_type": "code",
   "execution_count": 134,
   "metadata": {},
   "outputs": [],
   "source": [
    "# get the probability score on training and testing\n",
    "train_predict_prob = pd.DataFrame(knn_clf.predict_proba(X_und_ovr_train))[1]\n",
    "test_predict_prob = pd.DataFrame(knn_clf.predict_proba(X_test))[1]"
   ]
  },
  {
   "cell_type": "code",
   "execution_count": 136,
   "metadata": {},
   "outputs": [
    {
     "name": "stdout",
     "output_type": "stream",
     "text": [
      "0.9582130566053505\n",
      "0.7286463764337853\n"
     ]
    }
   ],
   "source": [
    "# get the model auc\n",
    "print(metrics.roc_auc_score(y_und_ovr_train, train_predict_prob))\n",
    "print(metrics.roc_auc_score(y_test, test_predict_prob))"
   ]
  },
  {
   "cell_type": "code",
   "execution_count": 137,
   "metadata": {},
   "outputs": [
    {
     "name": "stdout",
     "output_type": "stream",
     "text": [
      "              precision    recall  f1-score   support\n",
      "\n",
      "           0       0.93      0.88      0.90      1096\n",
      "           1       0.34      0.50      0.40       140\n",
      "\n",
      "    accuracy                           0.83      1236\n",
      "   macro avg       0.64      0.69      0.65      1236\n",
      "weighted avg       0.86      0.83      0.85      1236\n",
      "\n"
     ]
    }
   ],
   "source": [
    "print(classification_report(y_test, knn_clf.predict( X_test )))"
   ]
  },
  {
   "cell_type": "code",
   "execution_count": null,
   "metadata": {},
   "outputs": [],
   "source": []
  }
 ],
 "metadata": {
  "kernelspec": {
   "display_name": "Python 3",
   "language": "python",
   "name": "python3"
  },
  "language_info": {
   "codemirror_mode": {
    "name": "ipython",
    "version": 3
   },
   "file_extension": ".py",
   "mimetype": "text/x-python",
   "name": "python",
   "nbconvert_exporter": "python",
   "pygments_lexer": "ipython3",
   "version": "3.8.8"
  }
 },
 "nbformat": 4,
 "nbformat_minor": 2
}
