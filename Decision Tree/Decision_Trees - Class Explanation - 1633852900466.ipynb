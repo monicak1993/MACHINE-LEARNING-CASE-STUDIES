{
 "cells": [
  {
   "cell_type": "markdown",
   "metadata": {},
   "source": [
    "# Decision Trees"
   ]
  },
  {
   "cell_type": "markdown",
   "metadata": {},
   "source": [
    "Why are we learning about decision trees?\n",
    "\n",
    "- Can be applied to both regression and classification problems\n",
    "- Many useful properties\n",
    "- Very popular\n",
    "- Basis for more sophisticated models\n",
    "- Have a different way of \"thinking\" than the other models we have studied"
   ]
  },
  {
   "cell_type": "markdown",
   "metadata": {},
   "source": [
    "## Lesson objectives\n",
    "\n",
    "Students will be able to:\n",
    "\n",
    "- Explain how a decision tree is created\n",
    "- Build a decision tree model in scikit-learn\n",
    "- Tune a decision tree model and explain how tuning impacts the model\n",
    "- Interpret a tree diagram\n",
    "- Describe the key differences between regression and classification trees\n",
    "- Decide whether a decision tree is an appropriate model for a given problem"
   ]
  },
  {
   "cell_type": "markdown",
   "metadata": {},
   "source": [
    "# Part 1: Regression trees\n",
    "\n",
    "Major League Baseball player data from 1986-87:\n",
    "\n",
    "- **Years** (x-axis): number of years playing in the major leagues\n",
    "- **Hits** (y-axis): number of hits in the previous year\n",
    "- **Salary** (color): low salary is blue/green, high salary is red/yellow"
   ]
  },
  {
   "cell_type": "markdown",
   "metadata": {},
   "source": [
    "![Salary data](images/salary_color.png)"
   ]
  },
  {
   "cell_type": "markdown",
   "metadata": {},
   "source": [
    "Exercise:\n",
    "\n",
    "- The data above is our **training data**.\n",
    "- We want to build a model that predicts the Salary of **future players** based on Years and Hits.\n",
    "- We are going to \"segment\" the feature space into regions, and then use the **mean Salary in each region** as the predicted Salary for future players.\n",
    "- Intuitively, you want to **maximize** the similarity (or \"homogeneity\") within a given region, and **minimize** the similarity between different regions.\n",
    "\n",
    "Rules for segmenting:\n",
    "\n",
    "- You can only use **straight lines**, drawn one at a time.\n",
    "- Your line must either be **vertical or horizontal**.\n",
    "- Your line **stops** when it hits an existing line."
   ]
  },
  {
   "cell_type": "markdown",
   "metadata": {},
   "source": [
    "![Salary regions](images/salary_regions.png)"
   ]
  },
  {
   "cell_type": "markdown",
   "metadata": {},
   "source": [
    "Above are the regions created by a computer:\n",
    "\n",
    "- $R_1$: players with **less than 5 years** of experience, mean Salary of **\\$166,000 **\n",
    "- $R_2$: players with **5 or more years** of experience and **less than 118 hits**, mean Salary of **\\$403,000 **\n",
    "- $R_3$: players with **5 or more years** of experience and **118 hits or more**, mean Salary of **\\$846,000 **\n",
    "\n",
    "**Note:** Years and Hits are both integers, but the convention is to use the **midpoint** between adjacent values to label a split.\n",
    "\n",
    "These regions are used to make predictions on **out-of-sample data**. Thus, there are only three possible predictions! (Is this different from how **linear regression** makes predictions?)\n",
    "\n",
    "Below is the equivalent regression tree:"
   ]
  },
  {
   "cell_type": "markdown",
   "metadata": {},
   "source": [
    "![Salary tree](images/salary_tree.png)"
   ]
  },
  {
   "cell_type": "markdown",
   "metadata": {},
   "source": [
    "The first split is **Years < 4.5**, thus that split goes at the top of the tree. When a splitting rule is **True**, you follow the left branch. When a splitting rule is **False**, you follow the right branch.\n",
    "\n",
    "For players in the **left branch**, the mean Salary is \\$166,000, thus you label it with that value. (Salary has been divided by 1000 and log-transformed to 5.11.)\n",
    "\n",
    "For players in the **right branch**, there is a further split on **Hits < 117.5**, dividing players into two more Salary regions: \\$403,000 (transformed to 6.00), and \\$846,000 (transformed to 6.74)."
   ]
  },
  {
   "cell_type": "markdown",
   "metadata": {},
   "source": [
    "![Salary tree annotated](images/salary_tree_annotated.png)"
   ]
  },
  {
   "cell_type": "markdown",
   "metadata": {},
   "source": [
    "**What does this tree tell you about your data?**\n",
    "\n",
    "- Years is the most important factor determining Salary, with a lower number of Years corresponding to a lower Salary.\n",
    "- For a player with a lower number of Years, Hits is not an important factor determining Salary.\n",
    "- For a player with a higher number of Years, Hits is an important factor determining Salary, with a greater number of Hits corresponding to a higher Salary.\n",
    "\n",
    "**Question:** What do you like and dislike about decision trees so far?"
   ]
  },
  {
   "cell_type": "markdown",
   "metadata": {},
   "source": [
    "## Building a regression tree by hand\n",
    "\n",
    "Your **training data** is a tiny dataset of [used vehicle sale prices](https://raw.githubusercontent.com/justmarkham/DAT8/master/data/vehicles_train.csv). Your goal is to **predict price** for testing data.\n",
    "\n",
    "1. Read the data into a Pandas DataFrame.\n",
    "2. Explore the data by sorting, plotting, or split-apply-combine (aka `group_by`).\n",
    "3. Decide which feature is the most important predictor, and use that to create your first splitting rule.\n",
    "    - Only binary splits are allowed.\n",
    "4. After making your first split, split your DataFrame into two parts, and then explore each part to figure out what other splits to make.\n",
    "5. Stop making splits once you are convinced that it strikes a good balance between underfitting and overfitting.\n",
    "    - Your goal is to build a model that generalizes well.\n",
    "    - You are allowed to split on the same variable multiple times!\n",
    "6. Draw your tree, labeling the leaves with the mean price for the observations in that region.\n",
    "    - Make sure nothing is backwards: You follow the **left branch** if the rule is true, and the **right branch** if the rule is false."
   ]
  },
  {
   "cell_type": "markdown",
   "metadata": {},
   "source": [
    "## How does a computer build a regression tree?\n",
    "\n",
    "**Ideal approach:** Consider every possible partition of the feature space (computationally infeasible)\n",
    "\n",
    "**\"Good enough\" approach:** recursive binary splitting\n",
    "\n",
    "1. Begin at the top of the tree.\n",
    "2. For **every feature**, examine **every possible cutpoint**, and choose the feature and cutpoint such that the resulting tree has the lowest possible mean squared error (MSE). Make that split.\n",
    "3. Examine the two resulting regions, and again make a **single split** (in one of the regions) to minimize the MSE.\n",
    "4. Keep repeating step 3 until a **stopping criterion** is met:\n",
    "    - maximum tree depth (maximum number of splits required to arrive at a leaf)\n",
    "    - minimum number of observations in a leaf"
   ]
  },
  {
   "cell_type": "markdown",
   "metadata": {},
   "source": [
    "### Demo: Choosing the ideal cutpoint for a given feature"
   ]
  },
  {
   "cell_type": "code",
   "execution_count": 1,
   "metadata": {},
   "outputs": [],
   "source": [
    "import pandas as pd"
   ]
  },
  {
   "cell_type": "code",
   "execution_count": 2,
   "metadata": {},
   "outputs": [],
   "source": [
    "# vehicle data\n",
    "url = 'vehicles_train.csv'\n",
    "train = pd.read_csv(url)"
   ]
  },
  {
   "cell_type": "code",
   "execution_count": 4,
   "metadata": {},
   "outputs": [
    {
     "name": "stdout",
     "output_type": "stream",
     "text": [
      "<class 'pandas.core.frame.DataFrame'>\n",
      "RangeIndex: 14 entries, 0 to 13\n",
      "Data columns (total 5 columns):\n",
      " #   Column  Non-Null Count  Dtype \n",
      "---  ------  --------------  ----- \n",
      " 0   price   14 non-null     int64 \n",
      " 1   year    14 non-null     int64 \n",
      " 2   miles   14 non-null     int64 \n",
      " 3   doors   14 non-null     int64 \n",
      " 4   vtype   14 non-null     object\n",
      "dtypes: int64(4), object(1)\n",
      "memory usage: 688.0+ bytes\n"
     ]
    }
   ],
   "source": [
    "train.info()"
   ]
  },
  {
   "cell_type": "code",
   "execution_count": 6,
   "metadata": {},
   "outputs": [
    {
     "data": {
      "text/html": [
       "<div>\n",
       "<style scoped>\n",
       "    .dataframe tbody tr th:only-of-type {\n",
       "        vertical-align: middle;\n",
       "    }\n",
       "\n",
       "    .dataframe tbody tr th {\n",
       "        vertical-align: top;\n",
       "    }\n",
       "\n",
       "    .dataframe thead th {\n",
       "        text-align: right;\n",
       "    }\n",
       "</style>\n",
       "<table border=\"1\" class=\"dataframe\">\n",
       "  <thead>\n",
       "    <tr style=\"text-align: right;\">\n",
       "      <th></th>\n",
       "      <th>price</th>\n",
       "      <th>year</th>\n",
       "      <th>miles</th>\n",
       "      <th>doors</th>\n",
       "      <th>vtype</th>\n",
       "    </tr>\n",
       "  </thead>\n",
       "  <tbody>\n",
       "    <tr>\n",
       "      <th>0</th>\n",
       "      <td>22000</td>\n",
       "      <td>2012</td>\n",
       "      <td>13000</td>\n",
       "      <td>2</td>\n",
       "      <td>car</td>\n",
       "    </tr>\n",
       "    <tr>\n",
       "      <th>1</th>\n",
       "      <td>14000</td>\n",
       "      <td>2010</td>\n",
       "      <td>30000</td>\n",
       "      <td>2</td>\n",
       "      <td>car</td>\n",
       "    </tr>\n",
       "    <tr>\n",
       "      <th>2</th>\n",
       "      <td>13000</td>\n",
       "      <td>2010</td>\n",
       "      <td>73500</td>\n",
       "      <td>4</td>\n",
       "      <td>car</td>\n",
       "    </tr>\n",
       "    <tr>\n",
       "      <th>3</th>\n",
       "      <td>9500</td>\n",
       "      <td>2009</td>\n",
       "      <td>78000</td>\n",
       "      <td>4</td>\n",
       "      <td>car</td>\n",
       "    </tr>\n",
       "    <tr>\n",
       "      <th>4</th>\n",
       "      <td>9000</td>\n",
       "      <td>2007</td>\n",
       "      <td>47000</td>\n",
       "      <td>4</td>\n",
       "      <td>car</td>\n",
       "    </tr>\n",
       "    <tr>\n",
       "      <th>5</th>\n",
       "      <td>4000</td>\n",
       "      <td>2006</td>\n",
       "      <td>124000</td>\n",
       "      <td>2</td>\n",
       "      <td>car</td>\n",
       "    </tr>\n",
       "    <tr>\n",
       "      <th>6</th>\n",
       "      <td>3000</td>\n",
       "      <td>2004</td>\n",
       "      <td>177000</td>\n",
       "      <td>4</td>\n",
       "      <td>car</td>\n",
       "    </tr>\n",
       "    <tr>\n",
       "      <th>7</th>\n",
       "      <td>2000</td>\n",
       "      <td>2004</td>\n",
       "      <td>209000</td>\n",
       "      <td>4</td>\n",
       "      <td>truck</td>\n",
       "    </tr>\n",
       "    <tr>\n",
       "      <th>8</th>\n",
       "      <td>3000</td>\n",
       "      <td>2003</td>\n",
       "      <td>138000</td>\n",
       "      <td>2</td>\n",
       "      <td>car</td>\n",
       "    </tr>\n",
       "    <tr>\n",
       "      <th>9</th>\n",
       "      <td>1900</td>\n",
       "      <td>2003</td>\n",
       "      <td>160000</td>\n",
       "      <td>4</td>\n",
       "      <td>car</td>\n",
       "    </tr>\n",
       "    <tr>\n",
       "      <th>10</th>\n",
       "      <td>2500</td>\n",
       "      <td>2003</td>\n",
       "      <td>190000</td>\n",
       "      <td>2</td>\n",
       "      <td>truck</td>\n",
       "    </tr>\n",
       "    <tr>\n",
       "      <th>11</th>\n",
       "      <td>5000</td>\n",
       "      <td>2001</td>\n",
       "      <td>62000</td>\n",
       "      <td>4</td>\n",
       "      <td>car</td>\n",
       "    </tr>\n",
       "    <tr>\n",
       "      <th>12</th>\n",
       "      <td>1800</td>\n",
       "      <td>1999</td>\n",
       "      <td>163000</td>\n",
       "      <td>2</td>\n",
       "      <td>truck</td>\n",
       "    </tr>\n",
       "    <tr>\n",
       "      <th>13</th>\n",
       "      <td>1300</td>\n",
       "      <td>1997</td>\n",
       "      <td>138000</td>\n",
       "      <td>4</td>\n",
       "      <td>car</td>\n",
       "    </tr>\n",
       "  </tbody>\n",
       "</table>\n",
       "</div>"
      ],
      "text/plain": [
       "    price  year   miles  doors  vtype\n",
       "0   22000  2012   13000      2    car\n",
       "1   14000  2010   30000      2    car\n",
       "2   13000  2010   73500      4    car\n",
       "3    9500  2009   78000      4    car\n",
       "4    9000  2007   47000      4    car\n",
       "5    4000  2006  124000      2    car\n",
       "6    3000  2004  177000      4    car\n",
       "7    2000  2004  209000      4  truck\n",
       "8    3000  2003  138000      2    car\n",
       "9    1900  2003  160000      4    car\n",
       "10   2500  2003  190000      2  truck\n",
       "11   5000  2001   62000      4    car\n",
       "12   1800  1999  163000      2  truck\n",
       "13   1300  1997  138000      4    car"
      ]
     },
     "execution_count": 6,
     "metadata": {},
     "output_type": "execute_result"
    }
   ],
   "source": [
    "train"
   ]
  },
  {
   "cell_type": "code",
   "execution_count": 7,
   "metadata": {},
   "outputs": [
    {
     "data": {
      "text/plain": [
       "<AxesSubplot:>"
      ]
     },
     "execution_count": 7,
     "metadata": {},
     "output_type": "execute_result"
    },
    {
     "data": {
      "image/png": "[encoded data removed]",
      "text/plain": [
       "<Figure size 432x288 with 1 Axes>"
      ]
     },
     "metadata": {
      "needs_background": "light"
     },
     "output_type": "display_data"
    }
   ],
   "source": [
    "train.price.hist()"
   ]
  },
  {
   "cell_type": "code",
   "execution_count": 8,
   "metadata": {},
   "outputs": [
    {
     "data": {
      "text/plain": [
       "6571.428571428572"
      ]
     },
     "execution_count": 8,
     "metadata": {},
     "output_type": "execute_result"
    }
   ],
   "source": [
    "train.price.mean()"
   ]
  },
  {
   "cell_type": "code",
   "execution_count": 9,
   "metadata": {},
   "outputs": [
    {
     "data": {
      "text/html": [
       "<div>\n",
       "<style scoped>\n",
       "    .dataframe tbody tr th:only-of-type {\n",
       "        vertical-align: middle;\n",
       "    }\n",
       "\n",
       "    .dataframe tbody tr th {\n",
       "        vertical-align: top;\n",
       "    }\n",
       "\n",
       "    .dataframe thead th {\n",
       "        text-align: right;\n",
       "    }\n",
       "</style>\n",
       "<table border=\"1\" class=\"dataframe\">\n",
       "  <thead>\n",
       "    <tr style=\"text-align: right;\">\n",
       "      <th></th>\n",
       "      <th>price</th>\n",
       "      <th>year</th>\n",
       "      <th>miles</th>\n",
       "      <th>doors</th>\n",
       "      <th>vtype</th>\n",
       "      <th>prediction</th>\n",
       "    </tr>\n",
       "  </thead>\n",
       "  <tbody>\n",
       "    <tr>\n",
       "      <th>0</th>\n",
       "      <td>22000</td>\n",
       "      <td>2012</td>\n",
       "      <td>13000</td>\n",
       "      <td>2</td>\n",
       "      <td>car</td>\n",
       "      <td>6571.428571</td>\n",
       "    </tr>\n",
       "    <tr>\n",
       "      <th>1</th>\n",
       "      <td>14000</td>\n",
       "      <td>2010</td>\n",
       "      <td>30000</td>\n",
       "      <td>2</td>\n",
       "      <td>car</td>\n",
       "      <td>6571.428571</td>\n",
       "    </tr>\n",
       "    <tr>\n",
       "      <th>2</th>\n",
       "      <td>13000</td>\n",
       "      <td>2010</td>\n",
       "      <td>73500</td>\n",
       "      <td>4</td>\n",
       "      <td>car</td>\n",
       "      <td>6571.428571</td>\n",
       "    </tr>\n",
       "    <tr>\n",
       "      <th>3</th>\n",
       "      <td>9500</td>\n",
       "      <td>2009</td>\n",
       "      <td>78000</td>\n",
       "      <td>4</td>\n",
       "      <td>car</td>\n",
       "      <td>6571.428571</td>\n",
       "    </tr>\n",
       "    <tr>\n",
       "      <th>4</th>\n",
       "      <td>9000</td>\n",
       "      <td>2007</td>\n",
       "      <td>47000</td>\n",
       "      <td>4</td>\n",
       "      <td>car</td>\n",
       "      <td>6571.428571</td>\n",
       "    </tr>\n",
       "    <tr>\n",
       "      <th>5</th>\n",
       "      <td>4000</td>\n",
       "      <td>2006</td>\n",
       "      <td>124000</td>\n",
       "      <td>2</td>\n",
       "      <td>car</td>\n",
       "      <td>6571.428571</td>\n",
       "    </tr>\n",
       "    <tr>\n",
       "      <th>6</th>\n",
       "      <td>3000</td>\n",
       "      <td>2004</td>\n",
       "      <td>177000</td>\n",
       "      <td>4</td>\n",
       "      <td>car</td>\n",
       "      <td>6571.428571</td>\n",
       "    </tr>\n",
       "    <tr>\n",
       "      <th>7</th>\n",
       "      <td>2000</td>\n",
       "      <td>2004</td>\n",
       "      <td>209000</td>\n",
       "      <td>4</td>\n",
       "      <td>truck</td>\n",
       "      <td>6571.428571</td>\n",
       "    </tr>\n",
       "    <tr>\n",
       "      <th>8</th>\n",
       "      <td>3000</td>\n",
       "      <td>2003</td>\n",
       "      <td>138000</td>\n",
       "      <td>2</td>\n",
       "      <td>car</td>\n",
       "      <td>6571.428571</td>\n",
       "    </tr>\n",
       "    <tr>\n",
       "      <th>9</th>\n",
       "      <td>1900</td>\n",
       "      <td>2003</td>\n",
       "      <td>160000</td>\n",
       "      <td>4</td>\n",
       "      <td>car</td>\n",
       "      <td>6571.428571</td>\n",
       "    </tr>\n",
       "    <tr>\n",
       "      <th>10</th>\n",
       "      <td>2500</td>\n",
       "      <td>2003</td>\n",
       "      <td>190000</td>\n",
       "      <td>2</td>\n",
       "      <td>truck</td>\n",
       "      <td>6571.428571</td>\n",
       "    </tr>\n",
       "    <tr>\n",
       "      <th>11</th>\n",
       "      <td>5000</td>\n",
       "      <td>2001</td>\n",
       "      <td>62000</td>\n",
       "      <td>4</td>\n",
       "      <td>car</td>\n",
       "      <td>6571.428571</td>\n",
       "    </tr>\n",
       "    <tr>\n",
       "      <th>12</th>\n",
       "      <td>1800</td>\n",
       "      <td>1999</td>\n",
       "      <td>163000</td>\n",
       "      <td>2</td>\n",
       "      <td>truck</td>\n",
       "      <td>6571.428571</td>\n",
       "    </tr>\n",
       "    <tr>\n",
       "      <th>13</th>\n",
       "      <td>1300</td>\n",
       "      <td>1997</td>\n",
       "      <td>138000</td>\n",
       "      <td>4</td>\n",
       "      <td>car</td>\n",
       "      <td>6571.428571</td>\n",
       "    </tr>\n",
       "  </tbody>\n",
       "</table>\n",
       "</div>"
      ],
      "text/plain": [
       "    price  year   miles  doors  vtype   prediction\n",
       "0   22000  2012   13000      2    car  6571.428571\n",
       "1   14000  2010   30000      2    car  6571.428571\n",
       "2   13000  2010   73500      4    car  6571.428571\n",
       "3    9500  2009   78000      4    car  6571.428571\n",
       "4    9000  2007   47000      4    car  6571.428571\n",
       "5    4000  2006  124000      2    car  6571.428571\n",
       "6    3000  2004  177000      4    car  6571.428571\n",
       "7    2000  2004  209000      4  truck  6571.428571\n",
       "8    3000  2003  138000      2    car  6571.428571\n",
       "9    1900  2003  160000      4    car  6571.428571\n",
       "10   2500  2003  190000      2  truck  6571.428571\n",
       "11   5000  2001   62000      4    car  6571.428571\n",
       "12   1800  1999  163000      2  truck  6571.428571\n",
       "13   1300  1997  138000      4    car  6571.428571"
      ]
     },
     "execution_count": 9,
     "metadata": {},
     "output_type": "execute_result"
    }
   ],
   "source": [
    "# before splitting anything, just predict the mean of the entire dataset\n",
    "train['prediction'] = train.price.mean()\n",
    "train"
   ]
  },
  {
   "cell_type": "code",
   "execution_count": 10,
   "metadata": {},
   "outputs": [],
   "source": [
    "import numpy as np\n",
    "from sklearn.metrics import mean_squared_error"
   ]
  },
  {
   "cell_type": "code",
   "execution_count": 11,
   "metadata": {},
   "outputs": [
    {
     "name": "stdout",
     "output_type": "stream",
     "text": [
      "RMSE: 5936.981985995983\n"
     ]
    }
   ],
   "source": [
    "# MSE or RMSE\n",
    "print('RMSE:', np.sqrt(mean_squared_error( train.price, train.prediction )))"
   ]
  },
  {
   "cell_type": "markdown",
   "metadata": {},
   "source": [
    "#### split the data (price) based n miles >= 80k and < 80k"
   ]
  },
  {
   "cell_type": "code",
   "execution_count": 17,
   "metadata": {},
   "outputs": [
    {
     "name": "stdout",
     "output_type": "stream",
     "text": [
      "RMSE: 3530.146530076269\n"
     ]
    }
   ],
   "source": [
    "# Method 1:\n",
    "v1 = train.loc[ train.miles >= 80000, 'price' ].mean()\n",
    "v2 = train.loc[ train.miles < 80000, 'price' ].mean()\n",
    "\n",
    "# create a new predicted column\n",
    "train['y_pred1'] = pd.Series( np.where( train.miles >= 80000, v1, v2 ) )\n",
    "\n",
    "# get the MSE\n",
    "print('RMSE:', np.sqrt(mean_squared_error( train.price, train.y_pred1 )))"
   ]
  },
  {
   "cell_type": "code",
   "execution_count": 28,
   "metadata": {},
   "outputs": [],
   "source": [
    "# define a function that calculates the RMSE for a given split of miles\n",
    "def mileage_split( miles ):\n",
    "    \n",
    "    lower_mileage_price = train[train.miles < miles].price.mean()\n",
    "    higher_mileage_price = train[train.miles >= miles].price.mean()\n",
    "    train['prediction'] = np.where(train.miles < miles, lower_mileage_price, higher_mileage_price)\n",
    "    \n",
    "    return np.sqrt(mean_squared_error(train.price, train.prediction)).round(1)"
   ]
  },
  {
   "cell_type": "code",
   "execution_count": 19,
   "metadata": {},
   "outputs": [
    {
     "name": "stdout",
     "output_type": "stream",
     "text": [
      "RMSE: 3984.0917425414564\n"
     ]
    }
   ],
   "source": [
    "# calculate RMSE for tree which splits on miles < 50000\n",
    "print ('RMSE:', mileage_split(50000))"
   ]
  },
  {
   "cell_type": "code",
   "execution_count": 20,
   "metadata": {},
   "outputs": [
    {
     "name": "stdout",
     "output_type": "stream",
     "text": [
      "RMSE: 4603.104542433446\n"
     ]
    }
   ],
   "source": [
    "# calculate RMSE for tree which splits on miles < 70000\n",
    "print('RMSE:', mileage_split(70000))"
   ]
  },
  {
   "cell_type": "code",
   "execution_count": 21,
   "metadata": {},
   "outputs": [
    {
     "name": "stdout",
     "output_type": "stream",
     "text": [
      "RMSE: 3530.146530076269\n"
     ]
    }
   ],
   "source": [
    "# calculate RMSE for tree which splits on miles < 100000\n",
    "print('RMSE:', mileage_split(100000))"
   ]
  },
  {
   "cell_type": "code",
   "execution_count": 24,
   "metadata": {},
   "outputs": [
    {
     "name": "stdout",
     "output_type": "stream",
     "text": [
      "[13000, 14000, 15000, 16000, 17000, 18000, 19000, 20000, 21000, 22000, 23000, 24000, 25000, 26000, 27000, 28000, 29000, 30000, 31000, 32000, 33000, 34000, 35000, 36000, 37000, 38000, 39000, 40000, 41000, 42000, 43000, 44000, 45000, 46000, 47000, 48000, 49000, 50000, 51000, 52000, 53000, 54000, 55000, 56000, 57000, 58000, 59000, 60000, 61000, 62000, 63000, 64000, 65000, 66000, 67000, 68000, 69000, 70000, 71000, 72000, 73000, 74000, 75000, 76000, 77000, 78000, 79000, 80000, 81000, 82000, 83000, 84000, 85000, 86000, 87000, 88000, 89000, 90000, 91000, 92000, 93000, 94000, 95000, 96000, 97000, 98000, 99000, 100000, 101000, 102000, 103000, 104000, 105000, 106000, 107000, 108000, 109000, 110000, 111000, 112000, 113000, 114000, 115000, 116000, 117000, 118000, 119000, 120000, 121000, 122000, 123000, 124000, 125000, 126000, 127000, 128000, 129000, 130000, 131000, 132000, 133000, 134000, 135000, 136000, 137000, 138000, 139000, 140000, 141000, 142000, 143000, 144000, 145000, 146000, 147000, 148000, 149000, 150000, 151000, 152000, 153000, 154000, 155000, 156000, 157000, 158000, 159000, 160000, 161000, 162000, 163000, 164000, 165000, 166000, 167000, 168000, 169000, 170000, 171000, 172000, 173000, 174000, 175000, 176000, 177000, 178000, 179000, 180000, 181000, 182000, 183000, 184000, 185000, 186000, 187000, 188000, 189000, 190000, 191000, 192000, 193000, 194000, 195000, 196000, 197000, 198000, 199000, 200000, 201000, 202000, 203000, 204000, 205000, 206000, 207000, 208000]\n"
     ]
    }
   ],
   "source": [
    "print( list(range( train.miles.min(), train.miles.max(), 1000 )) )"
   ]
  },
  {
   "cell_type": "code",
   "execution_count": 29,
   "metadata": {},
   "outputs": [],
   "source": [
    "# check all possible mileage splits\n",
    "mileage_range = range( train.miles.min(), train.miles.max(), 1000 )\n",
    "RMSE = [mileage_split(miles) for miles in mileage_range]"
   ]
  },
  {
   "cell_type": "code",
   "execution_count": 30,
   "metadata": {},
   "outputs": [
    {
     "name": "stdout",
     "output_type": "stream",
     "text": [
      "[5937.0, 4115.4, 4115.4, 4115.4, 4115.4, 4115.4, 4115.4, 4115.4, 4115.4, 4115.4, 4115.4, 4115.4, 4115.4, 4115.4, 4115.4, 4115.4, 4115.4, 4115.4, 3671.4, 3671.4, 3671.4, 3671.4, 3671.4, 3671.4, 3671.4, 3671.4, 3671.4, 3671.4, 3671.4, 3671.4, 3671.4, 3671.4, 3671.4, 3671.4, 3671.4, 3984.1, 3984.1, 3984.1, 3984.1, 3984.1, 3984.1, 3984.1, 3984.1, 3984.1, 3984.1, 3984.1, 3984.1, 3984.1, 3984.1, 3984.1, 4603.1, 4603.1, 4603.1, 4603.1, 4603.1, 4603.1, 4603.1, 4603.1, 4603.1, 4603.1, 4603.1, 3880.3, 3880.3, 3880.3, 3880.3, 3880.3, 3530.1, 3530.1, 3530.1, 3530.1, 3530.1, 3530.1, 3530.1, 3530.1, 3530.1, 3530.1, 3530.1, 3530.1, 3530.1, 3530.1, 3530.1, 3530.1, 3530.1, 3530.1, 3530.1, 3530.1, 3530.1, 3530.1, 3530.1, 3530.1, 3530.1, 3530.1, 3530.1, 3530.1, 3530.1, 3530.1, 3530.1, 3530.1, 3530.1, 3530.1, 3530.1, 3530.1, 3530.1, 3530.1, 3530.1, 3530.1, 3530.1, 3530.1, 3530.1, 3530.1, 3530.1, 3530.1, 4032.7, 4032.7, 4032.7, 4032.7, 4032.7, 4032.7, 4032.7, 4032.7, 4032.7, 4032.7, 4032.7, 4032.7, 4032.7, 4032.7, 4982.5, 4982.5, 4982.5, 4982.5, 4982.5, 4982.5, 4982.5, 4982.5, 4982.5, 4982.5, 4982.5, 4982.5, 4982.5, 4982.5, 4982.5, 4982.5, 4982.5, 4982.5, 4982.5, 4982.5, 4982.5, 4982.5, 5294.8, 5294.8, 5294.8, 5543.2, 5543.2, 5543.2, 5543.2, 5543.2, 5543.2, 5543.2, 5543.2, 5543.2, 5543.2, 5543.2, 5543.2, 5543.2, 5543.2, 5668.8, 5668.8, 5668.8, 5668.8, 5668.8, 5668.8, 5668.8, 5668.8, 5668.8, 5668.8, 5668.8, 5668.8, 5668.8, 5800.0, 5800.0, 5800.0, 5800.0, 5800.0, 5800.0, 5800.0, 5800.0, 5800.0, 5800.0, 5800.0, 5800.0, 5800.0, 5800.0, 5800.0, 5800.0, 5800.0, 5800.0]\n"
     ]
    }
   ],
   "source": [
    "print( RMSE )"
   ]
  },
  {
   "cell_type": "code",
   "execution_count": 31,
   "metadata": {},
   "outputs": [],
   "source": [
    "# allow plots to appear in the notebook\n",
    "import matplotlib.pyplot as plt\n",
    "plt.rcParams['figure.figsize'] = (6, 4)\n",
    "plt.rcParams['font.size'] = 14"
   ]
  },
  {
   "cell_type": "code",
   "execution_count": 32,
   "metadata": {},
   "outputs": [
    {
     "data": {
      "application/javascript": [
       "/* Put everything inside the global mpl namespace */\n",
       "/* global mpl */\n",
       "window.mpl = {};\n",
       "\n",
       "mpl.get_websocket_type = function () {\n",
       "    if (typeof WebSocket !== 'undefined') {\n",
       "        return WebSocket;\n",
       "    } else if (typeof MozWebSocket !== 'undefined') {\n",
       "        return MozWebSocket;\n",
       "    } else {\n",
       "        alert(\n",
       "            'Your browser does not have WebSocket support. ' +\n",
       "                'Please try Chrome, Safari or Firefox ≥ 6. ' +\n",
       "                'Firefox 4 and 5 are also supported but you ' +\n",
       "                'have to enable WebSockets in about:config.'\n",
       "        );\n",
       "    }\n",
       "};\n",
       "\n",
       "mpl.figure = function (figure_id, websocket, ondownload, parent_element) {\n",
       "    this.id = figure_id;\n",
       "\n",
       "    this.ws = websocket;\n",
       "\n",
       "    this.supports_binary = this.ws.binaryType !== undefined;\n",
       "\n",
       "    if (!this.supports_binary) {\n",
       "        var warnings = document.getElementById('mpl-warnings');\n",
       "        if (warnings) {\n",
       "            warnings.style.display = 'block';\n",
       "            warnings.textContent =\n",
       "                'This browser does not support binary websocket messages. ' +\n",
       "                'Performance may be slow.';\n",
       "        }\n",
       "    }\n",
       "\n",
       "    this.imageObj = new Image();\n",
       "\n",
       "    this.context = undefined;\n",
       "    this.message = undefined;\n",
       "    this.canvas = undefined;\n",
       "    this.rubberband_canvas = undefined;\n",
       "    this.rubberband_context = undefined;\n",
       "    this.format_dropdown = undefined;\n",
       "\n",
       "    this.image_mode = 'full';\n",
       "\n",
       "    this.root = document.createElement('div');\n",
       "    this.root.setAttribute('style', 'display: inline-block');\n",
       "    this._root_extra_style(this.root);\n",
       "\n",
       "    parent_element.appendChild(this.root);\n",
       "\n",
       "    this._init_header(this);\n",
       "    this._init_canvas(this);\n",
       "    this._init_toolbar(this);\n",
       "\n",
       "    var fig = this;\n",
       "\n",
       "    this.waiting = false;\n",
       "\n",
       "    this.ws.onopen = function () {\n",
       "        fig.send_message('supports_binary', { value: fig.supports_binary });\n",
       "        fig.send_message('send_image_mode', {});\n",
       "        if (fig.ratio !== 1) {\n",
       "            fig.send_message('set_dpi_ratio', { dpi_ratio: fig.ratio });\n",
       "        }\n",
       "        fig.send_message('refresh', {});\n",
       "    };\n",
       "\n",
       "    this.imageObj.onload = function () {\n",
       "        if (fig.image_mode === 'full') {\n",
       "            // Full images could contain transparency (where diff images\n",
       "            // almost always do), so we need to clear the canvas so that\n",
       "            // there is no ghosting.\n",
       "            fig.context.clearRect(0, 0, fig.canvas.width, fig.canvas.height);\n",
       "        }\n",
       "        fig.context.drawImage(fig.imageObj, 0, 0);\n",
       "    };\n",
       "\n",
       "    this.imageObj.onunload = function () {\n",
       "        fig.ws.close();\n",
       "    };\n",
       "\n",
       "    this.ws.onmessage = this._make_on_message_function(this);\n",
       "\n",
       "    this.ondownload = ondownload;\n",
       "};\n",
       "\n",
       "mpl.figure.prototype._init_header = function () {\n",
       "    var titlebar = document.createElement('div');\n",
       "    titlebar.classList =\n",
       "        'ui-dialog-titlebar ui-widget-header ui-corner-all ui-helper-clearfix';\n",
       "    var titletext = document.createElement('div');\n",
       "    titletext.classList = 'ui-dialog-title';\n",
       "    titletext.setAttribute(\n",
       "        'style',\n",
       "        'width: 100%; text-align: center; padding: 3px;'\n",
       "    );\n",
       "    titlebar.appendChild(titletext);\n",
       "    this.root.appendChild(titlebar);\n",
       "    this.header = titletext;\n",
       "};\n",
       "\n",
       "mpl.figure.prototype._canvas_extra_style = function (_canvas_div) {};\n",
       "\n",
       "mpl.figure.prototype._root_extra_style = function (_canvas_div) {};\n",
       "\n",
       "mpl.figure.prototype._init_canvas = function () {\n",
       "    var fig = this;\n",
       "\n",
       "    var canvas_div = (this.canvas_div = document.createElement('div'));\n",
       "    canvas_div.setAttribute(\n",
       "        'style',\n",
       "        'border: 1px solid #ddd;' +\n",
       "            'box-sizing: content-box;' +\n",
       "            'clear: both;' +\n",
       "            'min-height: 1px;' +\n",
       "            'min-width: 1px;' +\n",
       "            'outline: 0;' +\n",
       "            'overflow: hidden;' +\n",
       "            'position: relative;' +\n",
       "            'resize: both;'\n",
       "    );\n",
       "\n",
       "    function on_keyboard_event_closure(name) {\n",
       "        return function (event) {\n",
       "            return fig.key_event(event, name);\n",
       "        };\n",
       "    }\n",
       "\n",
       "    canvas_div.addEventListener(\n",
       "        'keydown',\n",
       "        on_keyboard_event_closure('key_press')\n",
       "    );\n",
       "    canvas_div.addEventListener(\n",
       "        'keyup',\n",
       "        on_keyboard_event_closure('key_release')\n",
       "    );\n",
       "\n",
       "    this._canvas_extra_style(canvas_div);\n",
       "    this.root.appendChild(canvas_div);\n",
       "\n",
       "    var canvas = (this.canvas = document.createElement('canvas'));\n",
       "    canvas.classList.add('mpl-canvas');\n",
       "    canvas.setAttribute('style', 'box-sizing: content-box;');\n",
       "\n",
       "    this.context = canvas.getContext('2d');\n",
       "\n",
       "    var backingStore =\n",
       "        this.context.backingStorePixelRatio ||\n",
       "        this.context.webkitBackingStorePixelRatio ||\n",
       "        this.context.mozBackingStorePixelRatio ||\n",
       "        this.context.msBackingStorePixelRatio ||\n",
       "        this.context.oBackingStorePixelRatio ||\n",
       "        this.context.backingStorePixelRatio ||\n",
       "        1;\n",
       "\n",
       "    this.ratio = (window.devicePixelRatio || 1) / backingStore;\n",
       "\n",
       "    var rubberband_canvas = (this.rubberband_canvas = document.createElement(\n",
       "        'canvas'\n",
       "    ));\n",
       "    rubberband_canvas.setAttribute(\n",
       "        'style',\n",
       "        'box-sizing: content-box; position: absolute; left: 0; top: 0; z-index: 1;'\n",
       "    );\n",
       "\n",
       "    // Apply a ponyfill if ResizeObserver is not implemented by browser.\n",
       "    if (this.ResizeObserver === undefined) {\n",
       "        if (window.ResizeObserver !== undefined) {\n",
       "            this.ResizeObserver = window.ResizeObserver;\n",
       "        } else {\n",
       "            var obs = _JSXTOOLS_RESIZE_OBSERVER({});\n",
       "            this.ResizeObserver = obs.ResizeObserver;\n",
       "        }\n",
       "    }\n",
       "\n",
       "    this.resizeObserverInstance = new this.ResizeObserver(function (entries) {\n",
       "        var nentries = entries.length;\n",
       "        for (var i = 0; i < nentries; i++) {\n",
       "            var entry = entries[i];\n",
       "            var width, height;\n",
       "            if (entry.contentBoxSize) {\n",
       "                if (entry.contentBoxSize instanceof Array) {\n",
       "                    // Chrome 84 implements new version of spec.\n",
       "                    width = entry.contentBoxSize[0].inlineSize;\n",
       "                    height = entry.contentBoxSize[0].blockSize;\n",
       "                } else {\n",
       "                    // Firefox implements old version of spec.\n",
       "                    width = entry.contentBoxSize.inlineSize;\n",
       "                    height = entry.contentBoxSize.blockSize;\n",
       "                }\n",
       "            } else {\n",
       "                // Chrome <84 implements even older version of spec.\n",
       "                width = entry.contentRect.width;\n",
       "                height = entry.contentRect.height;\n",
       "            }\n",
       "\n",
       "            // Keep the size of the canvas and rubber band canvas in sync with\n",
       "            // the canvas container.\n",
       "            if (entry.devicePixelContentBoxSize) {\n",
       "                // Chrome 84 implements new version of spec.\n",
       "                canvas.setAttribute(\n",
       "                    'width',\n",
       "                    entry.devicePixelContentBoxSize[0].inlineSize\n",
       "                );\n",
       "                canvas.setAttribute(\n",
       "                    'height',\n",
       "                    entry.devicePixelContentBoxSize[0].blockSize\n",
       "                );\n",
       "            } else {\n",
       "                canvas.setAttribute('width', width * fig.ratio);\n",
       "                canvas.setAttribute('height', height * fig.ratio);\n",
       "            }\n",
       "            canvas.setAttribute(\n",
       "                'style',\n",
       "                'width: ' + width + 'px; height: ' + height + 'px;'\n",
       "            );\n",
       "\n",
       "            rubberband_canvas.setAttribute('width', width);\n",
       "            rubberband_canvas.setAttribute('height', height);\n",
       "\n",
       "            // And update the size in Python. We ignore the initial 0/0 size\n",
       "            // that occurs as the element is placed into the DOM, which should\n",
       "            // otherwise not happen due to the minimum size styling.\n",
       "            if (fig.ws.readyState == 1 && width != 0 && height != 0) {\n",
       "                fig.request_resize(width, height);\n",
       "            }\n",
       "        }\n",
       "    });\n",
       "    this.resizeObserverInstance.observe(canvas_div);\n",
       "\n",
       "    function on_mouse_event_closure(name) {\n",
       "        return function (event) {\n",
       "            return fig.mouse_event(event, name);\n",
       "        };\n",
       "    }\n",
       "\n",
       "    rubberband_canvas.addEventListener(\n",
       "        'mousedown',\n",
       "        on_mouse_event_closure('button_press')\n",
       "    );\n",
       "    rubberband_canvas.addEventListener(\n",
       "        'mouseup',\n",
       "        on_mouse_event_closure('button_release')\n",
       "    );\n",
       "    // Throttle sequential mouse events to 1 every 20ms.\n",
       "    rubberband_canvas.addEventListener(\n",
       "        'mousemove',\n",
       "        on_mouse_event_closure('motion_notify')\n",
       "    );\n",
       "\n",
       "    rubberband_canvas.addEventListener(\n",
       "        'mouseenter',\n",
       "        on_mouse_event_closure('figure_enter')\n",
       "    );\n",
       "    rubberband_canvas.addEventListener(\n",
       "        'mouseleave',\n",
       "        on_mouse_event_closure('figure_leave')\n",
       "    );\n",
       "\n",
       "    canvas_div.addEventListener('wheel', function (event) {\n",
       "        if (event.deltaY < 0) {\n",
       "            event.step = 1;\n",
       "        } else {\n",
       "            event.step = -1;\n",
       "        }\n",
       "        on_mouse_event_closure('scroll')(event);\n",
       "    });\n",
       "\n",
       "    canvas_div.appendChild(canvas);\n",
       "    canvas_div.appendChild(rubberband_canvas);\n",
       "\n",
       "    this.rubberband_context = rubberband_canvas.getContext('2d');\n",
       "    this.rubberband_context.strokeStyle = '#000000';\n",
       "\n",
       "    this._resize_canvas = function (width, height, forward) {\n",
       "        if (forward) {\n",
       "            canvas_div.style.width = width + 'px';\n",
       "            canvas_div.style.height = height + 'px';\n",
       "        }\n",
       "    };\n",
       "\n",
       "    // Disable right mouse context menu.\n",
       "    this.rubberband_canvas.addEventListener('contextmenu', function (_e) {\n",
       "        event.preventDefault();\n",
       "        return false;\n",
       "    });\n",
       "\n",
       "    function set_focus() {\n",
       "        canvas.focus();\n",
       "        canvas_div.focus();\n",
       "    }\n",
       "\n",
       "    window.setTimeout(set_focus, 100);\n",
       "};\n",
       "\n",
       "mpl.figure.prototype._init_toolbar = function () {\n",
       "    var fig = this;\n",
       "\n",
       "    var toolbar = document.createElement('div');\n",
       "    toolbar.classList = 'mpl-toolbar';\n",
       "    this.root.appendChild(toolbar);\n",
       "\n",
       "    function on_click_closure(name) {\n",
       "        return function (_event) {\n",
       "            return fig.toolbar_button_onclick(name);\n",
       "        };\n",
       "    }\n",
       "\n",
       "    function on_mouseover_closure(tooltip) {\n",
       "        return function (event) {\n",
       "            if (!event.currentTarget.disabled) {\n",
       "                return fig.toolbar_button_onmouseover(tooltip);\n",
       "            }\n",
       "        };\n",
       "    }\n",
       "\n",
       "    fig.buttons = {};\n",
       "    var buttonGroup = document.createElement('div');\n",
       "    buttonGroup.classList = 'mpl-button-group';\n",
       "    for (var toolbar_ind in mpl.toolbar_items) {\n",
       "        var name = mpl.toolbar_items[toolbar_ind][0];\n",
       "        var tooltip = mpl.toolbar_items[toolbar_ind][1];\n",
       "        var image = mpl.toolbar_items[toolbar_ind][2];\n",
       "        var method_name = mpl.toolbar_items[toolbar_ind][3];\n",
       "\n",
       "        if (!name) {\n",
       "            /* Instead of a spacer, we start a new button group. */\n",
       "            if (buttonGroup.hasChildNodes()) {\n",
       "                toolbar.appendChild(buttonGroup);\n",
       "            }\n",
       "            buttonGroup = document.createElement('div');\n",
       "            buttonGroup.classList = 'mpl-button-group';\n",
       "            continue;\n",
       "        }\n",
       "\n",
       "        var button = (fig.buttons[name] = document.createElement('button'));\n",
       "        button.classList = 'mpl-widget';\n",
       "        button.setAttribute('role', 'button');\n",
       "        button.setAttribute('aria-disabled', 'false');\n",
       "        button.addEventListener('click', on_click_closure(method_name));\n",
       "        button.addEventListener('mouseover', on_mouseover_closure(tooltip));\n",
       "\n",
       "        var icon_img = document.createElement('img');\n",
       "        icon_img.src = '_images/' + image + '.png';\n",
       "        icon_img.srcset = '_images/' + image + '_large.png 2x';\n",
       "        icon_img.alt = tooltip;\n",
       "        button.appendChild(icon_img);\n",
       "\n",
       "        buttonGroup.appendChild(button);\n",
       "    }\n",
       "\n",
       "    if (buttonGroup.hasChildNodes()) {\n",
       "        toolbar.appendChild(buttonGroup);\n",
       "    }\n",
       "\n",
       "    var fmt_picker = document.createElement('select');\n",
       "    fmt_picker.classList = 'mpl-widget';\n",
       "    toolbar.appendChild(fmt_picker);\n",
       "    this.format_dropdown = fmt_picker;\n",
       "\n",
       "    for (var ind in mpl.extensions) {\n",
       "        var fmt = mpl.extensions[ind];\n",
       "        var option = document.createElement('option');\n",
       "        option.selected = fmt === mpl.default_extension;\n",
       "        option.innerHTML = fmt;\n",
       "        fmt_picker.appendChild(option);\n",
       "    }\n",
       "\n",
       "    var status_bar = document.createElement('span');\n",
       "    status_bar.classList = 'mpl-message';\n",
       "    toolbar.appendChild(status_bar);\n",
       "    this.message = status_bar;\n",
       "};\n",
       "\n",
       "mpl.figure.prototype.request_resize = function (x_pixels, y_pixels) {\n",
       "    // Request matplotlib to resize the figure. Matplotlib will then trigger a resize in the client,\n",
       "    // which will in turn request a refresh of the image.\n",
       "    this.send_message('resize', { width: x_pixels, height: y_pixels });\n",
       "};\n",
       "\n",
       "mpl.figure.prototype.send_message = function (type, properties) {\n",
       "    properties['type'] = type;\n",
       "    properties['figure_id'] = this.id;\n",
       "    this.ws.send(JSON.stringify(properties));\n",
       "};\n",
       "\n",
       "mpl.figure.prototype.send_draw_message = function () {\n",
       "    if (!this.waiting) {\n",
       "        this.waiting = true;\n",
       "        this.ws.send(JSON.stringify({ type: 'draw', figure_id: this.id }));\n",
       "    }\n",
       "};\n",
       "\n",
       "mpl.figure.prototype.handle_save = function (fig, _msg) {\n",
       "    var format_dropdown = fig.format_dropdown;\n",
       "    var format = format_dropdown.options[format_dropdown.selectedIndex].value;\n",
       "    fig.ondownload(fig, format);\n",
       "};\n",
       "\n",
       "mpl.figure.prototype.handle_resize = function (fig, msg) {\n",
       "    var size = msg['size'];\n",
       "    if (size[0] !== fig.canvas.width || size[1] !== fig.canvas.height) {\n",
       "        fig._resize_canvas(size[0], size[1], msg['forward']);\n",
       "        fig.send_message('refresh', {});\n",
       "    }\n",
       "};\n",
       "\n",
       "mpl.figure.prototype.handle_rubberband = function (fig, msg) {\n",
       "    var x0 = msg['x0'] / fig.ratio;\n",
       "    var y0 = (fig.canvas.height - msg['y0']) / fig.ratio;\n",
       "    var x1 = msg['x1'] / fig.ratio;\n",
       "    var y1 = (fig.canvas.height - msg['y1']) / fig.ratio;\n",
       "    x0 = Math.floor(x0) + 0.5;\n",
       "    y0 = Math.floor(y0) + 0.5;\n",
       "    x1 = Math.floor(x1) + 0.5;\n",
       "    y1 = Math.floor(y1) + 0.5;\n",
       "    var min_x = Math.min(x0, x1);\n",
       "    var min_y = Math.min(y0, y1);\n",
       "    var width = Math.abs(x1 - x0);\n",
       "    var height = Math.abs(y1 - y0);\n",
       "\n",
       "    fig.rubberband_context.clearRect(\n",
       "        0,\n",
       "        0,\n",
       "        fig.canvas.width / fig.ratio,\n",
       "        fig.canvas.height / fig.ratio\n",
       "    );\n",
       "\n",
       "    fig.rubberband_context.strokeRect(min_x, min_y, width, height);\n",
       "};\n",
       "\n",
       "mpl.figure.prototype.handle_figure_label = function (fig, msg) {\n",
       "    // Updates the figure title.\n",
       "    fig.header.textContent = msg['label'];\n",
       "};\n",
       "\n",
       "mpl.figure.prototype.handle_cursor = function (fig, msg) {\n",
       "    var cursor = msg['cursor'];\n",
       "    switch (cursor) {\n",
       "        case 0:\n",
       "            cursor = 'pointer';\n",
       "            break;\n",
       "        case 1:\n",
       "            cursor = 'default';\n",
       "            break;\n",
       "        case 2:\n",
       "            cursor = 'crosshair';\n",
       "            break;\n",
       "        case 3:\n",
       "            cursor = 'move';\n",
       "            break;\n",
       "    }\n",
       "    fig.rubberband_canvas.style.cursor = cursor;\n",
       "};\n",
       "\n",
       "mpl.figure.prototype.handle_message = function (fig, msg) {\n",
       "    fig.message.textContent = msg['message'];\n",
       "};\n",
       "\n",
       "mpl.figure.prototype.handle_draw = function (fig, _msg) {\n",
       "    // Request the server to send over a new figure.\n",
       "    fig.send_draw_message();\n",
       "};\n",
       "\n",
       "mpl.figure.prototype.handle_image_mode = function (fig, msg) {\n",
       "    fig.image_mode = msg['mode'];\n",
       "};\n",
       "\n",
       "mpl.figure.prototype.handle_history_buttons = function (fig, msg) {\n",
       "    for (var key in msg) {\n",
       "        if (!(key in fig.buttons)) {\n",
       "            continue;\n",
       "        }\n",
       "        fig.buttons[key].disabled = !msg[key];\n",
       "        fig.buttons[key].setAttribute('aria-disabled', !msg[key]);\n",
       "    }\n",
       "};\n",
       "\n",
       "mpl.figure.prototype.handle_navigate_mode = function (fig, msg) {\n",
       "    if (msg['mode'] === 'PAN') {\n",
       "        fig.buttons['Pan'].classList.add('active');\n",
       "        fig.buttons['Zoom'].classList.remove('active');\n",
       "    } else if (msg['mode'] === 'ZOOM') {\n",
       "        fig.buttons['Pan'].classList.remove('active');\n",
       "        fig.buttons['Zoom'].classList.add('active');\n",
       "    } else {\n",
       "        fig.buttons['Pan'].classList.remove('active');\n",
       "        fig.buttons['Zoom'].classList.remove('active');\n",
       "    }\n",
       "};\n",
       "\n",
       "mpl.figure.prototype.updated_canvas_event = function () {\n",
       "    // Called whenever the canvas gets updated.\n",
       "    this.send_message('ack', {});\n",
       "};\n",
       "\n",
       "// A function to construct a web socket function for onmessage handling.\n",
       "// Called in the figure constructor.\n",
       "mpl.figure.prototype._make_on_message_function = function (fig) {\n",
       "    return function socket_on_message(evt) {\n",
       "        if (evt.data instanceof Blob) {\n",
       "            /* FIXME: We get \"Resource interpreted as Image but\n",
       "             * transferred with MIME type text/plain:\" errors on\n",
       "             * Chrome.  But how to set the MIME type?  It doesn't seem\n",
       "             * to be part of the websocket stream */\n",
       "            evt.data.type = 'image/png';\n",
       "\n",
       "            /* Free the memory for the previous frames */\n",
       "            if (fig.imageObj.src) {\n",
       "                (window.URL || window.webkitURL).revokeObjectURL(\n",
       "                    fig.imageObj.src\n",
       "                );\n",
       "            }\n",
       "\n",
       "            fig.imageObj.src = (window.URL || window.webkitURL).createObjectURL(\n",
       "                evt.data\n",
       "            );\n",
       "            fig.updated_canvas_event();\n",
       "            fig.waiting = false;\n",
       "            return;\n",
       "        } else if (\n",
       "            typeof evt.data === 'string' &&\n",
       "            evt.data.slice(0, 21) === 'data:image/png;base64'\n",
       "        ) {\n",
       "            fig.imageObj.src = evt.data;\n",
       "            fig.updated_canvas_event();\n",
       "            fig.waiting = false;\n",
       "            return;\n",
       "        }\n",
       "\n",
       "        var msg = JSON.parse(evt.data);\n",
       "        var msg_type = msg['type'];\n",
       "\n",
       "        // Call the  \"handle_{type}\" callback, which takes\n",
       "        // the figure and JSON message as its only arguments.\n",
       "        try {\n",
       "            var callback = fig['handle_' + msg_type];\n",
       "        } catch (e) {\n",
       "            console.log(\n",
       "                \"No handler for the '\" + msg_type + \"' message type: \",\n",
       "                msg\n",
       "            );\n",
       "            return;\n",
       "        }\n",
       "\n",
       "        if (callback) {\n",
       "            try {\n",
       "                // console.log(\"Handling '\" + msg_type + \"' message: \", msg);\n",
       "                callback(fig, msg);\n",
       "            } catch (e) {\n",
       "                console.log(\n",
       "                    \"Exception inside the 'handler_\" + msg_type + \"' callback:\",\n",
       "                    e,\n",
       "                    e.stack,\n",
       "                    msg\n",
       "                );\n",
       "            }\n",
       "        }\n",
       "    };\n",
       "};\n",
       "\n",
       "// from http://stackoverflow.com/questions/1114465/getting-mouse-location-in-canvas\n",
       "mpl.findpos = function (e) {\n",
       "    //this section is from http://www.quirksmode.org/js/events_properties.html\n",
       "    var targ;\n",
       "    if (!e) {\n",
       "        e = window.event;\n",
       "    }\n",
       "    if (e.target) {\n",
       "        targ = e.target;\n",
       "    } else if (e.srcElement) {\n",
       "        targ = e.srcElement;\n",
       "    }\n",
       "    if (targ.nodeType === 3) {\n",
       "        // defeat Safari bug\n",
       "        targ = targ.parentNode;\n",
       "    }\n",
       "\n",
       "    // pageX,Y are the mouse positions relative to the document\n",
       "    var boundingRect = targ.getBoundingClientRect();\n",
       "    var x = e.pageX - (boundingRect.left + document.body.scrollLeft);\n",
       "    var y = e.pageY - (boundingRect.top + document.body.scrollTop);\n",
       "\n",
       "    return { x: x, y: y };\n",
       "};\n",
       "\n",
       "/*\n",
       " * return a copy of an object with only non-object keys\n",
       " * we need this to avoid circular references\n",
       " * http://stackoverflow.com/a/24161582/3208463\n",
       " */\n",
       "function simpleKeys(original) {\n",
       "    return Object.keys(original).reduce(function (obj, key) {\n",
       "        if (typeof original[key] !== 'object') {\n",
       "            obj[key] = original[key];\n",
       "        }\n",
       "        return obj;\n",
       "    }, {});\n",
       "}\n",
       "\n",
       "mpl.figure.prototype.mouse_event = function (event, name) {\n",
       "    var canvas_pos = mpl.findpos(event);\n",
       "\n",
       "    if (name === 'button_press') {\n",
       "        this.canvas.focus();\n",
       "        this.canvas_div.focus();\n",
       "    }\n",
       "\n",
       "    var x = canvas_pos.x * this.ratio;\n",
       "    var y = canvas_pos.y * this.ratio;\n",
       "\n",
       "    this.send_message(name, {\n",
       "        x: x,\n",
       "        y: y,\n",
       "        button: event.button,\n",
       "        step: event.step,\n",
       "        guiEvent: simpleKeys(event),\n",
       "    });\n",
       "\n",
       "    /* This prevents the web browser from automatically changing to\n",
       "     * the text insertion cursor when the button is pressed.  We want\n",
       "     * to control all of the cursor setting manually through the\n",
       "     * 'cursor' event from matplotlib */\n",
       "    event.preventDefault();\n",
       "    return false;\n",
       "};\n",
       "\n",
       "mpl.figure.prototype._key_event_extra = function (_event, _name) {\n",
       "    // Handle any extra behaviour associated with a key event\n",
       "};\n",
       "\n",
       "mpl.figure.prototype.key_event = function (event, name) {\n",
       "    // Prevent repeat events\n",
       "    if (name === 'key_press') {\n",
       "        if (event.which === this._key) {\n",
       "            return;\n",
       "        } else {\n",
       "            this._key = event.which;\n",
       "        }\n",
       "    }\n",
       "    if (name === 'key_release') {\n",
       "        this._key = null;\n",
       "    }\n",
       "\n",
       "    var value = '';\n",
       "    if (event.ctrlKey && event.which !== 17) {\n",
       "        value += 'ctrl+';\n",
       "    }\n",
       "    if (event.altKey && event.which !== 18) {\n",
       "        value += 'alt+';\n",
       "    }\n",
       "    if (event.shiftKey && event.which !== 16) {\n",
       "        value += 'shift+';\n",
       "    }\n",
       "\n",
       "    value += 'k';\n",
       "    value += event.which.toString();\n",
       "\n",
       "    this._key_event_extra(event, name);\n",
       "\n",
       "    this.send_message(name, { key: value, guiEvent: simpleKeys(event) });\n",
       "    return false;\n",
       "};\n",
       "\n",
       "mpl.figure.prototype.toolbar_button_onclick = function (name) {\n",
       "    if (name === 'download') {\n",
       "        this.handle_save(this, null);\n",
       "    } else {\n",
       "        this.send_message('toolbar_button', { name: name });\n",
       "    }\n",
       "};\n",
       "\n",
       "mpl.figure.prototype.toolbar_button_onmouseover = function (tooltip) {\n",
       "    this.message.textContent = tooltip;\n",
       "};\n",
       "\n",
       "///////////////// REMAINING CONTENT GENERATED BY embed_js.py /////////////////\n",
       "// prettier-ignore\n",
       "var _JSXTOOLS_RESIZE_OBSERVER=function(A){var t,i=new WeakMap,n=new WeakMap,a=new WeakMap,r=new WeakMap,o=new Set;function s(e){if(!(this instanceof s))throw new TypeError(\"Constructor requires 'new' operator\");i.set(this,e)}function h(){throw new TypeError(\"Function is not a constructor\")}function c(e,t,i,n){e=0 in arguments?Number(arguments[0]):0,t=1 in arguments?Number(arguments[1]):0,i=2 in arguments?Number(arguments[2]):0,n=3 in arguments?Number(arguments[3]):0,this.right=(this.x=this.left=e)+(this.width=i),this.bottom=(this.y=this.top=t)+(this.height=n),Object.freeze(this)}function d(){t=requestAnimationFrame(d);var s=new WeakMap,p=new Set;o.forEach((function(t){r.get(t).forEach((function(i){var r=t instanceof window.SVGElement,o=a.get(t),d=r?0:parseFloat(o.paddingTop),f=r?0:parseFloat(o.paddingRight),l=r?0:parseFloat(o.paddingBottom),u=r?0:parseFloat(o.paddingLeft),g=r?0:parseFloat(o.borderTopWidth),m=r?0:parseFloat(o.borderRightWidth),w=r?0:parseFloat(o.borderBottomWidth),b=u+f,F=d+l,v=(r?0:parseFloat(o.borderLeftWidth))+m,W=g+w,y=r?0:t.offsetHeight-W-t.clientHeight,E=r?0:t.offsetWidth-v-t.clientWidth,R=b+v,z=F+W,M=r?t.width:parseFloat(o.width)-R-E,O=r?t.height:parseFloat(o.height)-z-y;if(n.has(t)){var k=n.get(t);if(k[0]===M&&k[1]===O)return}n.set(t,[M,O]);var S=Object.create(h.prototype);S.target=t,S.contentRect=new c(u,d,M,O),s.has(i)||(s.set(i,[]),p.add(i)),s.get(i).push(S)}))})),p.forEach((function(e){i.get(e).call(e,s.get(e),e)}))}return s.prototype.observe=function(i){if(i instanceof window.Element){r.has(i)||(r.set(i,new Set),o.add(i),a.set(i,window.getComputedStyle(i)));var n=r.get(i);n.has(this)||n.add(this),cancelAnimationFrame(t),t=requestAnimationFrame(d)}},s.prototype.unobserve=function(i){if(i instanceof window.Element&&r.has(i)){var n=r.get(i);n.has(this)&&(n.delete(this),n.size||(r.delete(i),o.delete(i))),n.size||r.delete(i),o.size||cancelAnimationFrame(t)}},A.DOMRectReadOnly=c,A.ResizeObserver=s,A.ResizeObserverEntry=h,A}; // eslint-disable-line\n",
       "mpl.toolbar_items = [[\"Home\", \"Reset original view\", \"fa fa-home icon-home\", \"home\"], [\"Back\", \"Back to previous view\", \"fa fa-arrow-left icon-arrow-left\", \"back\"], [\"Forward\", \"Forward to next view\", \"fa fa-arrow-right icon-arrow-right\", \"forward\"], [\"\", \"\", \"\", \"\"], [\"Pan\", \"Left button pans, Right button zooms\\nx/y fixes axis, CTRL fixes aspect\", \"fa fa-arrows icon-move\", \"pan\"], [\"Zoom\", \"Zoom to rectangle\\nx/y fixes axis, CTRL fixes aspect\", \"fa fa-square-o icon-check-empty\", \"zoom\"], [\"\", \"\", \"\", \"\"], [\"Download\", \"Download plot\", \"fa fa-floppy-o icon-save\", \"download\"]];\n",
       "\n",
       "mpl.extensions = [\"eps\", \"jpeg\", \"pdf\", \"png\", \"ps\", \"raw\", \"svg\", \"tif\"];\n",
       "\n",
       "mpl.default_extension = \"png\";/* global mpl */\n",
       "\n",
       "var comm_websocket_adapter = function (comm) {\n",
       "    // Create a \"websocket\"-like object which calls the given IPython comm\n",
       "    // object with the appropriate methods. Currently this is a non binary\n",
       "    // socket, so there is still some room for performance tuning.\n",
       "    var ws = {};\n",
       "\n",
       "    ws.close = function () {\n",
       "        comm.close();\n",
       "    };\n",
       "    ws.send = function (m) {\n",
       "        //console.log('sending', m);\n",
       "        comm.send(m);\n",
       "    };\n",
       "    // Register the callback with on_msg.\n",
       "    comm.on_msg(function (msg) {\n",
       "        //console.log('receiving', msg['content']['data'], msg);\n",
       "        // Pass the mpl event to the overridden (by mpl) onmessage function.\n",
       "        ws.onmessage(msg['content']['data']);\n",
       "    });\n",
       "    return ws;\n",
       "};\n",
       "\n",
       "mpl.mpl_figure_comm = function (comm, msg) {\n",
       "    // This is the function which gets called when the mpl process\n",
       "    // starts-up an IPython Comm through the \"matplotlib\" channel.\n",
       "\n",
       "    var id = msg.content.data.id;\n",
       "    // Get hold of the div created by the display call when the Comm\n",
       "    // socket was opened in Python.\n",
       "    var element = document.getElementById(id);\n",
       "    var ws_proxy = comm_websocket_adapter(comm);\n",
       "\n",
       "    function ondownload(figure, _format) {\n",
       "        window.open(figure.canvas.toDataURL());\n",
       "    }\n",
       "\n",
       "    var fig = new mpl.figure(id, ws_proxy, ondownload, element);\n",
       "\n",
       "    // Call onopen now - mpl needs it, as it is assuming we've passed it a real\n",
       "    // web socket which is closed, not our websocket->open comm proxy.\n",
       "    ws_proxy.onopen();\n",
       "\n",
       "    fig.parent_element = element;\n",
       "    fig.cell_info = mpl.find_output_cell(\"<div id='\" + id + \"'></div>\");\n",
       "    if (!fig.cell_info) {\n",
       "        console.error('Failed to find cell for figure', id, fig);\n",
       "        return;\n",
       "    }\n",
       "    fig.cell_info[0].output_area.element.on(\n",
       "        'cleared',\n",
       "        { fig: fig },\n",
       "        fig._remove_fig_handler\n",
       "    );\n",
       "};\n",
       "\n",
       "mpl.figure.prototype.handle_close = function (fig, msg) {\n",
       "    var width = fig.canvas.width / fig.ratio;\n",
       "    fig.cell_info[0].output_area.element.off(\n",
       "        'cleared',\n",
       "        fig._remove_fig_handler\n",
       "    );\n",
       "    fig.resizeObserverInstance.unobserve(fig.canvas_div);\n",
       "\n",
       "    // Update the output cell to use the data from the current canvas.\n",
       "    fig.push_to_output();\n",
       "    var dataURL = fig.canvas.toDataURL();\n",
       "    // Re-enable the keyboard manager in IPython - without this line, in FF,\n",
       "    // the notebook keyboard shortcuts fail.\n",
       "    IPython.keyboard_manager.enable();\n",
       "    fig.parent_element.innerHTML =\n",
       "        '<img src=\"' + dataURL + '\" width=\"' + width + '\">';\n",
       "    fig.close_ws(fig, msg);\n",
       "};\n",
       "\n",
       "mpl.figure.prototype.close_ws = function (fig, msg) {\n",
       "    fig.send_message('closing', msg);\n",
       "    // fig.ws.close()\n",
       "};\n",
       "\n",
       "mpl.figure.prototype.push_to_output = function (_remove_interactive) {\n",
       "    // Turn the data on the canvas into data in the output cell.\n",
       "    var width = this.canvas.width / this.ratio;\n",
       "    var dataURL = this.canvas.toDataURL();\n",
       "    this.cell_info[1]['text/html'] =\n",
       "        '<img src=\"' + dataURL + '\" width=\"' + width + '\">';\n",
       "};\n",
       "\n",
       "mpl.figure.prototype.updated_canvas_event = function () {\n",
       "    // Tell IPython that the notebook contents must change.\n",
       "    IPython.notebook.set_dirty(true);\n",
       "    this.send_message('ack', {});\n",
       "    var fig = this;\n",
       "    // Wait a second, then push the new image to the DOM so\n",
       "    // that it is saved nicely (might be nice to debounce this).\n",
       "    setTimeout(function () {\n",
       "        fig.push_to_output();\n",
       "    }, 1000);\n",
       "};\n",
       "\n",
       "mpl.figure.prototype._init_toolbar = function () {\n",
       "    var fig = this;\n",
       "\n",
       "    var toolbar = document.createElement('div');\n",
       "    toolbar.classList = 'btn-toolbar';\n",
       "    this.root.appendChild(toolbar);\n",
       "\n",
       "    function on_click_closure(name) {\n",
       "        return function (_event) {\n",
       "            return fig.toolbar_button_onclick(name);\n",
       "        };\n",
       "    }\n",
       "\n",
       "    function on_mouseover_closure(tooltip) {\n",
       "        return function (event) {\n",
       "            if (!event.currentTarget.disabled) {\n",
       "                return fig.toolbar_button_onmouseover(tooltip);\n",
       "            }\n",
       "        };\n",
       "    }\n",
       "\n",
       "    fig.buttons = {};\n",
       "    var buttonGroup = document.createElement('div');\n",
       "    buttonGroup.classList = 'btn-group';\n",
       "    var button;\n",
       "    for (var toolbar_ind in mpl.toolbar_items) {\n",
       "        var name = mpl.toolbar_items[toolbar_ind][0];\n",
       "        var tooltip = mpl.toolbar_items[toolbar_ind][1];\n",
       "        var image = mpl.toolbar_items[toolbar_ind][2];\n",
       "        var method_name = mpl.toolbar_items[toolbar_ind][3];\n",
       "\n",
       "        if (!name) {\n",
       "            /* Instead of a spacer, we start a new button group. */\n",
       "            if (buttonGroup.hasChildNodes()) {\n",
       "                toolbar.appendChild(buttonGroup);\n",
       "            }\n",
       "            buttonGroup = document.createElement('div');\n",
       "            buttonGroup.classList = 'btn-group';\n",
       "            continue;\n",
       "        }\n",
       "\n",
       "        button = fig.buttons[name] = document.createElement('button');\n",
       "        button.classList = 'btn btn-default';\n",
       "        button.href = '#';\n",
       "        button.title = name;\n",
       "        button.innerHTML = '<i class=\"fa ' + image + ' fa-lg\"></i>';\n",
       "        button.addEventListener('click', on_click_closure(method_name));\n",
       "        button.addEventListener('mouseover', on_mouseover_closure(tooltip));\n",
       "        buttonGroup.appendChild(button);\n",
       "    }\n",
       "\n",
       "    if (buttonGroup.hasChildNodes()) {\n",
       "        toolbar.appendChild(buttonGroup);\n",
       "    }\n",
       "\n",
       "    // Add the status bar.\n",
       "    var status_bar = document.createElement('span');\n",
       "    status_bar.classList = 'mpl-message pull-right';\n",
       "    toolbar.appendChild(status_bar);\n",
       "    this.message = status_bar;\n",
       "\n",
       "    // Add the close button to the window.\n",
       "    var buttongrp = document.createElement('div');\n",
       "    buttongrp.classList = 'btn-group inline pull-right';\n",
       "    button = document.createElement('button');\n",
       "    button.classList = 'btn btn-mini btn-primary';\n",
       "    button.href = '#';\n",
       "    button.title = 'Stop Interaction';\n",
       "    button.innerHTML = '<i class=\"fa fa-power-off icon-remove icon-large\"></i>';\n",
       "    button.addEventListener('click', function (_evt) {\n",
       "        fig.handle_close(fig, {});\n",
       "    });\n",
       "    button.addEventListener(\n",
       "        'mouseover',\n",
       "        on_mouseover_closure('Stop Interaction')\n",
       "    );\n",
       "    buttongrp.appendChild(button);\n",
       "    var titlebar = this.root.querySelector('.ui-dialog-titlebar');\n",
       "    titlebar.insertBefore(buttongrp, titlebar.firstChild);\n",
       "};\n",
       "\n",
       "mpl.figure.prototype._remove_fig_handler = function (event) {\n",
       "    var fig = event.data.fig;\n",
       "    if (event.target !== this) {\n",
       "        // Ignore bubbled events from children.\n",
       "        return;\n",
       "    }\n",
       "    fig.close_ws(fig, {});\n",
       "};\n",
       "\n",
       "mpl.figure.prototype._root_extra_style = function (el) {\n",
       "    el.style.boxSizing = 'content-box'; // override notebook setting of border-box.\n",
       "};\n",
       "\n",
       "mpl.figure.prototype._canvas_extra_style = function (el) {\n",
       "    // this is important to make the div 'focusable\n",
       "    el.setAttribute('tabindex', 0);\n",
       "    // reach out to IPython and tell the keyboard manager to turn it's self\n",
       "    // off when our div gets focus\n",
       "\n",
       "    // location in version 3\n",
       "    if (IPython.notebook.keyboard_manager) {\n",
       "        IPython.notebook.keyboard_manager.register_events(el);\n",
       "    } else {\n",
       "        // location in version 2\n",
       "        IPython.keyboard_manager.register_events(el);\n",
       "    }\n",
       "};\n",
       "\n",
       "mpl.figure.prototype._key_event_extra = function (event, _name) {\n",
       "    var manager = IPython.notebook.keyboard_manager;\n",
       "    if (!manager) {\n",
       "        manager = IPython.keyboard_manager;\n",
       "    }\n",
       "\n",
       "    // Check for shift+enter\n",
       "    if (event.shiftKey && event.which === 13) {\n",
       "        this.canvas_div.blur();\n",
       "        // select the cell after this one\n",
       "        var index = IPython.notebook.find_cell_index(this.cell_info[0]);\n",
       "        IPython.notebook.select(index + 1);\n",
       "    }\n",
       "};\n",
       "\n",
       "mpl.figure.prototype.handle_save = function (fig, _msg) {\n",
       "    fig.ondownload(fig, null);\n",
       "};\n",
       "\n",
       "mpl.find_output_cell = function (html_output) {\n",
       "    // Return the cell and output element which can be found *uniquely* in the notebook.\n",
       "    // Note - this is a bit hacky, but it is done because the \"notebook_saving.Notebook\"\n",
       "    // IPython event is triggered only after the cells have been serialised, which for\n",
       "    // our purposes (turning an active figure into a static one), is too late.\n",
       "    var cells = IPython.notebook.get_cells();\n",
       "    var ncells = cells.length;\n",
       "    for (var i = 0; i < ncells; i++) {\n",
       "        var cell = cells[i];\n",
       "        if (cell.cell_type === 'code') {\n",
       "            for (var j = 0; j < cell.output_area.outputs.length; j++) {\n",
       "                var data = cell.output_area.outputs[j];\n",
       "                if (data.data) {\n",
       "                    // IPython >= 3 moved mimebundle to data attribute of output\n",
       "                    data = data.data;\n",
       "                }\n",
       "                if (data['text/html'] === html_output) {\n",
       "                    return [cell, data, j];\n",
       "                }\n",
       "            }\n",
       "        }\n",
       "    }\n",
       "};\n",
       "\n",
       "// Register the function which deals with the matplotlib target/channel.\n",
       "// The kernel may be null if the page has been refreshed.\n",
       "if (IPython.notebook.kernel !== null) {\n",
       "    IPython.notebook.kernel.comm_manager.register_target(\n",
       "        'matplotlib',\n",
       "        mpl.mpl_figure_comm\n",
       "    );\n",
       "}\n"
      ],
      "text/plain": [
       "<IPython.core.display.Javascript object>"
      ]
     },
     "metadata": {},
     "output_type": "display_data"
    },
    {
     "data": {
      "text/html": [
       "<img src=\"data:image/png;base64,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\" width=\"640\">"
      ],
      "text/plain": [
       "<IPython.core.display.HTML object>"
      ]
     },
     "metadata": {},
     "output_type": "display_data"
    }
   ],
   "source": [
    "%matplotlib notebook\n",
    "# plot mileage cutpoint (x-axis) versus RMSE (y-axis)\n",
    "plt.plot(mileage_range, RMSE)\n",
    "plt.xlabel('Mileage cutpoint')\n",
    "plt.ylabel('RMSE (lower is better)')\n",
    "plt.show()"
   ]
  },
  {
   "cell_type": "markdown",
   "metadata": {},
   "source": [
    "**Recap:** Before every split, this process is repeated for every feature, and the feature and cutpoint that produces the lowest MSE is chosen."
   ]
  },
  {
   "cell_type": "markdown",
   "metadata": {},
   "source": [
    "- For a classification tree, the same process will be used, and we will measure the Entropy at for each variable, for each value of that variable. \n",
    "- The variable + value combination that yields the lowest Entropy will be chosen as the splitting rule."
   ]
  },
  {
   "cell_type": "markdown",
   "metadata": {},
   "source": [
    "## Building a regression tree in scikit-learn"
   ]
  },
  {
   "cell_type": "code",
   "execution_count": 33,
   "metadata": {},
   "outputs": [
    {
     "name": "stdout",
     "output_type": "stream",
     "text": [
      "<class 'pandas.core.frame.DataFrame'>\n",
      "RangeIndex: 14 entries, 0 to 13\n",
      "Data columns (total 7 columns):\n",
      " #   Column      Non-Null Count  Dtype  \n",
      "---  ------      --------------  -----  \n",
      " 0   price       14 non-null     int64  \n",
      " 1   year        14 non-null     int64  \n",
      " 2   miles       14 non-null     int64  \n",
      " 3   doors       14 non-null     int64  \n",
      " 4   vtype       14 non-null     object \n",
      " 5   prediction  14 non-null     float64\n",
      " 6   y_pred1     14 non-null     float64\n",
      "dtypes: float64(2), int64(4), object(1)\n",
      "memory usage: 912.0+ bytes\n"
     ]
    }
   ],
   "source": [
    "train.info()"
   ]
  },
  {
   "cell_type": "markdown",
   "metadata": {},
   "source": [
    "#### for categorical features, create the dummy variables"
   ]
  },
  {
   "cell_type": "code",
   "execution_count": 38,
   "metadata": {},
   "outputs": [
    {
     "data": {
      "text/html": [
       "<div>\n",
       "<style scoped>\n",
       "    .dataframe tbody tr th:only-of-type {\n",
       "        vertical-align: middle;\n",
       "    }\n",
       "\n",
       "    .dataframe tbody tr th {\n",
       "        vertical-align: top;\n",
       "    }\n",
       "\n",
       "    .dataframe thead th {\n",
       "        text-align: right;\n",
       "    }\n",
       "</style>\n",
       "<table border=\"1\" class=\"dataframe\">\n",
       "  <thead>\n",
       "    <tr style=\"text-align: right;\">\n",
       "      <th></th>\n",
       "      <th>vtype_truck</th>\n",
       "    </tr>\n",
       "  </thead>\n",
       "  <tbody>\n",
       "    <tr>\n",
       "      <th>0</th>\n",
       "      <td>0</td>\n",
       "    </tr>\n",
       "    <tr>\n",
       "      <th>1</th>\n",
       "      <td>0</td>\n",
       "    </tr>\n",
       "  </tbody>\n",
       "</table>\n",
       "</div>"
      ],
      "text/plain": [
       "   vtype_truck\n",
       "0            0\n",
       "1            0"
      ]
     },
     "execution_count": 38,
     "metadata": {},
     "output_type": "execute_result"
    }
   ],
   "source": [
    "pd.get_dummies( train.vtype, prefix = 'vtype', drop_first = True ).head(2)"
   ]
  },
  {
   "cell_type": "code",
   "execution_count": 42,
   "metadata": {},
   "outputs": [
    {
     "data": {
      "text/plain": [
       "0    0\n",
       "1    0\n",
       "dtype: int32"
      ]
     },
     "execution_count": 42,
     "metadata": {},
     "output_type": "execute_result"
    }
   ],
   "source": [
    "pd.Series( np.where( train.vtype == 'car', 0, 1 )).head(2)"
   ]
  },
  {
   "cell_type": "code",
   "execution_count": 43,
   "metadata": {},
   "outputs": [],
   "source": [
    "# encode car as 0 and truck as 1\n",
    "train['vtype'] = train.vtype.map( {'car': 0, 'truck': 1} )"
   ]
  },
  {
   "cell_type": "code",
   "execution_count": 44,
   "metadata": {},
   "outputs": [],
   "source": [
    "# define X and y\n",
    "feature_cols = ['year', 'miles', 'doors', 'vtype']\n",
    "X_train = train[feature_cols]\n",
    "y_train = train.price"
   ]
  },
  {
   "cell_type": "code",
   "execution_count": 46,
   "metadata": {},
   "outputs": [],
   "source": [
    "from sklearn.tree import DecisionTreeRegressor, DecisionTreeClassifier"
   ]
  },
  {
   "cell_type": "markdown",
   "metadata": {},
   "source": [
    "#### Model 1 - without regularization and cv"
   ]
  },
  {
   "cell_type": "code",
   "execution_count": 47,
   "metadata": {},
   "outputs": [],
   "source": [
    "# instantiate a DecisionTreeRegressor ( with random_state = 1 )\n",
    "treereg = DecisionTreeRegressor( random_state = 1 ).fit( X_train, y_train )\n",
    "y_predicted = treereg.predict( X_train )"
   ]
  },
  {
   "cell_type": "code",
   "execution_count": 48,
   "metadata": {
    "scrolled": true
   },
   "outputs": [
    {
     "data": {
      "text/plain": [
       "0.0"
      ]
     },
     "execution_count": 48,
     "metadata": {},
     "output_type": "execute_result"
    }
   ],
   "source": [
    "mean_squared_error( y_train, y_predicted )"
   ]
  },
  {
   "cell_type": "markdown",
   "metadata": {},
   "source": [
    "#### Model 2 - without regularization but we have done the cv"
   ]
  },
  {
   "cell_type": "code",
   "execution_count": 50,
   "metadata": {},
   "outputs": [],
   "source": [
    "from sklearn.model_selection import cross_val_score"
   ]
  },
  {
   "cell_type": "code",
   "execution_count": 51,
   "metadata": {},
   "outputs": [
    {
     "name": "stderr",
     "output_type": "stream",
     "text": [
      "[Parallel(n_jobs=-1)]: Using backend LokyBackend with 4 concurrent workers.\n",
      "[Parallel(n_jobs=-1)]: Done   5 tasks      | elapsed:    5.3s\n",
      "[Parallel(n_jobs=-1)]: Done   9 out of  14 | elapsed:    5.5s remaining:    3.0s\n",
      "[Parallel(n_jobs=-1)]: Done  11 out of  14 | elapsed:    5.6s remaining:    1.4s\n"
     ]
    },
    {
     "name": "stdout",
     "output_type": "stream",
     "text": [
      "3107.1428571428573\n"
     ]
    },
    {
     "name": "stderr",
     "output_type": "stream",
     "text": [
      "[Parallel(n_jobs=-1)]: Done  14 out of  14 | elapsed:    5.8s finished\n"
     ]
    }
   ],
   "source": [
    "# use leave-one-out cross-validation (LOOCV)\n",
    "scores = cross_val_score( estimator = DecisionTreeRegressor( random_state = 1 ), \n",
    "                   X = X_train,\n",
    "                   y = y_train,\n",
    "                   cv = 14,\n",
    "                   scoring = 'neg_mean_squared_error',\n",
    "                   n_jobs = -1,\n",
    "                   verbose = 10)\n",
    "\n",
    "print (np.mean(np.sqrt(- scores)))"
   ]
  },
  {
   "cell_type": "markdown",
   "metadata": {},
   "source": [
    "## What happens when we grow a tree too deep?\n",
    "\n",
    "- Left: Regression tree for Salary **grown deeper**\n",
    "- Right: Comparison of the **training, testing, and cross-validation errors** for trees with different numbers of leaves"
   ]
  },
  {
   "cell_type": "markdown",
   "metadata": {},
   "source": [
    "![Salary tree grown deep](images/salary_tree_deep.png)"
   ]
  },
  {
   "cell_type": "markdown",
   "metadata": {},
   "source": [
    "The **training error** continues to go down as the tree size increases (due to overfitting), but the lowest **cross-validation error** occurs for a tree with 3 leaves."
   ]
  },
  {
   "cell_type": "markdown",
   "metadata": {},
   "source": [
    "## Tuning a regression tree\n",
    "\n",
    "Let's try to reduce the RMSE by tuning the **max_depth** parameter:"
   ]
  },
  {
   "cell_type": "markdown",
   "metadata": {},
   "source": [
    "#### Model 3 - with regularization and cv"
   ]
  },
  {
   "cell_type": "code",
   "execution_count": 52,
   "metadata": {},
   "outputs": [
    {
     "data": {
      "text/plain": [
       "3002.3809523809527"
      ]
     },
     "execution_count": 52,
     "metadata": {},
     "output_type": "execute_result"
    }
   ],
   "source": [
    "# try different values one-by-one\n",
    "treereg = DecisionTreeRegressor( max_depth = 3, random_state = 1 )\n",
    "scores = cross_val_score(treereg, X_train, y_train, cv = 14, scoring = 'neg_mean_squared_error')\n",
    "np.mean(np.sqrt(-scores))"
   ]
  },
  {
   "cell_type": "markdown",
   "metadata": {},
   "source": [
    "Or, we could write a loop to try a range of values:"
   ]
  },
  {
   "cell_type": "code",
   "execution_count": 53,
   "metadata": {},
   "outputs": [],
   "source": [
    "from sklearn.model_selection import GridSearchCV"
   ]
  },
  {
   "cell_type": "code",
   "execution_count": 56,
   "metadata": {},
   "outputs": [],
   "source": [
    "DecisionTreeRegressor?"
   ]
  },
  {
   "cell_type": "code",
   "execution_count": null,
   "metadata": {},
   "outputs": [],
   "source": [
    "# scoring metrics\n",
    "https://scikit-learn.org/stable/modules/model_evaluation.html"
   ]
  },
  {
   "cell_type": "code",
   "execution_count": 73,
   "metadata": {},
   "outputs": [
    {
     "name": "stdout",
     "output_type": "stream",
     "text": [
      "Fitting 10 folds for each of 5 candidates, totalling 50 fits\n"
     ]
    }
   ],
   "source": [
    "params = { 'max_depth': range(2, 7) }\n",
    "\n",
    "g_cv_dt = GridSearchCV( \n",
    "            estimator = DecisionTreeRegressor( random_state = 1 ),\n",
    "            param_grid = params,\n",
    "            cv = 10,\n",
    "            n_jobs = -1,\n",
    "            verbose = 10,\n",
    "            scoring = 'neg_mean_squared_error'\n",
    "            ).fit( X_train, y_train )"
   ]
  },
  {
   "cell_type": "code",
   "execution_count": 74,
   "metadata": {},
   "outputs": [
    {
     "data": {
      "text/plain": [
       "-10760000.0"
      ]
     },
     "execution_count": 74,
     "metadata": {},
     "output_type": "execute_result"
    }
   ],
   "source": [
    "g_cv_dt.best_score_"
   ]
  },
  {
   "cell_type": "code",
   "execution_count": 75,
   "metadata": {},
   "outputs": [
    {
     "data": {
      "text/plain": [
       "3280.243893371345"
      ]
     },
     "execution_count": 75,
     "metadata": {},
     "output_type": "execute_result"
    }
   ],
   "source": [
    "np.sqrt(-g_cv_dt.best_score_)"
   ]
  },
  {
   "cell_type": "code",
   "execution_count": 76,
   "metadata": {},
   "outputs": [
    {
     "data": {
      "text/plain": [
       "{'max_depth': 5}"
      ]
     },
     "execution_count": 76,
     "metadata": {},
     "output_type": "execute_result"
    }
   ],
   "source": [
    "g_cv_dt.best_params_"
   ]
  },
  {
   "cell_type": "markdown",
   "metadata": {},
   "source": [
    "#### alternate method"
   ]
  },
  {
   "cell_type": "code",
   "execution_count": 60,
   "metadata": {},
   "outputs": [],
   "source": [
    "# list of values to try\n",
    "max_depth_range = range(2, 5)\n",
    "\n",
    "# list to store the average RMSE for each value of max_depth\n",
    "RMSE_scores = []\n",
    "\n",
    "# use LOOCV with each value of max_depth\n",
    "for depth in max_depth_range:\n",
    "    treereg = DecisionTreeRegressor( max_depth = depth, random_state = 345 )\n",
    "    MSE_scores = cross_val_score( treereg, \n",
    "                                     X_train, \n",
    "                                     y_train, \n",
    "                                     cv = 14, \n",
    "                                     scoring = 'neg_mean_squared_error',\n",
    "                                     verbose = 0,\n",
    "                                     n_jobs = -1 )\n",
    "    \n",
    "    RMSE_scores.append(np.mean(np.sqrt(-MSE_scores)))"
   ]
  },
  {
   "cell_type": "code",
   "execution_count": 61,
   "metadata": {},
   "outputs": [
    {
     "name": "stdout",
     "output_type": "stream",
     "text": [
      "[3345.238095238095, 3002.3809523809527, 3050.0, 2528.5714285714284, 3064.285714285714, 2600.0, 2600.0, 2600.0, 2600.0, 2600.0, 2600.0, 2600.0]\n"
     ]
    }
   ],
   "source": [
    "print (RMSE_scores)"
   ]
  },
  {
   "cell_type": "code",
   "execution_count": 63,
   "metadata": {},
   "outputs": [
    {
     "data": {
      "text/plain": [
       "Text(0, 0.5, 'RMSE (lower is better)')"
      ]
     },
     "execution_count": 63,
     "metadata": {},
     "output_type": "execute_result"
    },
    {
     "data": {
      "image/png": "[encoded data removed]",
      "text/plain": [
       "<Figure size 432x288 with 1 Axes>"
      ]
     },
     "metadata": {
      "needs_background": "light"
     },
     "output_type": "display_data"
    }
   ],
   "source": [
    "# plot max_depth (x-axis) versus RMSE (y-axis)\n",
    "%matplotlib inline\n",
    "plt.plot(max_depth_range, RMSE_scores)\n",
    "plt.xlabel('max_depth')\n",
    "plt.ylabel('RMSE (lower is better)')"
   ]
  },
  {
   "cell_type": "markdown",
   "metadata": {},
   "source": [
    "#### create final model with best parameter, alternatively we can can also use best_estimator_"
   ]
  },
  {
   "cell_type": "code",
   "execution_count": 65,
   "metadata": {},
   "outputs": [],
   "source": [
    "# max_depth = 5 was best, so fit a tree using that parameter\n",
    "treereg = DecisionTreeRegressor(max_depth = 5, random_state = 345).fit(X_train, y_train)"
   ]
  },
  {
   "cell_type": "code",
   "execution_count": 66,
   "metadata": {},
   "outputs": [
    {
     "data": {
      "text/plain": [
       "Index(['year', 'miles', 'doors', 'vtype'], dtype='object')"
      ]
     },
     "execution_count": 66,
     "metadata": {},
     "output_type": "execute_result"
    }
   ],
   "source": [
    "X_train.columns"
   ]
  },
  {
   "cell_type": "code",
   "execution_count": 67,
   "metadata": {},
   "outputs": [
    {
     "data": {
      "text/plain": [
       "array([0.97999876, 0.01873341, 0.00126783, 0.        ])"
      ]
     },
     "execution_count": 67,
     "metadata": {},
     "output_type": "execute_result"
    }
   ],
   "source": [
    "treereg.feature_importances_"
   ]
  },
  {
   "cell_type": "code",
   "execution_count": 68,
   "metadata": {},
   "outputs": [
    {
     "data": {
      "text/html": [
       "<div>\n",
       "<style scoped>\n",
       "    .dataframe tbody tr th:only-of-type {\n",
       "        vertical-align: middle;\n",
       "    }\n",
       "\n",
       "    .dataframe tbody tr th {\n",
       "        vertical-align: top;\n",
       "    }\n",
       "\n",
       "    .dataframe thead th {\n",
       "        text-align: right;\n",
       "    }\n",
       "</style>\n",
       "<table border=\"1\" class=\"dataframe\">\n",
       "  <thead>\n",
       "    <tr style=\"text-align: right;\">\n",
       "      <th></th>\n",
       "      <th>feature</th>\n",
       "      <th>importance</th>\n",
       "    </tr>\n",
       "  </thead>\n",
       "  <tbody>\n",
       "    <tr>\n",
       "      <th>0</th>\n",
       "      <td>year</td>\n",
       "      <td>0.979999</td>\n",
       "    </tr>\n",
       "    <tr>\n",
       "      <th>1</th>\n",
       "      <td>miles</td>\n",
       "      <td>0.018733</td>\n",
       "    </tr>\n",
       "    <tr>\n",
       "      <th>2</th>\n",
       "      <td>doors</td>\n",
       "      <td>0.001268</td>\n",
       "    </tr>\n",
       "    <tr>\n",
       "      <th>3</th>\n",
       "      <td>vtype</td>\n",
       "      <td>0.000000</td>\n",
       "    </tr>\n",
       "  </tbody>\n",
       "</table>\n",
       "</div>"
      ],
      "text/plain": [
       "  feature  importance\n",
       "0    year    0.979999\n",
       "1   miles    0.018733\n",
       "2   doors    0.001268\n",
       "3   vtype    0.000000"
      ]
     },
     "execution_count": 68,
     "metadata": {},
     "output_type": "execute_result"
    }
   ],
   "source": [
    "# \"Gini importance\" of each feature: the (normalized) total reduction of error brought by that feature\n",
    "pd.DataFrame({'feature': feature_cols, 'importance': treereg.feature_importances_})"
   ]
  },
  {
   "cell_type": "markdown",
   "metadata": {},
   "source": [
    "## Creating a tree diagram"
   ]
  },
  {
   "cell_type": "code",
   "execution_count": null,
   "metadata": {},
   "outputs": [],
   "source": [
    "# create a Graphviz file\n",
    "from sklearn.tree import export_graphviz\n",
    "export_graphviz(treereg, out_file='tree_vehicles.dot', feature_names=feature_cols)\n",
    "\n",
    "# At the command line, run this to convert to PNG:\n",
    "#   dot -Tpng tree_vehicles.dot -o tree_vehicles.png"
   ]
  },
  {
   "cell_type": "markdown",
   "metadata": {},
   "source": [
    "![Tree for vehicle data](images/tree_vehicles.png)"
   ]
  },
  {
   "cell_type": "markdown",
   "metadata": {},
   "source": [
    "Reading the internal nodes:\n",
    "\n",
    "- **samples:** number of observations in that node before splitting\n",
    "- **mse:** MSE calculated by comparing the actual response values in that node against the mean response value in that node\n",
    "- **rule:** rule used to split that node (go left if true, go right if false)\n",
    "\n",
    "Reading the leaves:\n",
    "\n",
    "- **samples:** number of observations in that node\n",
    "- **value:** mean response value in that node\n",
    "- **mse:** MSE calculated by comparing the actual response values in that node against \"value\""
   ]
  },
  {
   "cell_type": "markdown",
   "metadata": {},
   "source": [
    "## Making predictions for the testing data"
   ]
  },
  {
   "cell_type": "code",
   "execution_count": 77,
   "metadata": {},
   "outputs": [
    {
     "data": {
      "text/html": [
       "<div>\n",
       "<style scoped>\n",
       "    .dataframe tbody tr th:only-of-type {\n",
       "        vertical-align: middle;\n",
       "    }\n",
       "\n",
       "    .dataframe tbody tr th {\n",
       "        vertical-align: top;\n",
       "    }\n",
       "\n",
       "    .dataframe thead th {\n",
       "        text-align: right;\n",
       "    }\n",
       "</style>\n",
       "<table border=\"1\" class=\"dataframe\">\n",
       "  <thead>\n",
       "    <tr style=\"text-align: right;\">\n",
       "      <th></th>\n",
       "      <th>price</th>\n",
       "      <th>year</th>\n",
       "      <th>miles</th>\n",
       "      <th>doors</th>\n",
       "      <th>vtype</th>\n",
       "    </tr>\n",
       "  </thead>\n",
       "  <tbody>\n",
       "    <tr>\n",
       "      <th>0</th>\n",
       "      <td>3000</td>\n",
       "      <td>2003</td>\n",
       "      <td>130000</td>\n",
       "      <td>4</td>\n",
       "      <td>1</td>\n",
       "    </tr>\n",
       "    <tr>\n",
       "      <th>1</th>\n",
       "      <td>6000</td>\n",
       "      <td>2005</td>\n",
       "      <td>82500</td>\n",
       "      <td>4</td>\n",
       "      <td>0</td>\n",
       "    </tr>\n",
       "    <tr>\n",
       "      <th>2</th>\n",
       "      <td>12000</td>\n",
       "      <td>2010</td>\n",
       "      <td>60000</td>\n",
       "      <td>2</td>\n",
       "      <td>0</td>\n",
       "    </tr>\n",
       "  </tbody>\n",
       "</table>\n",
       "</div>"
      ],
      "text/plain": [
       "   price  year   miles  doors  vtype\n",
       "0   3000  2003  130000      4      1\n",
       "1   6000  2005   82500      4      0\n",
       "2  12000  2010   60000      2      0"
      ]
     },
     "execution_count": 77,
     "metadata": {},
     "output_type": "execute_result"
    }
   ],
   "source": [
    "# read the testing data\n",
    "url = 'vehicles_test.csv'\n",
    "test = pd.read_csv(url)\n",
    "test['vtype'] = test.vtype.map({'car': 0, 'truck': 1})\n",
    "test"
   ]
  },
  {
   "cell_type": "markdown",
   "metadata": {},
   "source": [
    "**Question:** Using the tree diagram above, what predictions will the model make for each observation?"
   ]
  },
  {
   "cell_type": "code",
   "execution_count": 78,
   "metadata": {},
   "outputs": [
    {
     "data": {
      "text/plain": [
       "array([ 5000.,  5000., 13000.])"
      ]
     },
     "execution_count": 78,
     "metadata": {},
     "output_type": "execute_result"
    }
   ],
   "source": [
    "# use fitted model to make predictions on testing data\n",
    "X_test = test[feature_cols]\n",
    "y_test = test.price\n",
    "\n",
    "y_pred = treereg.predict(X_test)\n",
    "y_pred"
   ]
  },
  {
   "cell_type": "code",
   "execution_count": 79,
   "metadata": {},
   "outputs": [
    {
     "data": {
      "text/plain": [
       "1414.213562373095"
      ]
     },
     "execution_count": 79,
     "metadata": {},
     "output_type": "execute_result"
    }
   ],
   "source": [
    "# calculate RMSE\n",
    "np.sqrt(mean_squared_error(y_test, y_pred))"
   ]
  },
  {
   "cell_type": "markdown",
   "metadata": {},
   "source": [
    "# Part 2: Classification trees\n",
    "\n",
    "**Example:** Predict whether Barack Obama or Hillary Clinton will win the Democratic primary in a particular county in 2008:"
   ]
  },
  {
   "cell_type": "markdown",
   "metadata": {},
   "source": [
    "![Obama-Clinton decision tree](images/obama_clinton_tree.jpg)"
   ]
  },
  {
   "cell_type": "markdown",
   "metadata": {},
   "source": [
    "**Questions:**\n",
    "\n",
    "- What are the observations? How many observations are there?\n",
    "- What is the response variable?\n",
    "- What are the features?\n",
    "- What is the most predictive feature?\n",
    "- Why does the tree split on high school graduation rate twice in a row?\n",
    "- What is the class prediction for the following county: 15% African-American, 90% high school graduation rate, located in the South, high poverty, high population density?\n",
    "- What is the predicted probability for that same county?"
   ]
  },
  {
   "cell_type": "markdown",
   "metadata": {},
   "source": [
    "## Comparing regression trees and classification trees\n",
    "\n",
    "|regression trees|classification trees|\n",
    "|---|---|\n",
    "|predict a continuous response|predict a categorical response|\n",
    "|predict using mean response of each leaf|predict using most commonly occuring class of each leaf|\n",
    "|splits are chosen to minimize MSE|splits are chosen to minimize Gini index (discussed below)|"
   ]
  },
  {
   "cell_type": "markdown",
   "metadata": {},
   "source": [
    "## Splitting criteria for classification trees\n",
    "\n",
    "Common options for the splitting criteria:\n",
    "\n",
    "- **classification error rate:** fraction of training observations in a region that don't belong to the most common class\n",
    "- **Gini index:** measure of total variance across classes in a region"
   ]
  },
  {
   "cell_type": "markdown",
   "metadata": {},
   "source": [
    "### Example of classification error rate\n",
    "\n",
    "Pretend we are predicting whether someone buys an iPhone or an Android:\n",
    "\n",
    "- At a particular node, there are **25 observations** (phone buyers), of whom **10 bought iPhones and 15 bought Androids**.\n",
    "- Since the majority class is **Android**, that's our prediction for all 25 observations, and thus the classification error rate is **10/25 = 40%**.\n",
    "\n",
    "Our goal in making splits is to **reduce the classification error rate**. Let's try splitting on gender:\n",
    "\n",
    "- **Males:** 2 iPhones and 13 Androids, thus the predicted class is Android\n",
    "- **Females:** 8 iPhones and 3 Androids, thus the predicted class is iPhone\n",
    "- Classification error rate after this split would be **5/25 = 20%**\n",
    "\n",
    "Compare that with a split on age:\n",
    "\n",
    "- **30 or younger:** 4 iPhones and 8 Androids, thus the predicted class is Android\n",
    "- **31 or older:** 6 iPhones and 7 Androids, thus the predicted class is Android\n",
    "- Classification error rate after this split would be **10/25 = 40%**\n",
    "\n",
    "The decision tree algorithm will try **every possible split across all features**, and choose the split that **reduces the error rate the most.**"
   ]
  },
  {
   "cell_type": "markdown",
   "metadata": {},
   "source": [
    "### Example of Gini index\n",
    "\n",
    "Calculate the Gini index before making a split:\n",
    "\n",
    "$$1 - \\left(\\frac {iPhone} {Total}\\right)^2 - \\left(\\frac {Android} {Total}\\right)^2 = 1 - \\left(\\frac {10} {25}\\right)^2 - \\left(\\frac {15} {25}\\right)^2 = 0.48$$\n",
    "\n",
    "- The **maximum value** of the Gini index is 0.5, and occurs when the classes are perfectly balanced in a node.\n",
    "- The **minimum value** of the Gini index is 0, and occurs when there is only one class represented in a node.\n",
    "- A node with a lower Gini index is said to be more \"pure\".\n",
    "\n",
    "Evaluating the split on **gender** using Gini index:\n",
    "\n",
    "$$\\text{Males: } 1 - \\left(\\frac {2} {14}\\right)^2 - \\left(\\frac {12} {14}\\right)^2 = 0.24$$\n",
    "$$\\text{Females: } 1 - \\left(\\frac {8} {11}\\right)^2 - \\left(\\frac {3} {11}\\right)^2 = 0.40$$\n",
    "$$\\text{Weighted Average: } 0.24 \\left(\\frac {14} {25}\\right) + 0.40 \\left(\\frac {11} {25}\\right) = 0.31$$\n",
    "\n",
    "Evaluating the split on **age** using Gini index:\n",
    "\n",
    "$$\\text{30 or younger: } 1 - \\left(\\frac {4} {12}\\right)^2 - \\left(\\frac {8} {12}\\right)^2 = 0.44$$\n",
    "$$\\text{31 or older: } 1 - \\left(\\frac {6} {13}\\right)^2 - \\left(\\frac {7} {13}\\right)^2 = 0.50$$\n",
    "$$\\text{Weighted Average: } 0.44 \\left(\\frac {12} {25}\\right) + 0.50 \\left(\\frac {13} {25}\\right) = 0.47$$\n",
    "\n",
    "Again, the decision tree algorithm will try **every possible split**, and will choose the split that **reduces the Gini index (and thus increases the \"node purity\") the most.**"
   ]
  },
  {
   "cell_type": "markdown",
   "metadata": {},
   "source": [
    "### Comparing classification error rate and Gini index\n",
    "\n",
    "- Gini index is generally preferred because it will make splits that **increase node purity**, even if that split does not change the classification error rate.\n",
    "- Node purity is important because we're interested in the **class proportions** in each region, since that's how we calculate the **predicted probability** of each class.\n",
    "- scikit-learn's default splitting criteria for classification trees is Gini index.\n",
    "\n",
    "Note: There is another common splitting criteria called **cross-entropy**. It's numerically similar to Gini index, but slower to compute, thus it's not as popular as Gini index."
   ]
  },
  {
   "cell_type": "markdown",
   "metadata": {},
   "source": [
    "## Building a classification tree in scikit-learn"
   ]
  },
  {
   "cell_type": "markdown",
   "metadata": {},
   "source": [
    "We'll build a classification tree using the Titanic data:"
   ]
  },
  {
   "cell_type": "code",
   "execution_count": 80,
   "metadata": {},
   "outputs": [],
   "source": [
    "import pandas as pd\n",
    "import numpy as np"
   ]
  },
  {
   "cell_type": "code",
   "execution_count": 81,
   "metadata": {},
   "outputs": [],
   "source": [
    "# read in the data\n",
    "titanic = pd.read_csv('titanic_train.csv')"
   ]
  },
  {
   "cell_type": "code",
   "execution_count": 82,
   "metadata": {},
   "outputs": [
    {
     "name": "stdout",
     "output_type": "stream",
     "text": [
      "<class 'pandas.core.frame.DataFrame'>\n",
      "RangeIndex: 891 entries, 0 to 890\n",
      "Data columns (total 12 columns):\n",
      " #   Column       Non-Null Count  Dtype  \n",
      "---  ------       --------------  -----  \n",
      " 0   PassengerId  891 non-null    int64  \n",
      " 1   Survived     891 non-null    int64  \n",
      " 2   Pclass       891 non-null    int64  \n",
      " 3   Name         891 non-null    object \n",
      " 4   Sex          891 non-null    object \n",
      " 5   Age          714 non-null    float64\n",
      " 6   SibSp        891 non-null    int64  \n",
      " 7   Parch        891 non-null    int64  \n",
      " 8   Ticket       891 non-null    object \n",
      " 9   Fare         891 non-null    float64\n",
      " 10  Cabin        204 non-null    object \n",
      " 11  Embarked     889 non-null    object \n",
      "dtypes: float64(2), int64(5), object(5)\n",
      "memory usage: 83.7+ KB\n"
     ]
    }
   ],
   "source": [
    "titanic.info()"
   ]
  },
  {
   "cell_type": "code",
   "execution_count": 85,
   "metadata": {},
   "outputs": [
    {
     "data": {
      "text/plain": [
       "array([1, 0, 3, 4, 2, 5, 8], dtype=int64)"
      ]
     },
     "execution_count": 85,
     "metadata": {},
     "output_type": "execute_result"
    }
   ],
   "source": [
    "titanic.SibSp.unique()"
   ]
  },
  {
   "cell_type": "code",
   "execution_count": 83,
   "metadata": {},
   "outputs": [
    {
     "data": {
      "text/html": [
       "<div>\n",
       "<style scoped>\n",
       "    .dataframe tbody tr th:only-of-type {\n",
       "        vertical-align: middle;\n",
       "    }\n",
       "\n",
       "    .dataframe tbody tr th {\n",
       "        vertical-align: top;\n",
       "    }\n",
       "\n",
       "    .dataframe thead th {\n",
       "        text-align: right;\n",
       "    }\n",
       "</style>\n",
       "<table border=\"1\" class=\"dataframe\">\n",
       "  <thead>\n",
       "    <tr style=\"text-align: right;\">\n",
       "      <th></th>\n",
       "      <th>PassengerId</th>\n",
       "      <th>Survived</th>\n",
       "      <th>Pclass</th>\n",
       "      <th>Name</th>\n",
       "      <th>Sex</th>\n",
       "      <th>Age</th>\n",
       "      <th>SibSp</th>\n",
       "      <th>Parch</th>\n",
       "      <th>Ticket</th>\n",
       "      <th>Fare</th>\n",
       "      <th>Cabin</th>\n",
       "      <th>Embarked</th>\n",
       "    </tr>\n",
       "  </thead>\n",
       "  <tbody>\n",
       "    <tr>\n",
       "      <th>0</th>\n",
       "      <td>1</td>\n",
       "      <td>0</td>\n",
       "      <td>3</td>\n",
       "      <td>Braund, Mr. Owen Harris</td>\n",
       "      <td>male</td>\n",
       "      <td>22.0</td>\n",
       "      <td>1</td>\n",
       "      <td>0</td>\n",
       "      <td>A/5 21171</td>\n",
       "      <td>7.2500</td>\n",
       "      <td>NaN</td>\n",
       "      <td>S</td>\n",
       "    </tr>\n",
       "    <tr>\n",
       "      <th>1</th>\n",
       "      <td>2</td>\n",
       "      <td>1</td>\n",
       "      <td>1</td>\n",
       "      <td>Cumings, Mrs. John Bradley (Florence Briggs Th...</td>\n",
       "      <td>female</td>\n",
       "      <td>38.0</td>\n",
       "      <td>1</td>\n",
       "      <td>0</td>\n",
       "      <td>PC 17599</td>\n",
       "      <td>71.2833</td>\n",
       "      <td>C85</td>\n",
       "      <td>C</td>\n",
       "    </tr>\n",
       "    <tr>\n",
       "      <th>2</th>\n",
       "      <td>3</td>\n",
       "      <td>1</td>\n",
       "      <td>3</td>\n",
       "      <td>Heikkinen, Miss. Laina</td>\n",
       "      <td>female</td>\n",
       "      <td>26.0</td>\n",
       "      <td>0</td>\n",
       "      <td>0</td>\n",
       "      <td>STON/O2. 3101282</td>\n",
       "      <td>7.9250</td>\n",
       "      <td>NaN</td>\n",
       "      <td>S</td>\n",
       "    </tr>\n",
       "    <tr>\n",
       "      <th>3</th>\n",
       "      <td>4</td>\n",
       "      <td>1</td>\n",
       "      <td>1</td>\n",
       "      <td>Futrelle, Mrs. Jacques Heath (Lily May Peel)</td>\n",
       "      <td>female</td>\n",
       "      <td>35.0</td>\n",
       "      <td>1</td>\n",
       "      <td>0</td>\n",
       "      <td>113803</td>\n",
       "      <td>53.1000</td>\n",
       "      <td>C123</td>\n",
       "      <td>S</td>\n",
       "    </tr>\n",
       "    <tr>\n",
       "      <th>4</th>\n",
       "      <td>5</td>\n",
       "      <td>0</td>\n",
       "      <td>3</td>\n",
       "      <td>Allen, Mr. William Henry</td>\n",
       "      <td>male</td>\n",
       "      <td>35.0</td>\n",
       "      <td>0</td>\n",
       "      <td>0</td>\n",
       "      <td>373450</td>\n",
       "      <td>8.0500</td>\n",
       "      <td>NaN</td>\n",
       "      <td>S</td>\n",
       "    </tr>\n",
       "  </tbody>\n",
       "</table>\n",
       "</div>"
      ],
      "text/plain": [
       "   PassengerId  Survived  Pclass  \\\n",
       "0            1         0       3   \n",
       "1            2         1       1   \n",
       "2            3         1       3   \n",
       "3            4         1       1   \n",
       "4            5         0       3   \n",
       "\n",
       "                                                Name     Sex   Age  SibSp  \\\n",
       "0                            Braund, Mr. Owen Harris    male  22.0      1   \n",
       "1  Cumings, Mrs. John Bradley (Florence Briggs Th...  female  38.0      1   \n",
       "2                             Heikkinen, Miss. Laina  female  26.0      0   \n",
       "3       Futrelle, Mrs. Jacques Heath (Lily May Peel)  female  35.0      1   \n",
       "4                           Allen, Mr. William Henry    male  35.0      0   \n",
       "\n",
       "   Parch            Ticket     Fare Cabin Embarked  \n",
       "0      0         A/5 21171   7.2500   NaN        S  \n",
       "1      0          PC 17599  71.2833   C85        C  \n",
       "2      0  STON/O2. 3101282   7.9250   NaN        S  \n",
       "3      0            113803  53.1000  C123        S  \n",
       "4      0            373450   8.0500   NaN        S  "
      ]
     },
     "execution_count": 83,
     "metadata": {},
     "output_type": "execute_result"
    }
   ],
   "source": [
    "titanic.head()"
   ]
  },
  {
   "cell_type": "code",
   "execution_count": 86,
   "metadata": {},
   "outputs": [
    {
     "data": {
      "text/html": [
       "<div>\n",
       "<style scoped>\n",
       "    .dataframe tbody tr th:only-of-type {\n",
       "        vertical-align: middle;\n",
       "    }\n",
       "\n",
       "    .dataframe tbody tr th {\n",
       "        vertical-align: top;\n",
       "    }\n",
       "\n",
       "    .dataframe thead th {\n",
       "        text-align: right;\n",
       "    }\n",
       "</style>\n",
       "<table border=\"1\" class=\"dataframe\">\n",
       "  <thead>\n",
       "    <tr style=\"text-align: right;\">\n",
       "      <th></th>\n",
       "      <th>PassengerId</th>\n",
       "      <th>Survived</th>\n",
       "      <th>Pclass</th>\n",
       "      <th>Name</th>\n",
       "      <th>Sex</th>\n",
       "      <th>Age</th>\n",
       "      <th>SibSp</th>\n",
       "      <th>Parch</th>\n",
       "      <th>Ticket</th>\n",
       "      <th>Fare</th>\n",
       "      <th>Cabin</th>\n",
       "      <th>Embarked</th>\n",
       "      <th>Embarked_Q</th>\n",
       "      <th>Embarked_S</th>\n",
       "    </tr>\n",
       "  </thead>\n",
       "  <tbody>\n",
       "    <tr>\n",
       "      <th>0</th>\n",
       "      <td>1</td>\n",
       "      <td>0</td>\n",
       "      <td>3</td>\n",
       "      <td>Braund, Mr. Owen Harris</td>\n",
       "      <td>1</td>\n",
       "      <td>22.0</td>\n",
       "      <td>1</td>\n",
       "      <td>0</td>\n",
       "      <td>A/5 21171</td>\n",
       "      <td>7.2500</td>\n",
       "      <td>NaN</td>\n",
       "      <td>S</td>\n",
       "      <td>0</td>\n",
       "      <td>1</td>\n",
       "    </tr>\n",
       "    <tr>\n",
       "      <th>1</th>\n",
       "      <td>2</td>\n",
       "      <td>1</td>\n",
       "      <td>1</td>\n",
       "      <td>Cumings, Mrs. John Bradley (Florence Briggs Th...</td>\n",
       "      <td>0</td>\n",
       "      <td>38.0</td>\n",
       "      <td>1</td>\n",
       "      <td>0</td>\n",
       "      <td>PC 17599</td>\n",
       "      <td>71.2833</td>\n",
       "      <td>C85</td>\n",
       "      <td>C</td>\n",
       "      <td>0</td>\n",
       "      <td>0</td>\n",
       "    </tr>\n",
       "    <tr>\n",
       "      <th>2</th>\n",
       "      <td>3</td>\n",
       "      <td>1</td>\n",
       "      <td>3</td>\n",
       "      <td>Heikkinen, Miss. Laina</td>\n",
       "      <td>0</td>\n",
       "      <td>26.0</td>\n",
       "      <td>0</td>\n",
       "      <td>0</td>\n",
       "      <td>STON/O2. 3101282</td>\n",
       "      <td>7.9250</td>\n",
       "      <td>NaN</td>\n",
       "      <td>S</td>\n",
       "      <td>0</td>\n",
       "      <td>1</td>\n",
       "    </tr>\n",
       "    <tr>\n",
       "      <th>3</th>\n",
       "      <td>4</td>\n",
       "      <td>1</td>\n",
       "      <td>1</td>\n",
       "      <td>Futrelle, Mrs. Jacques Heath (Lily May Peel)</td>\n",
       "      <td>0</td>\n",
       "      <td>35.0</td>\n",
       "      <td>1</td>\n",
       "      <td>0</td>\n",
       "      <td>113803</td>\n",
       "      <td>53.1000</td>\n",
       "      <td>C123</td>\n",
       "      <td>S</td>\n",
       "      <td>0</td>\n",
       "      <td>1</td>\n",
       "    </tr>\n",
       "    <tr>\n",
       "      <th>4</th>\n",
       "      <td>5</td>\n",
       "      <td>0</td>\n",
       "      <td>3</td>\n",
       "      <td>Allen, Mr. William Henry</td>\n",
       "      <td>1</td>\n",
       "      <td>35.0</td>\n",
       "      <td>0</td>\n",
       "      <td>0</td>\n",
       "      <td>373450</td>\n",
       "      <td>8.0500</td>\n",
       "      <td>NaN</td>\n",
       "      <td>S</td>\n",
       "      <td>0</td>\n",
       "      <td>1</td>\n",
       "    </tr>\n",
       "  </tbody>\n",
       "</table>\n",
       "</div>"
      ],
      "text/plain": [
       "   PassengerId  Survived  Pclass  \\\n",
       "0            1         0       3   \n",
       "1            2         1       1   \n",
       "2            3         1       3   \n",
       "3            4         1       1   \n",
       "4            5         0       3   \n",
       "\n",
       "                                                Name  Sex   Age  SibSp  Parch  \\\n",
       "0                            Braund, Mr. Owen Harris    1  22.0      1      0   \n",
       "1  Cumings, Mrs. John Bradley (Florence Briggs Th...    0  38.0      1      0   \n",
       "2                             Heikkinen, Miss. Laina    0  26.0      0      0   \n",
       "3       Futrelle, Mrs. Jacques Heath (Lily May Peel)    0  35.0      1      0   \n",
       "4                           Allen, Mr. William Henry    1  35.0      0      0   \n",
       "\n",
       "             Ticket     Fare Cabin Embarked  Embarked_Q  Embarked_S  \n",
       "0         A/5 21171   7.2500   NaN        S           0           1  \n",
       "1          PC 17599  71.2833   C85        C           0           0  \n",
       "2  STON/O2. 3101282   7.9250   NaN        S           0           1  \n",
       "3            113803  53.1000  C123        S           0           1  \n",
       "4            373450   8.0500   NaN        S           0           1  "
      ]
     },
     "execution_count": 86,
     "metadata": {},
     "output_type": "execute_result"
    }
   ],
   "source": [
    "# read in the data\n",
    "titanic = pd.read_csv('titanic_train.csv')\n",
    "\n",
    "# encode female as 0 and male as 1\n",
    "titanic['Sex'] = titanic.Sex.map({'female': 0, 'male': 1})\n",
    "\n",
    "# fill in the missing values for age with the median age\n",
    "titanic.Age.fillna(titanic.Age.median(), inplace = True)\n",
    "\n",
    "# create a DataFrame of dummy variables for Embarked\n",
    "embarked_dummies = pd.get_dummies(titanic.Embarked, prefix = 'Embarked')\n",
    "embarked_dummies.drop(embarked_dummies.columns[0], axis=1, inplace=True)\n",
    "\n",
    "# concatenate the original DataFrame and the dummy DataFrame\n",
    "titanic = pd.concat([titanic, embarked_dummies], axis=1)\n",
    "\n",
    "# print the updated DataFrame\n",
    "titanic.head()"
   ]
  },
  {
   "cell_type": "markdown",
   "metadata": {},
   "source": [
    "- **Survived:** 0=died, 1=survived (response variable)\n",
    "- **Pclass:** 1=first class, 2=second class, 3=third class\n",
    "    - What will happen if the tree splits on this feature?\n",
    "- **Sex:** 0=female, 1=male\n",
    "- **Age:** numeric value\n",
    "- **Embarked:** C or Q or S"
   ]
  },
  {
   "cell_type": "code",
   "execution_count": 87,
   "metadata": {},
   "outputs": [
    {
     "data": {
      "text/html": [
       "<div>\n",
       "<style scoped>\n",
       "    .dataframe tbody tr th:only-of-type {\n",
       "        vertical-align: middle;\n",
       "    }\n",
       "\n",
       "    .dataframe tbody tr th {\n",
       "        vertical-align: top;\n",
       "    }\n",
       "\n",
       "    .dataframe thead th {\n",
       "        text-align: right;\n",
       "    }\n",
       "</style>\n",
       "<table border=\"1\" class=\"dataframe\">\n",
       "  <thead>\n",
       "    <tr style=\"text-align: right;\">\n",
       "      <th>Survived</th>\n",
       "      <th>0</th>\n",
       "      <th>1</th>\n",
       "    </tr>\n",
       "    <tr>\n",
       "      <th>Pclass</th>\n",
       "      <th></th>\n",
       "      <th></th>\n",
       "    </tr>\n",
       "  </thead>\n",
       "  <tbody>\n",
       "    <tr>\n",
       "      <th>1</th>\n",
       "      <td>80</td>\n",
       "      <td>136</td>\n",
       "    </tr>\n",
       "    <tr>\n",
       "      <th>2</th>\n",
       "      <td>97</td>\n",
       "      <td>87</td>\n",
       "    </tr>\n",
       "    <tr>\n",
       "      <th>3</th>\n",
       "      <td>372</td>\n",
       "      <td>119</td>\n",
       "    </tr>\n",
       "  </tbody>\n",
       "</table>\n",
       "</div>"
      ],
      "text/plain": [
       "Survived    0    1\n",
       "Pclass            \n",
       "1          80  136\n",
       "2          97   87\n",
       "3         372  119"
      ]
     },
     "execution_count": 87,
     "metadata": {},
     "output_type": "execute_result"
    }
   ],
   "source": [
    "pd.crosstab(titanic.Pclass, titanic.Survived)"
   ]
  },
  {
   "cell_type": "code",
   "execution_count": null,
   "metadata": {},
   "outputs": [],
   "source": [
    "titanic.corr()"
   ]
  },
  {
   "cell_type": "code",
   "execution_count": 88,
   "metadata": {},
   "outputs": [],
   "source": [
    "titanic.loc[:, 'Pclass'] = titanic.Pclass.map({1:3, 2:2, 3:1})"
   ]
  },
  {
   "cell_type": "code",
   "execution_count": 89,
   "metadata": {},
   "outputs": [],
   "source": [
    "# define X and y\n",
    "feature_cols = ['Pclass', 'Sex', 'Age', 'Embarked_Q', 'Embarked_S']\n",
    "X_train = titanic[feature_cols]\n",
    "y_train = titanic.Survived"
   ]
  },
  {
   "cell_type": "code",
   "execution_count": 90,
   "metadata": {},
   "outputs": [],
   "source": [
    "# fit a classification tree with max_depth = 3 on all data\n",
    "from sklearn.tree import DecisionTreeClassifier\n",
    "from sklearn.metrics import roc_auc_score, classification_report, confusion_matrix, accuracy_score"
   ]
  },
  {
   "cell_type": "markdown",
   "metadata": {},
   "source": [
    "### model tuning and cross validation"
   ]
  },
  {
   "cell_type": "code",
   "execution_count": 95,
   "metadata": {},
   "outputs": [],
   "source": [
    "from sklearn.model_selection import GridSearchCV"
   ]
  },
  {
   "cell_type": "code",
   "execution_count": 97,
   "metadata": {},
   "outputs": [
    {
     "name": "stdout",
     "output_type": "stream",
     "text": [
      "Fitting 10 folds for each of 180 candidates, totalling 1800 fits\n"
     ]
    }
   ],
   "source": [
    "parm = { 'max_depth': range(2, 8),   # [2, 3, 4, 5, 6, 7] - 6\n",
    "                'min_samples_split': range(2, 5),   # [2, 3, 4]  - 3\n",
    "                    'min_samples_leaf': range(1, 11) # [ 1, 2, 3, .... 10] - 10\n",
    "               }\n",
    "\n",
    "gscv_dt = GridSearchCV( estimator = DecisionTreeClassifier( random_state = 20 ),\n",
    "                param_grid = parm, \n",
    "                    cv = 10, \n",
    "                      scoring = 'roc_auc', \n",
    "                        n_jobs = -1,\n",
    "                            verbose = 10).fit( X_train, y_train )"
   ]
  },
  {
   "cell_type": "code",
   "execution_count": 98,
   "metadata": {},
   "outputs": [
    {
     "data": {
      "text/plain": [
       "{'max_depth': 4, 'min_samples_leaf': 3, 'min_samples_split': 2}"
      ]
     },
     "execution_count": 98,
     "metadata": {},
     "output_type": "execute_result"
    }
   ],
   "source": [
    "gscv_dt.best_params_"
   ]
  },
  {
   "cell_type": "code",
   "execution_count": 99,
   "metadata": {},
   "outputs": [
    {
     "data": {
      "text/plain": [
       "0.8545129445717681"
      ]
     },
     "execution_count": 99,
     "metadata": {},
     "output_type": "execute_result"
    }
   ],
   "source": [
    "gscv_dt.best_score_"
   ]
  },
  {
   "cell_type": "markdown",
   "metadata": {},
   "source": [
    "DecisionTreeClassifier( 'max_depth': 5, 'min_samples_leaf': 3, 'min_samples_split': 2, random_state = 20)"
   ]
  },
  {
   "cell_type": "code",
   "execution_count": 101,
   "metadata": {},
   "outputs": [],
   "source": [
    "y_predicted_train = gscv_dt.best_estimator_.predict_proba( X_train )[:, 1]"
   ]
  },
  {
   "cell_type": "code",
   "execution_count": 102,
   "metadata": {},
   "outputs": [
    {
     "data": {
      "text/plain": [
       "0.869478264574612"
      ]
     },
     "execution_count": 102,
     "metadata": {},
     "output_type": "execute_result"
    }
   ],
   "source": [
    "roc_auc_score( y_train, y_predicted_train )"
   ]
  },
  {
   "cell_type": "markdown",
   "metadata": {},
   "source": [
    "#### get the best cutoff"
   ]
  },
  {
   "cell_type": "code",
   "execution_count": 103,
   "metadata": {},
   "outputs": [],
   "source": [
    "def fn_Get_Best_Cutoff( y_actual, y_predicted_proba ):\n",
    "    \n",
    "    # create a df to store the values\n",
    "    df_best_cutoff = pd.DataFrame()\n",
    "    \n",
    "    # run the loop to get the best cutoff probability\n",
    "    for iCutoff in np.arange( 0, 1, 0.01 ):\n",
    "        \n",
    "        # get the predicted y at the cutoff value\n",
    "        y_predicted = np.where( y_predicted_proba > iCutoff, 1, 0 )\n",
    "        \n",
    "        # get the tp, tn, fp, fn\n",
    "        cm = confusion_matrix(y_train, y_predicted)[::-1, ::-1]\n",
    "        tp, tn, fp, fn, obs = cm[0, 0], cm[1, 1], cm[1, 0], cm[0, 1], cm.sum()\n",
    "        senstivity = tp / (tp + fn)\n",
    "        specificty = tn / (fp + tn)\n",
    "        s_s = senstivity + specificty\n",
    "        accuracy = ( tp + tn )/obs\n",
    "        \n",
    "        # create a temp dataframe to store the informtion\n",
    "        temp = pd.DataFrame([iCutoff, tp, tn, fp, fn, obs, senstivity, specificty, accuracy, s_s]).T\n",
    "        \n",
    "        # update the dataframe with the new row\n",
    "        df_best_cutoff = pd.concat([df_best_cutoff, temp], axis = 0)\n",
    "    \n",
    "    # give the proper column names\n",
    "    df_best_cutoff.columns = ['iCutoff', 'tp', 'tn', 'fp', 'fn', 'obs', 'senstivity', 'specificty', \n",
    "                              'accuracy', 's_s']\n",
    "    \n",
    "    # get the best cutoff\n",
    "    best_cutoff = df_best_cutoff.loc[ df_best_cutoff.s_s == df_best_cutoff.s_s.max(), 'iCutoff' ]\n",
    "\n",
    "    # return the value\n",
    "    return best_cutoff.iloc[0]"
   ]
  },
  {
   "cell_type": "code",
   "execution_count": 104,
   "metadata": {},
   "outputs": [
    {
     "data": {
      "text/plain": [
       "0.34"
      ]
     },
     "execution_count": 104,
     "metadata": {},
     "output_type": "execute_result"
    }
   ],
   "source": [
    "fn_Get_Best_Cutoff(y_train, y_predicted_train)"
   ]
  },
  {
   "cell_type": "code",
   "execution_count": 105,
   "metadata": {},
   "outputs": [],
   "source": [
    "y_predicted = np.where( y_predicted_train > 0.34, 1, 0 )"
   ]
  },
  {
   "cell_type": "code",
   "execution_count": 106,
   "metadata": {},
   "outputs": [],
   "source": [
    "from sklearn.metrics import confusion_matrix, accuracy_score, classification_report"
   ]
  },
  {
   "cell_type": "code",
   "execution_count": 107,
   "metadata": {},
   "outputs": [
    {
     "data": {
      "text/plain": [
       "0.792368125701459"
      ]
     },
     "execution_count": 107,
     "metadata": {},
     "output_type": "execute_result"
    }
   ],
   "source": [
    "accuracy_score( y_train, y_predicted )"
   ]
  },
  {
   "cell_type": "code",
   "execution_count": 108,
   "metadata": {},
   "outputs": [
    {
     "name": "stdout",
     "output_type": "stream",
     "text": [
      "              precision    recall  f1-score   support\n",
      "\n",
      "           0       0.88      0.77      0.82       549\n",
      "           1       0.69      0.84      0.76       342\n",
      "\n",
      "    accuracy                           0.79       891\n",
      "   macro avg       0.79      0.80      0.79       891\n",
      "weighted avg       0.81      0.79      0.79       891\n",
      "\n"
     ]
    }
   ],
   "source": [
    "print(classification_report(y_train, y_predicted))"
   ]
  },
  {
   "cell_type": "code",
   "execution_count": 109,
   "metadata": {},
   "outputs": [
    {
     "data": {
      "text/html": [
       "<div>\n",
       "<style scoped>\n",
       "    .dataframe tbody tr th:only-of-type {\n",
       "        vertical-align: middle;\n",
       "    }\n",
       "\n",
       "    .dataframe tbody tr th {\n",
       "        vertical-align: top;\n",
       "    }\n",
       "\n",
       "    .dataframe thead th {\n",
       "        text-align: right;\n",
       "    }\n",
       "</style>\n",
       "<table border=\"1\" class=\"dataframe\">\n",
       "  <thead>\n",
       "    <tr style=\"text-align: right;\">\n",
       "      <th></th>\n",
       "      <th>feature</th>\n",
       "      <th>importance</th>\n",
       "    </tr>\n",
       "  </thead>\n",
       "  <tbody>\n",
       "    <tr>\n",
       "      <th>0</th>\n",
       "      <td>Pclass</td>\n",
       "      <td>0.172092</td>\n",
       "    </tr>\n",
       "    <tr>\n",
       "      <th>1</th>\n",
       "      <td>Sex</td>\n",
       "      <td>0.415622</td>\n",
       "    </tr>\n",
       "    <tr>\n",
       "      <th>2</th>\n",
       "      <td>Age</td>\n",
       "      <td>0.354066</td>\n",
       "    </tr>\n",
       "    <tr>\n",
       "      <th>3</th>\n",
       "      <td>Embarked_Q</td>\n",
       "      <td>0.007933</td>\n",
       "    </tr>\n",
       "    <tr>\n",
       "      <th>4</th>\n",
       "      <td>Embarked_S</td>\n",
       "      <td>0.050288</td>\n",
       "    </tr>\n",
       "  </tbody>\n",
       "</table>\n",
       "</div>"
      ],
      "text/plain": [
       "      feature  importance\n",
       "0      Pclass    0.172092\n",
       "1         Sex    0.415622\n",
       "2         Age    0.354066\n",
       "3  Embarked_Q    0.007933\n",
       "4  Embarked_S    0.050288"
      ]
     },
     "execution_count": 109,
     "metadata": {},
     "output_type": "execute_result"
    }
   ],
   "source": [
    "# compute the feature importances\n",
    "pd.DataFrame({'feature': feature_cols, 'importance': treeclf.feature_importances_})"
   ]
  },
  {
   "cell_type": "markdown",
   "metadata": {},
   "source": [
    "# Part 3: Comparing decision trees with other models\n",
    "\n",
    "**Advantages of decision trees:**\n",
    "\n",
    "- Can be used for regression or classification\n",
    "- Can be displayed graphically\n",
    "- Highly interpretable\n",
    "- Can be specified as a series of rules, and more closely approximate human decision-making than other models\n",
    "- Prediction is fast\n",
    "- Features don't need scaling\n",
    "- Automatically learns feature interactions\n",
    "- Tends to ignore irrelevant features\n",
    "- Non-parametric (will outperform linear models if relationship between features and response is highly non-linear)"
   ]
  },
  {
   "cell_type": "markdown",
   "metadata": {},
   "source": [
    "![Trees versus linear models](images/tree_vs_linear.png)"
   ]
  },
  {
   "cell_type": "markdown",
   "metadata": {},
   "source": [
    "**Disadvantages of decision trees:**\n",
    "\n",
    "- Performance is (generally) not competitive with the best supervised learning methods\n",
    "    - Use Ensembles \n",
    "- Can easily overfit the training data (tuning is required)\n",
    "    - Use GridSearch\n",
    "- Small variations in the data can result in a completely different tree (high variance)\n",
    "    - Use Ensembles to reduce the variance\n",
    "- Recursive binary splitting makes \"locally optimal\" decisions that may not result in a globally optimal tree\n",
    "- Doesn't tend to work well if the classes are highly unbalanced\n",
    "- Doesn't tend to work well with very small datasets"
   ]
  },
  {
   "cell_type": "code",
   "execution_count": null,
   "metadata": {},
   "outputs": [],
   "source": [
    "DecisionTreeRegressor, DecisionTreeClassifier"
   ]
  }
 ],
 "metadata": {
  "anaconda-cloud": {},
  "kernelspec": {
   "display_name": "Python 3",
   "language": "python",
   "name": "python3"
  },
  "language_info": {
   "codemirror_mode": {
    "name": "ipython",
    "version": 3
   },
   "file_extension": ".py",
   "mimetype": "text/x-python",
   "name": "python",
   "nbconvert_exporter": "python",
   "pygments_lexer": "ipython3",
   "version": "3.8.8"
  },
  "widgets": {
   "state": {},
   "version": "1.1.2"
  }
 },
 "nbformat": 4,
 "nbformat_minor": 1
}
