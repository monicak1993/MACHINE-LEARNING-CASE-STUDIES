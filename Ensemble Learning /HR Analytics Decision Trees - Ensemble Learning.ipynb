{
 "cells": [
  {
   "cell_type": "markdown",
   "metadata": {},
   "source": [
    "### HR - Attrition Analytics -  Exploratory Analysis & Predictive Modeling\n",
    "> Human Resources are critical resources of any organiazation. Organizations spend huge amount of time and money to hire <br>\n",
    "> and nuture their employees. It is a huge loss for companies if employees leave, especially the key resources.  <br>\n",
    "> So if HR can predict weather employees are at risk for leaving the company, it will allow them to identify the attrition  <br>\n",
    "> risks and help understand and provie necessary support to retain those employees or do preventive hiring to minimize the  <br>\n",
    "> impact to the orgranization."
   ]
  },
  {
   "cell_type": "markdown",
   "metadata": {},
   "source": [
    "### DATA ATRRIBUTES\n",
    "\n",
    "satisfaction_level: Employee satisfaction level <br>\n",
    "last_evaluation: Last evaluation  <br>\n",
    "number_project: Number of projects  <br>\n",
    "average_montly_hours: Average monthly hours <br>\n",
    "time_spend_company: Time spent at the company <br>\n",
    "Work_accident: Whether they have had a work accident <br>\n",
    "promotion_last_5years: Whether they have had a promotion in the last 5 years <br>\n",
    "department: Department <br>\n",
    "salary: Salary <br>\n",
    "left: Whether the employee has left <br>"
   ]
  },
  {
   "cell_type": "code",
   "execution_count": 1,
   "metadata": {},
   "outputs": [],
   "source": [
    "import pandas as pd\n",
    "import numpy as np\n",
    "import matplotlib.pyplot as plt\n",
    "import seaborn as sns\n",
    "%matplotlib inline"
   ]
  },
  {
   "cell_type": "code",
   "execution_count": 2,
   "metadata": {},
   "outputs": [],
   "source": [
    "from sklearn import metrics"
   ]
  },
  {
   "cell_type": "markdown",
   "metadata": {},
   "source": [
    "### UDF's"
   ]
  },
  {
   "cell_type": "code",
   "execution_count": 3,
   "metadata": {},
   "outputs": [],
   "source": [
    "# Create Data audit Report for continuous variables\n",
    "def continuous_var_summary(x):\n",
    "    return pd.Series([x.count(), x.isnull().sum(), x.sum(), x.mean(), x.median(),  \n",
    "                      x.std(), x.var(), x.min(), x.quantile(0.01), x.quantile(0.05),\n",
    "                          x.quantile(0.10),x.quantile(0.25),x.quantile(0.50),x.quantile(0.75), \n",
    "                              x.quantile(0.90),x.quantile(0.95), x.quantile(0.99),x.max()], \n",
    "                  index = ['N', 'NMISS', 'SUM', 'MEAN','MEDIAN', 'STD', 'VAR', 'MIN', 'P1', \n",
    "                               'P5' ,'P10' ,'P25' ,'P50' ,'P75' ,'P90' ,'P95' ,'P99' ,'MAX'])"
   ]
  },
  {
   "cell_type": "code",
   "execution_count": 4,
   "metadata": {},
   "outputs": [],
   "source": [
    "# Create Data audit Report for categorical variables\n",
    "def categorical_var_summary(x):\n",
    "    Mode = x.value_counts().sort_values(ascending = False)[0:1].reset_index()\n",
    "    return pd.Series([x.count(), x.isnull().sum(), Mode.iloc[0, 0], Mode.iloc[0, 1], \n",
    "                          round(Mode.iloc[0, 1] * 100/x.count(), 2)], \n",
    "                  index = ['N', 'NMISS', 'MODE', 'FREQ', 'PERCENT'])"
   ]
  },
  {
   "cell_type": "code",
   "execution_count": 5,
   "metadata": {},
   "outputs": [],
   "source": [
    "# Missing value imputation for categorical and continuous variables\n",
    "def missing_imputation(x, stats = 'mean'):\n",
    "    if (x.dtypes == 'float64') | (x.dtypes == 'int64'):\n",
    "        x = x.fillna(x.mean()) if stats == 'mean' else x.fillna(x.median())\n",
    "    return x"
   ]
  },
  {
   "cell_type": "code",
   "execution_count": 6,
   "metadata": {},
   "outputs": [],
   "source": [
    "# An utility function to create dummy variable\n",
    "def create_dummies(df, colname):\n",
    "    col_dummies = pd.get_dummies(df[colname], prefix = colname, drop_first = True)\n",
    "    df = pd.concat([df, col_dummies], axis = 1)\n",
    "    df.drop(colname, axis = 1, inplace = True )\n",
    "    return df"
   ]
  },
  {
   "cell_type": "markdown",
   "metadata": {},
   "source": [
    "### data import and inspection "
   ]
  },
  {
   "cell_type": "code",
   "execution_count": 7,
   "metadata": {},
   "outputs": [],
   "source": [
    "# Load the data\n",
    "hr_df = pd.read_csv('D:/SampleData/HR_attrition_data.csv' )"
   ]
  },
  {
   "cell_type": "code",
   "execution_count": 8,
   "metadata": {},
   "outputs": [
    {
     "data": {
      "text/plain": [
       "Index(['satisfaction_level', 'last_evaluation', 'number_project',\n",
       "       'average_montly_hours', 'time_spend_company', 'Work_accident', 'left',\n",
       "       'promotion_last_5years', 'department', 'salary'],\n",
       "      dtype='object')"
      ]
     },
     "execution_count": 8,
     "metadata": {},
     "output_type": "execute_result"
    }
   ],
   "source": [
    "# list all columns\n",
    "hr_df.columns"
   ]
  },
  {
   "cell_type": "code",
   "execution_count": 9,
   "metadata": {},
   "outputs": [
    {
     "name": "stdout",
     "output_type": "stream",
     "text": [
      "<class 'pandas.core.frame.DataFrame'>\n",
      "RangeIndex: 14999 entries, 0 to 14998\n",
      "Data columns (total 10 columns):\n",
      " #   Column                 Non-Null Count  Dtype  \n",
      "---  ------                 --------------  -----  \n",
      " 0   satisfaction_level     14999 non-null  float64\n",
      " 1   last_evaluation        14999 non-null  float64\n",
      " 2   number_project         14999 non-null  int64  \n",
      " 3   average_montly_hours   14999 non-null  int64  \n",
      " 4   time_spend_company     14999 non-null  int64  \n",
      " 5   Work_accident          14999 non-null  int64  \n",
      " 6   left                   14999 non-null  int64  \n",
      " 7   promotion_last_5years  14999 non-null  int64  \n",
      " 8   department             14999 non-null  object \n",
      " 9   salary                 14999 non-null  object \n",
      "dtypes: float64(2), int64(6), object(2)\n",
      "memory usage: 1.1+ MB\n"
     ]
    }
   ],
   "source": [
    "# meta data\n",
    "hr_df.info()"
   ]
  },
  {
   "cell_type": "code",
   "execution_count": 10,
   "metadata": {},
   "outputs": [
    {
     "data": {
      "text/html": [
       "<div>\n",
       "<style scoped>\n",
       "    .dataframe tbody tr th:only-of-type {\n",
       "        vertical-align: middle;\n",
       "    }\n",
       "\n",
       "    .dataframe tbody tr th {\n",
       "        vertical-align: top;\n",
       "    }\n",
       "\n",
       "    .dataframe thead th {\n",
       "        text-align: right;\n",
       "    }\n",
       "</style>\n",
       "<table border=\"1\" class=\"dataframe\">\n",
       "  <thead>\n",
       "    <tr style=\"text-align: right;\">\n",
       "      <th></th>\n",
       "      <th>satisfaction_level</th>\n",
       "      <th>last_evaluation</th>\n",
       "      <th>number_project</th>\n",
       "      <th>average_montly_hours</th>\n",
       "      <th>time_spend_company</th>\n",
       "      <th>Work_accident</th>\n",
       "      <th>left</th>\n",
       "      <th>promotion_last_5years</th>\n",
       "      <th>department</th>\n",
       "      <th>salary</th>\n",
       "    </tr>\n",
       "  </thead>\n",
       "  <tbody>\n",
       "    <tr>\n",
       "      <th>0</th>\n",
       "      <td>0.38</td>\n",
       "      <td>0.53</td>\n",
       "      <td>2</td>\n",
       "      <td>157</td>\n",
       "      <td>3</td>\n",
       "      <td>0</td>\n",
       "      <td>1</td>\n",
       "      <td>0</td>\n",
       "      <td>sales</td>\n",
       "      <td>low</td>\n",
       "    </tr>\n",
       "    <tr>\n",
       "      <th>1</th>\n",
       "      <td>0.80</td>\n",
       "      <td>0.86</td>\n",
       "      <td>5</td>\n",
       "      <td>262</td>\n",
       "      <td>6</td>\n",
       "      <td>0</td>\n",
       "      <td>1</td>\n",
       "      <td>0</td>\n",
       "      <td>sales</td>\n",
       "      <td>medium</td>\n",
       "    </tr>\n",
       "    <tr>\n",
       "      <th>2</th>\n",
       "      <td>0.11</td>\n",
       "      <td>0.88</td>\n",
       "      <td>7</td>\n",
       "      <td>272</td>\n",
       "      <td>4</td>\n",
       "      <td>0</td>\n",
       "      <td>1</td>\n",
       "      <td>0</td>\n",
       "      <td>sales</td>\n",
       "      <td>medium</td>\n",
       "    </tr>\n",
       "    <tr>\n",
       "      <th>3</th>\n",
       "      <td>0.72</td>\n",
       "      <td>0.87</td>\n",
       "      <td>5</td>\n",
       "      <td>223</td>\n",
       "      <td>5</td>\n",
       "      <td>0</td>\n",
       "      <td>1</td>\n",
       "      <td>0</td>\n",
       "      <td>sales</td>\n",
       "      <td>low</td>\n",
       "    </tr>\n",
       "    <tr>\n",
       "      <th>4</th>\n",
       "      <td>0.37</td>\n",
       "      <td>0.52</td>\n",
       "      <td>2</td>\n",
       "      <td>159</td>\n",
       "      <td>3</td>\n",
       "      <td>0</td>\n",
       "      <td>1</td>\n",
       "      <td>0</td>\n",
       "      <td>sales</td>\n",
       "      <td>low</td>\n",
       "    </tr>\n",
       "  </tbody>\n",
       "</table>\n",
       "</div>"
      ],
      "text/plain": [
       "   satisfaction_level  last_evaluation  number_project  average_montly_hours  \\\n",
       "0                0.38             0.53               2                   157   \n",
       "1                0.80             0.86               5                   262   \n",
       "2                0.11             0.88               7                   272   \n",
       "3                0.72             0.87               5                   223   \n",
       "4                0.37             0.52               2                   159   \n",
       "\n",
       "   time_spend_company  Work_accident  left  promotion_last_5years department  \\\n",
       "0                   3              0     1                      0      sales   \n",
       "1                   6              0     1                      0      sales   \n",
       "2                   4              0     1                      0      sales   \n",
       "3                   5              0     1                      0      sales   \n",
       "4                   3              0     1                      0      sales   \n",
       "\n",
       "   salary  \n",
       "0     low  \n",
       "1  medium  \n",
       "2  medium  \n",
       "3     low  \n",
       "4     low  "
      ]
     },
     "execution_count": 10,
     "metadata": {},
     "output_type": "execute_result"
    }
   ],
   "source": [
    "hr_df.head()"
   ]
  },
  {
   "cell_type": "code",
   "execution_count": 11,
   "metadata": {},
   "outputs": [
    {
     "data": {
      "text/plain": [
       "satisfaction_level        92\n",
       "last_evaluation           65\n",
       "number_project             6\n",
       "average_montly_hours     215\n",
       "time_spend_company         8\n",
       "Work_accident              2\n",
       "left                       2\n",
       "promotion_last_5years      2\n",
       "department                10\n",
       "salary                     3\n",
       "dtype: int64"
      ]
     },
     "execution_count": 11,
     "metadata": {},
     "output_type": "execute_result"
    }
   ],
   "source": [
    "hr_df.nunique()"
   ]
  },
  {
   "cell_type": "code",
   "execution_count": 12,
   "metadata": {},
   "outputs": [
    {
     "data": {
      "text/html": [
       "<div>\n",
       "<style scoped>\n",
       "    .dataframe tbody tr th:only-of-type {\n",
       "        vertical-align: middle;\n",
       "    }\n",
       "\n",
       "    .dataframe tbody tr th {\n",
       "        vertical-align: top;\n",
       "    }\n",
       "\n",
       "    .dataframe thead th {\n",
       "        text-align: right;\n",
       "    }\n",
       "</style>\n",
       "<table border=\"1\" class=\"dataframe\">\n",
       "  <thead>\n",
       "    <tr style=\"text-align: right;\">\n",
       "      <th></th>\n",
       "      <th>satisfaction_level</th>\n",
       "      <th>last_evaluation</th>\n",
       "      <th>number_project</th>\n",
       "      <th>average_montly_hours</th>\n",
       "      <th>time_spend_company</th>\n",
       "      <th>Work_accident</th>\n",
       "      <th>left</th>\n",
       "      <th>promotion_last_5years</th>\n",
       "    </tr>\n",
       "  </thead>\n",
       "  <tbody>\n",
       "    <tr>\n",
       "      <th>N</th>\n",
       "      <td>14999.000000</td>\n",
       "      <td>14999.000000</td>\n",
       "      <td>14999.000000</td>\n",
       "      <td>1.499900e+04</td>\n",
       "      <td>14999.000000</td>\n",
       "      <td>14999.000000</td>\n",
       "      <td>14999.000000</td>\n",
       "      <td>14999.000000</td>\n",
       "    </tr>\n",
       "    <tr>\n",
       "      <th>NMISS</th>\n",
       "      <td>0.000000</td>\n",
       "      <td>0.000000</td>\n",
       "      <td>0.000000</td>\n",
       "      <td>0.000000e+00</td>\n",
       "      <td>0.000000</td>\n",
       "      <td>0.000000</td>\n",
       "      <td>0.000000</td>\n",
       "      <td>0.000000</td>\n",
       "    </tr>\n",
       "    <tr>\n",
       "      <th>SUM</th>\n",
       "      <td>9191.890000</td>\n",
       "      <td>10740.810000</td>\n",
       "      <td>57042.000000</td>\n",
       "      <td>3.015554e+06</td>\n",
       "      <td>52470.000000</td>\n",
       "      <td>2169.000000</td>\n",
       "      <td>3571.000000</td>\n",
       "      <td>319.000000</td>\n",
       "    </tr>\n",
       "    <tr>\n",
       "      <th>MEAN</th>\n",
       "      <td>0.612834</td>\n",
       "      <td>0.716102</td>\n",
       "      <td>3.803054</td>\n",
       "      <td>2.010503e+02</td>\n",
       "      <td>3.498233</td>\n",
       "      <td>0.144610</td>\n",
       "      <td>0.238083</td>\n",
       "      <td>0.021268</td>\n",
       "    </tr>\n",
       "    <tr>\n",
       "      <th>MEDIAN</th>\n",
       "      <td>0.640000</td>\n",
       "      <td>0.720000</td>\n",
       "      <td>4.000000</td>\n",
       "      <td>2.000000e+02</td>\n",
       "      <td>3.000000</td>\n",
       "      <td>0.000000</td>\n",
       "      <td>0.000000</td>\n",
       "      <td>0.000000</td>\n",
       "    </tr>\n",
       "    <tr>\n",
       "      <th>STD</th>\n",
       "      <td>0.248631</td>\n",
       "      <td>0.171169</td>\n",
       "      <td>1.232592</td>\n",
       "      <td>4.994310e+01</td>\n",
       "      <td>1.460136</td>\n",
       "      <td>0.351719</td>\n",
       "      <td>0.425924</td>\n",
       "      <td>0.144281</td>\n",
       "    </tr>\n",
       "    <tr>\n",
       "      <th>VAR</th>\n",
       "      <td>0.061817</td>\n",
       "      <td>0.029299</td>\n",
       "      <td>1.519284</td>\n",
       "      <td>2.494313e+03</td>\n",
       "      <td>2.131998</td>\n",
       "      <td>0.123706</td>\n",
       "      <td>0.181411</td>\n",
       "      <td>0.020817</td>\n",
       "    </tr>\n",
       "    <tr>\n",
       "      <th>MIN</th>\n",
       "      <td>0.090000</td>\n",
       "      <td>0.360000</td>\n",
       "      <td>2.000000</td>\n",
       "      <td>9.600000e+01</td>\n",
       "      <td>2.000000</td>\n",
       "      <td>0.000000</td>\n",
       "      <td>0.000000</td>\n",
       "      <td>0.000000</td>\n",
       "    </tr>\n",
       "    <tr>\n",
       "      <th>P1</th>\n",
       "      <td>0.090000</td>\n",
       "      <td>0.390000</td>\n",
       "      <td>2.000000</td>\n",
       "      <td>1.040000e+02</td>\n",
       "      <td>2.000000</td>\n",
       "      <td>0.000000</td>\n",
       "      <td>0.000000</td>\n",
       "      <td>0.000000</td>\n",
       "    </tr>\n",
       "    <tr>\n",
       "      <th>P5</th>\n",
       "      <td>0.110000</td>\n",
       "      <td>0.460000</td>\n",
       "      <td>2.000000</td>\n",
       "      <td>1.300000e+02</td>\n",
       "      <td>2.000000</td>\n",
       "      <td>0.000000</td>\n",
       "      <td>0.000000</td>\n",
       "      <td>0.000000</td>\n",
       "    </tr>\n",
       "    <tr>\n",
       "      <th>P10</th>\n",
       "      <td>0.210000</td>\n",
       "      <td>0.490000</td>\n",
       "      <td>2.000000</td>\n",
       "      <td>1.370000e+02</td>\n",
       "      <td>2.000000</td>\n",
       "      <td>0.000000</td>\n",
       "      <td>0.000000</td>\n",
       "      <td>0.000000</td>\n",
       "    </tr>\n",
       "    <tr>\n",
       "      <th>P25</th>\n",
       "      <td>0.440000</td>\n",
       "      <td>0.560000</td>\n",
       "      <td>3.000000</td>\n",
       "      <td>1.560000e+02</td>\n",
       "      <td>3.000000</td>\n",
       "      <td>0.000000</td>\n",
       "      <td>0.000000</td>\n",
       "      <td>0.000000</td>\n",
       "    </tr>\n",
       "    <tr>\n",
       "      <th>P50</th>\n",
       "      <td>0.640000</td>\n",
       "      <td>0.720000</td>\n",
       "      <td>4.000000</td>\n",
       "      <td>2.000000e+02</td>\n",
       "      <td>3.000000</td>\n",
       "      <td>0.000000</td>\n",
       "      <td>0.000000</td>\n",
       "      <td>0.000000</td>\n",
       "    </tr>\n",
       "    <tr>\n",
       "      <th>P75</th>\n",
       "      <td>0.820000</td>\n",
       "      <td>0.870000</td>\n",
       "      <td>5.000000</td>\n",
       "      <td>2.450000e+02</td>\n",
       "      <td>4.000000</td>\n",
       "      <td>0.000000</td>\n",
       "      <td>0.000000</td>\n",
       "      <td>0.000000</td>\n",
       "    </tr>\n",
       "    <tr>\n",
       "      <th>P90</th>\n",
       "      <td>0.920000</td>\n",
       "      <td>0.950000</td>\n",
       "      <td>5.000000</td>\n",
       "      <td>2.670000e+02</td>\n",
       "      <td>5.000000</td>\n",
       "      <td>1.000000</td>\n",
       "      <td>1.000000</td>\n",
       "      <td>0.000000</td>\n",
       "    </tr>\n",
       "    <tr>\n",
       "      <th>P95</th>\n",
       "      <td>0.960000</td>\n",
       "      <td>0.980000</td>\n",
       "      <td>6.000000</td>\n",
       "      <td>2.750000e+02</td>\n",
       "      <td>6.000000</td>\n",
       "      <td>1.000000</td>\n",
       "      <td>1.000000</td>\n",
       "      <td>0.000000</td>\n",
       "    </tr>\n",
       "    <tr>\n",
       "      <th>P99</th>\n",
       "      <td>0.990000</td>\n",
       "      <td>1.000000</td>\n",
       "      <td>7.000000</td>\n",
       "      <td>3.010000e+02</td>\n",
       "      <td>10.000000</td>\n",
       "      <td>1.000000</td>\n",
       "      <td>1.000000</td>\n",
       "      <td>1.000000</td>\n",
       "    </tr>\n",
       "    <tr>\n",
       "      <th>MAX</th>\n",
       "      <td>1.000000</td>\n",
       "      <td>1.000000</td>\n",
       "      <td>7.000000</td>\n",
       "      <td>3.100000e+02</td>\n",
       "      <td>10.000000</td>\n",
       "      <td>1.000000</td>\n",
       "      <td>1.000000</td>\n",
       "      <td>1.000000</td>\n",
       "    </tr>\n",
       "  </tbody>\n",
       "</table>\n",
       "</div>"
      ],
      "text/plain": [
       "        satisfaction_level  last_evaluation  number_project  \\\n",
       "N             14999.000000     14999.000000    14999.000000   \n",
       "NMISS             0.000000         0.000000        0.000000   \n",
       "SUM            9191.890000     10740.810000    57042.000000   \n",
       "MEAN              0.612834         0.716102        3.803054   \n",
       "MEDIAN            0.640000         0.720000        4.000000   \n",
       "STD               0.248631         0.171169        1.232592   \n",
       "VAR               0.061817         0.029299        1.519284   \n",
       "MIN               0.090000         0.360000        2.000000   \n",
       "P1                0.090000         0.390000        2.000000   \n",
       "P5                0.110000         0.460000        2.000000   \n",
       "P10               0.210000         0.490000        2.000000   \n",
       "P25               0.440000         0.560000        3.000000   \n",
       "P50               0.640000         0.720000        4.000000   \n",
       "P75               0.820000         0.870000        5.000000   \n",
       "P90               0.920000         0.950000        5.000000   \n",
       "P95               0.960000         0.980000        6.000000   \n",
       "P99               0.990000         1.000000        7.000000   \n",
       "MAX               1.000000         1.000000        7.000000   \n",
       "\n",
       "        average_montly_hours  time_spend_company  Work_accident          left  \\\n",
       "N               1.499900e+04        14999.000000   14999.000000  14999.000000   \n",
       "NMISS           0.000000e+00            0.000000       0.000000      0.000000   \n",
       "SUM             3.015554e+06        52470.000000    2169.000000   3571.000000   \n",
       "MEAN            2.010503e+02            3.498233       0.144610      0.238083   \n",
       "MEDIAN          2.000000e+02            3.000000       0.000000      0.000000   \n",
       "STD             4.994310e+01            1.460136       0.351719      0.425924   \n",
       "VAR             2.494313e+03            2.131998       0.123706      0.181411   \n",
       "MIN             9.600000e+01            2.000000       0.000000      0.000000   \n",
       "P1              1.040000e+02            2.000000       0.000000      0.000000   \n",
       "P5              1.300000e+02            2.000000       0.000000      0.000000   \n",
       "P10             1.370000e+02            2.000000       0.000000      0.000000   \n",
       "P25             1.560000e+02            3.000000       0.000000      0.000000   \n",
       "P50             2.000000e+02            3.000000       0.000000      0.000000   \n",
       "P75             2.450000e+02            4.000000       0.000000      0.000000   \n",
       "P90             2.670000e+02            5.000000       1.000000      1.000000   \n",
       "P95             2.750000e+02            6.000000       1.000000      1.000000   \n",
       "P99             3.010000e+02           10.000000       1.000000      1.000000   \n",
       "MAX             3.100000e+02           10.000000       1.000000      1.000000   \n",
       "\n",
       "        promotion_last_5years  \n",
       "N                14999.000000  \n",
       "NMISS                0.000000  \n",
       "SUM                319.000000  \n",
       "MEAN                 0.021268  \n",
       "MEDIAN               0.000000  \n",
       "STD                  0.144281  \n",
       "VAR                  0.020817  \n",
       "MIN                  0.000000  \n",
       "P1                   0.000000  \n",
       "P5                   0.000000  \n",
       "P10                  0.000000  \n",
       "P25                  0.000000  \n",
       "P50                  0.000000  \n",
       "P75                  0.000000  \n",
       "P90                  0.000000  \n",
       "P95                  0.000000  \n",
       "P99                  1.000000  \n",
       "MAX                  1.000000  "
      ]
     },
     "execution_count": 12,
     "metadata": {},
     "output_type": "execute_result"
    }
   ],
   "source": [
    "hr_df.select_dtypes(['int64', 'float64']).apply(continuous_var_summary)"
   ]
  },
  {
   "cell_type": "markdown",
   "metadata": {},
   "source": [
    "The summary statistics for Work_accident, left and promotion_last_5years does not make sense, as they are categorical variables"
   ]
  },
  {
   "cell_type": "markdown",
   "metadata": {},
   "source": [
    "### PREDICTIVE MODEL: Build a model to predict if an employee will leave the company\n",
    "> dependant variable is **left**"
   ]
  },
  {
   "cell_type": "code",
   "execution_count": 13,
   "metadata": {},
   "outputs": [],
   "source": [
    "# Encoding Categorical Features\n",
    "numerical_features = ['satisfaction_level', 'last_evaluation', 'number_project',\n",
    "     'average_montly_hours', 'time_spend_company']\n",
    "\n",
    "categorical_features = ['Work_accident', 'promotion_last_5years', 'department', 'salary']"
   ]
  },
  {
   "cell_type": "code",
   "execution_count": 14,
   "metadata": {},
   "outputs": [],
   "source": [
    "for c_feature in categorical_features:\n",
    "    hr_df = create_dummies(hr_df, c_feature )"
   ]
  },
  {
   "cell_type": "code",
   "execution_count": 15,
   "metadata": {},
   "outputs": [
    {
     "data": {
      "text/html": [
       "<div>\n",
       "<style scoped>\n",
       "    .dataframe tbody tr th:only-of-type {\n",
       "        vertical-align: middle;\n",
       "    }\n",
       "\n",
       "    .dataframe tbody tr th {\n",
       "        vertical-align: top;\n",
       "    }\n",
       "\n",
       "    .dataframe thead th {\n",
       "        text-align: right;\n",
       "    }\n",
       "</style>\n",
       "<table border=\"1\" class=\"dataframe\">\n",
       "  <thead>\n",
       "    <tr style=\"text-align: right;\">\n",
       "      <th></th>\n",
       "      <th>satisfaction_level</th>\n",
       "      <th>last_evaluation</th>\n",
       "      <th>number_project</th>\n",
       "      <th>average_montly_hours</th>\n",
       "      <th>time_spend_company</th>\n",
       "      <th>left</th>\n",
       "      <th>Work_accident_1</th>\n",
       "      <th>promotion_last_5years_1</th>\n",
       "      <th>department_RandD</th>\n",
       "      <th>department_accounting</th>\n",
       "      <th>department_hr</th>\n",
       "      <th>department_management</th>\n",
       "      <th>department_marketing</th>\n",
       "      <th>department_product_mng</th>\n",
       "      <th>department_sales</th>\n",
       "      <th>department_support</th>\n",
       "      <th>department_technical</th>\n",
       "      <th>salary_low</th>\n",
       "      <th>salary_medium</th>\n",
       "    </tr>\n",
       "  </thead>\n",
       "  <tbody>\n",
       "    <tr>\n",
       "      <th>0</th>\n",
       "      <td>0.38</td>\n",
       "      <td>0.53</td>\n",
       "      <td>2</td>\n",
       "      <td>157</td>\n",
       "      <td>3</td>\n",
       "      <td>1</td>\n",
       "      <td>0</td>\n",
       "      <td>0</td>\n",
       "      <td>0</td>\n",
       "      <td>0</td>\n",
       "      <td>0</td>\n",
       "      <td>0</td>\n",
       "      <td>0</td>\n",
       "      <td>0</td>\n",
       "      <td>1</td>\n",
       "      <td>0</td>\n",
       "      <td>0</td>\n",
       "      <td>1</td>\n",
       "      <td>0</td>\n",
       "    </tr>\n",
       "    <tr>\n",
       "      <th>1</th>\n",
       "      <td>0.80</td>\n",
       "      <td>0.86</td>\n",
       "      <td>5</td>\n",
       "      <td>262</td>\n",
       "      <td>6</td>\n",
       "      <td>1</td>\n",
       "      <td>0</td>\n",
       "      <td>0</td>\n",
       "      <td>0</td>\n",
       "      <td>0</td>\n",
       "      <td>0</td>\n",
       "      <td>0</td>\n",
       "      <td>0</td>\n",
       "      <td>0</td>\n",
       "      <td>1</td>\n",
       "      <td>0</td>\n",
       "      <td>0</td>\n",
       "      <td>0</td>\n",
       "      <td>1</td>\n",
       "    </tr>\n",
       "    <tr>\n",
       "      <th>2</th>\n",
       "      <td>0.11</td>\n",
       "      <td>0.88</td>\n",
       "      <td>7</td>\n",
       "      <td>272</td>\n",
       "      <td>4</td>\n",
       "      <td>1</td>\n",
       "      <td>0</td>\n",
       "      <td>0</td>\n",
       "      <td>0</td>\n",
       "      <td>0</td>\n",
       "      <td>0</td>\n",
       "      <td>0</td>\n",
       "      <td>0</td>\n",
       "      <td>0</td>\n",
       "      <td>1</td>\n",
       "      <td>0</td>\n",
       "      <td>0</td>\n",
       "      <td>0</td>\n",
       "      <td>1</td>\n",
       "    </tr>\n",
       "    <tr>\n",
       "      <th>3</th>\n",
       "      <td>0.72</td>\n",
       "      <td>0.87</td>\n",
       "      <td>5</td>\n",
       "      <td>223</td>\n",
       "      <td>5</td>\n",
       "      <td>1</td>\n",
       "      <td>0</td>\n",
       "      <td>0</td>\n",
       "      <td>0</td>\n",
       "      <td>0</td>\n",
       "      <td>0</td>\n",
       "      <td>0</td>\n",
       "      <td>0</td>\n",
       "      <td>0</td>\n",
       "      <td>1</td>\n",
       "      <td>0</td>\n",
       "      <td>0</td>\n",
       "      <td>1</td>\n",
       "      <td>0</td>\n",
       "    </tr>\n",
       "    <tr>\n",
       "      <th>4</th>\n",
       "      <td>0.37</td>\n",
       "      <td>0.52</td>\n",
       "      <td>2</td>\n",
       "      <td>159</td>\n",
       "      <td>3</td>\n",
       "      <td>1</td>\n",
       "      <td>0</td>\n",
       "      <td>0</td>\n",
       "      <td>0</td>\n",
       "      <td>0</td>\n",
       "      <td>0</td>\n",
       "      <td>0</td>\n",
       "      <td>0</td>\n",
       "      <td>0</td>\n",
       "      <td>1</td>\n",
       "      <td>0</td>\n",
       "      <td>0</td>\n",
       "      <td>1</td>\n",
       "      <td>0</td>\n",
       "    </tr>\n",
       "  </tbody>\n",
       "</table>\n",
       "</div>"
      ],
      "text/plain": [
       "   satisfaction_level  last_evaluation  number_project  average_montly_hours  \\\n",
       "0                0.38             0.53               2                   157   \n",
       "1                0.80             0.86               5                   262   \n",
       "2                0.11             0.88               7                   272   \n",
       "3                0.72             0.87               5                   223   \n",
       "4                0.37             0.52               2                   159   \n",
       "\n",
       "   time_spend_company  left  Work_accident_1  promotion_last_5years_1  \\\n",
       "0                   3     1                0                        0   \n",
       "1                   6     1                0                        0   \n",
       "2                   4     1                0                        0   \n",
       "3                   5     1                0                        0   \n",
       "4                   3     1                0                        0   \n",
       "\n",
       "   department_RandD  department_accounting  department_hr  \\\n",
       "0                 0                      0              0   \n",
       "1                 0                      0              0   \n",
       "2                 0                      0              0   \n",
       "3                 0                      0              0   \n",
       "4                 0                      0              0   \n",
       "\n",
       "   department_management  department_marketing  department_product_mng  \\\n",
       "0                      0                     0                       0   \n",
       "1                      0                     0                       0   \n",
       "2                      0                     0                       0   \n",
       "3                      0                     0                       0   \n",
       "4                      0                     0                       0   \n",
       "\n",
       "   department_sales  department_support  department_technical  salary_low  \\\n",
       "0                 1                   0                     0           1   \n",
       "1                 1                   0                     0           0   \n",
       "2                 1                   0                     0           0   \n",
       "3                 1                   0                     0           1   \n",
       "4                 1                   0                     0           1   \n",
       "\n",
       "   salary_medium  \n",
       "0              0  \n",
       "1              1  \n",
       "2              1  \n",
       "3              0  \n",
       "4              0  "
      ]
     },
     "execution_count": 15,
     "metadata": {},
     "output_type": "execute_result"
    }
   ],
   "source": [
    "hr_df.head()"
   ]
  },
  {
   "cell_type": "code",
   "execution_count": 16,
   "metadata": {},
   "outputs": [],
   "source": [
    "# get all the feature variables\n",
    "feature_columns = hr_df.columns.difference( ['left'] )"
   ]
  },
  {
   "cell_type": "code",
   "execution_count": 17,
   "metadata": {},
   "outputs": [
    {
     "data": {
      "text/plain": [
       "Index(['Work_accident_1', 'average_montly_hours', 'department_RandD',\n",
       "       'department_accounting', 'department_hr', 'department_management',\n",
       "       'department_marketing', 'department_product_mng', 'department_sales',\n",
       "       'department_support', 'department_technical', 'last_evaluation',\n",
       "       'number_project', 'promotion_last_5years_1', 'salary_low',\n",
       "       'salary_medium', 'satisfaction_level', 'time_spend_company'],\n",
       "      dtype='object')"
      ]
     },
     "execution_count": 17,
     "metadata": {},
     "output_type": "execute_result"
    }
   ],
   "source": [
    "feature_columns"
   ]
  },
  {
   "cell_type": "code",
   "execution_count": 18,
   "metadata": {},
   "outputs": [
    {
     "data": {
      "text/plain": [
       "0    11428\n",
       "1     3571\n",
       "Name: left, dtype: int64"
      ]
     },
     "execution_count": 18,
     "metadata": {},
     "output_type": "execute_result"
    }
   ],
   "source": [
    "hr_df.left.value_counts()"
   ]
  },
  {
   "cell_type": "code",
   "execution_count": 19,
   "metadata": {},
   "outputs": [
    {
     "data": {
      "text/plain": [
       "0    0.761917\n",
       "1    0.238083\n",
       "Name: left, dtype: float64"
      ]
     },
     "execution_count": 19,
     "metadata": {},
     "output_type": "execute_result"
    }
   ],
   "source": [
    "hr_df.left.value_counts() / hr_df.shape[0]"
   ]
  },
  {
   "cell_type": "code",
   "execution_count": 20,
   "metadata": {},
   "outputs": [
    {
     "name": "stderr",
     "output_type": "stream",
     "text": [
      "C:\\Users\\DELL\\anaconda3\\lib\\site-packages\\seaborn\\_decorators.py:36: FutureWarning: Pass the following variable as a keyword arg: x. From version 0.12, the only valid positional argument will be `data`, and passing other arguments without an explicit keyword will result in an error or misinterpretation.\n",
      "  warnings.warn(\n"
     ]
    },
    {
     "data": {
      "image/png": "[encoded data removed]",
      "text/plain": [
       "<Figure size 432x288 with 1 Axes>"
      ]
     },
     "metadata": {
      "needs_background": "light"
     },
     "output_type": "display_data"
    }
   ],
   "source": [
    "sns.countplot(hr_df.left)\n",
    "plt.show()"
   ]
  },
  {
   "cell_type": "markdown",
   "metadata": {},
   "source": [
    "### data split for training and testing"
   ]
  },
  {
   "cell_type": "code",
   "execution_count": 21,
   "metadata": {},
   "outputs": [],
   "source": [
    "# import the package\n",
    "from sklearn.model_selection import train_test_split\n",
    "\n",
    "# get training and testing datasets\n",
    "train_X, test_X, train_y, test_y = train_test_split( hr_df[feature_columns], \n",
    "                                                        hr_df['left'], \n",
    "                                                        test_size = 0.3,\n",
    "                                                        random_state = 123)"
   ]
  },
  {
   "cell_type": "markdown",
   "metadata": {},
   "source": [
    "### build logistic regression model"
   ]
  },
  {
   "cell_type": "markdown",
   "metadata": {},
   "source": [
    "use TAB key to get the suggestions"
   ]
  },
  {
   "cell_type": "code",
   "execution_count": 22,
   "metadata": {},
   "outputs": [],
   "source": [
    "# Building Models\n",
    "from sklearn.linear_model import LogisticRegression\n",
    "from sklearn.metrics import roc_auc_score, classification_report, confusion_matrix, accuracy_score, roc_curve"
   ]
  },
  {
   "cell_type": "code",
   "execution_count": 23,
   "metadata": {},
   "outputs": [],
   "source": [
    "# define the model equation and fit the model on train data\n",
    "logreg = LogisticRegression( max_iter = 1000 ).fit( train_X, train_y )"
   ]
  },
  {
   "cell_type": "code",
   "execution_count": 24,
   "metadata": {
    "scrolled": true
   },
   "outputs": [
    {
     "data": {
      "text/html": [
       "<div>\n",
       "<style scoped>\n",
       "    .dataframe tbody tr th:only-of-type {\n",
       "        vertical-align: middle;\n",
       "    }\n",
       "\n",
       "    .dataframe tbody tr th {\n",
       "        vertical-align: top;\n",
       "    }\n",
       "\n",
       "    .dataframe thead th {\n",
       "        text-align: right;\n",
       "    }\n",
       "</style>\n",
       "<table border=\"1\" class=\"dataframe\">\n",
       "  <thead>\n",
       "    <tr style=\"text-align: right;\">\n",
       "      <th></th>\n",
       "      <th>coefficient</th>\n",
       "    </tr>\n",
       "  </thead>\n",
       "  <tbody>\n",
       "    <tr>\n",
       "      <th>Work_accident_1</th>\n",
       "      <td>-1.538426</td>\n",
       "    </tr>\n",
       "    <tr>\n",
       "      <th>average_montly_hours</th>\n",
       "      <td>0.004431</td>\n",
       "    </tr>\n",
       "    <tr>\n",
       "      <th>department_RandD</th>\n",
       "      <td>-0.418887</td>\n",
       "    </tr>\n",
       "    <tr>\n",
       "      <th>department_accounting</th>\n",
       "      <td>0.195707</td>\n",
       "    </tr>\n",
       "    <tr>\n",
       "      <th>department_hr</th>\n",
       "      <td>0.393217</td>\n",
       "    </tr>\n",
       "    <tr>\n",
       "      <th>department_management</th>\n",
       "      <td>-0.419549</td>\n",
       "    </tr>\n",
       "    <tr>\n",
       "      <th>department_marketing</th>\n",
       "      <td>0.148511</td>\n",
       "    </tr>\n",
       "    <tr>\n",
       "      <th>department_product_mng</th>\n",
       "      <td>-0.042715</td>\n",
       "    </tr>\n",
       "    <tr>\n",
       "      <th>department_sales</th>\n",
       "      <td>0.124996</td>\n",
       "    </tr>\n",
       "    <tr>\n",
       "      <th>department_support</th>\n",
       "      <td>0.164691</td>\n",
       "    </tr>\n",
       "    <tr>\n",
       "      <th>department_technical</th>\n",
       "      <td>0.244422</td>\n",
       "    </tr>\n",
       "    <tr>\n",
       "      <th>last_evaluation</th>\n",
       "      <td>0.865164</td>\n",
       "    </tr>\n",
       "    <tr>\n",
       "      <th>number_project</th>\n",
       "      <td>-0.309833</td>\n",
       "    </tr>\n",
       "    <tr>\n",
       "      <th>promotion_last_5years_1</th>\n",
       "      <td>-1.192846</td>\n",
       "    </tr>\n",
       "    <tr>\n",
       "      <th>salary_low</th>\n",
       "      <td>1.854702</td>\n",
       "    </tr>\n",
       "    <tr>\n",
       "      <th>salary_medium</th>\n",
       "      <td>1.324132</td>\n",
       "    </tr>\n",
       "    <tr>\n",
       "      <th>satisfaction_level</th>\n",
       "      <td>-4.072881</td>\n",
       "    </tr>\n",
       "    <tr>\n",
       "      <th>time_spend_company</th>\n",
       "      <td>0.262735</td>\n",
       "    </tr>\n",
       "  </tbody>\n",
       "</table>\n",
       "</div>"
      ],
      "text/plain": [
       "                         coefficient\n",
       "Work_accident_1            -1.538426\n",
       "average_montly_hours        0.004431\n",
       "department_RandD           -0.418887\n",
       "department_accounting       0.195707\n",
       "department_hr               0.393217\n",
       "department_management      -0.419549\n",
       "department_marketing        0.148511\n",
       "department_product_mng     -0.042715\n",
       "department_sales            0.124996\n",
       "department_support          0.164691\n",
       "department_technical        0.244422\n",
       "last_evaluation             0.865164\n",
       "number_project             -0.309833\n",
       "promotion_last_5years_1    -1.192846\n",
       "salary_low                  1.854702\n",
       "salary_medium               1.324132\n",
       "satisfaction_level         -4.072881\n",
       "time_spend_company          0.262735"
      ]
     },
     "execution_count": 24,
     "metadata": {},
     "output_type": "execute_result"
    }
   ],
   "source": [
    "# get the coefficients for reference\n",
    "pd.DataFrame( index = pd.Series(feature_columns), data = logreg.coef_[0], columns = ['coefficient'] )"
   ]
  },
  {
   "cell_type": "code",
   "execution_count": 25,
   "metadata": {},
   "outputs": [
    {
     "data": {
      "text/plain": [
       "-1.666320184228273"
      ]
     },
     "execution_count": 25,
     "metadata": {},
     "output_type": "execute_result"
    }
   ],
   "source": [
    "# get the value of intercept\n",
    "logreg.intercept_[0]"
   ]
  },
  {
   "cell_type": "code",
   "execution_count": 26,
   "metadata": {},
   "outputs": [],
   "source": [
    "# predict the output probabilities\n",
    "y_train_pred_proba = logreg.predict_proba( train_X )[:, 1]\n",
    "y_test_pred_proba = logreg.predict_proba( test_X )[:, 1]"
   ]
  },
  {
   "cell_type": "code",
   "execution_count": 27,
   "metadata": {},
   "outputs": [
    {
     "name": "stdout",
     "output_type": "stream",
     "text": [
      "train data:  0.822817152144018\n",
      "train data:  0.8197044541545596\n"
     ]
    }
   ],
   "source": [
    "# scoring of the model, roc_auc_score\n",
    "print( 'train data: ', roc_auc_score( train_y, y_train_pred_proba ) )\n",
    "print( 'test data: ', roc_auc_score( test_y, y_test_pred_proba ) )"
   ]
  },
  {
   "cell_type": "code",
   "execution_count": 28,
   "metadata": {},
   "outputs": [
    {
     "name": "stdout",
     "output_type": "stream",
     "text": [
      "train data:  0.7887417849318983\n",
      "train data:  0.7897777777777778\n"
     ]
    }
   ],
   "source": [
    "# accuracy at defulat 0.5 cutoff\n",
    "print( 'train data: ', accuracy_score( train_y, logreg.predict( train_X ) ) )\n",
    "print( 'test data: ', accuracy_score( test_y, logreg.predict( test_X ) ) )"
   ]
  },
  {
   "cell_type": "code",
   "execution_count": 29,
   "metadata": {},
   "outputs": [
    {
     "data": {
      "text/plain": [
       "array([[ 865, 1635],\n",
       "       [ 583, 7416]], dtype=int64)"
      ]
     },
     "execution_count": 29,
     "metadata": {},
     "output_type": "execute_result"
    }
   ],
   "source": [
    "# confusion matrix - at defulat 0.5 cutoff - train\n",
    "confusion_matrix( train_y, logreg.predict( train_X ) )[::-1, ::-1]"
   ]
  },
  {
   "cell_type": "code",
   "execution_count": 30,
   "metadata": {},
   "outputs": [
    {
     "data": {
      "text/plain": [
       "array([[ 349,  722],\n",
       "       [ 224, 3205]], dtype=int64)"
      ]
     },
     "execution_count": 30,
     "metadata": {},
     "output_type": "execute_result"
    }
   ],
   "source": [
    "# confusion matrix - at defulat 0.5 cutoff - test\n",
    "confusion_matrix( test_y, logreg.predict( test_X ) )[::-1, ::-1]"
   ]
  },
  {
   "cell_type": "code",
   "execution_count": 31,
   "metadata": {
    "scrolled": true
   },
   "outputs": [
    {
     "name": "stdout",
     "output_type": "stream",
     "text": [
      "              precision    recall  f1-score   support\n",
      "\n",
      "           0       0.82      0.93      0.87      7999\n",
      "           1       0.60      0.35      0.44      2500\n",
      "\n",
      "    accuracy                           0.79     10499\n",
      "   macro avg       0.71      0.64      0.65     10499\n",
      "weighted avg       0.77      0.79      0.77     10499\n",
      "\n",
      "\n",
      "\n",
      "              precision    recall  f1-score   support\n",
      "\n",
      "           0       0.82      0.93      0.87      3429\n",
      "           1       0.61      0.33      0.42      1071\n",
      "\n",
      "    accuracy                           0.79      4500\n",
      "   macro avg       0.71      0.63      0.65      4500\n",
      "weighted avg       0.77      0.79      0.77      4500\n",
      "\n"
     ]
    }
   ],
   "source": [
    "# classification report - at defulat 0.5 cutoff\n",
    "print( classification_report( train_y, logreg.predict( train_X ) ) )\n",
    "print('\\n')\n",
    "print( classification_report( test_y, logreg.predict( test_X ) ) )"
   ]
  },
  {
   "cell_type": "markdown",
   "metadata": {},
   "source": [
    "Overall test accuracy is 79%. But it is not a good measure. The result is very high as there are lots of cases which are no left and the model has predicted most of them as no left. <br>\n",
    "The objective of the model is to indentify the people who will leave, so that the company can intervene and act.<br>\n",
    "This might be the case as the default model assumes people with more than 0.5 probability will not leave the company"
   ]
  },
  {
   "cell_type": "markdown",
   "metadata": {},
   "source": [
    "#### get the best cutoff\n",
    "\n",
    "1. for loop to get the best cutoff where we have max of Senstivity + Specificity\n",
    "2. chart - distribution plot\n",
    "3. chart - roc_aur_curve\n"
   ]
  },
  {
   "cell_type": "markdown",
   "metadata": {},
   "source": [
    "#### Estimate the best cutoffs - Method 1 (for loop)"
   ]
  },
  {
   "cell_type": "code",
   "execution_count": 32,
   "metadata": {},
   "outputs": [
    {
     "data": {
      "text/plain": [
       "0    0.25\n",
       "Name: Cutoff, dtype: float64"
      ]
     },
     "execution_count": 32,
     "metadata": {},
     "output_type": "execute_result"
    }
   ],
   "source": [
    "# declare empty dataframe\n",
    "cm_scores = pd.DataFrame()\n",
    "\n",
    "for iCutoff in np.arange(0, 1, 0.005):\n",
    "    \n",
    "    # do the predictions at the cutoff\n",
    "    y_predict = np.where( y_train_pred_proba >= iCutoff, 1, 0 )\n",
    "    \n",
    "    # create the confusion matrix with predicted y\n",
    "    cm = metrics.confusion_matrix( train_y, y_predict )[::-1, ::-1]\n",
    "    \n",
    "    # get the sentivity + specificity at the cutoff\n",
    "    Total = cm[0, 0]/cm.sum(axis = 1)[0] + cm[1, 1]/cm.sum(axis = 1)[1]\n",
    "    \n",
    "    # append the data row wise in the dataframe\n",
    "    cm_scores = pd.concat( [cm_scores, pd.DataFrame([iCutoff, Total]).T ], axis = 0 )\n",
    "    \n",
    "cm_scores.columns = ['Cutoff', 'Score']\n",
    "cm_scores.loc[ cm_scores.Score == cm_scores.Score.max(), 'Cutoff']"
   ]
  },
  {
   "cell_type": "markdown",
   "metadata": {},
   "source": [
    "#### Estimate the best cutoffs - Method 2"
   ]
  },
  {
   "cell_type": "code",
   "execution_count": 33,
   "metadata": {},
   "outputs": [],
   "source": [
    "hr_train_pred = pd.concat( [train_y.reset_index( drop = True ), \n",
    "                            pd.Series( y_train_pred_proba, name = 'predict_proba' ) ], axis = 1 )\n",
    "\n",
    "hr_test_pred = pd.concat( [test_y.reset_index( drop = True ), \n",
    "                            pd.Series( y_test_pred_proba, name = 'predict_proba' ) ], axis = 1 )"
   ]
  },
  {
   "cell_type": "code",
   "execution_count": 34,
   "metadata": {
    "scrolled": true
   },
   "outputs": [
    {
     "name": "stderr",
     "output_type": "stream",
     "text": [
      "C:\\Users\\DELL\\anaconda3\\lib\\site-packages\\seaborn\\distributions.py:2557: FutureWarning: `distplot` is a deprecated function and will be removed in a future version. Please adapt your code to use either `displot` (a figure-level function with similar flexibility) or `histplot` (an axes-level function for histograms).\n",
      "  warnings.warn(msg, FutureWarning)\n"
     ]
    },
    {
     "data": {
      "application/javascript": [
       "/* Put everything inside the global mpl namespace */\n",
       "/* global mpl */\n",
       "window.mpl = {};\n",
       "\n",
       "mpl.get_websocket_type = function () {\n",
       "    if (typeof WebSocket !== 'undefined') {\n",
       "        return WebSocket;\n",
       "    } else if (typeof MozWebSocket !== 'undefined') {\n",
       "        return MozWebSocket;\n",
       "    } else {\n",
       "        alert(\n",
       "            'Your browser does not have WebSocket support. ' +\n",
       "                'Please try Chrome, Safari or Firefox ≥ 6. ' +\n",
       "                'Firefox 4 and 5 are also supported but you ' +\n",
       "                'have to enable WebSockets in about:config.'\n",
       "        );\n",
       "    }\n",
       "};\n",
       "\n",
       "mpl.figure = function (figure_id, websocket, ondownload, parent_element) {\n",
       "    this.id = figure_id;\n",
       "\n",
       "    this.ws = websocket;\n",
       "\n",
       "    this.supports_binary = this.ws.binaryType !== undefined;\n",
       "\n",
       "    if (!this.supports_binary) {\n",
       "        var warnings = document.getElementById('mpl-warnings');\n",
       "        if (warnings) {\n",
       "            warnings.style.display = 'block';\n",
       "            warnings.textContent =\n",
       "                'This browser does not support binary websocket messages. ' +\n",
       "                'Performance may be slow.';\n",
       "        }\n",
       "    }\n",
       "\n",
       "    this.imageObj = new Image();\n",
       "\n",
       "    this.context = undefined;\n",
       "    this.message = undefined;\n",
       "    this.canvas = undefined;\n",
       "    this.rubberband_canvas = undefined;\n",
       "    this.rubberband_context = undefined;\n",
       "    this.format_dropdown = undefined;\n",
       "\n",
       "    this.image_mode = 'full';\n",
       "\n",
       "    this.root = document.createElement('div');\n",
       "    this.root.setAttribute('style', 'display: inline-block');\n",
       "    this._root_extra_style(this.root);\n",
       "\n",
       "    parent_element.appendChild(this.root);\n",
       "\n",
       "    this._init_header(this);\n",
       "    this._init_canvas(this);\n",
       "    this._init_toolbar(this);\n",
       "\n",
       "    var fig = this;\n",
       "\n",
       "    this.waiting = false;\n",
       "\n",
       "    this.ws.onopen = function () {\n",
       "        fig.send_message('supports_binary', { value: fig.supports_binary });\n",
       "        fig.send_message('send_image_mode', {});\n",
       "        if (fig.ratio !== 1) {\n",
       "            fig.send_message('set_dpi_ratio', { dpi_ratio: fig.ratio });\n",
       "        }\n",
       "        fig.send_message('refresh', {});\n",
       "    };\n",
       "\n",
       "    this.imageObj.onload = function () {\n",
       "        if (fig.image_mode === 'full') {\n",
       "            // Full images could contain transparency (where diff images\n",
       "            // almost always do), so we need to clear the canvas so that\n",
       "            // there is no ghosting.\n",
       "            fig.context.clearRect(0, 0, fig.canvas.width, fig.canvas.height);\n",
       "        }\n",
       "        fig.context.drawImage(fig.imageObj, 0, 0);\n",
       "    };\n",
       "\n",
       "    this.imageObj.onunload = function () {\n",
       "        fig.ws.close();\n",
       "    };\n",
       "\n",
       "    this.ws.onmessage = this._make_on_message_function(this);\n",
       "\n",
       "    this.ondownload = ondownload;\n",
       "};\n",
       "\n",
       "mpl.figure.prototype._init_header = function () {\n",
       "    var titlebar = document.createElement('div');\n",
       "    titlebar.classList =\n",
       "        'ui-dialog-titlebar ui-widget-header ui-corner-all ui-helper-clearfix';\n",
       "    var titletext = document.createElement('div');\n",
       "    titletext.classList = 'ui-dialog-title';\n",
       "    titletext.setAttribute(\n",
       "        'style',\n",
       "        'width: 100%; text-align: center; padding: 3px;'\n",
       "    );\n",
       "    titlebar.appendChild(titletext);\n",
       "    this.root.appendChild(titlebar);\n",
       "    this.header = titletext;\n",
       "};\n",
       "\n",
       "mpl.figure.prototype._canvas_extra_style = function (_canvas_div) {};\n",
       "\n",
       "mpl.figure.prototype._root_extra_style = function (_canvas_div) {};\n",
       "\n",
       "mpl.figure.prototype._init_canvas = function () {\n",
       "    var fig = this;\n",
       "\n",
       "    var canvas_div = (this.canvas_div = document.createElement('div'));\n",
       "    canvas_div.setAttribute(\n",
       "        'style',\n",
       "        'border: 1px solid #ddd;' +\n",
       "            'box-sizing: content-box;' +\n",
       "            'clear: both;' +\n",
       "            'min-height: 1px;' +\n",
       "            'min-width: 1px;' +\n",
       "            'outline: 0;' +\n",
       "            'overflow: hidden;' +\n",
       "            'position: relative;' +\n",
       "            'resize: both;'\n",
       "    );\n",
       "\n",
       "    function on_keyboard_event_closure(name) {\n",
       "        return function (event) {\n",
       "            return fig.key_event(event, name);\n",
       "        };\n",
       "    }\n",
       "\n",
       "    canvas_div.addEventListener(\n",
       "        'keydown',\n",
       "        on_keyboard_event_closure('key_press')\n",
       "    );\n",
       "    canvas_div.addEventListener(\n",
       "        'keyup',\n",
       "        on_keyboard_event_closure('key_release')\n",
       "    );\n",
       "\n",
       "    this._canvas_extra_style(canvas_div);\n",
       "    this.root.appendChild(canvas_div);\n",
       "\n",
       "    var canvas = (this.canvas = document.createElement('canvas'));\n",
       "    canvas.classList.add('mpl-canvas');\n",
       "    canvas.setAttribute('style', 'box-sizing: content-box;');\n",
       "\n",
       "    this.context = canvas.getContext('2d');\n",
       "\n",
       "    var backingStore =\n",
       "        this.context.backingStorePixelRatio ||\n",
       "        this.context.webkitBackingStorePixelRatio ||\n",
       "        this.context.mozBackingStorePixelRatio ||\n",
       "        this.context.msBackingStorePixelRatio ||\n",
       "        this.context.oBackingStorePixelRatio ||\n",
       "        this.context.backingStorePixelRatio ||\n",
       "        1;\n",
       "\n",
       "    this.ratio = (window.devicePixelRatio || 1) / backingStore;\n",
       "\n",
       "    var rubberband_canvas = (this.rubberband_canvas = document.createElement(\n",
       "        'canvas'\n",
       "    ));\n",
       "    rubberband_canvas.setAttribute(\n",
       "        'style',\n",
       "        'box-sizing: content-box; position: absolute; left: 0; top: 0; z-index: 1;'\n",
       "    );\n",
       "\n",
       "    // Apply a ponyfill if ResizeObserver is not implemented by browser.\n",
       "    if (this.ResizeObserver === undefined) {\n",
       "        if (window.ResizeObserver !== undefined) {\n",
       "            this.ResizeObserver = window.ResizeObserver;\n",
       "        } else {\n",
       "            var obs = _JSXTOOLS_RESIZE_OBSERVER({});\n",
       "            this.ResizeObserver = obs.ResizeObserver;\n",
       "        }\n",
       "    }\n",
       "\n",
       "    this.resizeObserverInstance = new this.ResizeObserver(function (entries) {\n",
       "        var nentries = entries.length;\n",
       "        for (var i = 0; i < nentries; i++) {\n",
       "            var entry = entries[i];\n",
       "            var width, height;\n",
       "            if (entry.contentBoxSize) {\n",
       "                if (entry.contentBoxSize instanceof Array) {\n",
       "                    // Chrome 84 implements new version of spec.\n",
       "                    width = entry.contentBoxSize[0].inlineSize;\n",
       "                    height = entry.contentBoxSize[0].blockSize;\n",
       "                } else {\n",
       "                    // Firefox implements old version of spec.\n",
       "                    width = entry.contentBoxSize.inlineSize;\n",
       "                    height = entry.contentBoxSize.blockSize;\n",
       "                }\n",
       "            } else {\n",
       "                // Chrome <84 implements even older version of spec.\n",
       "                width = entry.contentRect.width;\n",
       "                height = entry.contentRect.height;\n",
       "            }\n",
       "\n",
       "            // Keep the size of the canvas and rubber band canvas in sync with\n",
       "            // the canvas container.\n",
       "            if (entry.devicePixelContentBoxSize) {\n",
       "                // Chrome 84 implements new version of spec.\n",
       "                canvas.setAttribute(\n",
       "                    'width',\n",
       "                    entry.devicePixelContentBoxSize[0].inlineSize\n",
       "                );\n",
       "                canvas.setAttribute(\n",
       "                    'height',\n",
       "                    entry.devicePixelContentBoxSize[0].blockSize\n",
       "                );\n",
       "            } else {\n",
       "                canvas.setAttribute('width', width * fig.ratio);\n",
       "                canvas.setAttribute('height', height * fig.ratio);\n",
       "            }\n",
       "            canvas.setAttribute(\n",
       "                'style',\n",
       "                'width: ' + width + 'px; height: ' + height + 'px;'\n",
       "            );\n",
       "\n",
       "            rubberband_canvas.setAttribute('width', width);\n",
       "            rubberband_canvas.setAttribute('height', height);\n",
       "\n",
       "            // And update the size in Python. We ignore the initial 0/0 size\n",
       "            // that occurs as the element is placed into the DOM, which should\n",
       "            // otherwise not happen due to the minimum size styling.\n",
       "            if (fig.ws.readyState == 1 && width != 0 && height != 0) {\n",
       "                fig.request_resize(width, height);\n",
       "            }\n",
       "        }\n",
       "    });\n",
       "    this.resizeObserverInstance.observe(canvas_div);\n",
       "\n",
       "    function on_mouse_event_closure(name) {\n",
       "        return function (event) {\n",
       "            return fig.mouse_event(event, name);\n",
       "        };\n",
       "    }\n",
       "\n",
       "    rubberband_canvas.addEventListener(\n",
       "        'mousedown',\n",
       "        on_mouse_event_closure('button_press')\n",
       "    );\n",
       "    rubberband_canvas.addEventListener(\n",
       "        'mouseup',\n",
       "        on_mouse_event_closure('button_release')\n",
       "    );\n",
       "    // Throttle sequential mouse events to 1 every 20ms.\n",
       "    rubberband_canvas.addEventListener(\n",
       "        'mousemove',\n",
       "        on_mouse_event_closure('motion_notify')\n",
       "    );\n",
       "\n",
       "    rubberband_canvas.addEventListener(\n",
       "        'mouseenter',\n",
       "        on_mouse_event_closure('figure_enter')\n",
       "    );\n",
       "    rubberband_canvas.addEventListener(\n",
       "        'mouseleave',\n",
       "        on_mouse_event_closure('figure_leave')\n",
       "    );\n",
       "\n",
       "    canvas_div.addEventListener('wheel', function (event) {\n",
       "        if (event.deltaY < 0) {\n",
       "            event.step = 1;\n",
       "        } else {\n",
       "            event.step = -1;\n",
       "        }\n",
       "        on_mouse_event_closure('scroll')(event);\n",
       "    });\n",
       "\n",
       "    canvas_div.appendChild(canvas);\n",
       "    canvas_div.appendChild(rubberband_canvas);\n",
       "\n",
       "    this.rubberband_context = rubberband_canvas.getContext('2d');\n",
       "    this.rubberband_context.strokeStyle = '#000000';\n",
       "\n",
       "    this._resize_canvas = function (width, height, forward) {\n",
       "        if (forward) {\n",
       "            canvas_div.style.width = width + 'px';\n",
       "            canvas_div.style.height = height + 'px';\n",
       "        }\n",
       "    };\n",
       "\n",
       "    // Disable right mouse context menu.\n",
       "    this.rubberband_canvas.addEventListener('contextmenu', function (_e) {\n",
       "        event.preventDefault();\n",
       "        return false;\n",
       "    });\n",
       "\n",
       "    function set_focus() {\n",
       "        canvas.focus();\n",
       "        canvas_div.focus();\n",
       "    }\n",
       "\n",
       "    window.setTimeout(set_focus, 100);\n",
       "};\n",
       "\n",
       "mpl.figure.prototype._init_toolbar = function () {\n",
       "    var fig = this;\n",
       "\n",
       "    var toolbar = document.createElement('div');\n",
       "    toolbar.classList = 'mpl-toolbar';\n",
       "    this.root.appendChild(toolbar);\n",
       "\n",
       "    function on_click_closure(name) {\n",
       "        return function (_event) {\n",
       "            return fig.toolbar_button_onclick(name);\n",
       "        };\n",
       "    }\n",
       "\n",
       "    function on_mouseover_closure(tooltip) {\n",
       "        return function (event) {\n",
       "            if (!event.currentTarget.disabled) {\n",
       "                return fig.toolbar_button_onmouseover(tooltip);\n",
       "            }\n",
       "        };\n",
       "    }\n",
       "\n",
       "    fig.buttons = {};\n",
       "    var buttonGroup = document.createElement('div');\n",
       "    buttonGroup.classList = 'mpl-button-group';\n",
       "    for (var toolbar_ind in mpl.toolbar_items) {\n",
       "        var name = mpl.toolbar_items[toolbar_ind][0];\n",
       "        var tooltip = mpl.toolbar_items[toolbar_ind][1];\n",
       "        var image = mpl.toolbar_items[toolbar_ind][2];\n",
       "        var method_name = mpl.toolbar_items[toolbar_ind][3];\n",
       "\n",
       "        if (!name) {\n",
       "            /* Instead of a spacer, we start a new button group. */\n",
       "            if (buttonGroup.hasChildNodes()) {\n",
       "                toolbar.appendChild(buttonGroup);\n",
       "            }\n",
       "            buttonGroup = document.createElement('div');\n",
       "            buttonGroup.classList = 'mpl-button-group';\n",
       "            continue;\n",
       "        }\n",
       "\n",
       "        var button = (fig.buttons[name] = document.createElement('button'));\n",
       "        button.classList = 'mpl-widget';\n",
       "        button.setAttribute('role', 'button');\n",
       "        button.setAttribute('aria-disabled', 'false');\n",
       "        button.addEventListener('click', on_click_closure(method_name));\n",
       "        button.addEventListener('mouseover', on_mouseover_closure(tooltip));\n",
       "\n",
       "        var icon_img = document.createElement('img');\n",
       "        icon_img.src = '_images/' + image + '.png';\n",
       "        icon_img.srcset = '_images/' + image + '_large.png 2x';\n",
       "        icon_img.alt = tooltip;\n",
       "        button.appendChild(icon_img);\n",
       "\n",
       "        buttonGroup.appendChild(button);\n",
       "    }\n",
       "\n",
       "    if (buttonGroup.hasChildNodes()) {\n",
       "        toolbar.appendChild(buttonGroup);\n",
       "    }\n",
       "\n",
       "    var fmt_picker = document.createElement('select');\n",
       "    fmt_picker.classList = 'mpl-widget';\n",
       "    toolbar.appendChild(fmt_picker);\n",
       "    this.format_dropdown = fmt_picker;\n",
       "\n",
       "    for (var ind in mpl.extensions) {\n",
       "        var fmt = mpl.extensions[ind];\n",
       "        var option = document.createElement('option');\n",
       "        option.selected = fmt === mpl.default_extension;\n",
       "        option.innerHTML = fmt;\n",
       "        fmt_picker.appendChild(option);\n",
       "    }\n",
       "\n",
       "    var status_bar = document.createElement('span');\n",
       "    status_bar.classList = 'mpl-message';\n",
       "    toolbar.appendChild(status_bar);\n",
       "    this.message = status_bar;\n",
       "};\n",
       "\n",
       "mpl.figure.prototype.request_resize = function (x_pixels, y_pixels) {\n",
       "    // Request matplotlib to resize the figure. Matplotlib will then trigger a resize in the client,\n",
       "    // which will in turn request a refresh of the image.\n",
       "    this.send_message('resize', { width: x_pixels, height: y_pixels });\n",
       "};\n",
       "\n",
       "mpl.figure.prototype.send_message = function (type, properties) {\n",
       "    properties['type'] = type;\n",
       "    properties['figure_id'] = this.id;\n",
       "    this.ws.send(JSON.stringify(properties));\n",
       "};\n",
       "\n",
       "mpl.figure.prototype.send_draw_message = function () {\n",
       "    if (!this.waiting) {\n",
       "        this.waiting = true;\n",
       "        this.ws.send(JSON.stringify({ type: 'draw', figure_id: this.id }));\n",
       "    }\n",
       "};\n",
       "\n",
       "mpl.figure.prototype.handle_save = function (fig, _msg) {\n",
       "    var format_dropdown = fig.format_dropdown;\n",
       "    var format = format_dropdown.options[format_dropdown.selectedIndex].value;\n",
       "    fig.ondownload(fig, format);\n",
       "};\n",
       "\n",
       "mpl.figure.prototype.handle_resize = function (fig, msg) {\n",
       "    var size = msg['size'];\n",
       "    if (size[0] !== fig.canvas.width || size[1] !== fig.canvas.height) {\n",
       "        fig._resize_canvas(size[0], size[1], msg['forward']);\n",
       "        fig.send_message('refresh', {});\n",
       "    }\n",
       "};\n",
       "\n",
       "mpl.figure.prototype.handle_rubberband = function (fig, msg) {\n",
       "    var x0 = msg['x0'] / fig.ratio;\n",
       "    var y0 = (fig.canvas.height - msg['y0']) / fig.ratio;\n",
       "    var x1 = msg['x1'] / fig.ratio;\n",
       "    var y1 = (fig.canvas.height - msg['y1']) / fig.ratio;\n",
       "    x0 = Math.floor(x0) + 0.5;\n",
       "    y0 = Math.floor(y0) + 0.5;\n",
       "    x1 = Math.floor(x1) + 0.5;\n",
       "    y1 = Math.floor(y1) + 0.5;\n",
       "    var min_x = Math.min(x0, x1);\n",
       "    var min_y = Math.min(y0, y1);\n",
       "    var width = Math.abs(x1 - x0);\n",
       "    var height = Math.abs(y1 - y0);\n",
       "\n",
       "    fig.rubberband_context.clearRect(\n",
       "        0,\n",
       "        0,\n",
       "        fig.canvas.width / fig.ratio,\n",
       "        fig.canvas.height / fig.ratio\n",
       "    );\n",
       "\n",
       "    fig.rubberband_context.strokeRect(min_x, min_y, width, height);\n",
       "};\n",
       "\n",
       "mpl.figure.prototype.handle_figure_label = function (fig, msg) {\n",
       "    // Updates the figure title.\n",
       "    fig.header.textContent = msg['label'];\n",
       "};\n",
       "\n",
       "mpl.figure.prototype.handle_cursor = function (fig, msg) {\n",
       "    var cursor = msg['cursor'];\n",
       "    switch (cursor) {\n",
       "        case 0:\n",
       "            cursor = 'pointer';\n",
       "            break;\n",
       "        case 1:\n",
       "            cursor = 'default';\n",
       "            break;\n",
       "        case 2:\n",
       "            cursor = 'crosshair';\n",
       "            break;\n",
       "        case 3:\n",
       "            cursor = 'move';\n",
       "            break;\n",
       "    }\n",
       "    fig.rubberband_canvas.style.cursor = cursor;\n",
       "};\n",
       "\n",
       "mpl.figure.prototype.handle_message = function (fig, msg) {\n",
       "    fig.message.textContent = msg['message'];\n",
       "};\n",
       "\n",
       "mpl.figure.prototype.handle_draw = function (fig, _msg) {\n",
       "    // Request the server to send over a new figure.\n",
       "    fig.send_draw_message();\n",
       "};\n",
       "\n",
       "mpl.figure.prototype.handle_image_mode = function (fig, msg) {\n",
       "    fig.image_mode = msg['mode'];\n",
       "};\n",
       "\n",
       "mpl.figure.prototype.handle_history_buttons = function (fig, msg) {\n",
       "    for (var key in msg) {\n",
       "        if (!(key in fig.buttons)) {\n",
       "            continue;\n",
       "        }\n",
       "        fig.buttons[key].disabled = !msg[key];\n",
       "        fig.buttons[key].setAttribute('aria-disabled', !msg[key]);\n",
       "    }\n",
       "};\n",
       "\n",
       "mpl.figure.prototype.handle_navigate_mode = function (fig, msg) {\n",
       "    if (msg['mode'] === 'PAN') {\n",
       "        fig.buttons['Pan'].classList.add('active');\n",
       "        fig.buttons['Zoom'].classList.remove('active');\n",
       "    } else if (msg['mode'] === 'ZOOM') {\n",
       "        fig.buttons['Pan'].classList.remove('active');\n",
       "        fig.buttons['Zoom'].classList.add('active');\n",
       "    } else {\n",
       "        fig.buttons['Pan'].classList.remove('active');\n",
       "        fig.buttons['Zoom'].classList.remove('active');\n",
       "    }\n",
       "};\n",
       "\n",
       "mpl.figure.prototype.updated_canvas_event = function () {\n",
       "    // Called whenever the canvas gets updated.\n",
       "    this.send_message('ack', {});\n",
       "};\n",
       "\n",
       "// A function to construct a web socket function for onmessage handling.\n",
       "// Called in the figure constructor.\n",
       "mpl.figure.prototype._make_on_message_function = function (fig) {\n",
       "    return function socket_on_message(evt) {\n",
       "        if (evt.data instanceof Blob) {\n",
       "            /* FIXME: We get \"Resource interpreted as Image but\n",
       "             * transferred with MIME type text/plain:\" errors on\n",
       "             * Chrome.  But how to set the MIME type?  It doesn't seem\n",
       "             * to be part of the websocket stream */\n",
       "            evt.data.type = 'image/png';\n",
       "\n",
       "            /* Free the memory for the previous frames */\n",
       "            if (fig.imageObj.src) {\n",
       "                (window.URL || window.webkitURL).revokeObjectURL(\n",
       "                    fig.imageObj.src\n",
       "                );\n",
       "            }\n",
       "\n",
       "            fig.imageObj.src = (window.URL || window.webkitURL).createObjectURL(\n",
       "                evt.data\n",
       "            );\n",
       "            fig.updated_canvas_event();\n",
       "            fig.waiting = false;\n",
       "            return;\n",
       "        } else if (\n",
       "            typeof evt.data === 'string' &&\n",
       "            evt.data.slice(0, 21) === 'data:image/png;base64'\n",
       "        ) {\n",
       "            fig.imageObj.src = evt.data;\n",
       "            fig.updated_canvas_event();\n",
       "            fig.waiting = false;\n",
       "            return;\n",
       "        }\n",
       "\n",
       "        var msg = JSON.parse(evt.data);\n",
       "        var msg_type = msg['type'];\n",
       "\n",
       "        // Call the  \"handle_{type}\" callback, which takes\n",
       "        // the figure and JSON message as its only arguments.\n",
       "        try {\n",
       "            var callback = fig['handle_' + msg_type];\n",
       "        } catch (e) {\n",
       "            console.log(\n",
       "                \"No handler for the '\" + msg_type + \"' message type: \",\n",
       "                msg\n",
       "            );\n",
       "            return;\n",
       "        }\n",
       "\n",
       "        if (callback) {\n",
       "            try {\n",
       "                // console.log(\"Handling '\" + msg_type + \"' message: \", msg);\n",
       "                callback(fig, msg);\n",
       "            } catch (e) {\n",
       "                console.log(\n",
       "                    \"Exception inside the 'handler_\" + msg_type + \"' callback:\",\n",
       "                    e,\n",
       "                    e.stack,\n",
       "                    msg\n",
       "                );\n",
       "            }\n",
       "        }\n",
       "    };\n",
       "};\n",
       "\n",
       "// from http://stackoverflow.com/questions/1114465/getting-mouse-location-in-canvas\n",
       "mpl.findpos = function (e) {\n",
       "    //this section is from http://www.quirksmode.org/js/events_properties.html\n",
       "    var targ;\n",
       "    if (!e) {\n",
       "        e = window.event;\n",
       "    }\n",
       "    if (e.target) {\n",
       "        targ = e.target;\n",
       "    } else if (e.srcElement) {\n",
       "        targ = e.srcElement;\n",
       "    }\n",
       "    if (targ.nodeType === 3) {\n",
       "        // defeat Safari bug\n",
       "        targ = targ.parentNode;\n",
       "    }\n",
       "\n",
       "    // pageX,Y are the mouse positions relative to the document\n",
       "    var boundingRect = targ.getBoundingClientRect();\n",
       "    var x = e.pageX - (boundingRect.left + document.body.scrollLeft);\n",
       "    var y = e.pageY - (boundingRect.top + document.body.scrollTop);\n",
       "\n",
       "    return { x: x, y: y };\n",
       "};\n",
       "\n",
       "/*\n",
       " * return a copy of an object with only non-object keys\n",
       " * we need this to avoid circular references\n",
       " * http://stackoverflow.com/a/24161582/3208463\n",
       " */\n",
       "function simpleKeys(original) {\n",
       "    return Object.keys(original).reduce(function (obj, key) {\n",
       "        if (typeof original[key] !== 'object') {\n",
       "            obj[key] = original[key];\n",
       "        }\n",
       "        return obj;\n",
       "    }, {});\n",
       "}\n",
       "\n",
       "mpl.figure.prototype.mouse_event = function (event, name) {\n",
       "    var canvas_pos = mpl.findpos(event);\n",
       "\n",
       "    if (name === 'button_press') {\n",
       "        this.canvas.focus();\n",
       "        this.canvas_div.focus();\n",
       "    }\n",
       "\n",
       "    var x = canvas_pos.x * this.ratio;\n",
       "    var y = canvas_pos.y * this.ratio;\n",
       "\n",
       "    this.send_message(name, {\n",
       "        x: x,\n",
       "        y: y,\n",
       "        button: event.button,\n",
       "        step: event.step,\n",
       "        guiEvent: simpleKeys(event),\n",
       "    });\n",
       "\n",
       "    /* This prevents the web browser from automatically changing to\n",
       "     * the text insertion cursor when the button is pressed.  We want\n",
       "     * to control all of the cursor setting manually through the\n",
       "     * 'cursor' event from matplotlib */\n",
       "    event.preventDefault();\n",
       "    return false;\n",
       "};\n",
       "\n",
       "mpl.figure.prototype._key_event_extra = function (_event, _name) {\n",
       "    // Handle any extra behaviour associated with a key event\n",
       "};\n",
       "\n",
       "mpl.figure.prototype.key_event = function (event, name) {\n",
       "    // Prevent repeat events\n",
       "    if (name === 'key_press') {\n",
       "        if (event.which === this._key) {\n",
       "            return;\n",
       "        } else {\n",
       "            this._key = event.which;\n",
       "        }\n",
       "    }\n",
       "    if (name === 'key_release') {\n",
       "        this._key = null;\n",
       "    }\n",
       "\n",
       "    var value = '';\n",
       "    if (event.ctrlKey && event.which !== 17) {\n",
       "        value += 'ctrl+';\n",
       "    }\n",
       "    if (event.altKey && event.which !== 18) {\n",
       "        value += 'alt+';\n",
       "    }\n",
       "    if (event.shiftKey && event.which !== 16) {\n",
       "        value += 'shift+';\n",
       "    }\n",
       "\n",
       "    value += 'k';\n",
       "    value += event.which.toString();\n",
       "\n",
       "    this._key_event_extra(event, name);\n",
       "\n",
       "    this.send_message(name, { key: value, guiEvent: simpleKeys(event) });\n",
       "    return false;\n",
       "};\n",
       "\n",
       "mpl.figure.prototype.toolbar_button_onclick = function (name) {\n",
       "    if (name === 'download') {\n",
       "        this.handle_save(this, null);\n",
       "    } else {\n",
       "        this.send_message('toolbar_button', { name: name });\n",
       "    }\n",
       "};\n",
       "\n",
       "mpl.figure.prototype.toolbar_button_onmouseover = function (tooltip) {\n",
       "    this.message.textContent = tooltip;\n",
       "};\n",
       "\n",
       "///////////////// REMAINING CONTENT GENERATED BY embed_js.py /////////////////\n",
       "// prettier-ignore\n",
       "var _JSXTOOLS_RESIZE_OBSERVER=function(A){var t,i=new WeakMap,n=new WeakMap,a=new WeakMap,r=new WeakMap,o=new Set;function s(e){if(!(this instanceof s))throw new TypeError(\"Constructor requires 'new' operator\");i.set(this,e)}function h(){throw new TypeError(\"Function is not a constructor\")}function c(e,t,i,n){e=0 in arguments?Number(arguments[0]):0,t=1 in arguments?Number(arguments[1]):0,i=2 in arguments?Number(arguments[2]):0,n=3 in arguments?Number(arguments[3]):0,this.right=(this.x=this.left=e)+(this.width=i),this.bottom=(this.y=this.top=t)+(this.height=n),Object.freeze(this)}function d(){t=requestAnimationFrame(d);var s=new WeakMap,p=new Set;o.forEach((function(t){r.get(t).forEach((function(i){var r=t instanceof window.SVGElement,o=a.get(t),d=r?0:parseFloat(o.paddingTop),f=r?0:parseFloat(o.paddingRight),l=r?0:parseFloat(o.paddingBottom),u=r?0:parseFloat(o.paddingLeft),g=r?0:parseFloat(o.borderTopWidth),m=r?0:parseFloat(o.borderRightWidth),w=r?0:parseFloat(o.borderBottomWidth),b=u+f,F=d+l,v=(r?0:parseFloat(o.borderLeftWidth))+m,W=g+w,y=r?0:t.offsetHeight-W-t.clientHeight,E=r?0:t.offsetWidth-v-t.clientWidth,R=b+v,z=F+W,M=r?t.width:parseFloat(o.width)-R-E,O=r?t.height:parseFloat(o.height)-z-y;if(n.has(t)){var k=n.get(t);if(k[0]===M&&k[1]===O)return}n.set(t,[M,O]);var S=Object.create(h.prototype);S.target=t,S.contentRect=new c(u,d,M,O),s.has(i)||(s.set(i,[]),p.add(i)),s.get(i).push(S)}))})),p.forEach((function(e){i.get(e).call(e,s.get(e),e)}))}return s.prototype.observe=function(i){if(i instanceof window.Element){r.has(i)||(r.set(i,new Set),o.add(i),a.set(i,window.getComputedStyle(i)));var n=r.get(i);n.has(this)||n.add(this),cancelAnimationFrame(t),t=requestAnimationFrame(d)}},s.prototype.unobserve=function(i){if(i instanceof window.Element&&r.has(i)){var n=r.get(i);n.has(this)&&(n.delete(this),n.size||(r.delete(i),o.delete(i))),n.size||r.delete(i),o.size||cancelAnimationFrame(t)}},A.DOMRectReadOnly=c,A.ResizeObserver=s,A.ResizeObserverEntry=h,A}; // eslint-disable-line\n",
       "mpl.toolbar_items = [[\"Home\", \"Reset original view\", \"fa fa-home icon-home\", \"home\"], [\"Back\", \"Back to previous view\", \"fa fa-arrow-left icon-arrow-left\", \"back\"], [\"Forward\", \"Forward to next view\", \"fa fa-arrow-right icon-arrow-right\", \"forward\"], [\"\", \"\", \"\", \"\"], [\"Pan\", \"Left button pans, Right button zooms\\nx/y fixes axis, CTRL fixes aspect\", \"fa fa-arrows icon-move\", \"pan\"], [\"Zoom\", \"Zoom to rectangle\\nx/y fixes axis, CTRL fixes aspect\", \"fa fa-square-o icon-check-empty\", \"zoom\"], [\"\", \"\", \"\", \"\"], [\"Download\", \"Download plot\", \"fa fa-floppy-o icon-save\", \"download\"]];\n",
       "\n",
       "mpl.extensions = [\"eps\", \"jpeg\", \"pdf\", \"png\", \"ps\", \"raw\", \"svg\", \"tif\"];\n",
       "\n",
       "mpl.default_extension = \"png\";/* global mpl */\n",
       "\n",
       "var comm_websocket_adapter = function (comm) {\n",
       "    // Create a \"websocket\"-like object which calls the given IPython comm\n",
       "    // object with the appropriate methods. Currently this is a non binary\n",
       "    // socket, so there is still some room for performance tuning.\n",
       "    var ws = {};\n",
       "\n",
       "    ws.close = function () {\n",
       "        comm.close();\n",
       "    };\n",
       "    ws.send = function (m) {\n",
       "        //console.log('sending', m);\n",
       "        comm.send(m);\n",
       "    };\n",
       "    // Register the callback with on_msg.\n",
       "    comm.on_msg(function (msg) {\n",
       "        //console.log('receiving', msg['content']['data'], msg);\n",
       "        // Pass the mpl event to the overridden (by mpl) onmessage function.\n",
       "        ws.onmessage(msg['content']['data']);\n",
       "    });\n",
       "    return ws;\n",
       "};\n",
       "\n",
       "mpl.mpl_figure_comm = function (comm, msg) {\n",
       "    // This is the function which gets called when the mpl process\n",
       "    // starts-up an IPython Comm through the \"matplotlib\" channel.\n",
       "\n",
       "    var id = msg.content.data.id;\n",
       "    // Get hold of the div created by the display call when the Comm\n",
       "    // socket was opened in Python.\n",
       "    var element = document.getElementById(id);\n",
       "    var ws_proxy = comm_websocket_adapter(comm);\n",
       "\n",
       "    function ondownload(figure, _format) {\n",
       "        window.open(figure.canvas.toDataURL());\n",
       "    }\n",
       "\n",
       "    var fig = new mpl.figure(id, ws_proxy, ondownload, element);\n",
       "\n",
       "    // Call onopen now - mpl needs it, as it is assuming we've passed it a real\n",
       "    // web socket which is closed, not our websocket->open comm proxy.\n",
       "    ws_proxy.onopen();\n",
       "\n",
       "    fig.parent_element = element;\n",
       "    fig.cell_info = mpl.find_output_cell(\"<div id='\" + id + \"'></div>\");\n",
       "    if (!fig.cell_info) {\n",
       "        console.error('Failed to find cell for figure', id, fig);\n",
       "        return;\n",
       "    }\n",
       "    fig.cell_info[0].output_area.element.on(\n",
       "        'cleared',\n",
       "        { fig: fig },\n",
       "        fig._remove_fig_handler\n",
       "    );\n",
       "};\n",
       "\n",
       "mpl.figure.prototype.handle_close = function (fig, msg) {\n",
       "    var width = fig.canvas.width / fig.ratio;\n",
       "    fig.cell_info[0].output_area.element.off(\n",
       "        'cleared',\n",
       "        fig._remove_fig_handler\n",
       "    );\n",
       "    fig.resizeObserverInstance.unobserve(fig.canvas_div);\n",
       "\n",
       "    // Update the output cell to use the data from the current canvas.\n",
       "    fig.push_to_output();\n",
       "    var dataURL = fig.canvas.toDataURL();\n",
       "    // Re-enable the keyboard manager in IPython - without this line, in FF,\n",
       "    // the notebook keyboard shortcuts fail.\n",
       "    IPython.keyboard_manager.enable();\n",
       "    fig.parent_element.innerHTML =\n",
       "        '<img src=\"' + dataURL + '\" width=\"' + width + '\">';\n",
       "    fig.close_ws(fig, msg);\n",
       "};\n",
       "\n",
       "mpl.figure.prototype.close_ws = function (fig, msg) {\n",
       "    fig.send_message('closing', msg);\n",
       "    // fig.ws.close()\n",
       "};\n",
       "\n",
       "mpl.figure.prototype.push_to_output = function (_remove_interactive) {\n",
       "    // Turn the data on the canvas into data in the output cell.\n",
       "    var width = this.canvas.width / this.ratio;\n",
       "    var dataURL = this.canvas.toDataURL();\n",
       "    this.cell_info[1]['text/html'] =\n",
       "        '<img src=\"' + dataURL + '\" width=\"' + width + '\">';\n",
       "};\n",
       "\n",
       "mpl.figure.prototype.updated_canvas_event = function () {\n",
       "    // Tell IPython that the notebook contents must change.\n",
       "    IPython.notebook.set_dirty(true);\n",
       "    this.send_message('ack', {});\n",
       "    var fig = this;\n",
       "    // Wait a second, then push the new image to the DOM so\n",
       "    // that it is saved nicely (might be nice to debounce this).\n",
       "    setTimeout(function () {\n",
       "        fig.push_to_output();\n",
       "    }, 1000);\n",
       "};\n",
       "\n",
       "mpl.figure.prototype._init_toolbar = function () {\n",
       "    var fig = this;\n",
       "\n",
       "    var toolbar = document.createElement('div');\n",
       "    toolbar.classList = 'btn-toolbar';\n",
       "    this.root.appendChild(toolbar);\n",
       "\n",
       "    function on_click_closure(name) {\n",
       "        return function (_event) {\n",
       "            return fig.toolbar_button_onclick(name);\n",
       "        };\n",
       "    }\n",
       "\n",
       "    function on_mouseover_closure(tooltip) {\n",
       "        return function (event) {\n",
       "            if (!event.currentTarget.disabled) {\n",
       "                return fig.toolbar_button_onmouseover(tooltip);\n",
       "            }\n",
       "        };\n",
       "    }\n",
       "\n",
       "    fig.buttons = {};\n",
       "    var buttonGroup = document.createElement('div');\n",
       "    buttonGroup.classList = 'btn-group';\n",
       "    var button;\n",
       "    for (var toolbar_ind in mpl.toolbar_items) {\n",
       "        var name = mpl.toolbar_items[toolbar_ind][0];\n",
       "        var tooltip = mpl.toolbar_items[toolbar_ind][1];\n",
       "        var image = mpl.toolbar_items[toolbar_ind][2];\n",
       "        var method_name = mpl.toolbar_items[toolbar_ind][3];\n",
       "\n",
       "        if (!name) {\n",
       "            /* Instead of a spacer, we start a new button group. */\n",
       "            if (buttonGroup.hasChildNodes()) {\n",
       "                toolbar.appendChild(buttonGroup);\n",
       "            }\n",
       "            buttonGroup = document.createElement('div');\n",
       "            buttonGroup.classList = 'btn-group';\n",
       "            continue;\n",
       "        }\n",
       "\n",
       "        button = fig.buttons[name] = document.createElement('button');\n",
       "        button.classList = 'btn btn-default';\n",
       "        button.href = '#';\n",
       "        button.title = name;\n",
       "        button.innerHTML = '<i class=\"fa ' + image + ' fa-lg\"></i>';\n",
       "        button.addEventListener('click', on_click_closure(method_name));\n",
       "        button.addEventListener('mouseover', on_mouseover_closure(tooltip));\n",
       "        buttonGroup.appendChild(button);\n",
       "    }\n",
       "\n",
       "    if (buttonGroup.hasChildNodes()) {\n",
       "        toolbar.appendChild(buttonGroup);\n",
       "    }\n",
       "\n",
       "    // Add the status bar.\n",
       "    var status_bar = document.createElement('span');\n",
       "    status_bar.classList = 'mpl-message pull-right';\n",
       "    toolbar.appendChild(status_bar);\n",
       "    this.message = status_bar;\n",
       "\n",
       "    // Add the close button to the window.\n",
       "    var buttongrp = document.createElement('div');\n",
       "    buttongrp.classList = 'btn-group inline pull-right';\n",
       "    button = document.createElement('button');\n",
       "    button.classList = 'btn btn-mini btn-primary';\n",
       "    button.href = '#';\n",
       "    button.title = 'Stop Interaction';\n",
       "    button.innerHTML = '<i class=\"fa fa-power-off icon-remove icon-large\"></i>';\n",
       "    button.addEventListener('click', function (_evt) {\n",
       "        fig.handle_close(fig, {});\n",
       "    });\n",
       "    button.addEventListener(\n",
       "        'mouseover',\n",
       "        on_mouseover_closure('Stop Interaction')\n",
       "    );\n",
       "    buttongrp.appendChild(button);\n",
       "    var titlebar = this.root.querySelector('.ui-dialog-titlebar');\n",
       "    titlebar.insertBefore(buttongrp, titlebar.firstChild);\n",
       "};\n",
       "\n",
       "mpl.figure.prototype._remove_fig_handler = function (event) {\n",
       "    var fig = event.data.fig;\n",
       "    if (event.target !== this) {\n",
       "        // Ignore bubbled events from children.\n",
       "        return;\n",
       "    }\n",
       "    fig.close_ws(fig, {});\n",
       "};\n",
       "\n",
       "mpl.figure.prototype._root_extra_style = function (el) {\n",
       "    el.style.boxSizing = 'content-box'; // override notebook setting of border-box.\n",
       "};\n",
       "\n",
       "mpl.figure.prototype._canvas_extra_style = function (el) {\n",
       "    // this is important to make the div 'focusable\n",
       "    el.setAttribute('tabindex', 0);\n",
       "    // reach out to IPython and tell the keyboard manager to turn it's self\n",
       "    // off when our div gets focus\n",
       "\n",
       "    // location in version 3\n",
       "    if (IPython.notebook.keyboard_manager) {\n",
       "        IPython.notebook.keyboard_manager.register_events(el);\n",
       "    } else {\n",
       "        // location in version 2\n",
       "        IPython.keyboard_manager.register_events(el);\n",
       "    }\n",
       "};\n",
       "\n",
       "mpl.figure.prototype._key_event_extra = function (event, _name) {\n",
       "    var manager = IPython.notebook.keyboard_manager;\n",
       "    if (!manager) {\n",
       "        manager = IPython.keyboard_manager;\n",
       "    }\n",
       "\n",
       "    // Check for shift+enter\n",
       "    if (event.shiftKey && event.which === 13) {\n",
       "        this.canvas_div.blur();\n",
       "        // select the cell after this one\n",
       "        var index = IPython.notebook.find_cell_index(this.cell_info[0]);\n",
       "        IPython.notebook.select(index + 1);\n",
       "    }\n",
       "};\n",
       "\n",
       "mpl.figure.prototype.handle_save = function (fig, _msg) {\n",
       "    fig.ondownload(fig, null);\n",
       "};\n",
       "\n",
       "mpl.find_output_cell = function (html_output) {\n",
       "    // Return the cell and output element which can be found *uniquely* in the notebook.\n",
       "    // Note - this is a bit hacky, but it is done because the \"notebook_saving.Notebook\"\n",
       "    // IPython event is triggered only after the cells have been serialised, which for\n",
       "    // our purposes (turning an active figure into a static one), is too late.\n",
       "    var cells = IPython.notebook.get_cells();\n",
       "    var ncells = cells.length;\n",
       "    for (var i = 0; i < ncells; i++) {\n",
       "        var cell = cells[i];\n",
       "        if (cell.cell_type === 'code') {\n",
       "            for (var j = 0; j < cell.output_area.outputs.length; j++) {\n",
       "                var data = cell.output_area.outputs[j];\n",
       "                if (data.data) {\n",
       "                    // IPython >= 3 moved mimebundle to data attribute of output\n",
       "                    data = data.data;\n",
       "                }\n",
       "                if (data['text/html'] === html_output) {\n",
       "                    return [cell, data, j];\n",
       "                }\n",
       "            }\n",
       "        }\n",
       "    }\n",
       "};\n",
       "\n",
       "// Register the function which deals with the matplotlib target/channel.\n",
       "// The kernel may be null if the page has been refreshed.\n",
       "if (IPython.notebook.kernel !== null) {\n",
       "    IPython.notebook.kernel.comm_manager.register_target(\n",
       "        'matplotlib',\n",
       "        mpl.mpl_figure_comm\n",
       "    );\n",
       "}\n"
      ],
      "text/plain": [
       "<IPython.core.display.Javascript object>"
      ]
     },
     "metadata": {},
     "output_type": "display_data"
    },
    {
     "data": {
      "text/html": [
       "<img src=\"data:image/png;base64,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\" width=\"432\">"
      ],
      "text/plain": [
       "<IPython.core.display.HTML object>"
      ]
     },
     "metadata": {},
     "output_type": "display_data"
    },
    {
     "name": "stderr",
     "output_type": "stream",
     "text": [
      "C:\\Users\\DELL\\anaconda3\\lib\\site-packages\\seaborn\\distributions.py:2557: FutureWarning: `distplot` is a deprecated function and will be removed in a future version. Please adapt your code to use either `displot` (a figure-level function with similar flexibility) or `histplot` (an axes-level function for histograms).\n",
      "  warnings.warn(msg, FutureWarning)\n"
     ]
    }
   ],
   "source": [
    "%matplotlib notebook\n",
    "sns.distplot( hr_train_pred.loc[ hr_train_pred.left == 1 ,  'predict_proba'], color = 'b' )\n",
    "sns.distplot( hr_train_pred.loc[ hr_train_pred.left == 0 ,  'predict_proba'], color = 'g' )\n",
    "plt.show()"
   ]
  },
  {
   "cell_type": "markdown",
   "metadata": {},
   "source": [
    "#### ROC curve - Method 3"
   ]
  },
  {
   "cell_type": "code",
   "execution_count": 35,
   "metadata": {},
   "outputs": [],
   "source": [
    "roc_curve?"
   ]
  },
  {
   "cell_type": "code",
   "execution_count": 36,
   "metadata": {
    "scrolled": true
   },
   "outputs": [
    {
     "data": {
      "image/png": "[encoded data removed]",
      "text/plain": [
       "<Figure size 432x288 with 1 Axes>"
      ]
     },
     "metadata": {
      "needs_background": "light"
     },
     "output_type": "display_data"
    }
   ],
   "source": [
    "# Finding the optimal cutoff probability\n",
    "fpr, tpr, thresholds = roc_curve( hr_train_pred.left, \n",
    "                                             hr_train_pred.predict_proba,\n",
    "                                                 drop_intermediate = False )\n",
    "\n",
    "%matplotlib inline\n",
    "plt.figure(figsize = (6, 4))\n",
    "plt.plot( fpr, tpr, label = 'ROC curve (area = %0.2f)')\n",
    "plt.plot([0, 1], [0, 1], 'k--')\n",
    "plt.xlim([0.0, 1.0])\n",
    "plt.ylim([0.0, 1.05])\n",
    "plt.xlabel('False Positive Rate or [1 - True Negative Rate]')\n",
    "plt.ylabel('True Positive Rate')\n",
    "plt.title('Receiver operating characteristic example')\n",
    "plt.legend(loc = 'lower right')\n",
    "plt.show()"
   ]
  },
  {
   "cell_type": "code",
   "execution_count": 37,
   "metadata": {},
   "outputs": [
    {
     "data": {
      "text/html": [
       "<div>\n",
       "<style scoped>\n",
       "    .dataframe tbody tr th:only-of-type {\n",
       "        vertical-align: middle;\n",
       "    }\n",
       "\n",
       "    .dataframe tbody tr th {\n",
       "        vertical-align: top;\n",
       "    }\n",
       "\n",
       "    .dataframe thead th {\n",
       "        text-align: right;\n",
       "    }\n",
       "</style>\n",
       "<table border=\"1\" class=\"dataframe\">\n",
       "  <thead>\n",
       "    <tr style=\"text-align: right;\">\n",
       "      <th></th>\n",
       "      <th>fpr</th>\n",
       "      <th>tpr</th>\n",
       "      <th>thresholds</th>\n",
       "    </tr>\n",
       "  </thead>\n",
       "  <tbody>\n",
       "    <tr>\n",
       "      <th>0</th>\n",
       "      <td>0.000000</td>\n",
       "      <td>0.0</td>\n",
       "      <td>1.910601</td>\n",
       "    </tr>\n",
       "    <tr>\n",
       "      <th>1</th>\n",
       "      <td>0.000125</td>\n",
       "      <td>0.0</td>\n",
       "      <td>0.910601</td>\n",
       "    </tr>\n",
       "  </tbody>\n",
       "</table>\n",
       "</div>"
      ],
      "text/plain": [
       "        fpr  tpr  thresholds\n",
       "0  0.000000  0.0    1.910601\n",
       "1  0.000125  0.0    0.910601"
      ]
     },
     "execution_count": 37,
     "metadata": {},
     "output_type": "execute_result"
    }
   ],
   "source": [
    "roc_auc_data = pd.DataFrame( [fpr, tpr, thresholds] ).T\n",
    "roc_auc_data.columns = ['fpr', 'tpr', 'thresholds']\n",
    "roc_auc_data.head(2)"
   ]
  },
  {
   "cell_type": "code",
   "execution_count": 51,
   "metadata": {},
   "outputs": [
    {
     "data": {
      "text/html": [
       "<div>\n",
       "<style scoped>\n",
       "    .dataframe tbody tr th:only-of-type {\n",
       "        vertical-align: middle;\n",
       "    }\n",
       "\n",
       "    .dataframe tbody tr th {\n",
       "        vertical-align: top;\n",
       "    }\n",
       "\n",
       "    .dataframe thead th {\n",
       "        text-align: right;\n",
       "    }\n",
       "</style>\n",
       "<table border=\"1\" class=\"dataframe\">\n",
       "  <thead>\n",
       "    <tr style=\"text-align: right;\">\n",
       "      <th></th>\n",
       "      <th>fpr</th>\n",
       "      <th>tpr</th>\n",
       "      <th>thresholds</th>\n",
       "      <th>diff</th>\n",
       "      <th>leastvalue</th>\n",
       "    </tr>\n",
       "  </thead>\n",
       "  <tbody>\n",
       "    <tr>\n",
       "      <th>2567</th>\n",
       "      <td>0.200025</td>\n",
       "      <td>0.698</td>\n",
       "      <td>0.289599</td>\n",
       "      <td>0.000025</td>\n",
       "      <td>0.000025</td>\n",
       "    </tr>\n",
       "  </tbody>\n",
       "</table>\n",
       "</div>"
      ],
      "text/plain": [
       "           fpr    tpr  thresholds      diff  leastvalue\n",
       "2567  0.200025  0.698    0.289599  0.000025    0.000025"
      ]
     },
     "execution_count": 51,
     "metadata": {},
     "output_type": "execute_result"
    }
   ],
   "source": [
    "# get the threshold value for min of the calculation in next cell\n",
    "roc_auc_data['leastvalue'] = abs(roc_auc_data.fpr - 0.2)\n",
    "roc_auc_data.loc[ roc_auc_data.leastvalue == roc_auc_data.leastvalue.min() ]"
   ]
  },
  {
   "cell_type": "code",
   "execution_count": 52,
   "metadata": {},
   "outputs": [
    {
     "data": {
      "text/html": [
       "<div>\n",
       "<style scoped>\n",
       "    .dataframe tbody tr th:only-of-type {\n",
       "        vertical-align: middle;\n",
       "    }\n",
       "\n",
       "    .dataframe tbody tr th {\n",
       "        vertical-align: top;\n",
       "    }\n",
       "\n",
       "    .dataframe thead th {\n",
       "        text-align: right;\n",
       "    }\n",
       "</style>\n",
       "<table border=\"1\" class=\"dataframe\">\n",
       "  <thead>\n",
       "    <tr style=\"text-align: right;\">\n",
       "      <th></th>\n",
       "      <th>fpr</th>\n",
       "      <th>tpr</th>\n",
       "      <th>thresholds</th>\n",
       "      <th>diff</th>\n",
       "      <th>leastvalue</th>\n",
       "      <th>total</th>\n",
       "    </tr>\n",
       "  </thead>\n",
       "  <tbody>\n",
       "    <tr>\n",
       "      <th>2970</th>\n",
       "      <td>0.24228</td>\n",
       "      <td>0.7516</td>\n",
       "      <td>0.252587</td>\n",
       "      <td>0.04228</td>\n",
       "      <td>0.04228</td>\n",
       "      <td>1.50932</td>\n",
       "    </tr>\n",
       "  </tbody>\n",
       "</table>\n",
       "</div>"
      ],
      "text/plain": [
       "          fpr     tpr  thresholds     diff  leastvalue    total\n",
       "2970  0.24228  0.7516    0.252587  0.04228     0.04228  1.50932"
      ]
     },
     "execution_count": 52,
     "metadata": {},
     "output_type": "execute_result"
    }
   ],
   "source": [
    "# get the threshold value for min of the calculation in next cell\n",
    "roc_auc_data['total'] = roc_auc_data.tpr + 1 - roc_auc_data.fpr\n",
    "roc_auc_data.loc[ roc_auc_data.total == roc_auc_data.total.max() ]"
   ]
  },
  {
   "cell_type": "code",
   "execution_count": 53,
   "metadata": {},
   "outputs": [],
   "source": [
    "# Predicting with new cut-off probability\n",
    "hr_train_pred['new_predicted'] = hr_train_pred.predict_proba.map( lambda x: 1 if x >= 0.25 else 0 )"
   ]
  },
  {
   "cell_type": "code",
   "execution_count": 54,
   "metadata": {},
   "outputs": [],
   "source": [
    "# Predicting with new cut-off probability\n",
    "hr_test_pred['new_predicted'] = hr_test_pred.predict_proba.map( lambda x: 1 if x >= 0.25 else 0 )"
   ]
  },
  {
   "cell_type": "code",
   "execution_count": 55,
   "metadata": {},
   "outputs": [
    {
     "data": {
      "text/plain": [
       "array([[ 801,  270],\n",
       "       [ 861, 2568]], dtype=int64)"
      ]
     },
     "execution_count": 55,
     "metadata": {},
     "output_type": "execute_result"
    }
   ],
   "source": [
    "cm_lr_1 = metrics.confusion_matrix(hr_test_pred.left, hr_test_pred.new_predicted)[::-1, ::-1]\n",
    "cm_lr_1"
   ]
  },
  {
   "cell_type": "code",
   "execution_count": 56,
   "metadata": {},
   "outputs": [
    {
     "data": {
      "image/png": "[encoded data removed]",
      "text/plain": [
       "<Figure size 432x288 with 2 Axes>"
      ]
     },
     "metadata": {
      "needs_background": "light"
     },
     "output_type": "display_data"
    }
   ],
   "source": [
    "%matplotlib inline\n",
    "sns.heatmap(cm_lr_1, annot = True,  fmt = '.2f', \n",
    "                xticklabels = [\"Left\", \"No Left\"], \n",
    "                    yticklabels = [\"Left\", \"No Left\"] )\n",
    "\n",
    "plt.ylabel('True label')\n",
    "plt.xlabel('Predicted label')\n",
    "plt.show()"
   ]
  },
  {
   "cell_type": "code",
   "execution_count": 57,
   "metadata": {},
   "outputs": [
    {
     "name": "stdout",
     "output_type": "stream",
     "text": [
      "Train Accuracy:  0.754\n",
      "Test Accuracy:  0.7487\n"
     ]
    }
   ],
   "source": [
    "# get train and test accuracy score\n",
    "print('Train Accuracy: ', metrics.accuracy_score(hr_train_pred.left, hr_train_pred.new_predicted).round(4))\n",
    "print('Test Accuracy: ', metrics.accuracy_score(hr_test_pred.left, hr_test_pred.new_predicted).round(4))"
   ]
  },
  {
   "cell_type": "code",
   "execution_count": 58,
   "metadata": {},
   "outputs": [
    {
     "name": "stdout",
     "output_type": "stream",
     "text": [
      "              precision    recall  f1-score   support\n",
      "\n",
      "           0       0.90      0.75      0.82      3429\n",
      "           1       0.48      0.75      0.59      1071\n",
      "\n",
      "    accuracy                           0.75      4500\n",
      "   macro avg       0.69      0.75      0.70      4500\n",
      "weighted avg       0.80      0.75      0.76      4500\n",
      "\n"
     ]
    }
   ],
   "source": [
    "# classification report\n",
    "print(metrics.classification_report(hr_test_pred.left, hr_test_pred.new_predicted))"
   ]
  },
  {
   "cell_type": "markdown",
   "metadata": {
    "collapsed": true
   },
   "source": [
    "### Building Decision Tree Model"
   ]
  },
  {
   "cell_type": "code",
   "execution_count": 59,
   "metadata": {},
   "outputs": [],
   "source": [
    "from sklearn.tree import DecisionTreeClassifier\n",
    "from sklearn.model_selection import GridSearchCV\n",
    "from sklearn import metrics"
   ]
  },
  {
   "cell_type": "markdown",
   "metadata": {},
   "source": [
    "#### Fine Tuning the parameters"
   ]
  },
  {
   "cell_type": "code",
   "execution_count": 60,
   "metadata": {},
   "outputs": [],
   "source": [
    "param_grid = { 'max_depth': range(7, 13),    #6\n",
    "                 'min_samples_leaf': range(1, 10),    # 9\n",
    "                     'min_samples_split': range(2, 12, 1)}   # 10"
   ]
  },
  {
   "cell_type": "code",
   "execution_count": 61,
   "metadata": {},
   "outputs": [
    {
     "name": "stdout",
     "output_type": "stream",
     "text": [
      "Fitting 10 folds for each of 540 candidates, totalling 5400 fits\n"
     ]
    }
   ],
   "source": [
    "tree = GridSearchCV( DecisionTreeClassifier( random_state = 1 ), \n",
    "                        param_grid, \n",
    "                        cv = 10, \n",
    "                        scoring = 'roc_auc', \n",
    "                        verbose = True, \n",
    "                        n_jobs = -1 ).fit( train_X, train_y )"
   ]
  },
  {
   "cell_type": "code",
   "execution_count": 62,
   "metadata": {},
   "outputs": [
    {
     "name": "stdout",
     "output_type": "stream",
     "text": [
      "Best score:  0.9824554837296621\n",
      "Best parameters:  {'max_depth': 9, 'min_samples_leaf': 7, 'min_samples_split': 2}\n"
     ]
    }
   ],
   "source": [
    "# get the best score and parameters\n",
    "print('Best score: ', tree.best_score_)\n",
    "print('Best parameters: ', tree.best_params_)"
   ]
  },
  {
   "cell_type": "code",
   "execution_count": 67,
   "metadata": {
    "scrolled": true
   },
   "outputs": [],
   "source": [
    "# build the decision tree model with the best parameter combinations\n",
    "clf_tree = DecisionTreeClassifier( max_depth = 9, min_samples_leaf = 7 ).fit( train_X, train_y )"
   ]
  },
  {
   "cell_type": "code",
   "execution_count": null,
   "metadata": {},
   "outputs": [],
   "source": [
    "# get the best estimator\n",
    "tree.best_estimator_"
   ]
  },
  {
   "cell_type": "code",
   "execution_count": 64,
   "metadata": {},
   "outputs": [],
   "source": [
    "# get the probability score on training and testing\n",
    "train_predict_prob = pd.DataFrame(tree.best_estimator_.predict_proba(train_X))[1]\n",
    "test_predict_prob = pd.DataFrame(tree.best_estimator_.predict_proba(test_X))[1]"
   ]
  },
  {
   "cell_type": "code",
   "execution_count": 65,
   "metadata": {},
   "outputs": [
    {
     "name": "stdout",
     "output_type": "stream",
     "text": [
      "0.9931604950618828\n",
      "0.9861948084376162\n"
     ]
    }
   ],
   "source": [
    "# get the model auc after parameter tuning\n",
    "print(metrics.roc_auc_score(train_y, train_predict_prob))\n",
    "print(metrics.roc_auc_score(test_y, test_predict_prob))"
   ]
  },
  {
   "cell_type": "code",
   "execution_count": 68,
   "metadata": {},
   "outputs": [
    {
     "name": "stdout",
     "output_type": "stream",
     "text": [
      "0.9804743308886561\n",
      "0.9737777777777777\n"
     ]
    }
   ],
   "source": [
    "# get the model accuracy\n",
    "print(metrics.accuracy_score(train_y, clf_tree.predict(train_X)))\n",
    "print(metrics.accuracy_score(test_y, clf_tree.predict(test_X)))"
   ]
  },
  {
   "cell_type": "code",
   "execution_count": 69,
   "metadata": {
    "scrolled": true
   },
   "outputs": [
    {
     "data": {
      "image/png": "[encoded data removed]",
      "text/plain": [
       "<Figure size 432x288 with 2 Axes>"
      ]
     },
     "metadata": {
      "needs_background": "light"
     },
     "output_type": "display_data"
    }
   ],
   "source": [
    "# confusion metrix for test data\n",
    "tree_cm_tree = metrics.confusion_matrix(test_y, clf_tree.predict(test_X))[::-1, ::-1]\n",
    "sns.heatmap(tree_cm_tree, annot = True, fmt = '.2f',\n",
    "                xticklabels = [\"Left\", \"No Left\"] , \n",
    "                    yticklabels = [\"Left\", \"No Left\"])\n",
    "\n",
    "plt.ylabel('True label')\n",
    "plt.xlabel('Predicted label')\n",
    "plt.show()"
   ]
  },
  {
   "cell_type": "code",
   "execution_count": 70,
   "metadata": {},
   "outputs": [],
   "source": [
    "hr_train_pred = pd.concat( [train_y.reset_index( drop = True), \n",
    "                                pd.Series( clf_tree.predict_proba( train_X )[:, 1]) ], axis = 1)\n",
    "hr_train_pred.columns = ['left', 'predict_proba']"
   ]
  },
  {
   "cell_type": "code",
   "execution_count": 71,
   "metadata": {},
   "outputs": [],
   "source": [
    "hr_test_pred = pd.concat( [test_y.reset_index( drop = True), \n",
    "                                pd.Series( clf_tree.predict_proba( test_X )[:, 1]) ], axis = 1)\n",
    "hr_test_pred.columns = ['left', 'predict_proba']"
   ]
  },
  {
   "cell_type": "markdown",
   "metadata": {},
   "source": [
    "#### Estimate the best cutoffs - Method 1 (for loop)"
   ]
  },
  {
   "cell_type": "code",
   "execution_count": 72,
   "metadata": {
    "scrolled": true
   },
   "outputs": [
    {
     "data": {
      "text/plain": [
       "0.20500000000000002"
      ]
     },
     "execution_count": 72,
     "metadata": {},
     "output_type": "execute_result"
    }
   ],
   "source": [
    "# declare empty dataframe\n",
    "cm_scores = pd.DataFrame()\n",
    "\n",
    "for iCutoff in np.arange(0, 1, 0.005):\n",
    "    \n",
    "    # do the predictions at the cutoff\n",
    "    y_predict = np.where( hr_train_pred.predict_proba >= iCutoff, 1, 0 )\n",
    "    \n",
    "    # create the confusion matrix with predicted y\n",
    "    cm = metrics.confusion_matrix( hr_train_pred.left, y_predict )[::-1, ::-1]\n",
    "    \n",
    "    # get the sentivity + specificity at the cutoff\n",
    "    Total = cm[0, 0]/cm.sum(axis = 1)[0] + cm[1, 1]/cm.sum(axis = 1)[1]\n",
    "    \n",
    "    # append the data row wise in the dataframe\n",
    "    cm_scores = pd.concat( [cm_scores, pd.DataFrame([iCutoff, Total]).T ], axis = 0 )\n",
    "    \n",
    "cm_scores.columns = ['Cutoff', 'Score']\n",
    "cm_scores.loc[ cm_scores.Score == cm_scores.Score.max(), 'Cutoff'].iloc[0]"
   ]
  },
  {
   "cell_type": "code",
   "execution_count": 73,
   "metadata": {},
   "outputs": [],
   "source": [
    "y_predict = np.where(hr_test_pred.predict_proba >= 0.20, 1, 0)"
   ]
  },
  {
   "cell_type": "code",
   "execution_count": 74,
   "metadata": {},
   "outputs": [],
   "source": [
    "tree_cm_tree = metrics.confusion_matrix(test_y, y_predict )[::-1, ::-1]"
   ]
  },
  {
   "cell_type": "code",
   "execution_count": 75,
   "metadata": {
    "scrolled": true
   },
   "outputs": [
    {
     "data": {
      "image/png": "[encoded data removed]",
      "text/plain": [
       "<Figure size 432x288 with 2 Axes>"
      ]
     },
     "metadata": {
      "needs_background": "light"
     },
     "output_type": "display_data"
    }
   ],
   "source": [
    "# confusion metrix for test data\n",
    "sns.heatmap(tree_cm_tree, annot = True, fmt = '.2f',\n",
    "                xticklabels = [\"Left\", \"No Left\"] , \n",
    "                    yticklabels = [\"Left\", \"No Left\"])\n",
    "\n",
    "plt.ylabel('True label')\n",
    "plt.xlabel('Predicted label')\n",
    "plt.show()"
   ]
  },
  {
   "cell_type": "code",
   "execution_count": 76,
   "metadata": {},
   "outputs": [
    {
     "data": {
      "text/plain": [
       "0.9677777777777777"
      ]
     },
     "execution_count": 76,
     "metadata": {},
     "output_type": "execute_result"
    }
   ],
   "source": [
    "# accuracy score\n",
    "metrics.accuracy_score(test_y, y_predict)"
   ]
  },
  {
   "cell_type": "code",
   "execution_count": 77,
   "metadata": {},
   "outputs": [
    {
     "name": "stdout",
     "output_type": "stream",
     "text": [
      "              precision    recall  f1-score   support\n",
      "\n",
      "           0       0.98      0.98      0.98      3429\n",
      "           1       0.93      0.94      0.93      1071\n",
      "\n",
      "    accuracy                           0.97      4500\n",
      "   macro avg       0.95      0.96      0.96      4500\n",
      "weighted avg       0.97      0.97      0.97      4500\n",
      "\n"
     ]
    }
   ],
   "source": [
    "print( classification_report(test_y, y_predict))"
   ]
  },
  {
   "cell_type": "markdown",
   "metadata": {},
   "source": [
    "---\n",
    "# Model $Ensembles$\n",
    "\n",
    "\n",
    "> Ensemble methods combine multiple classifiers (using _model averaging_ or _voting_) which may differ in algorithms, input features, or input samples. Statistical analyses showed that ensemble methods yield better classification performances and are also less prone to overfitting. Different methods, e.g., bagging or boosting, are used to construct the final classification decision based on weighted votes."
   ]
  },
  {
   "cell_type": "markdown",
   "metadata": {},
   "source": [
    "## What is ensembling?\n",
    "\n",
    "**Ensemble learning (or \"ensembling\")** is the process of combining several predictive models in order to produce a combined model that is more accurate than any individual model.\n",
    "\n",
    "- **Regression:** take the average of the predictions\n",
    "- **Classification:** take a vote and use the most common prediction, or take the average of the predicted probabilities\n",
    "\n",
    "For ensembling to work well, the models must have the following characteristics:\n",
    "\n",
    "- **Accurate:** they outperform the null model\n",
    "- **Independent:** their predictions are generated using different processes\n",
    "\n",
    "**The big idea:** If you have a collection of individually imperfect (and independent) models, the \"one-off\" mistakes made by each model are probably not going to be made by the rest of the models, and thus the mistakes will be discarded when averaging the models.\n",
    "\n",
    "There are two basic **methods for ensembling:**\n",
    "\n",
    "- Manually ensemble your individual models\n",
    "- Use a model that ensembles for you"
   ]
  },
  {
   "cell_type": "markdown",
   "metadata": {},
   "source": [
    "---\n",
    "Why are we learning about ensembling?\n",
    "\n",
    "- Very popular method for improving the predictive performance of machine learning models\n",
    "\n",
    "- Provides a foundation for understanding more sophisticated models"
   ]
  },
  {
   "cell_type": "markdown",
   "metadata": {},
   "source": [
    "---\n",
    "# Manual ensembling\n",
    "\n",
    "What makes a good manual ensemble?\n",
    "\n",
    "- Different types of **models**\n",
    "    - Ex. Build an SVC, Decision Tree and a kNN\n",
    "- Different combinations of **features**\n",
    "    - Ex. Take a random selection of 5 variables for each model\n",
    "- Different **tuning parameters**\n",
    "    - Ex. From the grid search take the top 5 or ten best performing models "
   ]
  },
  {
   "cell_type": "code",
   "execution_count": null,
   "metadata": {},
   "outputs": [],
   "source": [
    "from IPython.display import Image\n",
    "Image(filename='crowdflower_ensembling.jpg')"
   ]
  },
  {
   "cell_type": "markdown",
   "metadata": {},
   "source": [
    "## Comparing manual ensembling with a single model approach\n",
    "\n",
    "**Advantages of manual ensembling:**\n",
    "\n",
    "- Increases predictive accuracy\n",
    "- Easy to get started\n",
    "\n",
    "**Disadvantages of manual ensembling:**\n",
    "\n",
    "- Decreases interpretability\n",
    "- Takes longer to train\n",
    "- Takes longer to predict\n",
    "- More complex to automate and maintain\n",
    "- Small gains in accuracy may not be worth the added complexity"
   ]
  },
  {
   "cell_type": "markdown",
   "metadata": {},
   "source": [
    "<big>\n",
    "\n",
    "---\n",
    "\n",
    "- Decision Trees are a \n",
    "    - LOW BIAS (not prone to underfitting), \n",
    "    - HIGH VARIANCE (prone to overfitting) algorithm\n",
    "\n",
    "\n",
    "- ENSEMBLES are a variance reduction technique\n",
    "\n",
    "- ENSEMBLES OF DECISION TREES create LOW BIAS, LOW VARIANCE model.\n",
    "\n",
    "---"
   ]
  },
  {
   "cell_type": "markdown",
   "metadata": {},
   "source": [
    "# Bagging\n",
    "\n",
    "The primary weakness of **decision trees** is that they don't tend to have the best predictive accuracy. This is partially due to **high variance**, meaning that different splits in the training data can lead to very different trees.\n",
    "\n",
    "**Bagging** is a general purpose procedure for reducing the variance of a machine learning method, but is particularly useful for decision trees. Bagging is short for **bootstrap aggregation**, meaning the aggregation of bootstrap samples.\n",
    "\n",
    "What is a **bootstrap sample**? A random sample with replacement:"
   ]
  },
  {
   "cell_type": "markdown",
   "metadata": {},
   "source": [
    "---\n",
    "**How does bagging work (for decision trees)?**\n",
    "\n",
    "1. Grow B trees using B bootstrap samples from the training data.\n",
    "2. Train each tree on its bootstrap sample and make predictions.\n",
    "3. Combine the predictions:\n",
    "    - Average the predictions for **regression trees**\n",
    "    - Take a vote for **classification trees**\n",
    "\n",
    "Notes:\n",
    "\n",
    "- **Each bootstrap sample** should be the same size as the original training set.\n",
    "- **B** should be a large enough value that the error seems to have \"stabilized\".\n",
    "- The trees are **grown deep** so that they have low bias/high variance.\n",
    "\n",
    "Bagging increases predictive accuracy by **reducing the variance**, similar to how cross-validation reduces the variance associated with train/test split (for estimating out-of-sample error) by splitting many times an averaging the results."
   ]
  },
  {
   "cell_type": "code",
   "execution_count": 78,
   "metadata": {},
   "outputs": [],
   "source": [
    "import sklearn.ensemble as en"
   ]
  },
  {
   "cell_type": "code",
   "execution_count": 79,
   "metadata": {},
   "outputs": [
    {
     "name": "stdout",
     "output_type": "stream",
     "text": [
      "['AdaBoostClassifier', 'AdaBoostRegressor', 'BaggingClassifier', 'BaggingRegressor', 'BaseEnsemble', 'ExtraTreesClassifier', 'ExtraTreesRegressor', 'GradientBoostingClassifier', 'GradientBoostingRegressor', 'IsolationForest', 'RandomForestClassifier', 'RandomForestRegressor', 'RandomTreesEmbedding', 'StackingClassifier', 'StackingRegressor', 'VotingClassifier', 'VotingRegressor', 'typing']\n"
     ]
    }
   ],
   "source": [
    "print([x for x in dir(en) if not x.startswith('_')])"
   ]
  },
  {
   "cell_type": "markdown",
   "metadata": {},
   "source": [
    "### Bagged decision trees"
   ]
  },
  {
   "cell_type": "code",
   "execution_count": 80,
   "metadata": {},
   "outputs": [],
   "source": [
    "from sklearn.ensemble import BaggingClassifier"
   ]
  },
  {
   "cell_type": "markdown",
   "metadata": {},
   "source": [
    "----\n",
    "## Estimating out-of-sample error\n",
    "\n",
    "For bagged models, out-of-sample error can be estimated without using **train/test split** or **cross-validation**!\n",
    "\n",
    "On average, each bagged tree uses about **two-thirds** of the observations. For each tree, the **remaining observations** are called \"out-of-bag\" observations."
   ]
  },
  {
   "cell_type": "markdown",
   "metadata": {},
   "source": [
    "How to calculate **\"out-of-bag error\":**\n",
    "\n",
    "1. For every observation in the training data, predict its response value using **only** the trees in which that observation was out-of-bag. Average those predictions (for regression) or take a vote (for classification).\n",
    "2. Compare all predictions to the actual response values in order to compute the out-of-bag error.\n",
    "\n",
    "When B is sufficiently large, the **out-of-bag error** is an accurate estimate of **out-of-sample error**."
   ]
  },
  {
   "cell_type": "code",
   "execution_count": 81,
   "metadata": {},
   "outputs": [
    {
     "name": "stdout",
     "output_type": "stream",
     "text": [
      "Fitting 10 folds for each of 4 candidates, totalling 40 fits\n"
     ]
    }
   ],
   "source": [
    "pargrid_bagging = {'n_estimators': [230, 250, 270, 290]}\n",
    "\n",
    "gscv_bagging = GridSearchCV( estimator = BaggingClassifier( oob_score = True, max_samples = 0.8, random_state = 5), \n",
    "                                param_grid = pargrid_bagging, \n",
    "                                cv = 10,\n",
    "                                scoring = 'roc_auc',\n",
    "                                verbose = 2, \n",
    "                                n_jobs = -1).fit(train_X, train_y)"
   ]
  },
  {
   "cell_type": "code",
   "execution_count": 82,
   "metadata": {},
   "outputs": [
    {
     "data": {
      "text/plain": [
       "0.9906607061952443"
      ]
     },
     "execution_count": 82,
     "metadata": {},
     "output_type": "execute_result"
    }
   ],
   "source": [
    "gscv_bagging.best_score_"
   ]
  },
  {
   "cell_type": "code",
   "execution_count": 83,
   "metadata": {},
   "outputs": [
    {
     "data": {
      "text/plain": [
       "{'n_estimators': 270}"
      ]
     },
     "execution_count": 83,
     "metadata": {},
     "output_type": "execute_result"
    }
   ],
   "source": [
    "gscv_bagging.best_params_"
   ]
  },
  {
   "cell_type": "code",
   "execution_count": 84,
   "metadata": {},
   "outputs": [
    {
     "data": {
      "text/plain": [
       "0.9998095056672064"
      ]
     },
     "execution_count": 84,
     "metadata": {},
     "output_type": "execute_result"
    }
   ],
   "source": [
    "metrics.accuracy_score( train_y, gscv_bagging.best_estimator_.predict( train_X ) )"
   ]
  },
  {
   "cell_type": "code",
   "execution_count": 85,
   "metadata": {},
   "outputs": [
    {
     "data": {
      "text/plain": [
       "0.9897777777777778"
      ]
     },
     "execution_count": 85,
     "metadata": {},
     "output_type": "execute_result"
    }
   ],
   "source": [
    "metrics.accuracy_score( test_y, gscv_bagging.best_estimator_.predict( test_X ) )"
   ]
  },
  {
   "cell_type": "code",
   "execution_count": 86,
   "metadata": {},
   "outputs": [
    {
     "name": "stdout",
     "output_type": "stream",
     "text": [
      "              precision    recall  f1-score   support\n",
      "\n",
      "           0       0.99      1.00      0.99      3429\n",
      "           1       0.98      0.97      0.98      1071\n",
      "\n",
      "    accuracy                           0.99      4500\n",
      "   macro avg       0.99      0.98      0.99      4500\n",
      "weighted avg       0.99      0.99      0.99      4500\n",
      "\n"
     ]
    }
   ],
   "source": [
    "print(metrics.classification_report( test_y, gscv_bagging.best_estimator_.predict( test_X ) ))"
   ]
  },
  {
   "cell_type": "code",
   "execution_count": 89,
   "metadata": {},
   "outputs": [
    {
     "data": {
      "text/plain": [
       "array([[1041,   30],\n",
       "       [  16, 3413]], dtype=int64)"
      ]
     },
     "execution_count": 89,
     "metadata": {},
     "output_type": "execute_result"
    }
   ],
   "source": [
    "confusion_matrix( test_y, gscv_bagging.best_estimator_.predict( test_X ) )[::-1, ::-1]"
   ]
  },
  {
   "cell_type": "markdown",
   "metadata": {},
   "source": [
    "## Estimating feature importance\n",
    "\n",
    "Bagging increases **predictive accuracy**, but decreases **model interpretability** because it's no longer possible to visualize the tree to understand the importance of each feature.\n",
    "\n",
    "However, we can still obtain an overall summary of **feature importance** from bagged models:\n",
    "\n",
    "- **Bagged regression trees:** calculate the total amount that **MSE** is decreased due to splits over a given feature, averaged over all trees\n",
    "- **Bagged classification trees:** calculate the total amount that **Gini index** is decreased due to splits over a given feature, averaged over all trees"
   ]
  },
  {
   "cell_type": "markdown",
   "metadata": {},
   "source": [
    "# BUILDING RANDOM FOREST MODEL"
   ]
  },
  {
   "cell_type": "markdown",
   "metadata": {},
   "source": [
    "Random Forests is a **slight variation of bagged trees** that has even better performance:\n",
    "\n",
    "- Exactly like bagging, we create an ensemble of decision trees using bootstrapped samples of the training set.\n",
    "- However, when building each tree, each time a split is considered, a **random sample of m features** is chosen as split candidates from the **full set of p features**. The split is only allowed to use **one of those m features**.\n",
    "    - A new random sample of features is chosen for **every single tree at every single split**.\n",
    "    - For **classification**, m is typically chosen to be the square root of p.\n",
    "    - For **regression**, m is typically chosen to be somewhere between p/3 and p.\n",
    "\n",
    "What's the point?\n",
    "\n",
    "- Suppose there is **one very strong feature** in the data set. When using bagged trees, most of the trees will use that feature as the top split, resulting in an ensemble of similar trees that are **highly correlated**.\n",
    "- Averaging highly correlated quantities does not significantly reduce variance (which is the entire goal of bagging).\n",
    "- By randomly leaving out candidate features from each split, **Random Forests \"decorrelates\" the trees**, such that the averaging process can reduce the variance of the resulting model."
   ]
  },
  {
   "cell_type": "markdown",
   "metadata": {},
   "source": [
    "### Tuning n_estimators\n",
    "\n",
    "One important tuning parameter is **n_estimators**, which is the number of trees that should be grown. It should be a large enough value that the error seems to have \"stabilized\"."
   ]
  },
  {
   "cell_type": "markdown",
   "metadata": {},
   "source": [
    "### Tuning max_features\n",
    "\n",
    "The other important tuning parameter is **max_features**, which is the number of features that should be considered at each split."
   ]
  },
  {
   "cell_type": "markdown",
   "metadata": {},
   "source": [
    "## Comparing Random Forests with decision trees\n",
    "\n",
    "**Advantages of Random Forests:**\n",
    "\n",
    "- Performance is competitive with the best supervised learning methods\n",
    "- Provides a more reliable estimate of feature importance\n",
    "- Allows you to estimate out-of-sample error without using train/test split or cross-validation\n",
    "\n",
    "**Disadvantages of Random Forests:**\n",
    "\n",
    "- Less interpretable\n",
    "- Slower to train\n",
    "- Slower to predict"
   ]
  },
  {
   "cell_type": "code",
   "execution_count": 90,
   "metadata": {},
   "outputs": [],
   "source": [
    "from sklearn.ensemble import RandomForestClassifier"
   ]
  },
  {
   "cell_type": "code",
   "execution_count": 91,
   "metadata": {},
   "outputs": [
    {
     "name": "stdout",
     "output_type": "stream",
     "text": [
      "Fitting 5 folds for each of 16 candidates, totalling 80 fits\n"
     ]
    }
   ],
   "source": [
    "pargrid_rf = { 'n_estimators': [75, 90, 100, 120],\n",
    "                  'max_features': [6, 7, 8, 9] }\n",
    "\n",
    "gscv_rf = GridSearchCV(estimator = RandomForestClassifier( random_state = 5 ), \n",
    "                        param_grid = pargrid_rf, \n",
    "                        cv = 5,\n",
    "                        verbose = 10, \n",
    "                        scoring = 'roc_auc',\n",
    "                        n_jobs = -1 ).fit(train_X, train_y)"
   ]
  },
  {
   "cell_type": "code",
   "execution_count": 92,
   "metadata": {},
   "outputs": [
    {
     "data": {
      "text/plain": [
       "{'max_features': 7, 'n_estimators': 100}"
      ]
     },
     "execution_count": 92,
     "metadata": {},
     "output_type": "execute_result"
    }
   ],
   "source": [
    "gscv_rf.best_params_"
   ]
  },
  {
   "cell_type": "code",
   "execution_count": 93,
   "metadata": {},
   "outputs": [
    {
     "data": {
      "text/plain": [
       "0.9907194586460288"
      ]
     },
     "execution_count": 93,
     "metadata": {},
     "output_type": "execute_result"
    }
   ],
   "source": [
    "gscv_rf.best_score_"
   ]
  },
  {
   "cell_type": "code",
   "execution_count": 94,
   "metadata": {},
   "outputs": [
    {
     "data": {
      "text/plain": [
       "1.0"
      ]
     },
     "execution_count": 94,
     "metadata": {},
     "output_type": "execute_result"
    }
   ],
   "source": [
    "metrics.roc_auc_score( train_y, gscv_rf.best_estimator_.predict_proba(train_X)[:, 1] )"
   ]
  },
  {
   "cell_type": "code",
   "execution_count": 95,
   "metadata": {},
   "outputs": [
    {
     "data": {
      "text/plain": [
       "0.9929769127442949"
      ]
     },
     "execution_count": 95,
     "metadata": {},
     "output_type": "execute_result"
    }
   ],
   "source": [
    "metrics.roc_auc_score( test_y, gscv_rf.best_estimator_.predict_proba(test_X)[:, 1] )"
   ]
  },
  {
   "cell_type": "code",
   "execution_count": 96,
   "metadata": {},
   "outputs": [],
   "source": [
    "y_train_predicted_proba = gscv_rf.best_estimator_.predict_proba(train_X)[:, 1]\n",
    "y_test_predicted_proba = gscv_rf.best_estimator_.predict_proba(test_X)[:, 1]"
   ]
  },
  {
   "cell_type": "code",
   "execution_count": 97,
   "metadata": {},
   "outputs": [
    {
     "data": {
      "text/plain": [
       "0.455"
      ]
     },
     "execution_count": 97,
     "metadata": {},
     "output_type": "execute_result"
    }
   ],
   "source": [
    "# declare empty dataframe\n",
    "cm_scores = pd.DataFrame()\n",
    "\n",
    "for iCutoff in np.arange(0, 1, 0.005):\n",
    "    \n",
    "    # do the predictions at the cutoff\n",
    "    y_predict = np.where( y_train_predicted_proba >= iCutoff, 1, 0 )\n",
    "    \n",
    "    # create the confusion matrix with predicted y\n",
    "    cm = metrics.confusion_matrix( train_y, y_predict )[::-1, ::-1]\n",
    "    \n",
    "    # get the sentivity + specificity at the cutoff\n",
    "    Total = cm[0, 0]/cm.sum(axis = 1)[0] + cm[1, 1]/cm.sum(axis = 1)[1]\n",
    "    \n",
    "    # append the data row wise in the dataframe\n",
    "    cm_scores = pd.concat( [cm_scores, pd.DataFrame([iCutoff, Total]).T ], axis = 0 )\n",
    "    \n",
    "cm_scores.columns = ['Cutoff', 'Score']\n",
    "cm_scores.loc[ cm_scores.Score == cm_scores.Score.max(), 'Cutoff'].iloc[0]"
   ]
  },
  {
   "cell_type": "markdown",
   "metadata": {},
   "source": [
    "#### predict the output based on best cutoff"
   ]
  },
  {
   "cell_type": "code",
   "execution_count": 99,
   "metadata": {},
   "outputs": [],
   "source": [
    "y_predicted_train = np.where( y_train_predicted_proba >= 0.455, 1, 0 )\n",
    "y_predicted_test = np.where( y_test_predicted_proba >= 0.455, 1, 0 )"
   ]
  },
  {
   "cell_type": "code",
   "execution_count": 100,
   "metadata": {},
   "outputs": [
    {
     "name": "stdout",
     "output_type": "stream",
     "text": [
      "Accuracy: 1.0\n"
     ]
    }
   ],
   "source": [
    "print('Accuracy:', metrics.accuracy_score( train_y, y_predicted_train))"
   ]
  },
  {
   "cell_type": "code",
   "execution_count": 101,
   "metadata": {},
   "outputs": [
    {
     "name": "stdout",
     "output_type": "stream",
     "text": [
      "Accuracy: 0.9911111111111112\n"
     ]
    }
   ],
   "source": [
    "print('Accuracy:', metrics.accuracy_score( test_y, y_predicted_test ))"
   ]
  },
  {
   "cell_type": "code",
   "execution_count": 102,
   "metadata": {},
   "outputs": [
    {
     "data": {
      "text/plain": [
       "Text(0.5, 15.0, 'Predicted label')"
      ]
     },
     "execution_count": 102,
     "metadata": {},
     "output_type": "execute_result"
    },
    {
     "data": {
      "image/png": "[encoded data removed]",
      "text/plain": [
       "<Figure size 432x288 with 2 Axes>"
      ]
     },
     "metadata": {
      "needs_background": "light"
     },
     "output_type": "display_data"
    }
   ],
   "source": [
    "tree_cm = metrics.confusion_matrix( test_y, y_predicted_test )[::-1, ::-1]\n",
    "sns.heatmap(tree_cm, annot=True,\n",
    "         fmt='.2f',\n",
    "         xticklabels = [\"Left\", \"No Left\"] , yticklabels = [\"Left\", \"No Left\"] )\n",
    "\n",
    "plt.ylabel('True label')\n",
    "plt.xlabel('Predicted label')"
   ]
  },
  {
   "cell_type": "markdown",
   "metadata": {
    "collapsed": true
   },
   "source": [
    "### Boosting"
   ]
  },
  {
   "cell_type": "markdown",
   "metadata": {},
   "source": [
    "#### Ada Boosting"
   ]
  },
  {
   "cell_type": "code",
   "execution_count": 103,
   "metadata": {},
   "outputs": [],
   "source": [
    "from sklearn.ensemble import AdaBoostClassifier, GradientBoostingClassifier"
   ]
  },
  {
   "cell_type": "code",
   "execution_count": 104,
   "metadata": {},
   "outputs": [],
   "source": [
    "from sklearn.model_selection import GridSearchCV"
   ]
  },
  {
   "cell_type": "code",
   "execution_count": 105,
   "metadata": {},
   "outputs": [
    {
     "data": {
      "text/plain": [
       "[0.01, 0.1, 1, 10]"
      ]
     },
     "execution_count": 105,
     "metadata": {},
     "output_type": "execute_result"
    }
   ],
   "source": [
    "[10 ** x for x in range(-2, 2)]"
   ]
  },
  {
   "cell_type": "code",
   "execution_count": 107,
   "metadata": {},
   "outputs": [],
   "source": [
    "pargrid_ada = {'n_estimators': [90, 100, 150, 200],\n",
    "                  'learning_rate':[10 ** x for x in range(-2, 2)]}"
   ]
  },
  {
   "cell_type": "code",
   "execution_count": 108,
   "metadata": {},
   "outputs": [
    {
     "name": "stdout",
     "output_type": "stream",
     "text": [
      "Fitting 5 folds for each of 16 candidates, totalling 80 fits\n"
     ]
    }
   ],
   "source": [
    "gscv_ada = GridSearchCV(estimator = AdaBoostClassifier(), \n",
    "                        param_grid = pargrid_ada, \n",
    "                        cv = 5,\n",
    "                        verbose = 10, \n",
    "                        scoring = 'roc_auc',\n",
    "                        n_jobs = -1).fit(train_X, train_y)"
   ]
  },
  {
   "cell_type": "code",
   "execution_count": 109,
   "metadata": {},
   "outputs": [
    {
     "data": {
      "text/plain": [
       "{'learning_rate': 1, 'n_estimators': 100}"
      ]
     },
     "execution_count": 109,
     "metadata": {},
     "output_type": "execute_result"
    }
   ],
   "source": [
    "gscv_ada.best_params_"
   ]
  },
  {
   "cell_type": "code",
   "execution_count": 110,
   "metadata": {},
   "outputs": [
    {
     "data": {
      "text/plain": [
       "0.9832608173076924"
      ]
     },
     "execution_count": 110,
     "metadata": {},
     "output_type": "execute_result"
    }
   ],
   "source": [
    "gscv_ada.best_score_"
   ]
  },
  {
   "cell_type": "code",
   "execution_count": 111,
   "metadata": {},
   "outputs": [
    {
     "name": "stdout",
     "output_type": "stream",
     "text": [
      "0.9593333333333334\n",
      "0.9418540819652446\n"
     ]
    }
   ],
   "source": [
    "print(metrics.accuracy_score(test_y, gscv_ada.best_estimator_.predict(test_X)))\n",
    "print(metrics.roc_auc_score(test_y, gscv_ada.best_estimator_.predict(test_X)))"
   ]
  },
  {
   "cell_type": "markdown",
   "metadata": {},
   "source": [
    "#### GBM - Gradient Boosting"
   ]
  },
  {
   "cell_type": "code",
   "execution_count": 112,
   "metadata": {},
   "outputs": [],
   "source": [
    "from sklearn.ensemble import GradientBoostingClassifier"
   ]
  },
  {
   "cell_type": "code",
   "execution_count": 114,
   "metadata": {},
   "outputs": [],
   "source": [
    "pargrid_gbm = {'n_estimators': [550, 600, 650],\n",
    "                    'learning_rate': [10 ** x for x in range(-2, 1)],\n",
    "                        'max_features': [7, 8, 9, 10, 11]}"
   ]
  },
  {
   "cell_type": "code",
   "execution_count": 115,
   "metadata": {},
   "outputs": [
    {
     "name": "stdout",
     "output_type": "stream",
     "text": [
      "Fitting 5 folds for each of 45 candidates, totalling 225 fits\n"
     ]
    }
   ],
   "source": [
    "gscv_gbm = GridSearchCV(estimator = GradientBoostingClassifier(), \n",
    "                            param_grid = pargrid_gbm, \n",
    "                            cv = 5,\n",
    "                            verbose = 10,\n",
    "                            scoring = 'roc_auc',\n",
    "                            n_jobs = -1).fit(train_X, train_y)"
   ]
  },
  {
   "cell_type": "code",
   "execution_count": 116,
   "metadata": {},
   "outputs": [
    {
     "data": {
      "text/plain": [
       "0.9911274706066292"
      ]
     },
     "execution_count": 116,
     "metadata": {},
     "output_type": "execute_result"
    }
   ],
   "source": [
    "gscv_gbm.best_score_"
   ]
  },
  {
   "cell_type": "code",
   "execution_count": 117,
   "metadata": {},
   "outputs": [
    {
     "data": {
      "text/plain": [
       "{'learning_rate': 0.1, 'max_features': 9, 'n_estimators': 600}"
      ]
     },
     "execution_count": 117,
     "metadata": {},
     "output_type": "execute_result"
    }
   ],
   "source": [
    "gscv_gbm.best_params_"
   ]
  },
  {
   "cell_type": "code",
   "execution_count": 118,
   "metadata": {},
   "outputs": [
    {
     "name": "stdout",
     "output_type": "stream",
     "text": [
      "0.98\n",
      "0.9666512274201019\n"
     ]
    }
   ],
   "source": [
    "print(metrics.accuracy_score( test_y, gscv_gbm.best_estimator_.predict(test_X)) )\n",
    "print(metrics.roc_auc_score( test_y, gscv_gbm.best_estimator_.predict(test_X)) )"
   ]
  },
  {
   "cell_type": "code",
   "execution_count": 119,
   "metadata": {},
   "outputs": [],
   "source": [
    "feature_imp = pd.concat( [pd.Series(train_X.columns), \n",
    "            pd.Series(gscv_gbm.best_estimator_.feature_importances_)], axis = 1)\n",
    "feature_imp.columns = ['feature', 'importance']"
   ]
  },
  {
   "cell_type": "code",
   "execution_count": 120,
   "metadata": {},
   "outputs": [
    {
     "data": {
      "text/html": [
       "<div>\n",
       "<style scoped>\n",
       "    .dataframe tbody tr th:only-of-type {\n",
       "        vertical-align: middle;\n",
       "    }\n",
       "\n",
       "    .dataframe tbody tr th {\n",
       "        vertical-align: top;\n",
       "    }\n",
       "\n",
       "    .dataframe thead th {\n",
       "        text-align: right;\n",
       "    }\n",
       "</style>\n",
       "<table border=\"1\" class=\"dataframe\">\n",
       "  <thead>\n",
       "    <tr style=\"text-align: right;\">\n",
       "      <th></th>\n",
       "      <th>feature</th>\n",
       "      <th>importance</th>\n",
       "    </tr>\n",
       "  </thead>\n",
       "  <tbody>\n",
       "    <tr>\n",
       "      <th>16</th>\n",
       "      <td>satisfaction_level</td>\n",
       "      <td>0.342717</td>\n",
       "    </tr>\n",
       "    <tr>\n",
       "      <th>17</th>\n",
       "      <td>time_spend_company</td>\n",
       "      <td>0.211138</td>\n",
       "    </tr>\n",
       "    <tr>\n",
       "      <th>12</th>\n",
       "      <td>number_project</td>\n",
       "      <td>0.204903</td>\n",
       "    </tr>\n",
       "    <tr>\n",
       "      <th>1</th>\n",
       "      <td>average_montly_hours</td>\n",
       "      <td>0.140586</td>\n",
       "    </tr>\n",
       "    <tr>\n",
       "      <th>11</th>\n",
       "      <td>last_evaluation</td>\n",
       "      <td>0.092102</td>\n",
       "    </tr>\n",
       "    <tr>\n",
       "      <th>0</th>\n",
       "      <td>Work_accident_1</td>\n",
       "      <td>0.003351</td>\n",
       "    </tr>\n",
       "    <tr>\n",
       "      <th>14</th>\n",
       "      <td>salary_low</td>\n",
       "      <td>0.001977</td>\n",
       "    </tr>\n",
       "    <tr>\n",
       "      <th>10</th>\n",
       "      <td>department_technical</td>\n",
       "      <td>0.000549</td>\n",
       "    </tr>\n",
       "    <tr>\n",
       "      <th>2</th>\n",
       "      <td>department_RandD</td>\n",
       "      <td>0.000462</td>\n",
       "    </tr>\n",
       "    <tr>\n",
       "      <th>15</th>\n",
       "      <td>salary_medium</td>\n",
       "      <td>0.000402</td>\n",
       "    </tr>\n",
       "    <tr>\n",
       "      <th>9</th>\n",
       "      <td>department_support</td>\n",
       "      <td>0.000363</td>\n",
       "    </tr>\n",
       "    <tr>\n",
       "      <th>3</th>\n",
       "      <td>department_accounting</td>\n",
       "      <td>0.000346</td>\n",
       "    </tr>\n",
       "    <tr>\n",
       "      <th>5</th>\n",
       "      <td>department_management</td>\n",
       "      <td>0.000277</td>\n",
       "    </tr>\n",
       "    <tr>\n",
       "      <th>8</th>\n",
       "      <td>department_sales</td>\n",
       "      <td>0.000263</td>\n",
       "    </tr>\n",
       "    <tr>\n",
       "      <th>13</th>\n",
       "      <td>promotion_last_5years_1</td>\n",
       "      <td>0.000206</td>\n",
       "    </tr>\n",
       "    <tr>\n",
       "      <th>4</th>\n",
       "      <td>department_hr</td>\n",
       "      <td>0.000166</td>\n",
       "    </tr>\n",
       "    <tr>\n",
       "      <th>7</th>\n",
       "      <td>department_product_mng</td>\n",
       "      <td>0.000125</td>\n",
       "    </tr>\n",
       "    <tr>\n",
       "      <th>6</th>\n",
       "      <td>department_marketing</td>\n",
       "      <td>0.000068</td>\n",
       "    </tr>\n",
       "  </tbody>\n",
       "</table>\n",
       "</div>"
      ],
      "text/plain": [
       "                    feature  importance\n",
       "16       satisfaction_level    0.342717\n",
       "17       time_spend_company    0.211138\n",
       "12           number_project    0.204903\n",
       "1      average_montly_hours    0.140586\n",
       "11          last_evaluation    0.092102\n",
       "0           Work_accident_1    0.003351\n",
       "14               salary_low    0.001977\n",
       "10     department_technical    0.000549\n",
       "2          department_RandD    0.000462\n",
       "15            salary_medium    0.000402\n",
       "9        department_support    0.000363\n",
       "3     department_accounting    0.000346\n",
       "5     department_management    0.000277\n",
       "8          department_sales    0.000263\n",
       "13  promotion_last_5years_1    0.000206\n",
       "4             department_hr    0.000166\n",
       "7    department_product_mng    0.000125\n",
       "6      department_marketing    0.000068"
      ]
     },
     "execution_count": 120,
     "metadata": {},
     "output_type": "execute_result"
    }
   ],
   "source": [
    "feature_imp.sort_values( by = 'importance', ascending=False )"
   ]
  },
  {
   "cell_type": "markdown",
   "metadata": {},
   "source": [
    "#### Xtreme Gradient Boosting"
   ]
  },
  {
   "cell_type": "code",
   "execution_count": 122,
   "metadata": {},
   "outputs": [
    {
     "name": "stdout",
     "output_type": "stream",
     "text": [
      "Collecting Xgboost\n",
      "  Downloading xgboost-1.4.2-py3-none-win_amd64.whl (97.8 MB)\n",
      "Requirement already satisfied: numpy in c:\\users\\dell\\anaconda3\\lib\\site-packages (from Xgboost) (1.21.2)\n",
      "Requirement already satisfied: scipy in c:\\users\\dell\\anaconda3\\lib\\site-packages (from Xgboost) (1.6.2)\n",
      "Installing collected packages: Xgboost\n",
      "Successfully installed Xgboost-1.4.2\n",
      "Note: you may need to restart the kernel to use updated packages.\n"
     ]
    }
   ],
   "source": [
    "pip install Xgboost"
   ]
  },
  {
   "cell_type": "code",
   "execution_count": 123,
   "metadata": {},
   "outputs": [],
   "source": [
    "from xgboost import XGBClassifier"
   ]
  },
  {
   "cell_type": "code",
   "execution_count": 125,
   "metadata": {},
   "outputs": [],
   "source": [
    "pargrid_xgbm = {'n_estimators': [50, 100, 200],\n",
    "                    'learning_rate': [10 ** x for x in range(-2, 1)],\n",
    "                        'max_features': [4, 5, 6]}"
   ]
  },
  {
   "cell_type": "code",
   "execution_count": 126,
   "metadata": {},
   "outputs": [
    {
     "name": "stdout",
     "output_type": "stream",
     "text": [
      "Fitting 5 folds for each of 27 candidates, totalling 135 fits\n"
     ]
    },
    {
     "name": "stderr",
     "output_type": "stream",
     "text": [
      "C:\\Users\\DELL\\anaconda3\\lib\\site-packages\\xgboost\\sklearn.py:1146: UserWarning: The use of label encoder in XGBClassifier is deprecated and will be removed in a future release. To remove this warning, do the following: 1) Pass option use_label_encoder=False when constructing XGBClassifier object; and 2) Encode your labels (y) as integers starting with 0, i.e. 0, 1, 2, ..., [num_class - 1].\n",
      "  warnings.warn(label_encoder_deprecation_msg, UserWarning)\n"
     ]
    },
    {
     "name": "stdout",
     "output_type": "stream",
     "text": [
      "[15:23:28] WARNING: C:/Users/Administrator/workspace/xgboost-win64_release_1.4.0/src/learner.cc:573: \n",
      "Parameters: { \"max_features\" } might not be used.\n",
      "\n",
      "  This may not be accurate due to some parameters are only used in language bindings but\n",
      "  passed down to XGBoost core.  Or some parameters are not used but slip through this\n",
      "  verification. Please open an issue if you find above cases.\n",
      "\n",
      "\n",
      "[15:23:28] WARNING: C:/Users/Administrator/workspace/xgboost-win64_release_1.4.0/src/learner.cc:1095: Starting in XGBoost 1.3.0, the default evaluation metric used with the objective 'binary:logistic' was changed from 'error' to 'logloss'. Explicitly set eval_metric if you'd like to restore the old behavior.\n"
     ]
    }
   ],
   "source": [
    "gscv_xgbm = GridSearchCV(estimator = XGBClassifier(), \n",
    "                            param_grid = pargrid_xgbm, \n",
    "                            cv = 5,\n",
    "                            verbose = 10, \n",
    "                            scoring = 'roc_auc',\n",
    "                            n_jobs = -1).fit( train_X, train_y )"
   ]
  },
  {
   "cell_type": "code",
   "execution_count": 127,
   "metadata": {},
   "outputs": [
    {
     "data": {
      "text/plain": [
       "0.9921163539712321"
      ]
     },
     "execution_count": 127,
     "metadata": {},
     "output_type": "execute_result"
    }
   ],
   "source": [
    "gscv_xgbm.best_score_"
   ]
  },
  {
   "cell_type": "code",
   "execution_count": 128,
   "metadata": {},
   "outputs": [
    {
     "data": {
      "text/plain": [
       "{'learning_rate': 0.1, 'max_features': 4, 'n_estimators': 100}"
      ]
     },
     "execution_count": 128,
     "metadata": {},
     "output_type": "execute_result"
    }
   ],
   "source": [
    "gscv_xgbm.best_params_"
   ]
  },
  {
   "cell_type": "code",
   "execution_count": 129,
   "metadata": {},
   "outputs": [
    {
     "name": "stdout",
     "output_type": "stream",
     "text": [
      "[15:24:04] WARNING: C:/Users/Administrator/workspace/xgboost-win64_release_1.4.0/src/learner.cc:573: \n",
      "Parameters: { \"max_features\" } might not be used.\n",
      "\n",
      "  This may not be accurate due to some parameters are only used in language bindings but\n",
      "  passed down to XGBoost core.  Or some parameters are not used but slip through this\n",
      "  verification. Please open an issue if you find above cases.\n",
      "\n",
      "\n",
      "[15:24:04] WARNING: C:/Users/Administrator/workspace/xgboost-win64_release_1.4.0/src/learner.cc:1095: Starting in XGBoost 1.3.0, the default evaluation metric used with the objective 'binary:logistic' was changed from 'error' to 'logloss'. Explicitly set eval_metric if you'd like to restore the old behavior.\n"
     ]
    },
    {
     "data": {
      "text/plain": [
       "XGBClassifier(base_score=0.5, booster='gbtree', colsample_bylevel=1,\n",
       "              colsample_bynode=1, colsample_bytree=1, gamma=0, gpu_id=-1,\n",
       "              importance_type='gain', interaction_constraints='',\n",
       "              learning_rate=0.1, max_delta_step=0, max_depth=6, max_features=4,\n",
       "              min_child_weight=1, missing=nan, monotone_constraints='()',\n",
       "              n_estimators=100, n_jobs=4, num_parallel_tree=1, random_state=0,\n",
       "              reg_alpha=0, reg_lambda=1, scale_pos_weight=1, subsample=1,\n",
       "              tree_method='exact', validate_parameters=1, verbosity=None)"
      ]
     },
     "execution_count": 129,
     "metadata": {},
     "output_type": "execute_result"
    }
   ],
   "source": [
    "# rebuild the model with best params\n",
    "xgbm = gscv_xgbm.best_estimator_\n",
    "xgbm.fit( train_X, train_y )"
   ]
  },
  {
   "cell_type": "code",
   "execution_count": 130,
   "metadata": {},
   "outputs": [
    {
     "name": "stdout",
     "output_type": "stream",
     "text": [
      "0.9806666666666667\n",
      "0.9937702503962604\n"
     ]
    }
   ],
   "source": [
    "print(metrics.accuracy_score( test_y, xgbm.predict(test_X)) )\n",
    "print(metrics.roc_auc_score( test_y, xgbm.predict_proba(test_X)[:, 1]) )"
   ]
  },
  {
   "cell_type": "code",
   "execution_count": null,
   "metadata": {},
   "outputs": [],
   "source": []
  },
  {
   "cell_type": "code",
   "execution_count": null,
   "metadata": {},
   "outputs": [],
   "source": []
  }
 ],
 "metadata": {
  "anaconda-cloud": {},
  "kernelspec": {
   "display_name": "Python 3",
   "language": "python",
   "name": "python3"
  },
  "language_info": {
   "codemirror_mode": {
    "name": "ipython",
    "version": 3
   },
   "file_extension": ".py",
   "mimetype": "text/x-python",
   "name": "python",
   "nbconvert_exporter": "python",
   "pygments_lexer": "ipython3",
   "version": "3.8.8"
  }
 },
 "nbformat": 4,
 "nbformat_minor": 1
}
