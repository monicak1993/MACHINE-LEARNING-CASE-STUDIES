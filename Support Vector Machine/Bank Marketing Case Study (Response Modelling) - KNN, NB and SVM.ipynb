{
 "cells": [
  {
   "cell_type": "markdown",
   "metadata": {},
   "source": [
    "#### BANKING: DIRECT MARKETING CASE STUDY (CAMPAIGN RESPONSE MODEL) - CLASSIFICATION MODEL\n",
    "\n",
    "**OBJECTIVE:** This example uses data related with direct marketing campaigns of a Portuguese banking institution. The marketing campaigns were based on phone calls. Often, more than one contact to the same client was required, in order to assess if the product (bank term deposit) would be subscribed ('yes') or not ('no').\n",
    "\n",
    "##### Bank client data:\n",
    "- age (numeric)\n",
    "- job: type of job (categorical: 'admin.', 'blue-collar', 'entrepreneur', 'housemaid', 'management', 'retired', 'self-employed', 'services', 'student', 'technician', 'unemployed', 'unknown')\n",
    "- marital: marital status (categorical: 'divorced', 'married', 'single', 'unknown'; note: 'divorced' means divorced or widowed)\n",
    "- education (categorical: 'basic.4y', 'basic.6y', 'basic.9y', 'high.school', 'illiterate', 'professional.course', 'university.degree', 'unknown')\n",
    "- default: has credit in default? (categorical: 'no', 'yes', 'unknown')\n",
    "- housing: has housing loan? (categorical: 'no', 'yes', 'unknown')\n",
    "- loan: has personal loan? (categorical: 'no', 'yes', 'unknown')\n",
    "\n",
    "##### Related with the last contact of the current campaign:\n",
    "- contact: contact communication type (categorical: 'cellular', 'telephone')\n",
    "- month: last contact month of year (categorical: 'jan', 'feb', 'mar', ., 'nov', 'dec')\n",
    "- day_of_week: last contact day of the week (categorical: 'mon', 'tue', 'wed', 'thu', 'fri')\n",
    "- duration: last contact duration, in seconds (numeric). Important note: this attribute highly affects the output target (e.g., if duration=0 then y='no'). Yet, the duration is not known before a call is performed. Also, after the end of the call y is obviously known. Thus, this input should only be included for benchmark purposes and should be discarded if the intention is to have a realistic predictive model.\n",
    "\n",
    "##### other attributes:\n",
    "- campaign: number of contacts performed during this campaign and for this client (numeric, includes last contact)\n",
    "- pdays: number of days that passed by after the client was last contacted from a previous campaign (numeric; 999 means client was not previously contacted)\n",
    "- previous: number of contacts performed before this campaign and for this client (numeric)\n",
    "- poutcome: outcome of the previous marketing campaign (categorical: 'failure','nonexistent','success')\n",
    "\n",
    "##### social and economic context attributes\n",
    "- emp.var.rate: employment variation rate - quarterly indicator (numeric)\n",
    "- cons.price.idx: consumer price index - monthly indicator (numeric)     \n",
    "- cons.conf.idx: consumer confidence index - monthly indicator (numeric)     \n",
    "- euribor3m: euribor 3 month rate - daily indicator (numeric)\n",
    "- nr.employed: number of employees - quarterly indicator (numeric)\n",
    "\n",
    "\n",
    "##### Output variable (desired target):\n",
    "- y - has the client subscribed a term deposit? (binary: \"yes\",\"no\")\n",
    "\n",
    "Missing Attribute Values: There are several missing values in some categorical attributes, all coded with the \"unknown\" label. These missing values can be treated as a possible class label or using deletion or imputation techniques.\n",
    "\n",
    "https://archive.ics.uci.edu/ml/datasets/Bank+Marketing\n",
    "\n",
    "https://www2.1010data.com/documentationcenter/prod/Tutorials/MachineLearningExamples/BankMarketingDataSet.html\n"
   ]
  },
  {
   "cell_type": "markdown",
   "metadata": {},
   "source": [
    "### import the packages and the data"
   ]
  },
  {
   "cell_type": "code",
   "execution_count": 1,
   "metadata": {},
   "outputs": [],
   "source": [
    "import pandas as pd\n",
    "from pandas import Series, DataFrame\n",
    "import matplotlib.pyplot as plt\n",
    "import numpy as np\n",
    "%matplotlib inline\n",
    "\n",
    "import seaborn as sns"
   ]
  },
  {
   "cell_type": "code",
   "execution_count": 2,
   "metadata": {},
   "outputs": [],
   "source": [
    "# Load the data\n",
    "data = pd.read_csv('D:/Sampledata/bank-additional.csv', sep = \";\")"
   ]
  },
  {
   "cell_type": "markdown",
   "metadata": {},
   "source": [
    "### UDF's"
   ]
  },
  {
   "cell_type": "code",
   "execution_count": 3,
   "metadata": {},
   "outputs": [],
   "source": [
    "# Create Data audit Report for continuous variables\n",
    "def continuous_var_summary(x):\n",
    "    return pd.Series([x.count(), x.isnull().sum(), x.sum(), x.mean(), x.median(),  \n",
    "                      x.std(), x.var(), x.min(), x.quantile(0.01), x.quantile(0.05),\n",
    "                          x.quantile(0.10),x.quantile(0.25),x.quantile(0.50),x.quantile(0.75), \n",
    "                              x.quantile(0.90),x.quantile(0.95), x.quantile(0.99),x.max()], \n",
    "                  index = ['N', 'NMISS', 'SUM', 'MEAN','MEDIAN', 'STD', 'VAR', 'MIN', 'P1', \n",
    "                               'P5' ,'P10' ,'P25' ,'P50' ,'P75' ,'P90' ,'P95' ,'P99' ,'MAX'])"
   ]
  },
  {
   "cell_type": "code",
   "execution_count": 4,
   "metadata": {},
   "outputs": [],
   "source": [
    "# Create Data audit Report for categorical variables\n",
    "def categorical_var_summary(x):\n",
    "    Mode = x.value_counts().sort_values(ascending = False)[0:1].reset_index()\n",
    "    return pd.Series([x.count(), x.isnull().sum(), Mode.iloc[0, 0], Mode.iloc[0, 1], \n",
    "                          round(Mode.iloc[0, 1] * 100/x.count(), 2)], \n",
    "                  index = ['N', 'NMISS', 'MODE', 'FREQ', 'PERCENT'])"
   ]
  },
  {
   "cell_type": "code",
   "execution_count": 5,
   "metadata": {},
   "outputs": [],
   "source": [
    "# Missing value imputation for categorical and continuous variables\n",
    "def missing_imputation(x, stats = 'mean'):\n",
    "    if (x.dtypes == 'float64') | (x.dtypes == 'int64'):\n",
    "        x = x.fillna(x.mean()) if stats == 'mean' else x.fillna(x.median())\n",
    "    return x"
   ]
  },
  {
   "cell_type": "code",
   "execution_count": 6,
   "metadata": {},
   "outputs": [],
   "source": [
    "# An utility function to create dummy variable\n",
    "def create_dummies(df, colname):\n",
    "    col_dummies = pd.get_dummies(df[colname], prefix = colname, drop_first = True)\n",
    "    df = pd.concat([df, col_dummies], axis = 1)\n",
    "    df.drop(colname, axis = 1, inplace = True )\n",
    "    return df"
   ]
  },
  {
   "cell_type": "code",
   "execution_count": 7,
   "metadata": {},
   "outputs": [],
   "source": [
    "# create user defined function to create the freq plots\n",
    "def fn_countplot(pd_series):\n",
    "    plt.figure(figsize = (5, 3))\n",
    "    sns.countplot(y = pd_series)\n",
    "    print('This is a freq chart for ' + pd_series.name)\n",
    "    plt.show()\n",
    "    return"
   ]
  },
  {
   "cell_type": "markdown",
   "metadata": {},
   "source": [
    "### data inspection"
   ]
  },
  {
   "cell_type": "code",
   "execution_count": 8,
   "metadata": {
    "scrolled": true
   },
   "outputs": [
    {
     "name": "stdout",
     "output_type": "stream",
     "text": [
      "<class 'pandas.core.frame.DataFrame'>\n",
      "RangeIndex: 4119 entries, 0 to 4118\n",
      "Data columns (total 21 columns):\n",
      " #   Column          Non-Null Count  Dtype  \n",
      "---  ------          --------------  -----  \n",
      " 0   age             4119 non-null   int64  \n",
      " 1   job             4119 non-null   object \n",
      " 2   marital         4119 non-null   object \n",
      " 3   education       4119 non-null   object \n",
      " 4   default         4119 non-null   object \n",
      " 5   housing         4119 non-null   object \n",
      " 6   loan            4119 non-null   object \n",
      " 7   contact         4119 non-null   object \n",
      " 8   month           4119 non-null   object \n",
      " 9   day_of_week     4119 non-null   object \n",
      " 10  duration        4119 non-null   int64  \n",
      " 11  campaign        4119 non-null   int64  \n",
      " 12  pdays           4119 non-null   int64  \n",
      " 13  previous        4119 non-null   int64  \n",
      " 14  poutcome        4119 non-null   object \n",
      " 15  emp.var.rate    4119 non-null   float64\n",
      " 16  cons.price.idx  4119 non-null   float64\n",
      " 17  cons.conf.idx   4119 non-null   float64\n",
      " 18  euribor3m       4119 non-null   float64\n",
      " 19  nr.employed     4119 non-null   float64\n",
      " 20  y               4119 non-null   object \n",
      "dtypes: float64(5), int64(5), object(11)\n",
      "memory usage: 675.9+ KB\n"
     ]
    }
   ],
   "source": [
    "# meta data\n",
    "data.info()"
   ]
  },
  {
   "cell_type": "code",
   "execution_count": 9,
   "metadata": {},
   "outputs": [
    {
     "data": {
      "text/html": [
       "<div>\n",
       "<style scoped>\n",
       "    .dataframe tbody tr th:only-of-type {\n",
       "        vertical-align: middle;\n",
       "    }\n",
       "\n",
       "    .dataframe tbody tr th {\n",
       "        vertical-align: top;\n",
       "    }\n",
       "\n",
       "    .dataframe thead th {\n",
       "        text-align: right;\n",
       "    }\n",
       "</style>\n",
       "<table border=\"1\" class=\"dataframe\">\n",
       "  <thead>\n",
       "    <tr style=\"text-align: right;\">\n",
       "      <th></th>\n",
       "      <th>age</th>\n",
       "      <th>duration</th>\n",
       "      <th>campaign</th>\n",
       "      <th>pdays</th>\n",
       "      <th>previous</th>\n",
       "      <th>emp.var.rate</th>\n",
       "      <th>cons.price.idx</th>\n",
       "      <th>cons.conf.idx</th>\n",
       "      <th>euribor3m</th>\n",
       "      <th>nr.employed</th>\n",
       "    </tr>\n",
       "  </thead>\n",
       "  <tbody>\n",
       "    <tr>\n",
       "      <th>N</th>\n",
       "      <td>4119.000</td>\n",
       "      <td>4119.000</td>\n",
       "      <td>4119.000</td>\n",
       "      <td>4119.000</td>\n",
       "      <td>4119.000</td>\n",
       "      <td>4119.000</td>\n",
       "      <td>4119.000</td>\n",
       "      <td>4119.000</td>\n",
       "      <td>4119.000</td>\n",
       "      <td>4.119000e+03</td>\n",
       "    </tr>\n",
       "    <tr>\n",
       "      <th>NMISS</th>\n",
       "      <td>0.000</td>\n",
       "      <td>0.000</td>\n",
       "      <td>0.000</td>\n",
       "      <td>0.000</td>\n",
       "      <td>0.000</td>\n",
       "      <td>0.000</td>\n",
       "      <td>0.000</td>\n",
       "      <td>0.000</td>\n",
       "      <td>0.000</td>\n",
       "      <td>0.000000e+00</td>\n",
       "    </tr>\n",
       "    <tr>\n",
       "      <th>SUM</th>\n",
       "      <td>165228.000</td>\n",
       "      <td>1057710.000</td>\n",
       "      <td>10451.000</td>\n",
       "      <td>3955979.000</td>\n",
       "      <td>784.000</td>\n",
       "      <td>350.000</td>\n",
       "      <td>385454.802</td>\n",
       "      <td>-166815.800</td>\n",
       "      <td>14916.364</td>\n",
       "      <td>2.128074e+07</td>\n",
       "    </tr>\n",
       "    <tr>\n",
       "      <th>MEAN</th>\n",
       "      <td>40.114</td>\n",
       "      <td>256.788</td>\n",
       "      <td>2.537</td>\n",
       "      <td>960.422</td>\n",
       "      <td>0.190</td>\n",
       "      <td>0.085</td>\n",
       "      <td>93.580</td>\n",
       "      <td>-40.499</td>\n",
       "      <td>3.621</td>\n",
       "      <td>5.166482e+03</td>\n",
       "    </tr>\n",
       "    <tr>\n",
       "      <th>MEDIAN</th>\n",
       "      <td>38.000</td>\n",
       "      <td>181.000</td>\n",
       "      <td>2.000</td>\n",
       "      <td>999.000</td>\n",
       "      <td>0.000</td>\n",
       "      <td>1.100</td>\n",
       "      <td>93.749</td>\n",
       "      <td>-41.800</td>\n",
       "      <td>4.857</td>\n",
       "      <td>5.191000e+03</td>\n",
       "    </tr>\n",
       "    <tr>\n",
       "      <th>STD</th>\n",
       "      <td>10.313</td>\n",
       "      <td>254.704</td>\n",
       "      <td>2.568</td>\n",
       "      <td>191.923</td>\n",
       "      <td>0.542</td>\n",
       "      <td>1.563</td>\n",
       "      <td>0.579</td>\n",
       "      <td>4.595</td>\n",
       "      <td>1.734</td>\n",
       "      <td>7.366800e+01</td>\n",
       "    </tr>\n",
       "    <tr>\n",
       "      <th>VAR</th>\n",
       "      <td>106.365</td>\n",
       "      <td>64873.993</td>\n",
       "      <td>6.595</td>\n",
       "      <td>36834.356</td>\n",
       "      <td>0.294</td>\n",
       "      <td>2.443</td>\n",
       "      <td>0.336</td>\n",
       "      <td>21.110</td>\n",
       "      <td>3.005</td>\n",
       "      <td>5.426960e+03</td>\n",
       "    </tr>\n",
       "    <tr>\n",
       "      <th>MIN</th>\n",
       "      <td>18.000</td>\n",
       "      <td>0.000</td>\n",
       "      <td>1.000</td>\n",
       "      <td>0.000</td>\n",
       "      <td>0.000</td>\n",
       "      <td>-3.400</td>\n",
       "      <td>92.201</td>\n",
       "      <td>-50.800</td>\n",
       "      <td>0.635</td>\n",
       "      <td>4.963600e+03</td>\n",
       "    </tr>\n",
       "    <tr>\n",
       "      <th>P1</th>\n",
       "      <td>24.000</td>\n",
       "      <td>11.000</td>\n",
       "      <td>1.000</td>\n",
       "      <td>3.000</td>\n",
       "      <td>0.000</td>\n",
       "      <td>-3.400</td>\n",
       "      <td>92.201</td>\n",
       "      <td>-50.000</td>\n",
       "      <td>0.677</td>\n",
       "      <td>4.963600e+03</td>\n",
       "    </tr>\n",
       "    <tr>\n",
       "      <th>P5</th>\n",
       "      <td>26.000</td>\n",
       "      <td>35.000</td>\n",
       "      <td>1.000</td>\n",
       "      <td>999.000</td>\n",
       "      <td>0.000</td>\n",
       "      <td>-2.900</td>\n",
       "      <td>92.713</td>\n",
       "      <td>-47.100</td>\n",
       "      <td>0.808</td>\n",
       "      <td>5.008700e+03</td>\n",
       "    </tr>\n",
       "    <tr>\n",
       "      <th>P10</th>\n",
       "      <td>28.800</td>\n",
       "      <td>60.000</td>\n",
       "      <td>1.000</td>\n",
       "      <td>999.000</td>\n",
       "      <td>0.000</td>\n",
       "      <td>-1.800</td>\n",
       "      <td>92.893</td>\n",
       "      <td>-46.200</td>\n",
       "      <td>1.029</td>\n",
       "      <td>5.076200e+03</td>\n",
       "    </tr>\n",
       "    <tr>\n",
       "      <th>P25</th>\n",
       "      <td>32.000</td>\n",
       "      <td>103.000</td>\n",
       "      <td>1.000</td>\n",
       "      <td>999.000</td>\n",
       "      <td>0.000</td>\n",
       "      <td>-1.800</td>\n",
       "      <td>93.075</td>\n",
       "      <td>-42.700</td>\n",
       "      <td>1.334</td>\n",
       "      <td>5.099100e+03</td>\n",
       "    </tr>\n",
       "    <tr>\n",
       "      <th>P50</th>\n",
       "      <td>38.000</td>\n",
       "      <td>181.000</td>\n",
       "      <td>2.000</td>\n",
       "      <td>999.000</td>\n",
       "      <td>0.000</td>\n",
       "      <td>1.100</td>\n",
       "      <td>93.749</td>\n",
       "      <td>-41.800</td>\n",
       "      <td>4.857</td>\n",
       "      <td>5.191000e+03</td>\n",
       "    </tr>\n",
       "    <tr>\n",
       "      <th>P75</th>\n",
       "      <td>47.000</td>\n",
       "      <td>317.000</td>\n",
       "      <td>3.000</td>\n",
       "      <td>999.000</td>\n",
       "      <td>0.000</td>\n",
       "      <td>1.400</td>\n",
       "      <td>93.994</td>\n",
       "      <td>-36.400</td>\n",
       "      <td>4.961</td>\n",
       "      <td>5.228100e+03</td>\n",
       "    </tr>\n",
       "    <tr>\n",
       "      <th>P90</th>\n",
       "      <td>55.000</td>\n",
       "      <td>545.200</td>\n",
       "      <td>5.000</td>\n",
       "      <td>999.000</td>\n",
       "      <td>1.000</td>\n",
       "      <td>1.400</td>\n",
       "      <td>94.465</td>\n",
       "      <td>-36.100</td>\n",
       "      <td>4.964</td>\n",
       "      <td>5.228100e+03</td>\n",
       "    </tr>\n",
       "    <tr>\n",
       "      <th>P95</th>\n",
       "      <td>58.000</td>\n",
       "      <td>740.200</td>\n",
       "      <td>7.000</td>\n",
       "      <td>999.000</td>\n",
       "      <td>1.000</td>\n",
       "      <td>1.400</td>\n",
       "      <td>94.465</td>\n",
       "      <td>-33.600</td>\n",
       "      <td>4.966</td>\n",
       "      <td>5.228100e+03</td>\n",
       "    </tr>\n",
       "    <tr>\n",
       "      <th>P99</th>\n",
       "      <td>68.000</td>\n",
       "      <td>1231.660</td>\n",
       "      <td>13.000</td>\n",
       "      <td>999.000</td>\n",
       "      <td>3.000</td>\n",
       "      <td>1.400</td>\n",
       "      <td>94.601</td>\n",
       "      <td>-26.900</td>\n",
       "      <td>4.968</td>\n",
       "      <td>5.228100e+03</td>\n",
       "    </tr>\n",
       "    <tr>\n",
       "      <th>MAX</th>\n",
       "      <td>88.000</td>\n",
       "      <td>3643.000</td>\n",
       "      <td>35.000</td>\n",
       "      <td>999.000</td>\n",
       "      <td>6.000</td>\n",
       "      <td>1.400</td>\n",
       "      <td>94.767</td>\n",
       "      <td>-26.900</td>\n",
       "      <td>5.045</td>\n",
       "      <td>5.228100e+03</td>\n",
       "    </tr>\n",
       "  </tbody>\n",
       "</table>\n",
       "</div>"
      ],
      "text/plain": [
       "               age     duration   campaign        pdays  previous  \\\n",
       "N         4119.000     4119.000   4119.000     4119.000  4119.000   \n",
       "NMISS        0.000        0.000      0.000        0.000     0.000   \n",
       "SUM     165228.000  1057710.000  10451.000  3955979.000   784.000   \n",
       "MEAN        40.114      256.788      2.537      960.422     0.190   \n",
       "MEDIAN      38.000      181.000      2.000      999.000     0.000   \n",
       "STD         10.313      254.704      2.568      191.923     0.542   \n",
       "VAR        106.365    64873.993      6.595    36834.356     0.294   \n",
       "MIN         18.000        0.000      1.000        0.000     0.000   \n",
       "P1          24.000       11.000      1.000        3.000     0.000   \n",
       "P5          26.000       35.000      1.000      999.000     0.000   \n",
       "P10         28.800       60.000      1.000      999.000     0.000   \n",
       "P25         32.000      103.000      1.000      999.000     0.000   \n",
       "P50         38.000      181.000      2.000      999.000     0.000   \n",
       "P75         47.000      317.000      3.000      999.000     0.000   \n",
       "P90         55.000      545.200      5.000      999.000     1.000   \n",
       "P95         58.000      740.200      7.000      999.000     1.000   \n",
       "P99         68.000     1231.660     13.000      999.000     3.000   \n",
       "MAX         88.000     3643.000     35.000      999.000     6.000   \n",
       "\n",
       "        emp.var.rate  cons.price.idx  cons.conf.idx  euribor3m   nr.employed  \n",
       "N           4119.000        4119.000       4119.000   4119.000  4.119000e+03  \n",
       "NMISS          0.000           0.000          0.000      0.000  0.000000e+00  \n",
       "SUM          350.000      385454.802    -166815.800  14916.364  2.128074e+07  \n",
       "MEAN           0.085          93.580        -40.499      3.621  5.166482e+03  \n",
       "MEDIAN         1.100          93.749        -41.800      4.857  5.191000e+03  \n",
       "STD            1.563           0.579          4.595      1.734  7.366800e+01  \n",
       "VAR            2.443           0.336         21.110      3.005  5.426960e+03  \n",
       "MIN           -3.400          92.201        -50.800      0.635  4.963600e+03  \n",
       "P1            -3.400          92.201        -50.000      0.677  4.963600e+03  \n",
       "P5            -2.900          92.713        -47.100      0.808  5.008700e+03  \n",
       "P10           -1.800          92.893        -46.200      1.029  5.076200e+03  \n",
       "P25           -1.800          93.075        -42.700      1.334  5.099100e+03  \n",
       "P50            1.100          93.749        -41.800      4.857  5.191000e+03  \n",
       "P75            1.400          93.994        -36.400      4.961  5.228100e+03  \n",
       "P90            1.400          94.465        -36.100      4.964  5.228100e+03  \n",
       "P95            1.400          94.465        -33.600      4.966  5.228100e+03  \n",
       "P99            1.400          94.601        -26.900      4.968  5.228100e+03  \n",
       "MAX            1.400          94.767        -26.900      5.045  5.228100e+03  "
      ]
     },
     "execution_count": 9,
     "metadata": {},
     "output_type": "execute_result"
    }
   ],
   "source": [
    "# summaries of continuous variables\n",
    "data.select_dtypes(['float64', 'int64']).apply(continuous_var_summary).round(3)"
   ]
  },
  {
   "cell_type": "code",
   "execution_count": 10,
   "metadata": {
    "scrolled": true
   },
   "outputs": [
    {
     "data": {
      "text/html": [
       "<div>\n",
       "<style scoped>\n",
       "    .dataframe tbody tr th:only-of-type {\n",
       "        vertical-align: middle;\n",
       "    }\n",
       "\n",
       "    .dataframe tbody tr th {\n",
       "        vertical-align: top;\n",
       "    }\n",
       "\n",
       "    .dataframe thead th {\n",
       "        text-align: right;\n",
       "    }\n",
       "</style>\n",
       "<table border=\"1\" class=\"dataframe\">\n",
       "  <thead>\n",
       "    <tr style=\"text-align: right;\">\n",
       "      <th></th>\n",
       "      <th>job</th>\n",
       "      <th>marital</th>\n",
       "      <th>education</th>\n",
       "      <th>default</th>\n",
       "      <th>housing</th>\n",
       "      <th>loan</th>\n",
       "      <th>contact</th>\n",
       "      <th>month</th>\n",
       "      <th>day_of_week</th>\n",
       "      <th>poutcome</th>\n",
       "      <th>y</th>\n",
       "    </tr>\n",
       "  </thead>\n",
       "  <tbody>\n",
       "    <tr>\n",
       "      <th>N</th>\n",
       "      <td>4119</td>\n",
       "      <td>4119</td>\n",
       "      <td>4119</td>\n",
       "      <td>4119</td>\n",
       "      <td>4119</td>\n",
       "      <td>4119</td>\n",
       "      <td>4119</td>\n",
       "      <td>4119</td>\n",
       "      <td>4119</td>\n",
       "      <td>4119</td>\n",
       "      <td>4119</td>\n",
       "    </tr>\n",
       "    <tr>\n",
       "      <th>NMISS</th>\n",
       "      <td>0</td>\n",
       "      <td>0</td>\n",
       "      <td>0</td>\n",
       "      <td>0</td>\n",
       "      <td>0</td>\n",
       "      <td>0</td>\n",
       "      <td>0</td>\n",
       "      <td>0</td>\n",
       "      <td>0</td>\n",
       "      <td>0</td>\n",
       "      <td>0</td>\n",
       "    </tr>\n",
       "    <tr>\n",
       "      <th>MODE</th>\n",
       "      <td>admin.</td>\n",
       "      <td>married</td>\n",
       "      <td>university.degree</td>\n",
       "      <td>no</td>\n",
       "      <td>yes</td>\n",
       "      <td>no</td>\n",
       "      <td>cellular</td>\n",
       "      <td>may</td>\n",
       "      <td>thu</td>\n",
       "      <td>nonexistent</td>\n",
       "      <td>no</td>\n",
       "    </tr>\n",
       "    <tr>\n",
       "      <th>FREQ</th>\n",
       "      <td>1012</td>\n",
       "      <td>2509</td>\n",
       "      <td>1264</td>\n",
       "      <td>3315</td>\n",
       "      <td>2175</td>\n",
       "      <td>3349</td>\n",
       "      <td>2652</td>\n",
       "      <td>1378</td>\n",
       "      <td>860</td>\n",
       "      <td>3523</td>\n",
       "      <td>3668</td>\n",
       "    </tr>\n",
       "    <tr>\n",
       "      <th>PERCENT</th>\n",
       "      <td>24.57</td>\n",
       "      <td>60.91</td>\n",
       "      <td>30.69</td>\n",
       "      <td>80.48</td>\n",
       "      <td>52.8</td>\n",
       "      <td>81.31</td>\n",
       "      <td>64.38</td>\n",
       "      <td>33.45</td>\n",
       "      <td>20.88</td>\n",
       "      <td>85.53</td>\n",
       "      <td>89.05</td>\n",
       "    </tr>\n",
       "  </tbody>\n",
       "</table>\n",
       "</div>"
      ],
      "text/plain": [
       "            job  marital          education default housing   loan   contact  \\\n",
       "N          4119     4119               4119    4119    4119   4119      4119   \n",
       "NMISS         0        0                  0       0       0      0         0   \n",
       "MODE     admin.  married  university.degree      no     yes     no  cellular   \n",
       "FREQ       1012     2509               1264    3315    2175   3349      2652   \n",
       "PERCENT   24.57    60.91              30.69   80.48    52.8  81.31     64.38   \n",
       "\n",
       "         month day_of_week     poutcome      y  \n",
       "N         4119        4119         4119   4119  \n",
       "NMISS        0           0            0      0  \n",
       "MODE       may         thu  nonexistent     no  \n",
       "FREQ      1378         860         3523   3668  \n",
       "PERCENT  33.45       20.88        85.53  89.05  "
      ]
     },
     "execution_count": 10,
     "metadata": {},
     "output_type": "execute_result"
    }
   ],
   "source": [
    "# summaries of object variables\n",
    "data.select_dtypes(['object']).apply(categorical_var_summary)"
   ]
  },
  {
   "cell_type": "code",
   "execution_count": 11,
   "metadata": {},
   "outputs": [
    {
     "data": {
      "text/plain": [
       "0       no\n",
       "1       no\n",
       "2       no\n",
       "3       no\n",
       "4       no\n",
       "        ..\n",
       "4114    no\n",
       "4115    no\n",
       "4116    no\n",
       "4117    no\n",
       "4118    no\n",
       "Name: y, Length: 4119, dtype: object"
      ]
     },
     "execution_count": 11,
     "metadata": {},
     "output_type": "execute_result"
    }
   ],
   "source": [
    "data.y"
   ]
  },
  {
   "cell_type": "code",
   "execution_count": 12,
   "metadata": {},
   "outputs": [],
   "source": [
    "# Labelling y column to 1, 0 values which is orginally stored as yes,no\n",
    "# data['y'] = data['y'].str.lower().replace({'yes': 1, 'no': 0})"
   ]
  },
  {
   "cell_type": "code",
   "execution_count": 13,
   "metadata": {},
   "outputs": [
    {
     "data": {
      "text/html": [
       "<div>\n",
       "<style scoped>\n",
       "    .dataframe tbody tr th:only-of-type {\n",
       "        vertical-align: middle;\n",
       "    }\n",
       "\n",
       "    .dataframe tbody tr th {\n",
       "        vertical-align: top;\n",
       "    }\n",
       "\n",
       "    .dataframe thead th {\n",
       "        text-align: right;\n",
       "    }\n",
       "</style>\n",
       "<table border=\"1\" class=\"dataframe\">\n",
       "  <thead>\n",
       "    <tr style=\"text-align: right;\">\n",
       "      <th></th>\n",
       "      <th>age</th>\n",
       "      <th>job</th>\n",
       "      <th>marital</th>\n",
       "      <th>education</th>\n",
       "      <th>default</th>\n",
       "      <th>housing</th>\n",
       "      <th>loan</th>\n",
       "      <th>contact</th>\n",
       "      <th>month</th>\n",
       "      <th>day_of_week</th>\n",
       "      <th>...</th>\n",
       "      <th>campaign</th>\n",
       "      <th>pdays</th>\n",
       "      <th>previous</th>\n",
       "      <th>poutcome</th>\n",
       "      <th>emp.var.rate</th>\n",
       "      <th>cons.price.idx</th>\n",
       "      <th>cons.conf.idx</th>\n",
       "      <th>euribor3m</th>\n",
       "      <th>nr.employed</th>\n",
       "      <th>y</th>\n",
       "    </tr>\n",
       "  </thead>\n",
       "  <tbody>\n",
       "    <tr>\n",
       "      <th>0</th>\n",
       "      <td>30</td>\n",
       "      <td>blue-collar</td>\n",
       "      <td>married</td>\n",
       "      <td>basic.9y</td>\n",
       "      <td>no</td>\n",
       "      <td>yes</td>\n",
       "      <td>no</td>\n",
       "      <td>cellular</td>\n",
       "      <td>may</td>\n",
       "      <td>fri</td>\n",
       "      <td>...</td>\n",
       "      <td>2</td>\n",
       "      <td>999</td>\n",
       "      <td>0</td>\n",
       "      <td>nonexistent</td>\n",
       "      <td>-1.8</td>\n",
       "      <td>92.893</td>\n",
       "      <td>-46.2</td>\n",
       "      <td>1.313</td>\n",
       "      <td>5099.1</td>\n",
       "      <td>no</td>\n",
       "    </tr>\n",
       "    <tr>\n",
       "      <th>1</th>\n",
       "      <td>39</td>\n",
       "      <td>services</td>\n",
       "      <td>single</td>\n",
       "      <td>high.school</td>\n",
       "      <td>no</td>\n",
       "      <td>no</td>\n",
       "      <td>no</td>\n",
       "      <td>telephone</td>\n",
       "      <td>may</td>\n",
       "      <td>fri</td>\n",
       "      <td>...</td>\n",
       "      <td>4</td>\n",
       "      <td>999</td>\n",
       "      <td>0</td>\n",
       "      <td>nonexistent</td>\n",
       "      <td>1.1</td>\n",
       "      <td>93.994</td>\n",
       "      <td>-36.4</td>\n",
       "      <td>4.855</td>\n",
       "      <td>5191.0</td>\n",
       "      <td>no</td>\n",
       "    </tr>\n",
       "    <tr>\n",
       "      <th>2</th>\n",
       "      <td>25</td>\n",
       "      <td>services</td>\n",
       "      <td>married</td>\n",
       "      <td>high.school</td>\n",
       "      <td>no</td>\n",
       "      <td>yes</td>\n",
       "      <td>no</td>\n",
       "      <td>telephone</td>\n",
       "      <td>jun</td>\n",
       "      <td>wed</td>\n",
       "      <td>...</td>\n",
       "      <td>1</td>\n",
       "      <td>999</td>\n",
       "      <td>0</td>\n",
       "      <td>nonexistent</td>\n",
       "      <td>1.4</td>\n",
       "      <td>94.465</td>\n",
       "      <td>-41.8</td>\n",
       "      <td>4.962</td>\n",
       "      <td>5228.1</td>\n",
       "      <td>no</td>\n",
       "    </tr>\n",
       "    <tr>\n",
       "      <th>3</th>\n",
       "      <td>38</td>\n",
       "      <td>services</td>\n",
       "      <td>married</td>\n",
       "      <td>basic.9y</td>\n",
       "      <td>no</td>\n",
       "      <td>unknown</td>\n",
       "      <td>unknown</td>\n",
       "      <td>telephone</td>\n",
       "      <td>jun</td>\n",
       "      <td>fri</td>\n",
       "      <td>...</td>\n",
       "      <td>3</td>\n",
       "      <td>999</td>\n",
       "      <td>0</td>\n",
       "      <td>nonexistent</td>\n",
       "      <td>1.4</td>\n",
       "      <td>94.465</td>\n",
       "      <td>-41.8</td>\n",
       "      <td>4.959</td>\n",
       "      <td>5228.1</td>\n",
       "      <td>no</td>\n",
       "    </tr>\n",
       "    <tr>\n",
       "      <th>4</th>\n",
       "      <td>47</td>\n",
       "      <td>admin.</td>\n",
       "      <td>married</td>\n",
       "      <td>university.degree</td>\n",
       "      <td>no</td>\n",
       "      <td>yes</td>\n",
       "      <td>no</td>\n",
       "      <td>cellular</td>\n",
       "      <td>nov</td>\n",
       "      <td>mon</td>\n",
       "      <td>...</td>\n",
       "      <td>1</td>\n",
       "      <td>999</td>\n",
       "      <td>0</td>\n",
       "      <td>nonexistent</td>\n",
       "      <td>-0.1</td>\n",
       "      <td>93.200</td>\n",
       "      <td>-42.0</td>\n",
       "      <td>4.191</td>\n",
       "      <td>5195.8</td>\n",
       "      <td>no</td>\n",
       "    </tr>\n",
       "  </tbody>\n",
       "</table>\n",
       "<p>5 rows × 21 columns</p>\n",
       "</div>"
      ],
      "text/plain": [
       "   age          job  marital          education default  housing     loan  \\\n",
       "0   30  blue-collar  married           basic.9y      no      yes       no   \n",
       "1   39     services   single        high.school      no       no       no   \n",
       "2   25     services  married        high.school      no      yes       no   \n",
       "3   38     services  married           basic.9y      no  unknown  unknown   \n",
       "4   47       admin.  married  university.degree      no      yes       no   \n",
       "\n",
       "     contact month day_of_week  ...  campaign  pdays  previous     poutcome  \\\n",
       "0   cellular   may         fri  ...         2    999         0  nonexistent   \n",
       "1  telephone   may         fri  ...         4    999         0  nonexistent   \n",
       "2  telephone   jun         wed  ...         1    999         0  nonexistent   \n",
       "3  telephone   jun         fri  ...         3    999         0  nonexistent   \n",
       "4   cellular   nov         mon  ...         1    999         0  nonexistent   \n",
       "\n",
       "  emp.var.rate  cons.price.idx  cons.conf.idx  euribor3m  nr.employed   y  \n",
       "0         -1.8          92.893          -46.2      1.313       5099.1  no  \n",
       "1          1.1          93.994          -36.4      4.855       5191.0  no  \n",
       "2          1.4          94.465          -41.8      4.962       5228.1  no  \n",
       "3          1.4          94.465          -41.8      4.959       5228.1  no  \n",
       "4         -0.1          93.200          -42.0      4.191       5195.8  no  \n",
       "\n",
       "[5 rows x 21 columns]"
      ]
     },
     "execution_count": 13,
     "metadata": {},
     "output_type": "execute_result"
    }
   ],
   "source": [
    "data.head()"
   ]
  },
  {
   "cell_type": "code",
   "execution_count": 14,
   "metadata": {
    "scrolled": false
   },
   "outputs": [
    {
     "data": {
      "image/png": "[encoded data removed]",
      "text/plain": [
       "<Figure size 432x288 with 1 Axes>"
      ]
     },
     "metadata": {
      "needs_background": "light"
     },
     "output_type": "display_data"
    }
   ],
   "source": [
    "# variable distribution (response vs. non response)\n",
    "sns.countplot(y = data.y, palette = 'hls')\n",
    "plt.title('variable distribution (response vs. non response)')\n",
    "plt.show()"
   ]
  },
  {
   "cell_type": "code",
   "execution_count": 15,
   "metadata": {},
   "outputs": [
    {
     "data": {
      "text/plain": [
       "no     0.890507\n",
       "yes    0.109493\n",
       "Name: y, dtype: float64"
      ]
     },
     "execution_count": 15,
     "metadata": {},
     "output_type": "execute_result"
    }
   ],
   "source": [
    "data.y.value_counts() / data.y.shape[0]"
   ]
  },
  {
   "cell_type": "code",
   "execution_count": 16,
   "metadata": {},
   "outputs": [
    {
     "name": "stdout",
     "output_type": "stream",
     "text": [
      "This is a freq chart for job\n"
     ]
    },
    {
     "data": {
      "image/png": "[encoded data removed]",
      "text/plain": [
       "<Figure size 360x216 with 1 Axes>"
      ]
     },
     "metadata": {
      "needs_background": "light"
     },
     "output_type": "display_data"
    },
    {
     "name": "stdout",
     "output_type": "stream",
     "text": [
      "This is a freq chart for marital\n"
     ]
    },
    {
     "data": {
      "image/png": "[encoded data removed]",
      "text/plain": [
       "<Figure size 360x216 with 1 Axes>"
      ]
     },
     "metadata": {
      "needs_background": "light"
     },
     "output_type": "display_data"
    },
    {
     "name": "stdout",
     "output_type": "stream",
     "text": [
      "This is a freq chart for education\n"
     ]
    },
    {
     "data": {
      "image/png": "[encoded data removed]",
      "text/plain": [
       "<Figure size 360x216 with 1 Axes>"
      ]
     },
     "metadata": {
      "needs_background": "light"
     },
     "output_type": "display_data"
    },
    {
     "name": "stdout",
     "output_type": "stream",
     "text": [
      "This is a freq chart for default\n"
     ]
    },
    {
     "data": {
      "image/png": "[encoded data removed]",
      "text/plain": [
       "<Figure size 360x216 with 1 Axes>"
      ]
     },
     "metadata": {
      "needs_background": "light"
     },
     "output_type": "display_data"
    },
    {
     "name": "stdout",
     "output_type": "stream",
     "text": [
      "This is a freq chart for housing\n"
     ]
    },
    {
     "data": {
      "image/png": "[encoded data removed]",
      "text/plain": [
       "<Figure size 360x216 with 1 Axes>"
      ]
     },
     "metadata": {
      "needs_background": "light"
     },
     "output_type": "display_data"
    },
    {
     "name": "stdout",
     "output_type": "stream",
     "text": [
      "This is a freq chart for loan\n"
     ]
    },
    {
     "data": {
      "image/png": "[encoded data removed]",
      "text/plain": [
       "<Figure size 360x216 with 1 Axes>"
      ]
     },
     "metadata": {
      "needs_background": "light"
     },
     "output_type": "display_data"
    },
    {
     "name": "stdout",
     "output_type": "stream",
     "text": [
      "This is a freq chart for contact\n"
     ]
    },
    {
     "data": {
      "image/png": "[encoded data removed]",
      "text/plain": [
       "<Figure size 360x216 with 1 Axes>"
      ]
     },
     "metadata": {
      "needs_background": "light"
     },
     "output_type": "display_data"
    },
    {
     "name": "stdout",
     "output_type": "stream",
     "text": [
      "This is a freq chart for month\n"
     ]
    },
    {
     "data": {
      "image/png": "[encoded data removed]",
      "text/plain": [
       "<Figure size 360x216 with 1 Axes>"
      ]
     },
     "metadata": {
      "needs_background": "light"
     },
     "output_type": "display_data"
    },
    {
     "name": "stdout",
     "output_type": "stream",
     "text": [
      "This is a freq chart for day_of_week\n"
     ]
    },
    {
     "data": {
      "image/png": "[encoded data removed]",
      "text/plain": [
       "<Figure size 360x216 with 1 Axes>"
      ]
     },
     "metadata": {
      "needs_background": "light"
     },
     "output_type": "display_data"
    },
    {
     "name": "stdout",
     "output_type": "stream",
     "text": [
      "This is a freq chart for poutcome\n"
     ]
    },
    {
     "data": {
      "image/png": "[encoded data removed]",
      "text/plain": [
       "<Figure size 360x216 with 1 Axes>"
      ]
     },
     "metadata": {
      "needs_background": "light"
     },
     "output_type": "display_data"
    },
    {
     "name": "stdout",
     "output_type": "stream",
     "text": [
      "This is a freq chart for y\n"
     ]
    },
    {
     "data": {
      "image/png": "[encoded data removed]",
      "text/plain": [
       "<Figure size 360x216 with 1 Axes>"
      ]
     },
     "metadata": {
      "needs_background": "light"
     },
     "output_type": "display_data"
    }
   ],
   "source": [
    "# distribution/freq plot for categorical variables\n",
    "data.select_dtypes(['object']).apply( fn_countplot )\n",
    "plt.show()"
   ]
  },
  {
   "cell_type": "code",
   "execution_count": 17,
   "metadata": {},
   "outputs": [
    {
     "data": {
      "text/html": [
       "<div>\n",
       "<style scoped>\n",
       "    .dataframe tbody tr th:only-of-type {\n",
       "        vertical-align: middle;\n",
       "    }\n",
       "\n",
       "    .dataframe tbody tr th {\n",
       "        vertical-align: top;\n",
       "    }\n",
       "\n",
       "    .dataframe thead th {\n",
       "        text-align: right;\n",
       "    }\n",
       "</style>\n",
       "<table border=\"1\" class=\"dataframe\">\n",
       "  <thead>\n",
       "    <tr style=\"text-align: right;\">\n",
       "      <th></th>\n",
       "      <th>y</th>\n",
       "      <th>age</th>\n",
       "      <th>duration</th>\n",
       "      <th>campaign</th>\n",
       "      <th>pdays</th>\n",
       "      <th>previous</th>\n",
       "      <th>emp.var.rate</th>\n",
       "      <th>cons.price.idx</th>\n",
       "      <th>cons.conf.idx</th>\n",
       "      <th>euribor3m</th>\n",
       "      <th>nr.employed</th>\n",
       "    </tr>\n",
       "  </thead>\n",
       "  <tbody>\n",
       "    <tr>\n",
       "      <th>0</th>\n",
       "      <td>no</td>\n",
       "      <td>39.90</td>\n",
       "      <td>219.41</td>\n",
       "      <td>2.61</td>\n",
       "      <td>982.76</td>\n",
       "      <td>0.14</td>\n",
       "      <td>0.24</td>\n",
       "      <td>93.60</td>\n",
       "      <td>-40.59</td>\n",
       "      <td>3.80</td>\n",
       "      <td>5175.50</td>\n",
       "    </tr>\n",
       "    <tr>\n",
       "      <th>1</th>\n",
       "      <td>yes</td>\n",
       "      <td>41.89</td>\n",
       "      <td>560.79</td>\n",
       "      <td>1.98</td>\n",
       "      <td>778.72</td>\n",
       "      <td>0.59</td>\n",
       "      <td>-1.18</td>\n",
       "      <td>93.42</td>\n",
       "      <td>-39.79</td>\n",
       "      <td>2.15</td>\n",
       "      <td>5093.12</td>\n",
       "    </tr>\n",
       "  </tbody>\n",
       "</table>\n",
       "</div>"
      ],
      "text/plain": [
       "     y    age  duration  campaign   pdays  previous  emp.var.rate  \\\n",
       "0   no  39.90    219.41      2.61  982.76      0.14          0.24   \n",
       "1  yes  41.89    560.79      1.98  778.72      0.59         -1.18   \n",
       "\n",
       "   cons.price.idx  cons.conf.idx  euribor3m  nr.employed  \n",
       "0           93.60         -40.59       3.80      5175.50  \n",
       "1           93.42         -39.79       2.15      5093.12  "
      ]
     },
     "execution_count": 17,
     "metadata": {},
     "output_type": "execute_result"
    }
   ],
   "source": [
    "# mean of all continuous variables by dependent variable y\n",
    "data.groupby('y').mean().round(2).reset_index()"
   ]
  },
  {
   "cell_type": "markdown",
   "metadata": {},
   "source": [
    "##### Observations:\n",
    "- The average age of customers who bought the term deposit is higher than that of the customers who didn’t.\n",
    "- The pdays (days since the customer was last contacted) is understandably lower for the customers who bought it. The lower the pdays, the better the memory of the last call and hence the better chances of a sale.\n",
    "- Surprisingly, campaigns (number of contacts or calls made during the current campaign) are lower for customers who bought the term deposit."
   ]
  },
  {
   "cell_type": "code",
   "execution_count": 18,
   "metadata": {},
   "outputs": [],
   "source": [
    "# get the dummy variables\n",
    "for c_feature in data.select_dtypes(['object']).columns:\n",
    "    data = create_dummies(data, c_feature)"
   ]
  },
  {
   "cell_type": "code",
   "execution_count": 19,
   "metadata": {},
   "outputs": [
    {
     "data": {
      "text/plain": [
       "Index(['age', 'duration', 'campaign', 'pdays', 'previous', 'emp.var.rate',\n",
       "       'cons.price.idx', 'cons.conf.idx', 'euribor3m', 'nr.employed',\n",
       "       'job_blue-collar', 'job_entrepreneur', 'job_housemaid',\n",
       "       'job_management', 'job_retired', 'job_self-employed', 'job_services',\n",
       "       'job_student', 'job_technician', 'job_unemployed', 'job_unknown',\n",
       "       'marital_married', 'marital_single', 'marital_unknown',\n",
       "       'education_basic.6y', 'education_basic.9y', 'education_high.school',\n",
       "       'education_illiterate', 'education_professional.course',\n",
       "       'education_university.degree', 'education_unknown', 'default_unknown',\n",
       "       'default_yes', 'housing_unknown', 'housing_yes', 'loan_unknown',\n",
       "       'loan_yes', 'contact_telephone', 'month_aug', 'month_dec', 'month_jul',\n",
       "       'month_jun', 'month_mar', 'month_may', 'month_nov', 'month_oct',\n",
       "       'month_sep', 'day_of_week_mon', 'day_of_week_thu', 'day_of_week_tue',\n",
       "       'day_of_week_wed', 'poutcome_nonexistent', 'poutcome_success', 'y_yes'],\n",
       "      dtype='object')"
      ]
     },
     "execution_count": 19,
     "metadata": {},
     "output_type": "execute_result"
    }
   ],
   "source": [
    "data.columns"
   ]
  },
  {
   "cell_type": "code",
   "execution_count": 20,
   "metadata": {},
   "outputs": [
    {
     "data": {
      "text/plain": [
       "(54,)"
      ]
     },
     "execution_count": 20,
     "metadata": {},
     "output_type": "execute_result"
    }
   ],
   "source": [
    "data.columns.shape"
   ]
  },
  {
   "cell_type": "code",
   "execution_count": 21,
   "metadata": {},
   "outputs": [
    {
     "data": {
      "image/png": "[encoded data removed]",
      "text/plain": [
       "<Figure size 432x288 with 2 Axes>"
      ]
     },
     "metadata": {
      "needs_background": "light"
     },
     "output_type": "display_data"
    }
   ],
   "source": [
    "# Check the corr between the variables\n",
    "sns.heatmap(data.corr())\n",
    "plt.show()"
   ]
  },
  {
   "cell_type": "markdown",
   "metadata": {},
   "source": [
    "##### Feature Selection\n",
    "Recursive Feature Elimination (RFE) is based on the idea to repeatedly construct a model and choose either the best or worst performing feature, setting the feature aside and then repeating the process with the rest of the features. This process is applied until all features in the dataset are exhausted. The goal of RFE is to select features by recursively considering smaller and smaller sets of features."
   ]
  },
  {
   "cell_type": "code",
   "execution_count": 22,
   "metadata": {},
   "outputs": [],
   "source": [
    "# import the necessary packages\n",
    "from sklearn.linear_model import LogisticRegression\n",
    "from sklearn.feature_selection import RFE"
   ]
  },
  {
   "cell_type": "code",
   "execution_count": 23,
   "metadata": {},
   "outputs": [],
   "source": [
    "# get the y and X varaibales\n",
    "y_var = 'y_yes'\n",
    "X_var = data.columns.difference(['y_yes'])"
   ]
  },
  {
   "cell_type": "code",
   "execution_count": 24,
   "metadata": {
    "scrolled": true
   },
   "outputs": [
    {
     "name": "stderr",
     "output_type": "stream",
     "text": [
      "C:\\Users\\DELL\\anaconda3\\lib\\site-packages\\sklearn\\utils\\validation.py:70: FutureWarning: Pass n_features_to_select=20 as keyword args. From version 1.0 (renaming of 0.25) passing these as positional arguments will result in an error\n",
      "  warnings.warn(f\"Pass {args_msg} as keyword args. From version \"\n"
     ]
    },
    {
     "name": "stdout",
     "output_type": "stream",
     "text": [
      "[False False False False  True False False False False False False False\n",
      " False False False  True False False  True False  True False False  True\n",
      "  True False  True False  True  True False False False  True  True False\n",
      " False False False False  True  True  True  True  True False False  True\n",
      " False False  True  True  True]\n",
      "[31 12 15 19  1 18 29 21  5 26 34 30 10 20 24  1  8  9  1 13  1  3  4  1\n",
      "  1 28  1  2  1  1 22 17  6  1  1 11 16 27 32 14  1  1  1  1  1  7 23  1\n",
      " 25 33  1  1  1]\n"
     ]
    }
   ],
   "source": [
    "# RFE: 15, 20, 25\n",
    "logreg = LogisticRegression( max_iter = 5000 )\n",
    "rfe = RFE( logreg, 20 ).fit( data[X_var], data[y_var] )\n",
    "\n",
    "print(rfe.support_)\n",
    "print(rfe.ranking_)"
   ]
  },
  {
   "cell_type": "code",
   "execution_count": 25,
   "metadata": {},
   "outputs": [],
   "source": [
    "X_final = data[ X_var[rfe.support_] ]\n",
    "y_final = data[y_var]"
   ]
  },
  {
   "cell_type": "code",
   "execution_count": 26,
   "metadata": {},
   "outputs": [
    {
     "data": {
      "text/plain": [
       "(4119, 20)"
      ]
     },
     "execution_count": 26,
     "metadata": {},
     "output_type": "execute_result"
    }
   ],
   "source": [
    "X_final.shape"
   ]
  },
  {
   "cell_type": "markdown",
   "metadata": {},
   "source": [
    "### build the model"
   ]
  },
  {
   "cell_type": "code",
   "execution_count": 27,
   "metadata": {},
   "outputs": [
    {
     "data": {
      "text/html": [
       "<div>\n",
       "<style scoped>\n",
       "    .dataframe tbody tr th:only-of-type {\n",
       "        vertical-align: middle;\n",
       "    }\n",
       "\n",
       "    .dataframe tbody tr th {\n",
       "        vertical-align: top;\n",
       "    }\n",
       "\n",
       "    .dataframe thead th {\n",
       "        text-align: right;\n",
       "    }\n",
       "</style>\n",
       "<table border=\"1\" class=\"dataframe\">\n",
       "  <thead>\n",
       "    <tr style=\"text-align: right;\">\n",
       "      <th></th>\n",
       "      <th>0</th>\n",
       "      <th>1</th>\n",
       "      <th>2</th>\n",
       "      <th>3</th>\n",
       "      <th>4</th>\n",
       "      <th>5</th>\n",
       "      <th>6</th>\n",
       "      <th>7</th>\n",
       "      <th>8</th>\n",
       "      <th>9</th>\n",
       "      <th>10</th>\n",
       "      <th>11</th>\n",
       "      <th>12</th>\n",
       "      <th>13</th>\n",
       "      <th>14</th>\n",
       "      <th>15</th>\n",
       "      <th>16</th>\n",
       "      <th>17</th>\n",
       "      <th>18</th>\n",
       "      <th>19</th>\n",
       "    </tr>\n",
       "  </thead>\n",
       "  <tbody>\n",
       "    <tr>\n",
       "      <th>0</th>\n",
       "      <td>-0.743752</td>\n",
       "      <td>-0.015583</td>\n",
       "      <td>-0.205565</td>\n",
       "      <td>-1.331707</td>\n",
       "      <td>1.912983</td>\n",
       "      <td>-0.193055</td>\n",
       "      <td>-0.292191</td>\n",
       "      <td>-0.200378</td>\n",
       "      <td>-0.324769</td>\n",
       "      <td>-0.097769</td>\n",
       "      <td>-0.161736</td>\n",
       "      <td>-0.073279</td>\n",
       "      <td>-0.456757</td>\n",
       "      <td>-0.384283</td>\n",
       "      <td>-0.108585</td>\n",
       "      <td>1.410360</td>\n",
       "      <td>-0.12563</td>\n",
       "      <td>0.411308</td>\n",
       "      <td>-0.188958</td>\n",
       "      <td>-0.351356</td>\n",
       "    </tr>\n",
       "    <tr>\n",
       "      <th>1</th>\n",
       "      <td>1.344534</td>\n",
       "      <td>-0.015583</td>\n",
       "      <td>-0.205565</td>\n",
       "      <td>0.711698</td>\n",
       "      <td>-0.522744</td>\n",
       "      <td>-0.193055</td>\n",
       "      <td>-0.292191</td>\n",
       "      <td>-0.200378</td>\n",
       "      <td>3.079110</td>\n",
       "      <td>-0.097769</td>\n",
       "      <td>-0.161736</td>\n",
       "      <td>-0.073279</td>\n",
       "      <td>-0.456757</td>\n",
       "      <td>-0.384283</td>\n",
       "      <td>-0.108585</td>\n",
       "      <td>1.410360</td>\n",
       "      <td>-0.12563</td>\n",
       "      <td>0.411308</td>\n",
       "      <td>-0.188958</td>\n",
       "      <td>-0.351356</td>\n",
       "    </tr>\n",
       "    <tr>\n",
       "      <th>2</th>\n",
       "      <td>1.344534</td>\n",
       "      <td>-0.015583</td>\n",
       "      <td>-0.205565</td>\n",
       "      <td>0.773427</td>\n",
       "      <td>-0.522744</td>\n",
       "      <td>-0.193055</td>\n",
       "      <td>-0.292191</td>\n",
       "      <td>-0.200378</td>\n",
       "      <td>3.079110</td>\n",
       "      <td>-0.097769</td>\n",
       "      <td>-0.161736</td>\n",
       "      <td>-0.073279</td>\n",
       "      <td>-0.456757</td>\n",
       "      <td>2.602249</td>\n",
       "      <td>-0.108585</td>\n",
       "      <td>-0.709039</td>\n",
       "      <td>-0.12563</td>\n",
       "      <td>0.411308</td>\n",
       "      <td>-0.188958</td>\n",
       "      <td>-0.351356</td>\n",
       "    </tr>\n",
       "    <tr>\n",
       "      <th>3</th>\n",
       "      <td>1.344534</td>\n",
       "      <td>-0.015583</td>\n",
       "      <td>-0.205565</td>\n",
       "      <td>0.771697</td>\n",
       "      <td>-0.522744</td>\n",
       "      <td>-0.193055</td>\n",
       "      <td>-0.292191</td>\n",
       "      <td>-0.200378</td>\n",
       "      <td>3.079110</td>\n",
       "      <td>-0.097769</td>\n",
       "      <td>6.182926</td>\n",
       "      <td>-0.073279</td>\n",
       "      <td>-0.456757</td>\n",
       "      <td>2.602249</td>\n",
       "      <td>-0.108585</td>\n",
       "      <td>-0.709039</td>\n",
       "      <td>-0.12563</td>\n",
       "      <td>0.411308</td>\n",
       "      <td>-0.188958</td>\n",
       "      <td>-0.351356</td>\n",
       "    </tr>\n",
       "    <tr>\n",
       "      <th>4</th>\n",
       "      <td>-0.743752</td>\n",
       "      <td>-0.015583</td>\n",
       "      <td>-0.205565</td>\n",
       "      <td>0.328632</td>\n",
       "      <td>-0.522744</td>\n",
       "      <td>-0.193055</td>\n",
       "      <td>-0.292191</td>\n",
       "      <td>-0.200378</td>\n",
       "      <td>-0.324769</td>\n",
       "      <td>-0.097769</td>\n",
       "      <td>-0.161736</td>\n",
       "      <td>-0.073279</td>\n",
       "      <td>-0.456757</td>\n",
       "      <td>-0.384283</td>\n",
       "      <td>-0.108585</td>\n",
       "      <td>-0.709039</td>\n",
       "      <td>-0.12563</td>\n",
       "      <td>0.411308</td>\n",
       "      <td>-0.188958</td>\n",
       "      <td>-0.351356</td>\n",
       "    </tr>\n",
       "  </tbody>\n",
       "</table>\n",
       "</div>"
      ],
      "text/plain": [
       "         0         1         2         3         4         5         6   \\\n",
       "0 -0.743752 -0.015583 -0.205565 -1.331707  1.912983 -0.193055 -0.292191   \n",
       "1  1.344534 -0.015583 -0.205565  0.711698 -0.522744 -0.193055 -0.292191   \n",
       "2  1.344534 -0.015583 -0.205565  0.773427 -0.522744 -0.193055 -0.292191   \n",
       "3  1.344534 -0.015583 -0.205565  0.771697 -0.522744 -0.193055 -0.292191   \n",
       "4 -0.743752 -0.015583 -0.205565  0.328632 -0.522744 -0.193055 -0.292191   \n",
       "\n",
       "         7         8         9         10        11        12        13  \\\n",
       "0 -0.200378 -0.324769 -0.097769 -0.161736 -0.073279 -0.456757 -0.384283   \n",
       "1 -0.200378  3.079110 -0.097769 -0.161736 -0.073279 -0.456757 -0.384283   \n",
       "2 -0.200378  3.079110 -0.097769 -0.161736 -0.073279 -0.456757  2.602249   \n",
       "3 -0.200378  3.079110 -0.097769  6.182926 -0.073279 -0.456757  2.602249   \n",
       "4 -0.200378 -0.324769 -0.097769 -0.161736 -0.073279 -0.456757 -0.384283   \n",
       "\n",
       "         14        15       16        17        18        19  \n",
       "0 -0.108585  1.410360 -0.12563  0.411308 -0.188958 -0.351356  \n",
       "1 -0.108585  1.410360 -0.12563  0.411308 -0.188958 -0.351356  \n",
       "2 -0.108585 -0.709039 -0.12563  0.411308 -0.188958 -0.351356  \n",
       "3 -0.108585 -0.709039 -0.12563  0.411308 -0.188958 -0.351356  \n",
       "4 -0.108585 -0.709039 -0.12563  0.411308 -0.188958 -0.351356  "
      ]
     },
     "execution_count": 27,
     "metadata": {},
     "output_type": "execute_result"
    }
   ],
   "source": [
    "# preprocessing the data for standardization\n",
    "from sklearn.preprocessing import StandardScaler\n",
    "\n",
    "X_scaled = pd.DataFrame( StandardScaler().fit_transform( X_final ) )\n",
    "X_scaled.head()\n",
    "\n",
    "# sc = StandardScaler()\n",
    "# X_scaled = pd.DataFrame(sc.fit_transform(X_final))\n",
    "# X_scaled.head()"
   ]
  },
  {
   "cell_type": "code",
   "execution_count": 28,
   "metadata": {},
   "outputs": [],
   "source": [
    "from sklearn.model_selection import train_test_split\n",
    "X_train, X_test, y_train, y_test = train_test_split(X_scaled, \n",
    "                                                    y_final, \n",
    "                                                    test_size = 0.3, \n",
    "                                                    random_state = 55555)"
   ]
  },
  {
   "cell_type": "markdown",
   "metadata": {},
   "source": [
    "### KNN"
   ]
  },
  {
   "cell_type": "code",
   "execution_count": 29,
   "metadata": {},
   "outputs": [],
   "source": [
    "# import the packages\n",
    "from sklearn.neighbors import KNeighborsClassifier\n",
    "from sklearn import metrics\n",
    "from sklearn.model_selection import GridSearchCV"
   ]
  },
  {
   "cell_type": "code",
   "execution_count": 30,
   "metadata": {},
   "outputs": [],
   "source": [
    "#set the tuning parameters (k) for grid search\n",
    "tuned_parameters = {'n_neighbors': range(3, 21, 2)}     # [ 3, 5, 7, 9, 11, ...., 19 ]\n",
    "\n",
    "# build the KNN model\n",
    "knn_clf = GridSearchCV( KNeighborsClassifier(),\n",
    "                   tuned_parameters,\n",
    "                   cv = 10,\n",
    "                   scoring = 'roc_auc').fit(X_train, y_train)"
   ]
  },
  {
   "cell_type": "code",
   "execution_count": 31,
   "metadata": {},
   "outputs": [
    {
     "data": {
      "text/plain": [
       "0.7342783668314938"
      ]
     },
     "execution_count": 31,
     "metadata": {},
     "output_type": "execute_result"
    }
   ],
   "source": [
    "knn_clf.best_score_"
   ]
  },
  {
   "cell_type": "code",
   "execution_count": 32,
   "metadata": {},
   "outputs": [
    {
     "data": {
      "text/plain": [
       "0.8318347976976892"
      ]
     },
     "execution_count": 32,
     "metadata": {},
     "output_type": "execute_result"
    }
   ],
   "source": [
    "metrics.roc_auc_score( y_train, knn_clf.predict_proba( X_train )[:, 1] )"
   ]
  },
  {
   "cell_type": "code",
   "execution_count": 33,
   "metadata": {},
   "outputs": [
    {
     "data": {
      "text/plain": [
       "{'n_neighbors': 17}"
      ]
     },
     "execution_count": 33,
     "metadata": {},
     "output_type": "execute_result"
    }
   ],
   "source": [
    "knn_clf.best_params_"
   ]
  },
  {
   "cell_type": "code",
   "execution_count": 34,
   "metadata": {},
   "outputs": [
    {
     "data": {
      "text/plain": [
       "KNeighborsClassifier(algorithm='auto', leaf_size=30, metric='minkowski',\n",
       "                     metric_params=None, n_jobs=None, n_neighbors=17, p=2,\n",
       "                     weights='uniform')"
      ]
     },
     "execution_count": 34,
     "metadata": {},
     "output_type": "execute_result"
    }
   ],
   "source": [
    "# re-building the model for the best n_neighbors\n",
    "knn_clf = KNeighborsClassifier( n_neighbors = 17 )\n",
    "knn_clf.fit( X_train, y_train)"
   ]
  },
  {
   "cell_type": "code",
   "execution_count": 35,
   "metadata": {},
   "outputs": [],
   "source": [
    "# confusion matrix\n",
    "knn_cm = metrics.confusion_matrix( y_test, knn_clf.predict( X_test ))[::-1, ::-1]"
   ]
  },
  {
   "cell_type": "code",
   "execution_count": 36,
   "metadata": {},
   "outputs": [
    {
     "data": {
      "text/plain": [
       "Text(0.5, 15.0, 'Predicted label')"
      ]
     },
     "execution_count": 36,
     "metadata": {},
     "output_type": "execute_result"
    },
    {
     "data": {
      "image/png": "[encoded data removed]",
      "text/plain": [
       "<Figure size 432x288 with 2 Axes>"
      ]
     },
     "metadata": {
      "needs_background": "light"
     },
     "output_type": "display_data"
    }
   ],
   "source": [
    "sns.heatmap(knn_cm, annot=True,  fmt='.2f', xticklabels = [\"Yes\", \"No\"] , yticklabels = [\"Yes\", \"No\"] )\n",
    "plt.ylabel('True label')\n",
    "plt.xlabel('Predicted label')"
   ]
  },
  {
   "cell_type": "code",
   "execution_count": 37,
   "metadata": {},
   "outputs": [
    {
     "name": "stdout",
     "output_type": "stream",
     "text": [
      "0.9060006937218176\n",
      "0.8923948220064725\n"
     ]
    }
   ],
   "source": [
    "# get the model accuracy\n",
    "print(metrics.accuracy_score(y_train, knn_clf.predict(X_train)))\n",
    "print(metrics.accuracy_score(y_test, knn_clf.predict(X_test)))"
   ]
  },
  {
   "cell_type": "code",
   "execution_count": 38,
   "metadata": {},
   "outputs": [],
   "source": [
    "# get the probability score on training and testing\n",
    "train_predict_prob = pd.DataFrame(knn_clf.predict_proba(X_train))[1]\n",
    "test_predict_prob = pd.DataFrame(knn_clf.predict_proba(X_test))[1]"
   ]
  },
  {
   "cell_type": "code",
   "execution_count": 39,
   "metadata": {},
   "outputs": [
    {
     "name": "stdout",
     "output_type": "stream",
     "text": [
      "0.8318347976976892\n",
      "0.7541742700729928\n"
     ]
    }
   ],
   "source": [
    "# get the model auc\n",
    "print(metrics.roc_auc_score(y_train, train_predict_prob))\n",
    "print(metrics.roc_auc_score(y_test, test_predict_prob))"
   ]
  },
  {
   "cell_type": "code",
   "execution_count": 40,
   "metadata": {},
   "outputs": [
    {
     "name": "stdout",
     "output_type": "stream",
     "text": [
      "              precision    recall  f1-score   support\n",
      "\n",
      "           0       0.91      0.98      0.94      1096\n",
      "           1       0.57      0.20      0.30       140\n",
      "\n",
      "    accuracy                           0.89      1236\n",
      "   macro avg       0.74      0.59      0.62      1236\n",
      "weighted avg       0.87      0.89      0.87      1236\n",
      "\n"
     ]
    }
   ],
   "source": [
    "# Compute precision, recall, F-measure and support\n",
    "from sklearn.metrics import classification_report\n",
    "print(classification_report(y_test, knn_clf.predict( X_test )))"
   ]
  },
  {
   "cell_type": "markdown",
   "metadata": {},
   "source": [
    "Interpretation: We can see from  poor precion and recall for '1's in classification report and AUC that model performacne is not upto the mark. High accuracy score is misleading because of skewed data.\n",
    "\n",
    "We will now rebuild the model after re-balancing the data"
   ]
  },
  {
   "cell_type": "markdown",
   "metadata": {},
   "source": [
    "#### We will now rebuild the model after re-balancing the data. \n",
    "Oversampling & Undersampling for imbalance data"
   ]
  },
  {
   "cell_type": "code",
   "execution_count": 41,
   "metadata": {},
   "outputs": [],
   "source": [
    "# pip install imbalanced-learn"
   ]
  },
  {
   "cell_type": "code",
   "execution_count": 42,
   "metadata": {},
   "outputs": [],
   "source": [
    "# import the packages\n",
    "import imblearn\n",
    "from imblearn.under_sampling import RandomUnderSampler \n",
    "from imblearn.over_sampling import RandomOverSampler \n",
    "from collections import Counter"
   ]
  },
  {
   "cell_type": "markdown",
   "metadata": {},
   "source": [
    "#### rebuild model after undersampling"
   ]
  },
  {
   "cell_type": "code",
   "execution_count": 43,
   "metadata": {},
   "outputs": [
    {
     "name": "stdout",
     "output_type": "stream",
     "text": [
      "Original dataset shape Counter({0: 2572, 1: 311})\n",
      "Oversampled dataset shape Counter({0: 311, 1: 311})\n"
     ]
    }
   ],
   "source": [
    "# perform the under sampling\n",
    "rus = RandomUnderSampler( random_state = 12345, sampling_strategy = 1 )\n",
    "X_res_train, y_res_train = rus.fit_sample( X_train, y_train )\n",
    "\n",
    "print('Original dataset shape {}'.format(Counter(y_train)))\n",
    "print('Oversampled dataset shape {}'.format(Counter(y_res_train)))"
   ]
  },
  {
   "cell_type": "code",
   "execution_count": 44,
   "metadata": {},
   "outputs": [],
   "source": [
    "#set the tuning parameters (k) for grid search\n",
    "tuned_parameters = {'n_neighbors': range(13, 30, 2)}\n",
    "\n",
    "# build the KNN model\n",
    "knn_clf = GridSearchCV(KNeighborsClassifier(),\n",
    "                   tuned_parameters,\n",
    "                   cv = 10,\n",
    "                   scoring = 'roc_auc').fit(X_res_train, y_res_train)"
   ]
  },
  {
   "cell_type": "code",
   "execution_count": 45,
   "metadata": {},
   "outputs": [
    {
     "data": {
      "text/plain": [
       "{'n_neighbors': 27}"
      ]
     },
     "execution_count": 45,
     "metadata": {},
     "output_type": "execute_result"
    }
   ],
   "source": [
    "# get the best parameteres\n",
    "knn_clf.best_params_"
   ]
  },
  {
   "cell_type": "code",
   "execution_count": 46,
   "metadata": {},
   "outputs": [],
   "source": [
    "# rebuild the model after resampling\n",
    "knn_clf = KNeighborsClassifier( n_neighbors = 27 )"
   ]
  },
  {
   "cell_type": "code",
   "execution_count": 47,
   "metadata": {},
   "outputs": [
    {
     "data": {
      "text/plain": [
       "KNeighborsClassifier(algorithm='auto', leaf_size=30, metric='minkowski',\n",
       "                     metric_params=None, n_jobs=None, n_neighbors=27, p=2,\n",
       "                     weights='uniform')"
      ]
     },
     "execution_count": 47,
     "metadata": {},
     "output_type": "execute_result"
    }
   ],
   "source": [
    "# Refitting the model on under sampled data\n",
    "knn_clf.fit(X_res_train, y_res_train)"
   ]
  },
  {
   "cell_type": "code",
   "execution_count": 48,
   "metadata": {},
   "outputs": [
    {
     "name": "stdout",
     "output_type": "stream",
     "text": [
      "0.72508038585209\n",
      "0.8122977346278317\n"
     ]
    }
   ],
   "source": [
    "# get the model accuracy\n",
    "print(metrics.accuracy_score(y_res_train, knn_clf.predict(X_res_train)))\n",
    "print(metrics.accuracy_score(y_test, knn_clf.predict(X_test)))"
   ]
  },
  {
   "cell_type": "code",
   "execution_count": 49,
   "metadata": {},
   "outputs": [],
   "source": [
    "# get the probability score on training and testing\n",
    "train_predict_prob = pd.DataFrame(knn_clf.predict_proba(X_res_train))[1]\n",
    "test_predict_prob = pd.DataFrame(knn_clf.predict_proba(X_test))[1]"
   ]
  },
  {
   "cell_type": "code",
   "execution_count": 50,
   "metadata": {},
   "outputs": [
    {
     "name": "stdout",
     "output_type": "stream",
     "text": [
      "0.7698638351547232\n",
      "0.7643150417101148\n"
     ]
    }
   ],
   "source": [
    "# get the model auc\n",
    "print(metrics.roc_auc_score(y_res_train, train_predict_prob))\n",
    "print(metrics.roc_auc_score(y_test, test_predict_prob))"
   ]
  },
  {
   "cell_type": "markdown",
   "metadata": {},
   "source": [
    "#### refit model after over-sampling"
   ]
  },
  {
   "cell_type": "code",
   "execution_count": 51,
   "metadata": {},
   "outputs": [
    {
     "name": "stdout",
     "output_type": "stream",
     "text": [
      "Original dataset shape Counter({0: 2572, 1: 311})\n",
      "Oversampled dataset shape Counter({0: 2572, 1: 2572})\n"
     ]
    }
   ],
   "source": [
    "# perform the over sampling\n",
    "ros = RandomOverSampler( random_state = 500 )\n",
    "X_ros_train, y_ros_train = ros.fit_sample(X_train, y_train)\n",
    "\n",
    "print('Original dataset shape {}'.format(Counter(y_train)))\n",
    "print('Oversampled dataset shape {}'.format(Counter(y_ros_train)))"
   ]
  },
  {
   "cell_type": "code",
   "execution_count": 52,
   "metadata": {},
   "outputs": [],
   "source": [
    "#set the tuning parameters (k) for grid search\n",
    "tuned_parameters = {'n_neighbors': range(3, 17, 2)}\n",
    "\n",
    "# build the KNN model\n",
    "knn_clf = GridSearchCV(KNeighborsClassifier(),\n",
    "                   tuned_parameters,\n",
    "                   cv = 10,\n",
    "                   scoring = 'roc_auc').fit(X_ros_train, y_ros_train)"
   ]
  },
  {
   "cell_type": "code",
   "execution_count": 53,
   "metadata": {},
   "outputs": [
    {
     "data": {
      "text/plain": [
       "{'n_neighbors': 7}"
      ]
     },
     "execution_count": 53,
     "metadata": {},
     "output_type": "execute_result"
    }
   ],
   "source": [
    "# get the best parameters\n",
    "knn_clf.best_params_"
   ]
  },
  {
   "cell_type": "code",
   "execution_count": 54,
   "metadata": {},
   "outputs": [],
   "source": [
    "# rebuild the model after resampling\n",
    "knn_clf = KNeighborsClassifier( n_neighbors = 7 )"
   ]
  },
  {
   "cell_type": "code",
   "execution_count": 55,
   "metadata": {},
   "outputs": [],
   "source": [
    "# Refitting the model on under sampled data\n",
    "knn_clf = knn_clf.fit(X_ros_train, y_ros_train)"
   ]
  },
  {
   "cell_type": "code",
   "execution_count": 56,
   "metadata": {},
   "outputs": [
    {
     "name": "stdout",
     "output_type": "stream",
     "text": [
      "0.8055987558320373\n",
      "0.8365695792880259\n"
     ]
    }
   ],
   "source": [
    "# get the model accuracy\n",
    "print(metrics.accuracy_score(y_ros_train, knn_clf.predict(X_ros_train)))\n",
    "print(metrics.accuracy_score(y_test, knn_clf.predict(X_test)))"
   ]
  },
  {
   "cell_type": "code",
   "execution_count": 57,
   "metadata": {},
   "outputs": [],
   "source": [
    "# get the probability score on training and testing\n",
    "train_predict_prob = pd.DataFrame(knn_clf.predict_proba(X_ros_train))[1]\n",
    "test_predict_prob = pd.DataFrame(knn_clf.predict_proba(X_test))[1]"
   ]
  },
  {
   "cell_type": "code",
   "execution_count": 58,
   "metadata": {},
   "outputs": [
    {
     "name": "stdout",
     "output_type": "stream",
     "text": [
      "0.8763192376810683\n",
      "0.7273527111574557\n"
     ]
    }
   ],
   "source": [
    "# get the model auc\n",
    "print(metrics.roc_auc_score(y_ros_train, train_predict_prob))\n",
    "print(metrics.roc_auc_score(y_test, test_predict_prob))"
   ]
  },
  {
   "cell_type": "markdown",
   "metadata": {},
   "source": [
    "The increment of 8 pts in  AUC is quite evidednt of the fact how re-balancing data can improve the model performance. This concept is applicable for all type of classification models and must be considered if the provided data is imbalanced. "
   ]
  },
  {
   "cell_type": "code",
   "execution_count": 59,
   "metadata": {},
   "outputs": [],
   "source": [
    "KNeighborsClassifier?"
   ]
  },
  {
   "cell_type": "code",
   "execution_count": 60,
   "metadata": {
    "scrolled": true
   },
   "outputs": [
    {
     "name": "stdout",
     "output_type": "stream",
     "text": [
      "Original dataset shape Counter({0: 2572, 1: 311})\n",
      "Undersampled dataset shape Counter({0: 311, 1: 311})\n",
      "Oversampled dataset shape Counter({0: 2572, 1: 2572})\n",
      "SMOTE dataset shape Counter({0: 2572, 1: 2572})\n",
      "Under-Ovr SMOTETomek dataset shape Counter({0: 2524, 1: 2524})\n"
     ]
    }
   ],
   "source": [
    "#-----------------------------------#Random Undersampling------------------------------\n",
    "\n",
    "from imblearn.under_sampling import RandomUnderSampler \n",
    "from collections import Counter\n",
    "\n",
    "rus = RandomUnderSampler(random_state=500)\n",
    "X_under_train, y_under_train = rus.fit_sample(X_train, y_train)\n",
    "\n",
    "print('Original dataset shape {}'.format(Counter(y_train)))\n",
    "print('Undersampled dataset shape {}'.format(Counter(y_under_train)))\n",
    "\n",
    "#-----------------------------------#Random Oversampling------------------------------\n",
    "\n",
    "from imblearn.over_sampling import RandomOverSampler \n",
    "\n",
    "ros = RandomOverSampler(random_state=500)\n",
    "X_over_train, y_over_train = ros.fit_sample(X_train, y_train)\n",
    "print('Oversampled dataset shape {}'.format(Counter(y_over_train)))\n",
    "\n",
    "#----------------------#Synthetic Minority Oversampling TEchnique----------------------\n",
    "   \n",
    "from imblearn.over_sampling import SMOTE\n",
    "\n",
    "smote = SMOTE(random_state=500)\n",
    "X_smote_train, y_smote_train = smote.fit_sample(X_train, y_train)\n",
    "print('SMOTE dataset shape {}'.format(Counter(y_smote_train)))\n",
    "\n",
    "#------------- Under-over using Synthetic Minority Oversampling TEchnique Tomek----------\n",
    "#Optional\n",
    "\n",
    "from imblearn.combine import SMOTETomek   \n",
    "\n",
    "und_ovr = SMOTETomek(random_state =  123)\n",
    "X_und_ovr_train, y_und_ovr_train = und_ovr.fit_sample(X_train, y_train)\n",
    "print('Under-Ovr SMOTETomek dataset shape {}'.format(Counter(y_und_ovr_train)))"
   ]
  },
  {
   "cell_type": "code",
   "execution_count": 61,
   "metadata": {},
   "outputs": [],
   "source": [
    "#set the tuning parameters (k) for grid search\n",
    "tuned_parameters = {'n_neighbors': range(1, 17, 2)}\n",
    "\n",
    "# build the KNN model\n",
    "knn_clf = GridSearchCV(KNeighborsClassifier( ),\n",
    "                   tuned_parameters,\n",
    "                   cv = 10,\n",
    "                   scoring = 'accuracy').fit(X_und_ovr_train, y_und_ovr_train)"
   ]
  },
  {
   "cell_type": "code",
   "execution_count": 62,
   "metadata": {},
   "outputs": [
    {
     "data": {
      "text/plain": [
       "{'n_neighbors': 1}"
      ]
     },
     "execution_count": 62,
     "metadata": {},
     "output_type": "execute_result"
    }
   ],
   "source": [
    "# get the best parameters\n",
    "knn_clf.best_params_"
   ]
  },
  {
   "cell_type": "code",
   "execution_count": 63,
   "metadata": {},
   "outputs": [],
   "source": [
    "# rebuild the model after resampling\n",
    "knn_clf = KNeighborsClassifier( n_neighbors = 7 )"
   ]
  },
  {
   "cell_type": "code",
   "execution_count": 64,
   "metadata": {},
   "outputs": [],
   "source": [
    "# Refitting the model on under sampled data\n",
    "knn_clf = knn_clf.fit(X_ros_train, y_ros_train)"
   ]
  },
  {
   "cell_type": "code",
   "execution_count": 65,
   "metadata": {},
   "outputs": [
    {
     "name": "stdout",
     "output_type": "stream",
     "text": [
      "0.8055987558320373\n",
      "0.8365695792880259\n"
     ]
    }
   ],
   "source": [
    "# get the model accuracy\n",
    "print(metrics.accuracy_score(y_ros_train, knn_clf.predict(X_ros_train)))\n",
    "print(metrics.accuracy_score(y_test, knn_clf.predict(X_test)))"
   ]
  },
  {
   "cell_type": "code",
   "execution_count": 66,
   "metadata": {},
   "outputs": [],
   "source": [
    "# get the probability score on training and testing\n",
    "train_predict_prob = pd.DataFrame(knn_clf.predict_proba(X_ros_train))[1]\n",
    "test_predict_prob = pd.DataFrame(knn_clf.predict_proba(X_test))[1]"
   ]
  },
  {
   "cell_type": "code",
   "execution_count": 67,
   "metadata": {},
   "outputs": [
    {
     "name": "stdout",
     "output_type": "stream",
     "text": [
      "0.8763192376810683\n",
      "0.7273527111574557\n"
     ]
    }
   ],
   "source": [
    "# get the model auc\n",
    "print(metrics.roc_auc_score(y_ros_train, train_predict_prob))\n",
    "print(metrics.roc_auc_score(y_test, test_predict_prob))"
   ]
  },
  {
   "cell_type": "markdown",
   "metadata": {},
   "source": [
    "### Naive Bayes"
   ]
  },
  {
   "cell_type": "code",
   "execution_count": 68,
   "metadata": {},
   "outputs": [],
   "source": [
    "from sklearn.naive_bayes import GaussianNB\n",
    "from sklearn.naive_bayes import BernoulliNB\n",
    "from sklearn.naive_bayes import MultinomialNB\n",
    "\n",
    "#GaussianNB\tWhen independent variables include continous\n",
    "#BernoulliNB\tWhen data consists of binary categorical independent vars\n",
    "#MultinomialNB\tWhen data consists of categorical independent vars\n",
    "\n",
    "from sklearn import metrics\n",
    "import seaborn as sn\n",
    "from sklearn.model_selection import GridSearchCV"
   ]
  },
  {
   "cell_type": "code",
   "execution_count": 69,
   "metadata": {},
   "outputs": [],
   "source": [
    "nb_clf = GaussianNB()"
   ]
  },
  {
   "cell_type": "code",
   "execution_count": 70,
   "metadata": {},
   "outputs": [
    {
     "data": {
      "text/plain": [
       "GaussianNB(priors=None, var_smoothing=1e-09)"
      ]
     },
     "execution_count": 70,
     "metadata": {},
     "output_type": "execute_result"
    }
   ],
   "source": [
    "# nb_clf.fit( X_train, y_train )\n",
    "# nb_clf.fit( X_under_train, y_under_train )\n",
    "# nb_clf.fit( X_over_train, y_over_train )\n",
    "nb_clf.fit( X_und_ovr_train, y_und_ovr_train )"
   ]
  },
  {
   "cell_type": "code",
   "execution_count": 71,
   "metadata": {},
   "outputs": [
    {
     "data": {
      "text/plain": [
       "Text(0.5, 15.0, 'Predicted label')"
      ]
     },
     "execution_count": 71,
     "metadata": {},
     "output_type": "execute_result"
    },
    {
     "data": {
      "image/png": "[encoded data removed]",
      "text/plain": [
       "<Figure size 432x288 with 2 Axes>"
      ]
     },
     "metadata": {
      "needs_background": "light"
     },
     "output_type": "display_data"
    }
   ],
   "source": [
    "nb_cm = metrics.confusion_matrix( y_test,nb_clf.predict( X_test) )\n",
    "sn.heatmap(nb_cm, annot=True,  fmt='.2f', xticklabels = [\"no\", \"Yes\"] , yticklabels = [\"No\", \"Yes\"] )\n",
    "plt.ylabel('True label')\n",
    "plt.xlabel('Predicted label')"
   ]
  },
  {
   "cell_type": "code",
   "execution_count": 72,
   "metadata": {},
   "outputs": [
    {
     "name": "stdout",
     "output_type": "stream",
     "text": [
      "GaussianNB model accuracy: 0.849\n",
      "GaussianNB model AUC: 0.641\n"
     ]
    }
   ],
   "source": [
    "accuracy=metrics.accuracy_score( y_test, nb_clf.predict( X_test ) )\n",
    "AUC=metrics.roc_auc_score( y_test, nb_clf.predict( X_test ))\n",
    "\n",
    "print(\"GaussianNB model accuracy: %.3f\" % (accuracy))\n",
    "print(\"GaussianNB model AUC: %.3f\" % (AUC))"
   ]
  },
  {
   "cell_type": "markdown",
   "metadata": {},
   "source": [
    "### SVM - Support Vector Machines"
   ]
  },
  {
   "cell_type": "code",
   "execution_count": 35,
   "metadata": {},
   "outputs": [],
   "source": [
    "from sklearn.svm import SVC\n",
    "from sklearn.model_selection import GridSearchCV\n",
    "import sklearn.metrics as metrics"
   ]
  },
  {
   "cell_type": "code",
   "execution_count": 44,
   "metadata": {},
   "outputs": [
    {
     "name": "stdout",
     "output_type": "stream",
     "text": [
      "Fitting 5 folds for each of 16 candidates, totalling 80 fits\n"
     ]
    }
   ],
   "source": [
    "# initialize the model\n",
    "m_SVC = SVC( class_weight = 'balanced', gamma = 'auto' )\n",
    "\n",
    "# tuning parameters\n",
    "params = {'C': [10, 12, 15, 17], \n",
    "              'kernel': ['linear', 'poly', 'rbf', 'sigmoid']}\n",
    "\n",
    "# grid search and cv\n",
    "model_gcv = GridSearchCV( estimator = m_SVC, \n",
    "                         param_grid = params, \n",
    "                         cv = 5, \n",
    "                         n_jobs = -1, \n",
    "                         verbose = 10,\n",
    "                         scoring = 'accuracy').fit(  X_train, y_train )"
   ]
  },
  {
   "cell_type": "code",
   "execution_count": 45,
   "metadata": {},
   "outputs": [
    {
     "name": "stdout",
     "output_type": "stream",
     "text": [
      "{'C': 10, 'kernel': 'poly'}\n",
      "0.8161665944540728\n"
     ]
    }
   ],
   "source": [
    "print(model_gcv.best_params_)\n",
    "print(model_gcv.best_score_)"
   ]
  },
  {
   "cell_type": "code",
   "execution_count": 36,
   "metadata": {},
   "outputs": [],
   "source": [
    "# confusion matrix\n",
    "svc_cm = metrics.confusion_matrix( y_test, model_gcv.best_estimator_.predict( X_test ))"
   ]
  },
  {
   "cell_type": "code",
   "execution_count": 37,
   "metadata": {},
   "outputs": [
    {
     "data": {
      "text/plain": [
       "Text(0.5, 15.0, 'Predicted label')"
      ]
     },
     "execution_count": 37,
     "metadata": {},
     "output_type": "execute_result"
    },
    {
     "data": {
      "image/png": "[encoded data removed]",
      "text/plain": [
       "<Figure size 432x288 with 2 Axes>"
      ]
     },
     "metadata": {
      "needs_background": "light"
     },
     "output_type": "display_data"
    }
   ],
   "source": [
    "sns.heatmap(svc_cm, annot = True,  fmt='.2f', xticklabels = [\"No\", \"Yes\"] , \n",
    "            yticklabels = [\"No\", \"Yes\"] )\n",
    "plt.ylabel('True label')\n",
    "plt.xlabel('Predicted label')"
   ]
  },
  {
   "cell_type": "code",
   "execution_count": 38,
   "metadata": {},
   "outputs": [
    {
     "name": "stdout",
     "output_type": "stream",
     "text": [
      "0.8348942074228235\n"
     ]
    }
   ],
   "source": [
    "# get the train score\n",
    "print(metrics.accuracy_score( y_train, model_gcv.best_estimator_.predict(X_train)) )"
   ]
  },
  {
   "cell_type": "code",
   "execution_count": 39,
   "metadata": {},
   "outputs": [
    {
     "name": "stdout",
     "output_type": "stream",
     "text": [
      "0.8001618122977346\n"
     ]
    }
   ],
   "source": [
    "# get the test score\n",
    "print(metrics.accuracy_score( y_test, model_gcv.best_estimator_.predict(X_test)) )"
   ]
  },
  {
   "cell_type": "code",
   "execution_count": 40,
   "metadata": {},
   "outputs": [
    {
     "name": "stdout",
     "output_type": "stream",
     "text": [
      "              precision    recall  f1-score   support\n",
      "\n",
      "           0       0.93      0.84      0.88      1096\n",
      "           1       0.29      0.51      0.37       140\n",
      "\n",
      "    accuracy                           0.80      1236\n",
      "   macro avg       0.61      0.67      0.62      1236\n",
      "weighted avg       0.86      0.80      0.82      1236\n",
      "\n"
     ]
    }
   ],
   "source": [
    "# classification report\n",
    "print(metrics.classification_report( y_test, model_gcv.best_estimator_.predict( X_test )))"
   ]
  },
  {
   "cell_type": "code",
   "execution_count": null,
   "metadata": {},
   "outputs": [],
   "source": [
    "Google colab"
   ]
  }
 ],
 "metadata": {
  "kernelspec": {
   "display_name": "Python 3",
   "language": "python",
   "name": "python3"
  },
  "language_info": {
   "codemirror_mode": {
    "name": "ipython",
    "version": 3
   },
   "file_extension": ".py",
   "mimetype": "text/x-python",
   "name": "python",
   "nbconvert_exporter": "python",
   "pygments_lexer": "ipython3",
   "version": "3.8.8"
  }
 },
 "nbformat": 4,
 "nbformat_minor": 2
}
